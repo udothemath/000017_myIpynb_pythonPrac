{
 "cells": [
  {
   "cell_type": "markdown",
   "metadata": {},
   "source": [
    "### check ip type ###\n",
    "https://leetcode.com/problems/validate-ip-address/description/"
   ]
  },
  {
   "cell_type": "code",
   "execution_count": 13,
   "metadata": {},
   "outputs": [
    {
     "name": "stdout",
     "output_type": "stream",
     "text": [
      "IPv4\n",
      "IPv6\n"
     ]
    }
   ],
   "source": [
    "class Solution(object):\n",
    "    def validIPAddress(self, IP):\n",
    "        \"\"\"\n",
    "        :type IP: str\n",
    "        :rtype: str\n",
    "        \"\"\"\n",
    "        def is_16bits(my_string_):\n",
    "            all_poss = set(\"0123456789abcdefABCDEF\")\n",
    "            for char in my_string_:\n",
    "                if not (char in all_poss):\n",
    "                    return False\n",
    "            return True\n",
    "        my_array = IP.split('.')\n",
    "        if len(my_array) == 4:\n",
    "            for i in range(4):\n",
    "                curr_piece = my_array[i] \n",
    "                if not curr_piece.isdigit() or not 0 <= int(curr_piece) <= 255 \\\n",
    "                or (curr_piece[0] == '0' and len(curr_piece) > 1):\n",
    "                    return \"Neither\"\n",
    "            return \"IPv4\"\n",
    "        my_array = IP.split(':')\n",
    "        if len(my_array) == 8:\n",
    "            for i in range(8):\n",
    "                curr_piece = my_array[i]\n",
    "                if len(curr_piece) == 0 or not len(curr_piece) <= 4 or not is_16bits(curr_piece):\n",
    "                    return \"Neither\"\n",
    "            return \"IPv6\"\n",
    "        return \"Neither\"\n",
    "\n",
    "test_ip = Solution()\n",
    "\n",
    "ip1 = '172.16.254.1'\n",
    "print(test_ip.validIPAddress(ip1))\n",
    "\n",
    "ip2 = '2001:0db8:85a3:0000:00:8a2e:0370:7334'\n",
    "print(test_ip.validIPAddress(ip2))\n"
   ]
  },
  {
   "cell_type": "code",
   "execution_count": null,
   "metadata": {
    "collapsed": true
   },
   "outputs": [],
   "source": []
  },
  {
   "cell_type": "markdown",
   "metadata": {},
   "source": [
    "### two sum\n",
    "https://leetcode.com/problems/two-sum/description/"
   ]
  },
  {
   "cell_type": "code",
   "execution_count": null,
   "metadata": {
    "collapsed": true
   },
   "outputs": [],
   "source": []
  }
 ],
 "metadata": {
  "kernelspec": {
   "display_name": "Python 3",
   "language": "python",
   "name": "python3"
  },
  "language_info": {
   "codemirror_mode": {
    "name": "ipython",
    "version": 3
   },
   "file_extension": ".py",
   "mimetype": "text/x-python",
   "name": "python",
   "nbconvert_exporter": "python",
   "pygments_lexer": "ipython3",
   "version": "3.6.0"
  }
 },
 "nbformat": 4,
 "nbformat_minor": 2
}
