{
 "cells": [
  {
   "cell_type": "code",
   "execution_count": null,
   "metadata": {
    "collapsed": true
   },
   "outputs": [],
   "source": []
  },
  {
   "cell_type": "code",
   "execution_count": null,
   "metadata": {
    "collapsed": true
   },
   "outputs": [],
   "source": []
  },
  {
   "cell_type": "code",
   "execution_count": null,
   "metadata": {
    "collapsed": true
   },
   "outputs": [],
   "source": []
  },
  {
   "cell_type": "code",
   "execution_count": null,
   "metadata": {
    "collapsed": true
   },
   "outputs": [],
   "source": []
  },
  {
   "cell_type": "code",
   "execution_count": null,
   "metadata": {
    "collapsed": true
   },
   "outputs": [],
   "source": []
  },
  {
   "cell_type": "code",
   "execution_count": 26,
   "metadata": {},
   "outputs": [
    {
     "data": {
      "text/plain": [
       "True"
      ]
     },
     "execution_count": 26,
     "metadata": {},
     "output_type": "execute_result"
    }
   ],
   "source": [
    "## Definition for singly-linked list:\n",
    "class ListNode(object):\n",
    "    def __init__(self, x):\n",
    "        self.value = x\n",
    "        self.next = None\n",
    "\n",
    "def isListPalindrome(l):\n",
    "       \n",
    "    if l == None:\n",
    "        return True    \n",
    "    # set i to point to middle of list using runner j\n",
    "    \n",
    "    i = j = l\n",
    "    \n",
    "    while j.next != None:\n",
    "        j = j.next.next\n",
    "        if j == None:\n",
    "            break\n",
    "        i = i.next\n",
    "\n",
    "    \n",
    "    # reverse second half of list \n",
    "    \n",
    "    h = i.next\n",
    "    k = None\n",
    "    \n",
    "    while h != None:\n",
    "        j = h.next\n",
    "        h.next = k\n",
    "        k = h\n",
    "        i.next = h\n",
    "        h = j\n",
    "        \n",
    "    \n",
    "    # match first half to reversed second half\n",
    "    \n",
    "    i = i.next\n",
    "    \n",
    "    while i != None:        \n",
    "        if l.value != i.value:\n",
    "            return False      \n",
    "        i = i.next\n",
    "        l = l.next\n",
    "\n",
    "    return True\n",
    "\n",
    "\n",
    "##my_testing_list = ListNode([1, 2, 3, 4, 66, 3, 2, 1])\n",
    "\n",
    "isListPalindrome(my_testing_list)\n",
    "\n"
   ]
  },
  {
   "cell_type": "code",
   "execution_count": null,
   "metadata": {
    "collapsed": true
   },
   "outputs": [],
   "source": [
    "# Definition for singly-linked list:\n",
    "# class ListNode(object):\n",
    "#   def __init__(self, x):\n",
    "#     self.value = x\n",
    "#     self.next = None\n",
    "#\n",
    "def isListPalindrome(l):\n",
    "    a = []\n",
    "    while l != None:\n",
    "        a.append(l.value)\n",
    "        l = l.next\n",
    "    return a == a[::-1]"
   ]
  },
  {
   "cell_type": "code",
   "execution_count": null,
   "metadata": {
    "collapsed": true
   },
   "outputs": [],
   "source": [
    "# Definition for singly-linked list:\n",
    "# class ListNode(object):\n",
    "#   def __init__(self, x):\n",
    "#     self.value = x\n",
    "#     self.next = None\n",
    "#\n",
    "def isListPalindrome(l):\n",
    "    if not l: return True\n",
    "    val = []\n",
    "    while l.next != None: val.append(l.value); l = l.next\n",
    "    val.append(l.value)\n",
    "    return val == val[::-1]"
   ]
  },
  {
   "cell_type": "code",
   "execution_count": null,
   "metadata": {
    "collapsed": true
   },
   "outputs": [],
   "source": [
    "# Definition for singly-linked list:\n",
    "# class ListNode(object):\n",
    "#   def __init__(self, x):\n",
    "#     self.value = x\n",
    "#     self.next = None\n",
    "#\n",
    "def isListPalindrome(l):\n",
    "    s = 0\n",
    "    k = l\n",
    "    while l:\n",
    "        l = l.next\n",
    "        s += 1\n",
    "    \n",
    "    l = k\n",
    "    i = 0\n",
    "    p = None\n",
    "    \n",
    "    while l:\n",
    "        i += 1\n",
    "        if i > s // 2:\n",
    "            n = l\n",
    "            l = l.next\n",
    "            n.next = p\n",
    "            p = n\n",
    "        else:\n",
    "            l = l.next\n",
    "        \n",
    "    while k and p:\n",
    "        if k.value != p.value:\n",
    "            return False\n",
    "        k = k.next\n",
    "        p = p.next\n",
    "        \n",
    "    return True\n"
   ]
  },
  {
   "cell_type": "code",
   "execution_count": null,
   "metadata": {
    "collapsed": true
   },
   "outputs": [],
   "source": [
    "# Definition for singly-linked list:\n",
    "# class ListNode(object):\n",
    "#   def __init__(self, x):\n",
    "#     self.value = x\n",
    "#     self.next = None\n",
    "#\n",
    "def isListPalindrome(head):\n",
    "    slow = fast = head\n",
    "    head_r = None\n",
    "    \n",
    "    while fast and fast.next:\n",
    "        fast = fast.next.next\n",
    "        head_r, head_r.next, slow = slow, head_r, slow.next\n",
    "        \n",
    "    # If there's an odd number of elements, ignore the middle one\n",
    "    if fast:\n",
    "        slow = slow.next\n",
    "        \n",
    "    while head_r:\n",
    "        if head_r.value != slow.value:\n",
    "            return False\n",
    "        slow = slow.next\n",
    "        head_r = head_r.next\n",
    "    return True\n",
    "    \n",
    "        \n",
    "    \n",
    "        "
   ]
  },
  {
   "cell_type": "code",
   "execution_count": null,
   "metadata": {
    "collapsed": true
   },
   "outputs": [],
   "source": []
  },
  {
   "cell_type": "markdown",
   "metadata": {},
   "source": [
    "### encode and decode ###  \n",
    "https://discuss.leetcode.com/topic/81637/two-solutions-and-thoughts/2"
   ]
  },
  {
   "cell_type": "code",
   "execution_count": 19,
   "metadata": {},
   "outputs": [
    {
     "name": "stdout",
     "output_type": "stream",
     "text": [
      "http://tinyurl.com/2HY4wv\n",
      "udothemath1984.github.io\n"
     ]
    }
   ],
   "source": [
    "import string\n",
    "import random\n",
    "class Codec:\n",
    "\n",
    "    alphabet = string.ascii_letters + string.digits\n",
    "\n",
    "    def __init__(self):\n",
    "        self.url2code = {}\n",
    "        self.code2url = {}\n",
    "\n",
    "    def encode(self, longUrl):\n",
    "        while longUrl not in self.url2code:\n",
    "            code = ''.join(random.choice(Codec.alphabet) for _ in range(6))\n",
    "            if code not in self.code2url:\n",
    "                self.code2url[code] = longUrl\n",
    "                self.url2code[longUrl] = code\n",
    "        return 'http://tinyurl.com/' + self.url2code[longUrl]\n",
    "\n",
    "    def decode(self, shortUrl):\n",
    "        return self.code2url[shortUrl[-6:]]\n",
    "    \n",
    "#my_website = \"udothemath1984.github.io\"\n",
    "\n",
    "this_code = Codec()\n",
    "\n",
    "print(this_code.encode(my_website))\n",
    "\n",
    "print(this_code.decode(this_code.encode(my_website)))"
   ]
  },
  {
   "cell_type": "code",
   "execution_count": 20,
   "metadata": {},
   "outputs": [
    {
     "name": "stdout",
     "output_type": "stream",
     "text": [
      "defghi\n"
     ]
    }
   ],
   "source": [
    "my_string = 'abcdefghi'\n",
    "print(my_string[-6:])\n"
   ]
  },
  {
   "cell_type": "markdown",
   "metadata": {},
   "source": [
    "### check ip type ###\n",
    "https://leetcode.com/problems/validate-ip-address/description/"
   ]
  },
  {
   "cell_type": "code",
   "execution_count": 13,
   "metadata": {},
   "outputs": [
    {
     "name": "stdout",
     "output_type": "stream",
     "text": [
      "IPv4\n",
      "IPv6\n"
     ]
    }
   ],
   "source": [
    "class Solution(object):\n",
    "    def validIPAddress(self, IP):\n",
    "        \"\"\"\n",
    "        :type IP: str\n",
    "        :rtype: str\n",
    "        \"\"\"\n",
    "        def is_16bits(my_string_):\n",
    "            all_poss = set(\"0123456789abcdefABCDEF\")\n",
    "            for char in my_string_:\n",
    "                if not (char in all_poss):\n",
    "                    return False\n",
    "            return True\n",
    "        my_array = IP.split('.')\n",
    "        if len(my_array) == 4:\n",
    "            for i in range(4):\n",
    "                curr_piece = my_array[i] \n",
    "                if not curr_piece.isdigit() or not 0 <= int(curr_piece) <= 255 \\\n",
    "                or (curr_piece[0] == '0' and len(curr_piece) > 1):\n",
    "                    return \"Neither\"\n",
    "            return \"IPv4\"\n",
    "        my_array = IP.split(':')\n",
    "        if len(my_array) == 8:\n",
    "            for i in range(8):\n",
    "                curr_piece = my_array[i]\n",
    "                if len(curr_piece) == 0 or not len(curr_piece) <= 4 or not is_16bits(curr_piece):\n",
    "                    return \"Neither\"\n",
    "            return \"IPv6\"\n",
    "        return \"Neither\"\n",
    "\n",
    "test_ip = Solution()\n",
    "\n",
    "ip1 = '172.16.254.1'\n",
    "print(test_ip.validIPAddress(ip1))\n",
    "\n",
    "ip2 = '2001:0db8:85a3:0000:00:8a2e:0370:7334'\n",
    "print(test_ip.validIPAddress(ip2))\n"
   ]
  },
  {
   "cell_type": "code",
   "execution_count": null,
   "metadata": {
    "collapsed": true
   },
   "outputs": [],
   "source": []
  },
  {
   "cell_type": "markdown",
   "metadata": {},
   "source": [
    "### two sum\n",
    "https://leetcode.com/problems/two-sum/description/"
   ]
  },
  {
   "cell_type": "code",
   "execution_count": null,
   "metadata": {
    "collapsed": true
   },
   "outputs": [],
   "source": []
  }
 ],
 "metadata": {
  "kernelspec": {
   "display_name": "Python 3",
   "language": "python",
   "name": "python3"
  },
  "language_info": {
   "codemirror_mode": {
    "name": "ipython",
    "version": 3
   },
   "file_extension": ".py",
   "mimetype": "text/x-python",
   "name": "python",
   "nbconvert_exporter": "python",
   "pygments_lexer": "ipython3",
   "version": "3.6.0"
  }
 },
 "nbformat": 4,
 "nbformat_minor": 2
}
