{
 "cells": [
  {
   "cell_type": "markdown",
   "metadata": {},
   "source": [
    "## 08/21/17 ##"
   ]
  },
  {
   "cell_type": "code",
   "execution_count": 374,
   "metadata": {},
   "outputs": [
    {
     "name": "stdout",
     "output_type": "stream",
     "text": [
      "(6, 3)\n",
      "(36, 33)\n",
      "(216, 215)\n",
      "(1296, 1296)\n"
     ]
    }
   ],
   "source": [
    "six_sided_dice = np.poly1d([1,1,1,1,1,1])\n",
    "def find_prob_at_n_roll_sumM(num_of_rolls, M):\n",
    "    smaller_than_M_number = int(M-num_of_rolls)   ## find the index to collect S_n < M\n",
    "    total_at_n = 6 ** num_of_rolls    \n",
    "    ## we count the num_of_rolls < M\n",
    "    ## then do the subtraction at the end\n",
    "    if (num_of_rolls < M):\n",
    "        coeff_outcome = (six_sided_dice ** num_of_rolls).coef[-smaller_than_M_number:]\n",
    "    else:\n",
    "        coeff_outcome = [0]\n",
    "    sum_of_larger_tham_M = total_at_n - sum(coeff_outcome)\n",
    "    return total_at_n, sum_of_larger_tham_M \n",
    "\n",
    "print (find_prob_at_n_roll_sumM(1, 4))\n",
    "print (find_prob_at_n_roll_sumM(2, 4))\n",
    "print (find_prob_at_n_roll_sumM(3, 4))\n",
    "print (find_prob_at_n_roll_sumM(4, 4))\n",
    "\n",
    "#print (find_prob_at_n_roll_sumM(2, 10)[-8:])\n",
    "    "
   ]
  },
  {
   "cell_type": "code",
   "execution_count": 393,
   "metadata": {},
   "outputs": [
    {
     "name": "stdout",
     "output_type": "stream",
     "text": [
      "1.0\n",
      "3.17670846426\n",
      "{2: 0.16666666666666666, 3: 0.52083333333333337, 4: 0.28211805555555558, 5: 0.029889644418724274, 6: 0.00049141368308126549, 7: 8.8622865450662454e-07, 8: 1.1398378209226718e-10, 9: 6.1077022008491656e-16, 10: 6.0606142569225324e-23}\n"
     ]
    }
   ],
   "source": [
    "def find_mean_and_standard_dev(M):  \n",
    "    \n",
    "    minimum_rolls = math.ceil(M/6)   ## minimum roll can reach M\n",
    "    dict_nRolls_prob = {}  ## dictionary for n of rolls and each probability\n",
    "    prob_you_failed_in_prev_steps = 1.0\n",
    "    for curr_num_of_rolls in range(minimum_rolls, M+1):    ## for loop for all the possible trials  \n",
    "        #print (curr_num_of_rolls)\n",
    "        #print (prob_you_failed_in_prev_steps)\n",
    "        total_at_n, sum_of_larger_tham_M = find_prob_at_n_roll_sumM(curr_num_of_rolls, M)\n",
    "        you_made_it_at_step_n = sum_of_larger_tham_M/total_at_n  \n",
    "        ## prob_success_at_n * prob_failed_at_n-1\n",
    "        dict_nRolls_prob[curr_num_of_rolls] = you_made_it_at_step_n * prob_you_failed_in_prev_steps        \n",
    "        prob_you_failed_in_prev_steps *= (1 - you_made_it_at_step_n)\n",
    "    \n",
    "    ## find the corresponding probability of all possible number of rolls\n",
    "    ## keys (k): number of rolls, values(v): probability\n",
    "    total = sum(dict_nRolls_prob.values(), 0.0)   ## normalization\n",
    "    print (total)\n",
    "    dict_nRolls_prob = {k: v / total for k, v in dict_nRolls_prob.items() }\n",
    "     \n",
    "    ## find the mean\n",
    "    mean_n_of_rolls = sum([ k * v  for k, v in dict_nRolls_prob.items() ])\n",
    "    print (mean_n_of_rolls)\n",
    "    #for k, v in\n",
    "        \n",
    "    return dict_nRolls_prob\n",
    "\n",
    "if __name__ == '__main__':\n",
    "    print (find_mean_and_standard_dev(10))\n",
    "    \n"
   ]
  },
  {
   "cell_type": "code",
   "execution_count": null,
   "metadata": {
    "collapsed": true
   },
   "outputs": [],
   "source": []
  },
  {
   "cell_type": "code",
   "execution_count": 391,
   "metadata": {},
   "outputs": [
    {
     "name": "stdout",
     "output_type": "stream",
     "text": [
      "46656\n",
      "46656\n"
     ]
    }
   ],
   "source": [
    "print (3 * 6 ** 5 + 3 * 33 * 6 ** 3 + 3 * 3 * 215 + 9)\n",
    "print (6 ** 6)"
   ]
  },
  {
   "cell_type": "code",
   "execution_count": null,
   "metadata": {
    "collapsed": true
   },
   "outputs": [],
   "source": []
  },
  {
   "cell_type": "code",
   "execution_count": 286,
   "metadata": {},
   "outputs": [
    {
     "name": "stdout",
     "output_type": "stream",
     "text": [
      "[1, 1, 1, 1, 1, 1]\n",
      "[1, 2, 3, 4, 5, 6, 5, 4, 3, 2, 1]\n",
      "[1, 3, 6, 10, 15, 21, 25, 27, 27, 25, 21, 15, 10, 6, 3, 1]\n"
     ]
    }
   ],
   "source": [
    "coeff_outcome = (np.poly1d([1,1,1,1,1,1]) ** 1).coef\n",
    "print (coeff_outcome.tolist())\n",
    "\n",
    "coeff_outcome = (np.poly1d([1,1,1,1,1,1]) ** 2).coef\n",
    "print (coeff_outcome.tolist())\n",
    "\n",
    "coeff_outcome = (np.poly1d([1,1,1,1,1,1]) ** 3).coef\n",
    "print (coeff_outcome.tolist())\n",
    "\n",
    "# coeff_outcome = (np.poly1d([1,1,1,1,1,1,0]) ** 1000).coef\n",
    "# print (coeff_outcome.tolist())"
   ]
  },
  {
   "cell_type": "code",
   "execution_count": 303,
   "metadata": {},
   "outputs": [
    {
     "name": "stdout",
     "output_type": "stream",
     "text": [
      "[ 0.5         0.91666667  0.99537037  1.        ]\n",
      "3.41203703704\n",
      "[ 0.14654003  0.26865672  0.2917232   0.29308005]\n",
      "2.73134328358\n"
     ]
    }
   ],
   "source": [
    "import numpy as np\n",
    "num_of_rolls = np.array([1,2,3, 4])\n",
    "prob = np.array([3./6, 33/36, 215/(6**3), 1])\n",
    "\n",
    "#prob = num_of_rolls \n",
    "\n",
    "print (prob)\n",
    "print (sum(prob))\n",
    "\n",
    "real_prob = prob/sum(prob)\n",
    "\n",
    "print (real_prob)\n",
    "\n",
    "value_times_prob = [a*b for a,b in zip(num_of_rolls, real_prob)]\n",
    "\n",
    "print (sum(value_times_prob))\n"
   ]
  },
  {
   "cell_type": "code",
   "execution_count": null,
   "metadata": {
    "collapsed": true
   },
   "outputs": [],
   "source": []
  },
  {
   "cell_type": "code",
   "execution_count": null,
   "metadata": {
    "collapsed": true
   },
   "outputs": [],
   "source": []
  },
  {
   "cell_type": "code",
   "execution_count": null,
   "metadata": {
    "collapsed": true
   },
   "outputs": [],
   "source": []
  },
  {
   "cell_type": "code",
   "execution_count": null,
   "metadata": {
    "collapsed": true
   },
   "outputs": [],
   "source": []
  },
  {
   "cell_type": "markdown",
   "metadata": {},
   "source": [
    "## 08/20/17 ##"
   ]
  },
  {
   "cell_type": "markdown",
   "metadata": {},
   "source": [
    "### read input save output ###"
   ]
  },
  {
   "cell_type": "code",
   "execution_count": null,
   "metadata": {
    "collapsed": true
   },
   "outputs": [],
   "source": [
    "## concept\n",
    "# with open(input_file_path) as input_file:\n",
    "#     with open(output_file_path, 'w') as output_file:\n",
    "#         for line in input_file:\n",
    "#             output_file.write.write(process(line))\n",
    "\n",
    "## alternative\n",
    "# with open(input_file_path) as input_file, open(output_file_path) as output_file:\n",
    "#     for line in input_file:\n",
    "#         output_file.write(process(line))\n"
   ]
  },
  {
   "cell_type": "code",
   "execution_count": null,
   "metadata": {
    "collapsed": true
   },
   "outputs": [],
   "source": []
  },
  {
   "cell_type": "markdown",
   "metadata": {},
   "source": [
    "### itertools ###"
   ]
  },
  {
   "cell_type": "code",
   "execution_count": null,
   "metadata": {},
   "outputs": [],
   "source": [
    "import itertools\n",
    "\n",
    "letters = ['a', 'b', 'c', 'd', 'e', 'f']\n",
    "booleans = [1, 0, 1, 0, 0, 1]\n",
    "numbers = [23, 20, 44, 32, 7, 12]\n",
    "decimals = [0.1, 0.7, 0.4, 0.4, 0.5]\n",
    "\n",
    "print (itertools.chain(letters, booleans, numbers) )\n",
    "print (list(itertools.chain(letters, booleans, numbers) ))"
   ]
  },
  {
   "cell_type": "code",
   "execution_count": null,
   "metadata": {
    "collapsed": true
   },
   "outputs": [],
   "source": []
  },
  {
   "cell_type": "markdown",
   "metadata": {},
   "source": [
    "## from collections: data structures, dir(counter): method ##"
   ]
  },
  {
   "cell_type": "code",
   "execution_count": 276,
   "metadata": {},
   "outputs": [
    {
     "name": "stdout",
     "output_type": "stream",
     "text": [
      "defaultdict(<class 'int'>, {'python': 1, 'is': 1, 'a': 1, 'widely': 1, 'used': 1, 'general-purpose': 1, 'high-level': 1, 'programming': 1, 'language': 1, '': 1})\n"
     ]
    },
    {
     "data": {
      "text/plain": [
       "['__add__',\n",
       " '__and__',\n",
       " '__class__',\n",
       " '__contains__',\n",
       " '__delattr__',\n",
       " '__delitem__',\n",
       " '__dict__',\n",
       " '__dir__',\n",
       " '__doc__',\n",
       " '__eq__',\n",
       " '__format__',\n",
       " '__ge__',\n",
       " '__getattribute__',\n",
       " '__getitem__',\n",
       " '__gt__',\n",
       " '__hash__',\n",
       " '__iadd__',\n",
       " '__iand__',\n",
       " '__init__',\n",
       " '__init_subclass__',\n",
       " '__ior__',\n",
       " '__isub__',\n",
       " '__iter__',\n",
       " '__le__',\n",
       " '__len__',\n",
       " '__lt__',\n",
       " '__missing__',\n",
       " '__module__',\n",
       " '__ne__',\n",
       " '__neg__',\n",
       " '__new__',\n",
       " '__or__',\n",
       " '__pos__',\n",
       " '__reduce__',\n",
       " '__reduce_ex__',\n",
       " '__repr__',\n",
       " '__setattr__',\n",
       " '__setitem__',\n",
       " '__sizeof__',\n",
       " '__str__',\n",
       " '__sub__',\n",
       " '__subclasshook__',\n",
       " '__weakref__',\n",
       " '_keep_positive',\n",
       " 'clear',\n",
       " 'copy',\n",
       " 'elements',\n",
       " 'fromkeys',\n",
       " 'get',\n",
       " 'items',\n",
       " 'keys',\n",
       " 'most_common',\n",
       " 'pop',\n",
       " 'popitem',\n",
       " 'setdefault',\n",
       " 'subtract',\n",
       " 'update',\n",
       " 'values']"
      ]
     },
     "execution_count": 276,
     "metadata": {},
     "output_type": "execute_result"
    }
   ],
   "source": [
    "import re\n",
    "python_string = 'Python is a widely used general-purpose high-level programming language.'\n",
    "word_list = list(map(lambda k: k.lower().strip(), re.split(r'[;,:(\\.\\s)]\\s*', python_string)))\n",
    "word_list[:10]\n",
    "\n",
    "from collections import defaultdict\n",
    "dictionary = defaultdict(int)\n",
    "for word in word_list:\n",
    "    dictionary[word] += 1\n",
    "print (dictionary)\n",
    "\n",
    "from collections import Counter\n",
    "counter = Counter(word_list)\n",
    "\n",
    "counter.most_common(10)\n",
    "counter.items()\n",
    "counter.keys()\n",
    "\n",
    "dir(counter)\n"
   ]
  },
  {
   "cell_type": "code",
   "execution_count": null,
   "metadata": {
    "collapsed": true
   },
   "outputs": [],
   "source": []
  },
  {
   "cell_type": "markdown",
   "metadata": {},
   "source": [
    "## 08/19/17 ##"
   ]
  },
  {
   "cell_type": "markdown",
   "metadata": {},
   "source": [
    "### Summation of dictionary and list representation ###"
   ]
  },
  {
   "cell_type": "code",
   "execution_count": 263,
   "metadata": {},
   "outputs": [
    {
     "name": "stdout",
     "output_type": "stream",
     "text": [
      "{0: [], 1: [0], 2: [0, 1], 3: [0, 1, 2], 4: [0, 1, 2, 3]}\n",
      "0\n",
      "0\n",
      "1\n",
      "3\n",
      "6\n",
      "[[0], [1, 0], [2, 0, 1], [3, 0, 1, 2], [4, 0, 1, 2, 3]]\n",
      "0\n",
      "0\n",
      "1\n",
      "3\n",
      "6\n",
      "[[0, 0], [1, 0, 1], [2, 0, 1, 2], [3, 0, 1, 2, 3], [4, 0, 1, 2, 3, 4], [5, 0, 1, 2, 3, 4, 5], [6, 0, 1, 2, 3, 4, 5, 6], [7, 0, 1, 2, 3, 4, 5, 6, 7], [8, 0, 1, 2, 3, 4, 5, 6, 7, 8]]\n",
      "0 0 0\n",
      "1 0 1\n",
      "2 1 2\n",
      "3 3 3\n",
      "4 6 4\n",
      "5 10 5\n",
      "6 15 6\n",
      "7 21 7\n",
      "8 28 8\n"
     ]
    }
   ],
   "source": [
    "## dictionary representation\n",
    "dict_rep = {i: list(range(i)) for i in range(5)}\n",
    "print (dict_rep)\n",
    "for key, value in dict_rep.items():\n",
    "    print (sum(value))\n",
    "\n",
    "## list representation\n",
    "list_rep = [[ii] + list(range(jj)) for ii, jj in enumerate(range(5))]\n",
    "print (list_rep)\n",
    "for head, *rest in list_rep:\n",
    "    print (sum(rest))\n",
    "\n",
    "    \n",
    "## head, middle, and tail (Require at least 1 elements in list)\n",
    "list_rep2 = [[ii] + list(range(jj)) for ii, jj in enumerate(range(1, 10))]\n",
    "print (list_rep2)\n",
    "for head, *middle, tail in list_rep2:\n",
    "    print (head, sum(middle), tail)"
   ]
  },
  {
   "cell_type": "code",
   "execution_count": null,
   "metadata": {
    "collapsed": true
   },
   "outputs": [],
   "source": []
  },
  {
   "cell_type": "markdown",
   "metadata": {},
   "source": [
    "### Arbitrary Number of Items in a List ###"
   ]
  },
  {
   "cell_type": "code",
   "execution_count": 246,
   "metadata": {},
   "outputs": [
    {
     "name": "stdout",
     "output_type": "stream",
     "text": [
      "Emily 85184.33333333333\n"
     ]
    }
   ],
   "source": [
    "def find_some_average(name_paystubs):\n",
    "    name, *paystub_history = name_paystubs\n",
    "    return name, (sum(paystub_history) / float(len(paystub_history)))\n",
    "\n",
    "worker_name, ave_salary = find_some_average([\"Emily\", 66666, 88888, 99999])\n",
    "\n",
    "print (worker_name, ave_salary)\n"
   ]
  },
  {
   "cell_type": "code",
   "execution_count": null,
   "metadata": {
    "collapsed": true
   },
   "outputs": [],
   "source": []
  },
  {
   "cell_type": "markdown",
   "metadata": {},
   "source": [
    "### Get the max key and value from a dictionary ###"
   ]
  },
  {
   "cell_type": "code",
   "execution_count": 244,
   "metadata": {},
   "outputs": [
    {
     "name": "stdout",
     "output_type": "stream",
     "text": [
      "{0: 0, 1: 0, 2: 1, 3: 3, 4: 6}\n",
      "(6, 4)\n",
      "[(6, 4), (3, 3), (1, 2), (0, 1), (0, 0)]\n"
     ]
    }
   ],
   "source": [
    "a_dict = {i: sum(range(i)) for i in range(5)}\n",
    "\n",
    "print (a_dict)\n",
    "print (max(zip(a_dict.values(), a_dict.keys())))\n",
    "print (sorted(zip(a_dict.values(), a_dict.keys()), reverse=True))"
   ]
  },
  {
   "cell_type": "code",
   "execution_count": null,
   "metadata": {
    "collapsed": true
   },
   "outputs": [],
   "source": []
  },
  {
   "cell_type": "markdown",
   "metadata": {},
   "source": [
    "### add list items into dictionary ###"
   ]
  },
  {
   "cell_type": "code",
   "execution_count": 239,
   "metadata": {},
   "outputs": [
    {
     "name": "stdout",
     "output_type": "stream",
     "text": [
      "defaultdict(<class 'list'>, {0: [0], 1: [10], 2: [20], 3: [30], 4: [40]})\n"
     ]
    }
   ],
   "source": [
    "ls = [(i, 10*i) for i in range(5)]\n",
    "\n",
    "# dictionary = {}\n",
    "# for k, v in ls:\n",
    "#     #print (k, v)\n",
    "#     if not k in dictionary:\n",
    "#         dictionary[k] = []\n",
    "#     dictionary[k].append(v)\n",
    "# print (dictionary)\n",
    "    \n",
    "from collections import defaultdict\n",
    "dictionary = defaultdict(list) # defaults to list\n",
    "for k, v in ls:\n",
    "    dictionary[k].append(v)\n",
    "print (dictionary)\n"
   ]
  },
  {
   "cell_type": "code",
   "execution_count": null,
   "metadata": {
    "collapsed": true
   },
   "outputs": [],
   "source": []
  },
  {
   "cell_type": "markdown",
   "metadata": {},
   "source": [
    "### gcd (greatest common divisor), lcm (lowest common multiple) ###"
   ]
  },
  {
   "cell_type": "code",
   "execution_count": 227,
   "metadata": {},
   "outputs": [
    {
     "name": "stdout",
     "output_type": "stream",
     "text": [
      "3\n"
     ]
    }
   ],
   "source": [
    "### optimal\n",
    "\n",
    "import sys\n",
    "from functools import reduce\n",
    "from math import gcd\n",
    "\n",
    "## a = map(int,input().strip().split())\n",
    "## b = map(int,input().strip().split())\n",
    "\n",
    "a = [2, 4]\n",
    "\n",
    "b = [16, 32, 96]\n",
    "\n",
    "lcm_a = reduce(lambda x,y: x*y//gcd(x,y), a)\n",
    "gcd_b = reduce(gcd, b)\n",
    "print(sum(1 for x in range(lcm_a,gcd_b+1,lcm_a) if gcd_b%x==0))"
   ]
  },
  {
   "cell_type": "code",
   "execution_count": null,
   "metadata": {
    "collapsed": true
   },
   "outputs": [],
   "source": []
  },
  {
   "cell_type": "code",
   "execution_count": 207,
   "metadata": {},
   "outputs": [
    {
     "name": "stdout",
     "output_type": "stream",
     "text": [
      "spam, ham, eggs\n",
      "80, 443, 8080, 8081\n",
      "80, 443, 8080, 8081\n",
      "80, 443, 8080, 8081\n"
     ]
    }
   ],
   "source": [
    "mylist = ['spam', 'ham', 'eggs']\n",
    "print (', '.join(mylist) )\n",
    "\n",
    "list_of_ints = [80, 443, 8080, 8081]\n",
    "\n",
    "print (str(list_of_ints).strip('[]'))\n",
    "print (str(list_of_ints)[1:-1])\n",
    "print (', '.join(map(str, list_of_ints)))"
   ]
  },
  {
   "cell_type": "code",
   "execution_count": null,
   "metadata": {
    "collapsed": true
   },
   "outputs": [],
   "source": []
  },
  {
   "cell_type": "code",
   "execution_count": 222,
   "metadata": {},
   "outputs": [
    {
     "name": "stdout",
     "output_type": "stream",
     "text": [
      "False\n",
      "3\n"
     ]
    }
   ],
   "source": [
    "## https://stackoverflow.com/questions/147515/least-common-multiple-for-3-or-more-numbers\n",
    "import functools\n",
    "def gcd(a, b):\n",
    "    \"\"\"Return greatest common divisor using Euclid's Algorithm.\"\"\"\n",
    "    while b: \n",
    "        #print (a, b)\n",
    "        a, b = b, a % b\n",
    "        #print (a, b)\n",
    "    return a\n",
    "\n",
    "def gcd_from_list(your_list):\n",
    "    return functools.reduce(gcd, your_list)\n",
    "    \n",
    "def lcm(a, b):\n",
    "    \"\"\"Return lowest common multiple.\"\"\"\n",
    "    return a * b // gcd(a, b)\n",
    "\n",
    "def lcm_from_list(your_list):\n",
    "    return functools.reduce(lcm, your_list)\n",
    "\n",
    "def evenly_divisor(numerator, denominator):\n",
    "    return numerator % denominator == 0\n",
    "\n",
    "#print (evenly_divisor(2,4))\n",
    "\n",
    "# def lcmm(*args):\n",
    "#     \"\"\"Return lcm of args.\"\"\"   \n",
    "#     return functools.reduce(lcm, args)\n",
    "\n",
    "# def get_lcm_from_list(your_list):\n",
    "#     return functools.reduce(lambda x, y: lcm(x, y), your_list)\n",
    "\n",
    "gcd(2, 4)\n",
    "\n",
    "gcd_list = [6, 12, 15, 21]\n",
    "\n",
    "print (gcd_from_list(gcd_list))\n",
    "\n",
    "\n",
    "#print (lcm_from_list([1,2,3,4,5,6]))\n",
    "#print (get_lcm_from_list([1,2,3,4,5,6]))\n"
   ]
  },
  {
   "cell_type": "code",
   "execution_count": 179,
   "metadata": {},
   "outputs": [
    {
     "data": {
      "text/plain": [
       "720"
      ]
     },
     "execution_count": 179,
     "metadata": {},
     "output_type": "execute_result"
    }
   ],
   "source": [
    "## reduce\n",
    "import functools\n",
    "functools.reduce(lambda x, y: x*y, [1,2,3,4,5,6])"
   ]
  },
  {
   "cell_type": "code",
   "execution_count": null,
   "metadata": {
    "collapsed": true
   },
   "outputs": [],
   "source": []
  },
  {
   "cell_type": "markdown",
   "metadata": {},
   "source": [
    "### find remaining in the list ###"
   ]
  },
  {
   "cell_type": "code",
   "execution_count": 176,
   "metadata": {},
   "outputs": [
    {
     "name": "stdout",
     "output_type": "stream",
     "text": [
      "The slowest run took 5.10 times longer than the fastest. This could mean that an intermediate result is being cached.\n",
      "1000000 loops, best of 3: 1.31 µs per loop\n"
     ]
    }
   ],
   "source": [
    "%%timeit\n",
    "\n",
    "## optimal\n",
    "#s = input().strip()\n",
    "#n = int(input().strip())\n",
    "\n",
    "s = 'abcabcaca'\n",
    "n= 12343212\n",
    "\n",
    "result = s.count(\"a\") * (n // len(s)) + s.count(\"a\",0,n%len(s))\n",
    "\n",
    "#print (result)"
   ]
  },
  {
   "cell_type": "code",
   "execution_count": 177,
   "metadata": {},
   "outputs": [
    {
     "name": "stdout",
     "output_type": "stream",
     "text": [
      "The slowest run took 24.93 times longer than the fastest. This could mean that an intermediate result is being cached.\n",
      "1000000 loops, best of 3: 1.33 µs per loop\n"
     ]
    }
   ],
   "source": [
    "%%timeit\n",
    "\n",
    "s = 'abcabcaca'\n",
    "n= 12343212\n",
    "result = s.count(\"a\") * (n // len(s)) + s[:n%len(s)].count(\"a\")"
   ]
  },
  {
   "cell_type": "code",
   "execution_count": null,
   "metadata": {
    "collapsed": true
   },
   "outputs": [],
   "source": []
  },
  {
   "cell_type": "code",
   "execution_count": 160,
   "metadata": {},
   "outputs": [
    {
     "name": "stdout",
     "output_type": "stream",
     "text": [
      "5485872\n"
     ]
    }
   ],
   "source": [
    "#!/bin/python3\n",
    "\n",
    "import sys\n",
    "\n",
    "# s = input().strip()\n",
    "# n = int(input().strip())\n",
    "\n",
    "s = 'abcabcaca'\n",
    "n= 12343212\n",
    "\n",
    "num_of_a_in_s = sum([1 for letter in s if letter == 'a' ])\n",
    "extra_a = sum( [1 for letter in s[: n%len(s)] if letter == 'a' ]  )\n",
    "\n",
    "print (num_of_a_in_s * (n//len(s)) + extra_a )"
   ]
  },
  {
   "cell_type": "code",
   "execution_count": null,
   "metadata": {
    "collapsed": true
   },
   "outputs": [],
   "source": []
  },
  {
   "cell_type": "markdown",
   "metadata": {},
   "source": [
    "#### Count at certain condition ####"
   ]
  },
  {
   "cell_type": "code",
   "execution_count": 155,
   "metadata": {},
   "outputs": [
    {
     "name": "stdout",
     "output_type": "stream",
     "text": [
      "You were at valley for 1 time(s).\n"
     ]
    }
   ],
   "source": [
    "# n_steps = input().strip()\n",
    "# journey = [x for x in input().strip()]\n",
    "\n",
    "journey = 'UUDDDDDDUUUDUDUUUDUD'\n",
    "\n",
    "#print (journey)\n",
    "current_level = 0\n",
    "count_valley = 0\n",
    "below_0 = False\n",
    "\n",
    "for index, up_or_down in enumerate(journey):\n",
    "    if up_or_down == 'U':\n",
    "        value = 1\n",
    "    else:\n",
    "        value = -1\n",
    "    current_level += value\n",
    "    #print (current_level)\n",
    "    if current_level == -1 and below_0 == False:\n",
    "        #print (\"hello\")\n",
    "        below_0 = True\n",
    "    elif current_level == 0 and below_0 == True:\n",
    "        #print (\"get up\")\n",
    "        below_0 = False\n",
    "        count_valley += 1\n",
    "        \n",
    "print (\"You were at valley for {} time(s).\".format(count_valley))\n",
    "      "
   ]
  },
  {
   "cell_type": "code",
   "execution_count": null,
   "metadata": {
    "collapsed": true
   },
   "outputs": [],
   "source": []
  },
  {
   "cell_type": "markdown",
   "metadata": {},
   "source": [
    "### Create classes practice ###"
   ]
  },
  {
   "cell_type": "markdown",
   "metadata": {},
   "source": [
    "#### class fish in another class aquarium ####"
   ]
  },
  {
   "cell_type": "code",
   "execution_count": 151,
   "metadata": {},
   "outputs": [
    {
     "name": "stdout",
     "output_type": "stream",
     "text": [
      "poo1 is eating cookie.\n",
      "foo2 is eating cookie.\n",
      "koo3 is eating cookie.\n"
     ]
    }
   ],
   "source": [
    "class Aquarium():\n",
    "    fish = []\n",
    "    def __init__(self, fish):\n",
    "        self.fish = fish\n",
    "    def feed(self, food):\n",
    "        for fish in self.fish:\n",
    "            fish.eat(food)\n",
    "\n",
    "class Fish():\n",
    "    color = \"Blue\"\n",
    "    skin = \"scales\"\n",
    "    def __init__(self, name):\n",
    "        self.name = name\n",
    "    def eat(self, food):\n",
    "        print (self.name + \" is eating \" + food + \".\")\n",
    "    \n",
    "class Goldfish(Fish):\n",
    "    color = \"Gold\"\n",
    "    \n",
    "class Flounder(Fish):\n",
    "    pass\n",
    "\n",
    "my_fish = [Goldfish(\"poo1\"), Goldfish(\"foo2\"), Flounder(\"koo3\")]\n",
    "my_aquarium = Aquarium(my_fish)\n",
    "my_aquarium.feed(\"cookie\")\n",
    "\n",
    "# for fish in my_aquarium.fish:\n",
    "#     print (fish.name)\n",
    "    \n"
   ]
  },
  {
   "cell_type": "code",
   "execution_count": null,
   "metadata": {
    "collapsed": true
   },
   "outputs": [],
   "source": []
  },
  {
   "cell_type": "markdown",
   "metadata": {},
   "source": [
    "#### child override parent's behavior ####"
   ]
  },
  {
   "cell_type": "code",
   "execution_count": 142,
   "metadata": {},
   "outputs": [
    {
     "name": "stdout",
     "output_type": "stream",
     "text": [
      "Blue\n",
      "Golden\n"
     ]
    }
   ],
   "source": [
    "class Fish:\n",
    "    color = \"Blue\"\n",
    "    skin = \"scales\"\n",
    "    \n",
    "class Flounder(Fish):\n",
    "    pass      ## inherits color = \"Blue\" from parent\n",
    "\n",
    "class Goldfish(Fish):\n",
    "    color = \"Golden\"\n",
    "    \n",
    "fish1 = Flounder()\n",
    "print (fish1.color)\n",
    "\n",
    "fish2 = Goldfish()\n",
    "print (fish2.color)\n"
   ]
  },
  {
   "cell_type": "code",
   "execution_count": null,
   "metadata": {
    "collapsed": true
   },
   "outputs": [],
   "source": []
  },
  {
   "cell_type": "markdown",
   "metadata": {},
   "source": [
    "#### parent class ####"
   ]
  },
  {
   "cell_type": "code",
   "execution_count": 140,
   "metadata": {},
   "outputs": [
    {
     "name": "stdout",
     "output_type": "stream",
     "text": [
      "It moves extremely slow.\n"
     ]
    },
    {
     "data": {
      "text/plain": [
       "'scales'"
      ]
     },
     "execution_count": 140,
     "metadata": {},
     "output_type": "execute_result"
    }
   ],
   "source": [
    "class Fish:\n",
    "    skin = \"scales\"\n",
    "\n",
    "class Goldfish(Fish):\n",
    "    def move(self, speed):\n",
    "        print (\"It moves {}.\".format(speed))\n",
    "    \n",
    "myfish = Goldfish()\n",
    "myfish.move(\"extremely slow\")\n",
    "myfish.skin\n",
    "    "
   ]
  },
  {
   "cell_type": "code",
   "execution_count": null,
   "metadata": {
    "collapsed": true
   },
   "outputs": [],
   "source": []
  },
  {
   "cell_type": "code",
   "execution_count": 138,
   "metadata": {},
   "outputs": [
    {
     "name": "stdout",
     "output_type": "stream",
     "text": [
      "Fish init!\n",
      "Poo\n",
      "purple\n",
      "Poo is moving slowly!\n"
     ]
    }
   ],
   "source": [
    "class Fish:\n",
    "    def __init__(self, fish_name, fish_color):\n",
    "        print (\"Fish init!\")\n",
    "        self.name = fish_name\n",
    "        self.color = fish_color\n",
    "        \n",
    "    def move(self, speed):\n",
    "        print (self.name + \" is moving \" + speed + \"!\")\n",
    "        \n",
    "        \n",
    "myfish = Fish(\"Poo\", \"purple\")\n",
    "print (myfish.name)\n",
    "print (myfish.color)\n",
    "\n",
    "myfish.move(\"slowly\")"
   ]
  },
  {
   "cell_type": "code",
   "execution_count": null,
   "metadata": {
    "collapsed": true
   },
   "outputs": [],
   "source": []
  },
  {
   "cell_type": "code",
   "execution_count": 127,
   "metadata": {},
   "outputs": [
    {
     "name": "stdout",
     "output_type": "stream",
     "text": [
      "Poo is moving fast!\n"
     ]
    }
   ],
   "source": [
    "class Fish:\n",
    "    def move(self, speed):\n",
    "        print (self.name + \" is moving \" + speed + \"!\")\n",
    "\n",
    "myfish = Fish()\n",
    "myfish.name = \"Poo\"\n",
    "myfish.move(\"fast\")"
   ]
  },
  {
   "cell_type": "code",
   "execution_count": null,
   "metadata": {
    "collapsed": true
   },
   "outputs": [],
   "source": []
  },
  {
   "cell_type": "markdown",
   "metadata": {},
   "source": [
    "## 08/18/17 ##"
   ]
  },
  {
   "cell_type": "markdown",
   "metadata": {},
   "source": [
    "### Standard deviation ###"
   ]
  },
  {
   "cell_type": "code",
   "execution_count": 122,
   "metadata": {},
   "outputs": [
    {
     "name": "stdout",
     "output_type": "stream",
     "text": [
      "2.8\n",
      "2.8\n"
     ]
    }
   ],
   "source": [
    "## alternatives\n",
    "\n",
    "import statistics as st\n",
    "\n",
    "#n = int(input())\n",
    "#data = list(map(int, input().split()))\n",
    "\n",
    "data = [1, 3, 5, 7, 9]\n",
    "n = len(data)\n",
    "print(round(st.pstdev(data), 1))\n",
    "\n",
    "## or\n",
    "\n",
    "mean = sum(data) / n\n",
    "variance = sum([((x - mean) ** 2) for x in data]) / n\n",
    "stddev = variance ** 0.5\n",
    "\n",
    "print(\"{0:0.1f}\".format(stddev))\n",
    "\n"
   ]
  },
  {
   "cell_type": "code",
   "execution_count": 118,
   "metadata": {},
   "outputs": [
    {
     "name": "stdout",
     "output_type": "stream",
     "text": [
      "2.8\n"
     ]
    }
   ],
   "source": [
    "import math\n",
    "#n = int(input().strip())\n",
    "#array = list(map(int, input().strip().split(' ')))\n",
    "\n",
    "array = [1, 3, 5, 7, 9]\n",
    "n = len(array)\n",
    "`\n",
    "mean = sum(array)/n\n",
    "sta_dev = math.sqrt(sum( [ (i-mean)*(i-mean) for i in array ] )/n)\n",
    "\n",
    "print (\"{:.1f}\".format(sta_dev))"
   ]
  },
  {
   "cell_type": "code",
   "execution_count": null,
   "metadata": {
    "collapsed": true
   },
   "outputs": [],
   "source": []
  },
  {
   "cell_type": "markdown",
   "metadata": {},
   "source": [
    "### Interquartile Range ###"
   ]
  },
  {
   "cell_type": "code",
   "execution_count": 117,
   "metadata": {},
   "outputs": [
    {
     "name": "stdout",
     "output_type": "stream",
     "text": [
      "1.0\n"
     ]
    }
   ],
   "source": [
    "# n = int(input().strip())\n",
    "# s = list(map(int, input().strip().split(' ')))\n",
    "# f = list(map(int, input().strip().split(' ')))\n",
    "\n",
    "s = [10, 3, 4]\n",
    "f = [2, 4, 5]\n",
    "\n",
    "def median(sorted_list):\n",
    "    floor_of_half = len(sorted_list)//2\n",
    "    if len(sorted_list) % 2 ==0:\n",
    "        result = sum(sorted_list[floor_of_half-1:floor_of_half+1])/2\n",
    "    else:\n",
    "        result = sorted_list[floor_of_half]\n",
    "    return result\n",
    "\n",
    "def q1_and_q3(num_of_element, sorted_list):\n",
    "    floor_of_half = len(sorted_list)//2\n",
    "    q1 = median(sorted_list[:floor_of_half])\n",
    "    \n",
    "    if num_of_element%2 == 0:\n",
    "        q3 = median(sorted_list[floor_of_half:])\n",
    "    else:\n",
    "        q3 = median(sorted_list[floor_of_half+1:])\n",
    "    return q1, q3\n",
    "\n",
    "combined_list = []\n",
    "for i, value in enumerate(s):\n",
    "    combined_list += [value]*f[i]\n",
    "#print (combined_list)\n",
    "\n",
    "sorted_combined = sorted(combined_list)\n",
    "\n",
    "q1, q3 = q1_and_q3(len(sorted_combined),sorted_combined)\n",
    "\n",
    "print (\"{:.1f}\".format(q3-q1))\n",
    "\n"
   ]
  },
  {
   "cell_type": "code",
   "execution_count": null,
   "metadata": {
    "collapsed": true
   },
   "outputs": [],
   "source": []
  },
  {
   "cell_type": "markdown",
   "metadata": {},
   "source": [
    "### Find Quartiles ###"
   ]
  },
  {
   "cell_type": "code",
   "execution_count": 98,
   "metadata": {},
   "outputs": [
    {
     "name": "stdout",
     "output_type": "stream",
     "text": [
      "2.5 4.5 6.5\n"
     ]
    }
   ],
   "source": [
    "# n = int(input().strip())\n",
    "# input_arry = list(map(int, input().strip().split(' ')))\n",
    "\n",
    "input_arry = [1,3,5,7,2,4,6,8]\n",
    "#input_arry = [1,3,5,7,9,2,4,6,8]\n",
    "n = len(input_arry)\n",
    "\n",
    "ordered_list = sorted(input_arry)\n",
    "\n",
    "def median(ordered_nums):\n",
    "    floor_of_half_n = len(ordered_nums)//2\n",
    "    if len(ordered_nums) % 2 == 0:\n",
    "        med_value = sum( ordered_nums[floor_of_half_n-1: floor_of_half_n+1])/2\n",
    "    else:\n",
    "        med_value = ordered_nums[floor_of_half_n]\n",
    "    return med_value\n",
    "\n",
    "def quartiles(n_of_nums, ordered_nums):\n",
    "    floor_of_half_n = len(ordered_nums)//2\n",
    "    q1 = median(ordered_nums[:floor_of_half_n])\n",
    "    q2 = median(ordered_nums)\n",
    "    if n_of_nums%2 == 0:\n",
    "        q3 = median(ordered_nums[floor_of_half_n:])\n",
    "    else:\n",
    "        q3 = median(ordered_nums[floor_of_half_n+1:])\n",
    "    return q1, q2, q3\n",
    "        \n",
    "\n",
    "q1, q2, q3 = quartiles(n, ordered_list)\n",
    "print (q1, q2, q3)\n"
   ]
  },
  {
   "cell_type": "code",
   "execution_count": null,
   "metadata": {
    "collapsed": true
   },
   "outputs": [],
   "source": []
  },
  {
   "cell_type": "markdown",
   "metadata": {},
   "source": [
    "## 08/17/17 ##"
   ]
  },
  {
   "cell_type": "markdown",
   "metadata": {},
   "source": [
    "### Work on dictionary ###"
   ]
  },
  {
   "cell_type": "code",
   "execution_count": 93,
   "metadata": {},
   "outputs": [
    {
     "name": "stdout",
     "output_type": "stream",
     "text": [
      "dict_keys([4, 1, 5, 6, 2, 3])\n",
      "dict_values([2, 2, 1, 2, 1, 1])\n",
      "4\n"
     ]
    }
   ],
   "source": [
    "import numpy as np\n",
    "from collections import Counter\n",
    "\n",
    "this = '4 1 5 6 4 6 1 2 3 '\n",
    "array = list(map(int, this.strip().split(' ')))\n",
    "\n",
    "#dict_array = dict(Counter(array))\n",
    "\n",
    "dict_array = Counter(array)\n",
    "\n",
    "## Key of dictionary\n",
    "print (dict_array.keys())\n",
    "## Value of dictionary\n",
    "print (dict_array.values())\n",
    "\n",
    "# one of the key with largest value\n",
    "print (max(dict_array, key=dict_array.get))\n",
    "\n",
    "# one of the largest value in dictionary \n",
    "#print (max(dict_array.values()))\n",
    "\n",
    "# max_occurence_list = []\n",
    "# for each_element, n_of_occurrence in dict_array.items():\n",
    "#     if n_of_occurrence == max(dict_array.values()):\n",
    "#         max_occurence_list.append(each_element)\n",
    "\n",
    "# print (min(max_occurence_list))\n"
   ]
  },
  {
   "cell_type": "code",
   "execution_count": null,
   "metadata": {
    "collapsed": true
   },
   "outputs": [],
   "source": []
  },
  {
   "cell_type": "markdown",
   "metadata": {},
   "source": [
    "### Use numpy to find mean, median and counter in dictionary to find mode ###"
   ]
  },
  {
   "cell_type": "code",
   "execution_count": 94,
   "metadata": {},
   "outputs": [
    {
     "name": "stdout",
     "output_type": "stream",
     "text": [
      "49921.5\n",
      "49253.5\n",
      "2184\n"
     ]
    }
   ],
   "source": [
    "## Task \n",
    "## Given an array, X, of N integers, calculate and print the respective mean, median, and mode on separate lines. \n",
    "## If your array contains more than one modal value, choose the numerically smallest one.\n",
    "\n",
    "import numpy as np\n",
    "from collections import Counter\n",
    "\n",
    "this = '19325 74348 68955 98497 26622 32516 97390 64601 64410 10205 5173 25044 23966 60492 71098 13852 27371 40577 74997 42548 95799 26783 51505 25284 49987 99134 33865 25198 24497 19837 53534 44961 93979 76075 57999 93564 71865 90141 5736 54600 58914 72031 78758 30015 21729 57992 35083 33079 6932 96145 73623 55226 18447 15526 41033 46267 52486 64081 3705 51675 97470 64777 31060 90341 55108 77695 16588 64492 21642 56200 48312 5279 15252 20428 57224 38086 19494 57178 49084 37239 32317 68884 98127 79085 77820 2664 37698 84039 63449 63987 20771 3946 862 1311 77463 19216 57974 73012 78016 9412 90919 40744 24322 68755 59072 57407 4026 15452 82125 91125 99024 49150 90465 62477 30556 39943 44421 68568 31056 66870 63203 43521 78523 58464 38319 30682 77207 86684 44876 81896 58623 24624 14808 73395 92533 4398 8767 72743 1999 6507 49353 81676 71188 78019 88429 68320 59395 95307 95770 32034 57015 26439 2878 40394 33748 41552 64939 49762 71841 40393 38293 48853 81628 52111 49934 74061 98537 83075 83920 42792 96943 3357 83393 73735 32851 12631 954 18806 12518 77451 40057 83048 50251 4042 43390 50802 22087 33164 56529 29586 45201 53718 45822 60832 22942 71260 14629 64736 31441 95195 58122 40597 27533 79588 42012 72119 98585 88519 44490 25289 17586 44822 14592 51428 48069 90282 42412 12944 76050 70793 16815 20712 64466 73404 14806 48857 50014 23121 20402 27509 88681 28108 51497 78993 93631 78013 36779 50217 23025 67506 23403 25015 52071 16229 94964 62133 18117 10038 92156 22253 19201 35213 63072 70702 60003 62184 25174 38807 69217 18269 34780 53985 64378 58515 42341 50198 20372 934 68985 57963 11215 21403 46205 15507 69671 34155 88430 88452 1638 90592 99970 93572 63994 51694 47581 29963 6021 42300 79985 87980 53593 13316 15453 10690 7573 43792 71043 65837 86090 11849 13415 37913 80829 43556 11626 86456 11948 48753 50572 94985 23127 92587 83075 85085 89213 23297 27255 79461 26307 97724 26001 39409 93543 24518 28315 3599 56270 47726 99708 66323 74188 38233 21863 33325 49449 97950 59748 36920 52970 4946 20811 59734 48067 88412 94590 31698 29282 74060 16216 53409 24486 45424 80834 30793 94982 71937 95521 43915 92787 15257 18588 84638 21077 53848 42191 20160 81149 45716 77300 47107 65762 77770 60567 96962 86928 76800 19170 91142 61000 46222 92164 32435 49106 71353 58661 9160 25018 11123 77541 86787 50724 5969 25433 76577 98856 28132 10052 77552 86342 81409 41371 17538 24809 96460 22169 98237 3789 59813 15371 48294 70037 47116 32200 51917 62708 77990 42760 87598 87462 62436 71345 86329 14745 89479 11246 60179 37511 26942 1721 26985 53855 63666 82255 31569 24481 62224 90107 33765 88634 82435 84202 54962 20873 97722 7023 118 2156 28323 35373 24906 24622 44402 22859 91908 17323 31298 83975 56369 74897 5968 98200 42143 76553 93357 30137 21480 92955 18346 68236 67495 8807 10356 51969 80403 10977 60186 61611 74497 45701 96794 52543 43777 78845 39918 84993 85737 53324 53059 8893 31858 36064 64260 73749 64164 52772 15242 70311 43764 79923 21407 86961 34987 34521 34150 38204 51300 77691 92008 96320 61963 84021 2961 34363 28456 71932 61930 54930 42445 96453 65401 13256 79334 64615 9713 60815 28008 69492 23199 59589 28739 72633 94170 10888 51539 76480 33665 81973 81803 24272 7155 70828 65184 69458 9390 65970 98428 765 62446 22955 35044 34202 49648 58515 77039 48268 79160 96421 37434 67204 17068 51985 54255 83409 59296 59036 28023 74513 8622 69405 19712 6680 817 62113 98302 52920 12954 77764 25274 22437 90534 92079 98910 49387 69816 44078 60998 52391 51178 45243 89793 74003 91778 55278 33697 27890 18311 35679 87953 66143 97993 71430 76652 12832 35921 29371 14645 70692 7439 67552 89386 30277 36893 73268 30427 51781 76463 16556 78063 66670 15697 60224 60255 93858 15647 69254 96862 20258 73106 90668 30131 38159 86807 96083 63534 33235 56646 99334 77717 47654 78754 35419 5937 94914 75688 37158 80916 82320 13570 92068 47138 4526 3896 80131 16190 492 40210 32404 62557 23356 73738 64698 16020 87525 48586 47273 13890 72410 52461 56223 72174 41025 30187 6276 10306 32807 48922 60093 18323 11049 63702 22413 13780 84304 83085 46 75596 35294 54872 92212 32064 25302 55609 95164 1524 46990 60773 21909 68402 59472 56689 91087 39631 78193 71526 51792 63272 42985 95265 44552 28294 21810 71384 48003 80544 1363 45802 16952 7529 13362 22473 1221 94395 55384 21619 79257 77566 32224 88127 31954 35651 71426 68599 74190 33407 41231 96316 71415 42254 94181 42133 82767 27639 35673 44389 25222 7332 41911 72559 63687 43008 42840 48593 65086 43754 18516 22700 33797 24547 26764 33146 62195 90700 21335 79793 31396 47616 99154 10299 91775 32512 66035 21502 50806 77264 39799 56009 87600 64349 93885 69236 86648 55846 58090 41524 90695 50647 8308 4564 63060 16932 11331 19852 8639 11040 5202 76658 19618 76458 66905 6581 87747 69766 66507 12010 58124 84856 49117 30234 51748 3611 13964 28011 16438 84796 81080 2963 8912 41050 38175 78210 74440 37042 67605 61848 94040 41364 16395 44176 71400 61297 95912 87090 9691 18671 977 72851 50455 27237 95495 11534 65397 69505 97372 54739 78898 38469 27660 55602 69921 86400 56781 16652 72492 6572 55659 40411 22286 20435 17512 15070 53427 71684 33266 30803 17200 56805 16966 76097 20127 21996 93123 68003 6415 41574 68735 51681 5988 42035 90528 77866 48393 80726 2714 24469 14254 20282 47385 44742 36760 50505 94900 21049 58767 22447 76968 34660 23291 30673 12488 46615 77985 50839 55140 31758 8923 71099 57760 2237 99895 27919 98440 78073 3250 17013 39576 36805 78428 65778 8839 47507 51209 40737 66930 97033 9950 28929 74108 17718 31227 48917 2591 20557 60745 50520 6665 12886 2205 21233 62940 63064 99827 44353 36273 17091 22133 41282 72177 39909 99400 44757 80418 20575 27374 25036 14293 82818 64537 10341 68264 8768 65063 90343 61732 84088 92928 41263 12622 64719 81768 16617 34794 90326 87305 89775 35134 13526 98060 21125 32299 31821 53569 30817 10219 70250 56209 19281 41416 50165 30684 16851 71174 37494 32826 52678 46243 95973 51466 30591 1283 60759 26119 14561 49639 14693 57942 74728 77986 67387 73980 33794 21169 94308 13535 57336 77665 76237 26633 55123 84724 61795 50799 55130 46403 77064 3722 2943 83713 5180 31675 89814 48553 15581 18386 58474 61670 94741 65667 56691 58050 96910 81112 31084 26768 49181 44360 49573 38162 31258 95180 33203 83514 90651 17289 5019 73422 88007 23601 2671 41554 87019 77093 1470 88583 8841 84657 6010 31424 65927 10808 1713 97054 20585 34858 76380 30146 80525 32298 43056 79873 13677 47435 99707 54131 21311 5899 30165 41150 28736 78279 15171 91568 31235 42511 11095 36422 714 45729 68643 55404 77010 37352 14947 34410 87253 2023 99674 21840 63256 50010 78920 37483 13740 86182 36207 12335 86255 69645 1389 85623 34629 35540 97000 67341 37753 10438 88143 49022 21675 7974 25640 52450 37259 51969 57779 28828 89784 39197 84369 74567 70392 27302 82628 46481 78912 53537 20334 29517 20199 37447 43714 82529 68375 23352 16781 91174 3473 38759 22646 10011 29909 12330 43860 27145 38211 4371 96114 84483 23574 89416 70438 67457 34240 96515 87507 15103 50109 18034 37018 94027 82945 85596 22123 27691 11072 36388 30043 55477 36964 29155 44842 89150 4486 69248 48490 98392 50943 4550 77781 66886 81600 41604 53084 40070 88930 60544 73949 33311 30471 66913 15782 78285 76930 72520 37042 68986 43837 94224 46063 85472 72001 92578 84779 72870 66604 3226 23363 25664 59154 81211 14548 82424 10939 47442 51254 56050 95197 77959 23304 8462 89748 98052 94722 55421 90535 26127 16193 15750 76569 6362 12238 67951 34260 38716 26820 48149 98374 36872 27130 17109 65400 94303 26866 34845 88110 94988 96683 63618 23963 9994 20656 54965 53822 94836 28168 6477 93138 73931 29234 87728 67240 52419 64152 41700 721 32516 56375 25567 71196 16585 36696 76479 13480 24419 36434 71672 33742 73445 61854 56844 53164 48181 23848 95085 66647 28945 99487 6971 35820 77999 24366 83595 60755 78496 44267 97352 8016 43857 89120 13576 73019 46834 13282 69406 76455 39531 2963 45758 42325 6010 32380 52541 17340 96073 91868 40931 43220 43681 11625 99374 83824 45877 34162 27499 19445 76280 66428 48016 14662 1681 43725 95891 40204 64845 47840 6416 75532 12342 55280 98806 28520 86284 57025 15664 20195 38125 26821 6954 35942 10786 55679 88640 77839 33797 64511 74958 89019 71955 17252 1004 71078 59048 7702 94236 71137 98008 81859 92890 95632 65782 86928 70030 19485 65253 74982 95361 56903 2476 41790 77964 55352 41374 31762 12290 56482 58584 43220 56178 50987 38724 47817 21042 45094 67390 98430 11533 28884 58759 23162 71657 49440 28925 4693 21136 24328 94257 9808 92577 45852 75930 2151 49505 57759 78168 87797 82824 35706 86404 12993 8938 41606 37152 51915 12097 4388 21510 71798 61425 84956 7638 73699 29255 89177 16400 71453 90108 79062 10561 44604 25540 61945 84835 65707 39679 94848 82746 88580 95163 42939 72722 71129 36800 93351 13066 34621 22886 23586 39954 11246 51623 83339 47847 88135 42996 5184 72033 96604 48362 84720 20388 21389 34906 46035 2665 4920 94465 3196 29137 20767 49061 39634 48028 44199 29097 32274 12110 91829 32788 92025 19474 96282 34088 40272 7778 66750 16996 45025 83489 3589 66008 45773 72467 74043 77751 46004 86743 40481 27323 51069 10215 19206 36450 79667 57211 83658 59228 78735 24408 44752 34321 33803 4365 27439 9012 95864 23583 63450 11932 20021 44815 10170 94900 86241 96663 33082 70515 25822 85348 51426 93063 70527 31342 3883 9497 3495 96230 19127 77857 16310 30724 32368 62646 16378 50298 57695 90448 21023 91959 5547 71630 58750 32224 98322 52304 17361 55421 1200 84993 37888 10372 33355 10461 59193 64165 87728 98676 39184 79931 65773 58268 76007 49713 29842 9767 10021 50290 94426 7856 71069 95504 91908 3412 48516 91025 41357 59057 5349 62818 45034 15298 20004 97875 46490 25490 15783 95208 61362 46869 53645 41987 96858 85583 71207 14943 11977 91706 41540 7046 17197 27004 61897 49647 66239 83245 68753 46041 34322 76758 65595 32143 36923 44198 17143 90388 99829 20676 98555 2975 99141 12876 63617 75137 23903 66499 48565 22359 52964 27846 42921 24974 98425 38987 95924 77927 37264 18518 4709 58272 89422 84397 22040 21772 7116 39569 62032 35663 81633 86315 94020 14401 57097 85565 41264 42272 73643 13524 1556 15936 21353 51970 74909 58214 2817 28486 27908 68226 96761 26786 12991 8599 90118 74512 81723 69567 21050 5233 87266 35718 59743 37364 35688 6443 96488 47811 95945 36255 85715 76180 3852 11822 48624 44174 83234 545 36124 79133 81952 59399 10367 35724 41173 65965 59460 18738 52864 74156 20220 77784 5532 2182 93154 82136 30899 30657 11779 20502 45445 74189 59112 72748 39169 75772 75382 65380 52677 26163 27541 81791 87376 62546 40975 4353 41328 11095 88056 66021 48550 50049 11869 21732 35209 52470 64607 31285 11986 93640 6542 77841 17049 91603 37095 78304 19927 43910 36880 58369 77205 58205 67977 68879 93364 12358 35802 90268 44668 3503 36619 10964 79855 89493 50538 8750 50157 54636 27500 59749 73953 11760 9843 20259 98627 8950 78601 60936 77130 6688 48825 15946 70835 61600 87504 64249 91007 80368 47257 27273 94128 85001 86443 16747 55344 31330 18964 11641 20138 12512 10199 96447 36996 31841 31155 83663 80321 84856 92580 38764 66022 44830 12008 60387 65421 86313 21837 67073 51002 68046 69427 12254 99019 72758 86571 39963 68165 19777 36042 24189 48651 78247 1699 10011 70583 83282 60135 67535 44768 81973 74116 32111 21176 92956 82684 40121 7244 24466 91896 26306 7071 83476 89855 76901 98594 69221 12919 88446 71131 90522 74080 7277 49091 74612 26522 99356 57133 23312 45442 33372 92773 8037 2830 54337 37964 19249 59968 78659 52932 57978 61895 4406 52615 85621 73359 96664 78467 3456 3159 61691 76384 88061 21192 31571 6754 66293 7713 74860 53917 15917 74089 94417 82007 2600 81370 9502 42051 26197 54 75490 23717 73795 36581 53145 81594 59355 9899 66733 70159 85392 47845 85594 31047 2769 7809 81154 83826 79134 25761 97453 91087 31423 41468 42292 37745 43911 83645 20238 94043 8861 68668 20365 18282 36438 63231 31537 11506 83709 48569 58537 34074 141 55431 33652 43414 97246 483 59823 8422 4516 30307 26607 51951 94670 278 95417 48230 87851 81702 43732 63408 50884 82397 37076 38158 80890 5734 21712 28188 65118 48846 7900 7044 49899 31956 97047 70075 82348 89353 55822 68370 99590 72052 23036 83541 5565 9112 10135 22703 24274 68868 41813 93640 98765 30763 95298 71151 66416 23785 92895 64952 33325 62359 81647 84230 14163 2797 24321 15500 5378 44396 52547 27959 6027 12498 54060 85501 52590 55861 86023 26810 25248 81167 2184 34288 29902 7188 26365 259 12140 12384 44792 97795 49326 80617 96793 18843 87679 47442 51844 55797 61131 33945 97008 92433 73116 8928 96289 39569 52938 54555 83529 17004 70692 10103 56356 18768 48515 67098 90396 8204 93156 15376 11196 68935 18759 33949 84573 15934 93430 31352 71658 50124 74916 43918 92866 93975 66779 67560 6575 84036 23523 12070 99556 73084 4312 14498 4161 32455 89492 27427 65249 26614 34000 89005 54775 15282 18750 26159 11056 5553 40818 79956 86607 40675 50002 34664 39354 41957 67729 38601 36228 37831 25987 96623 66850 31847 85868 79806 55247 82795 90196 12632 7644 14648 79119 78278 27701 55037 27372 54045 28914 99063 66882 96018 77927 43135 11894 95424 68016 72522 99412 56436 93986 50271 89743 94768 36988 63401 35692 16157 17475 9370 11231 44413 97692 13103 57060 92127 79290 41626 56994 2637 8497 67335 46138 30900 62623 36329 59168 38478 55376 11015 1305 73712 77036 72827 88068 96784 5662 63256 61103 78741 47518 85964 53335 40062 63396 82139 94070 72478 93895 79380 12673 66730 21929 26310 74983 30147 50684 273 94126 97034 9491 36082 49630 37437 7718 88957 48078 76736 88348 17976 54328 4970 43163 45742 35204 35351 91551 6124 67178 24716 17285 60265 24938 23780 60055 50738 83812 2403 42841 40128 85074 88427 33527 44385 41547 50313 53409 85647 8128 74427 75864 42837 80339 43755 96377 40343 20319 84881 22778 14127 14218 64683 80165 47769 79428 63211 55466 44006 72059 78664 4665 10359 59943 16756 44644 20458 70070 46509 59710 88534 87105 13153 80444 66747 69879 53832 14466 6798 43829 46245 58710 19380 24639 66733 39264 43283 41566 35106 30387 2879 82930 38511 72038 84050 73115 75029 63880 85012 36944 7846 18360 60276 44372 23370 46900 35190 95352 28545 60567 8432 97358 56250 81698 85125 10335 72282 97523 90472 51939 21597 83385 25271 68248 8791 82485 89164 95215 56550 46657 36404 35773 15051 72789 5083 59111 80195 38090 78967 91950 77402 43674 11220 75062 59935 66881 82180 2184 220 44778 53053 1920 6708 93213 78174 50604 69152 37538 34174 75321 52740 28455 23803 96360 68638 37458 49366 88209 93339 3273 15711 63138 52419 93169 89108 12599 62628 64408 44625 6514 55202 5857 1716 88630 82526 65319 5585 52404 3552 96473 79771 15107 77399 38599 72213 52512 53927 74044 16938 18707 40121 45472 81515 12100 58725 99857 47152 13177 45151 61848 92998 16782 6203 13255 14617 83157 7392 79743 32779 72374 30295 89061 77386 99001 509 72929 25787 60786 25810 73685 65288 27023 81071 51613 32344 10971 42312 16378 25821 48428 83799 91649 11161'\n",
    "array = list(map(int, this.strip().split(' ')))\n",
    "## or\n",
    "## array = [64630, 11735, 14216, 99233, 14470, 4978, 73429, 38120, 51135, 67060]\n",
    "\n",
    "## mean\n",
    "print (np.round( np.mean(array) , decimals=1))\n",
    "\n",
    "## median\n",
    "print (np.round( np.median(array) , decimals=1))\n",
    "\n",
    "## mode\n",
    "##value, occurrence = Counter(array).most_common(1)[0]\n",
    "\n",
    "dict_array = Counter(array)\n",
    "\n",
    "max_occurence_list = []\n",
    "for each_element, n_of_occurrence in dict_array.items():\n",
    "    if n_of_occurrence == max(dict_array.values()):\n",
    "        max_occurence_list.append(each_element)\n",
    "    \n",
    "print (min(max_occurence_list))\n"
   ]
  },
  {
   "cell_type": "code",
   "execution_count": null,
   "metadata": {
    "collapsed": true
   },
   "outputs": [],
   "source": []
  },
  {
   "cell_type": "markdown",
   "metadata": {},
   "source": [
    "### Check steps ###"
   ]
  },
  {
   "cell_type": "code",
   "execution_count": 58,
   "metadata": {},
   "outputs": [
    {
     "name": "stdout",
     "output_type": "stream",
     "text": [
      "YES\n"
     ]
    }
   ],
   "source": [
    "#!/bin/python3\n",
    "\n",
    "import sys\n",
    "\n",
    "def kangaroo(x1, v1, x2, v2):\n",
    "    # Complete this function    \n",
    "    return ('YES' if v1 > v2 and (x2-x1) % (v1-v2) == 0 else 'NO')\n",
    "    \n",
    "# x1, v1, x2, v2 = input().strip().split(' ')\n",
    "# x1, v1, x2, v2 = [int(x1), int(v1), int(x2), int(v2)]\n",
    "\n",
    "x1, v1, x2, v2 = 0, 9, 3, 8\n",
    "\n",
    "result = kangaroo(x1, v1, x2, v2)\n",
    "print(result)"
   ]
  },
  {
   "cell_type": "markdown",
   "metadata": {},
   "source": [
    "### Find corresponding distance ###"
   ]
  },
  {
   "cell_type": "code",
   "execution_count": 57,
   "metadata": {},
   "outputs": [
    {
     "name": "stdout",
     "output_type": "stream",
     "text": [
      "1\n",
      "1\n"
     ]
    }
   ],
   "source": [
    "## optimal pythonic way!!\n",
    "s, t = 7, 11\n",
    "a, b = 5, 15\n",
    "m, n = 3, 2\n",
    "apple = [-2, 2, 1]\n",
    "orange = [5, -6]\n",
    "\n",
    "print(sum([1 for x in apple if (x + a) >= s and (x + a) <= t]))\n",
    "print(sum([1 for x in orange if (x + b) >= s and (x + b) <= t]))"
   ]
  },
  {
   "cell_type": "code",
   "execution_count": null,
   "metadata": {
    "collapsed": true
   },
   "outputs": [],
   "source": []
  },
  {
   "cell_type": "code",
   "execution_count": 54,
   "metadata": {},
   "outputs": [
    {
     "name": "stdout",
     "output_type": "stream",
     "text": [
      "1\n",
      "1\n"
     ]
    }
   ],
   "source": [
    "#!/bin/python3\n",
    "\n",
    "import sys\n",
    "\n",
    "# s,t = input().strip().split(' ')\n",
    "# s,t = [int(s),int(t)]\n",
    "# a,b = input().strip().split(' ')\n",
    "# a,b = [int(a),int(b)]\n",
    "# m,n = input().strip().split(' ')\n",
    "# m,n = [int(m),int(n)]\n",
    "# apple = [int(apple_temp) for apple_temp in input().strip().split(' ')]\n",
    "# orange = [int(orange_temp) for orange_temp in input().strip().split(' ')]\n",
    "\n",
    "s, t = 7, 11\n",
    "a, b = 5, 15\n",
    "m, n = 3, 2\n",
    "apple = [-2, 2, 1]\n",
    "orange = [5, -6]\n",
    "\n",
    "n_of_apple = 0\n",
    "n_of_orange = 0\n",
    "for i in apple:\n",
    "    if i >= s-a and i <= t-a:\n",
    "        n_of_apple += 1\n",
    "\n",
    "for j in orange:\n",
    "    if -j >= b-t and -j <= b-s:\n",
    "        n_of_orange += 1\n",
    "\n",
    "print (n_of_apple)\n",
    "print (n_of_orange)"
   ]
  },
  {
   "cell_type": "code",
   "execution_count": null,
   "metadata": {
    "collapsed": true
   },
   "outputs": [],
   "source": []
  },
  {
   "cell_type": "markdown",
   "metadata": {},
   "source": [
    "### curve your grade ###"
   ]
  },
  {
   "cell_type": "code",
   "execution_count": 51,
   "metadata": {},
   "outputs": [
    {
     "name": "stdout",
     "output_type": "stream",
     "text": [
      "[23, 68, 87, 34, 40, 39]\n",
      "[23, 70, 87, 34, 40, 40]\n"
     ]
    }
   ],
   "source": [
    "grades = [23, 68, 87, 34, 40, 39]    \n",
    "\n",
    "#grades = [int(input()) for __ in range(int(input()))]\n",
    "\n",
    "curved = [(g+5 - g%5 if g%5 > 2 and g>37 else g) for g in grades]\n",
    "\n",
    "print (grades)\n",
    "print (curved)"
   ]
  },
  {
   "cell_type": "code",
   "execution_count": null,
   "metadata": {
    "collapsed": true
   },
   "outputs": [],
   "source": []
  },
  {
   "cell_type": "code",
   "execution_count": 46,
   "metadata": {},
   "outputs": [
    {
     "name": "stdout",
     "output_type": "stream",
     "text": [
      "23\n",
      "70\n",
      "87\n",
      "34\n",
      "40\n",
      "40\n"
     ]
    }
   ],
   "source": [
    "#!/bin/python3\n",
    "\n",
    "import sys\n",
    "\n",
    "def solve(grades):\n",
    "    # Complete this function\n",
    "    final = []\n",
    "    for i, value in enumerate(grades):\n",
    "        if value < 38:\n",
    "            final.append(value)\n",
    "        else:\n",
    "            final.append(((value // 5) + 1)*5 if value%5 >= 3 else value)\n",
    "    return final\n",
    "\n",
    "# n = int(input().strip())\n",
    "# grades = []\n",
    "# grades_i = 0\n",
    "# for grades_i in range(n):\n",
    "#    grades_t = int(input().strip())\n",
    "#    grades.append(grades_t)\n",
    "    \n",
    "grades = [23, 68, 87, 34, 40, 39]    \n",
    "    \n",
    "result = solve(grades)\n",
    "print (\"\\n\".join(map(str, result)))"
   ]
  },
  {
   "cell_type": "code",
   "execution_count": 48,
   "metadata": {},
   "outputs": [
    {
     "name": "stdout",
     "output_type": "stream",
     "text": [
      "23\n",
      "70\n",
      "87\n",
      "34\n",
      "40\n",
      "40\n"
     ]
    }
   ],
   "source": [
    "## in-place update\n",
    "#!/bin/python3\n",
    "\n",
    "import sys\n",
    "\n",
    "def solve(grades):\n",
    "    # Complete this function\n",
    "    for i, value in enumerate(grades):\n",
    "        if value < 38:\n",
    "            grades[i] = value\n",
    "        else:\n",
    "            grades[i] = ((value // 5) + 1)*5 if value%5 >= 3 else value\n",
    "    return grades\n",
    "    \n",
    "grades = [23, 68, 87, 34, 40, 39]    \n",
    "    \n",
    "result = solve(grades)\n",
    "print (\"\\n\".join(map(str, result)))"
   ]
  },
  {
   "cell_type": "code",
   "execution_count": null,
   "metadata": {
    "collapsed": true
   },
   "outputs": [],
   "source": []
  },
  {
   "cell_type": "markdown",
   "metadata": {},
   "source": [
    "### AM, PM to 24hr-format ###"
   ]
  },
  {
   "cell_type": "code",
   "execution_count": 228,
   "metadata": {},
   "outputs": [
    {
     "name": "stdout",
     "output_type": "stream",
     "text": [
      "19:02:03\n"
     ]
    }
   ],
   "source": [
    "# https://docs.python.org/3/library/datetime.html#strftime-strptime-behavior\n",
    "\n",
    "import sys\n",
    "from time import strptime, strftime\n",
    "\n",
    "#s = input().strip()\n",
    "\n",
    "s = '07:02:03PM'\n",
    "\n",
    "print (strftime(\"%H:%M:%S\", strptime(s, \"%I:%M:%S%p\")))"
   ]
  },
  {
   "cell_type": "code",
   "execution_count": null,
   "metadata": {
    "collapsed": true
   },
   "outputs": [],
   "source": []
  },
  {
   "cell_type": "code",
   "execution_count": 41,
   "metadata": {},
   "outputs": [
    {
     "name": "stdout",
     "output_type": "stream",
     "text": [
      "01:15:45PM\n",
      "13:15:45\n"
     ]
    }
   ],
   "source": [
    "s = '01:15:45PM'\n",
    "#print (s[:2])\n",
    "print (s)\n",
    "hour_in_24 = int(s[:2]) if s[-2] == 'A' else int(s[:2])+12 \n",
    "print (str(hour_in_24).rjust(2,'0') + str(s[2:8]))\n"
   ]
  },
  {
   "cell_type": "markdown",
   "metadata": {},
   "source": [
    "### find value and its most occurrence ###"
   ]
  },
  {
   "cell_type": "code",
   "execution_count": 20,
   "metadata": {},
   "outputs": [
    {
     "name": "stdout",
     "output_type": "stream",
     "text": [
      "3\n"
     ]
    }
   ],
   "source": [
    "#!/bin/python3\n",
    "import sys\n",
    "from collections import Counter\n",
    "\n",
    "def birthdayCakeCandles(n, ar):\n",
    "    # Complete this function\n",
    "    most_common,num_most_common = Counter(ar).most_common(1)[0]\n",
    "    #print (Counter(ar).most_common(1))\n",
    "    #print (Counter(ar).most_common(1)[0])\n",
    "    #print (most_common,num_most_common)\n",
    "    return num_most_common\n",
    "\n",
    "#n = int(input().strip())\n",
    "#ar = list(map(int, input().strip().split(' ')))\n",
    "\n",
    "ar = [1,2,3,4,5,5,4,3,4,2,1]\n",
    "n = len(ar)\n",
    "\n",
    "result = birthdayCakeCandles(n, ar)\n",
    "print(result)"
   ]
  },
  {
   "cell_type": "code",
   "execution_count": null,
   "metadata": {
    "collapsed": true
   },
   "outputs": [],
   "source": []
  },
  {
   "cell_type": "markdown",
   "metadata": {},
   "source": [
    "##### find max, min, and sum ###"
   ]
  },
  {
   "cell_type": "code",
   "execution_count": null,
   "metadata": {
    "collapsed": true
   },
   "outputs": [],
   "source": [
    "#!/bin/python3\n",
    "\n",
    "import sys\n",
    "\n",
    "arr = list(map(int, input().strip().split(' ')))\n",
    "\n",
    "min_v = arr[0]\n",
    "max_v = arr[0]\n",
    "total_sum = 0\n",
    "for index, value in enumerate(arr):\n",
    "    total_sum += value\n",
    "    if value > max_v:\n",
    "        max_v = value\n",
    "    elif value < min_v:\n",
    "        min_v = value\n",
    "\n",
    "print (total_sum-max_v, total_sum-min_v)"
   ]
  },
  {
   "cell_type": "code",
   "execution_count": null,
   "metadata": {
    "collapsed": true
   },
   "outputs": [],
   "source": []
  },
  {
   "cell_type": "markdown",
   "metadata": {},
   "source": [
    "### print '*'(or space) and '#' ###"
   ]
  },
  {
   "cell_type": "code",
   "execution_count": 6,
   "metadata": {},
   "outputs": [
    {
     "name": "stdout",
     "output_type": "stream",
     "text": [
      "5\n",
      "****#\n",
      "***##\n",
      "**###\n",
      "*####\n",
      "#####\n"
     ]
    }
   ],
   "source": [
    "## use right adjust\n",
    "n = int(input())\n",
    "for i in range(1,n+1):\n",
    "    print(('#'*i).rjust(n,'*'))"
   ]
  },
  {
   "cell_type": "code",
   "execution_count": null,
   "metadata": {
    "collapsed": true
   },
   "outputs": [],
   "source": []
  },
  {
   "cell_type": "markdown",
   "metadata": {},
   "source": [
    "### find ratio of pos, neg, zero ###"
   ]
  },
  {
   "cell_type": "code",
   "execution_count": 3,
   "metadata": {},
   "outputs": [
    {
     "name": "stdout",
     "output_type": "stream",
     "text": [
      "[1, 4, -3, 0, 6, -3, -2, 0, 7]\n",
      "9\n",
      "[1, 1, -1, 1, -1, -1, 1]\n",
      "7\n",
      "0.444444\n",
      "0.333333\n",
      "0.222222\n"
     ]
    }
   ],
   "source": [
    "arr = [1, 4, -3, 0, 6, -3, -2, 0, 7]\n",
    "print (arr)\n",
    "print (len(arr))\n",
    "\n",
    "l = [1 if x > 0 else -1 for x in arr if x != 0]\n",
    "print (l)\n",
    "print (len(l))\n",
    "print(\"%.6f\" % float(l.count(1)/n))\n",
    "print(\"%.6f\" % float(l.count(-1)/n))\n",
    "print(\"%.6f\" % float((n-len(l)) /n)) ## or print(\"%.6f\" % float(abs(len(l)-n) /n))"
   ]
  }
 ],
 "metadata": {
  "kernelspec": {
   "display_name": "Python 3",
   "language": "python",
   "name": "python3"
  },
  "language_info": {
   "codemirror_mode": {
    "name": "ipython",
    "version": 3
   },
   "file_extension": ".py",
   "mimetype": "text/x-python",
   "name": "python",
   "nbconvert_exporter": "python",
   "pygments_lexer": "ipython3",
   "version": "3.6.0"
  }
 },
 "nbformat": 4,
 "nbformat_minor": 2
}
