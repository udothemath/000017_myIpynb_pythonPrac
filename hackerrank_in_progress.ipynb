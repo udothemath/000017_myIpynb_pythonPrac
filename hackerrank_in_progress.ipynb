{
 "cells": [
  {
   "cell_type": "markdown",
   "metadata": {},
   "source": [
    "## 09/20/17 ##"
   ]
  },
  {
   "cell_type": "code",
   "execution_count": null,
   "metadata": {
    "collapsed": true
   },
   "outputs": [],
   "source": []
  },
  {
   "cell_type": "code",
   "execution_count": null,
   "metadata": {
    "collapsed": true
   },
   "outputs": [],
   "source": []
  },
  {
   "cell_type": "code",
   "execution_count": null,
   "metadata": {
    "collapsed": true
   },
   "outputs": [],
   "source": []
  },
  {
   "cell_type": "code",
   "execution_count": 14,
   "metadata": {},
   "outputs": [
    {
     "name": "stdout",
     "output_type": "stream",
     "text": [
      "-1\n",
      "Same as in-store\n",
      "lower\n"
     ]
    }
   ],
   "source": [
    "notes = [\"20.00% lower than in-store\", \n",
    "         \"10.00% higher than in-store\",\n",
    "         \"Same as in-store\"]\n",
    "\n",
    "\n",
    "\n",
    "per = -1 if notes[0].strip().split(' ')[1] == 'lower' elif \n",
    "\n",
    "print(per)\n",
    "print(notes[2].partition(\"%\")[0])\n",
    "\n",
    "print(notes[0].strip().split(' ')[1])\n",
    "\n",
    "\n",
    "#print(len(notes[0].partition(\"%\")[0]))\n",
    "#print(len(notes[2].partition(\"%\")[0]))"
   ]
  },
  {
   "cell_type": "code",
   "execution_count": null,
   "metadata": {
    "collapsed": true
   },
   "outputs": [],
   "source": []
  },
  {
   "cell_type": "code",
   "execution_count": 2,
   "metadata": {},
   "outputs": [
    {
     "name": "stdout",
     "output_type": "stream",
     "text": [
      "[300, 40, 5]\n",
      "300\n",
      "[600, 40, 10]\n",
      "600\n"
     ]
    }
   ],
   "source": [
    "shoppers = [[300, 40, 5], [600, 40, 10]]\n",
    "for i in shoppers:\n",
    "    print(i)\n",
    "    print(i[0])"
   ]
  },
  {
   "cell_type": "code",
   "execution_count": null,
   "metadata": {
    "collapsed": true
   },
   "outputs": [],
   "source": []
  },
  {
   "cell_type": "markdown",
   "metadata": {},
   "source": [
    "## 09/18/17 ##"
   ]
  },
  {
   "cell_type": "markdown",
   "metadata": {},
   "source": [
    "### Remove k from list ###"
   ]
  },
  {
   "cell_type": "code",
   "execution_count": null,
   "metadata": {
    "collapsed": true
   },
   "outputs": [],
   "source": [
    "## snippet\n",
    "\n",
    "def removeKFromList(l, k):\n",
    "    m=l\n",
    "    while m:\n",
    "        if m.next and m.next.value==k:\n",
    "            m.next=m.next.next\n",
    "        else:\n",
    "            m=m.next\n",
    "    if l and l.value==k:\n",
    "        return l.next\n",
    "    return l"
   ]
  },
  {
   "cell_type": "code",
   "execution_count": null,
   "metadata": {
    "collapsed": true
   },
   "outputs": [],
   "source": []
  },
  {
   "cell_type": "code",
   "execution_count": 6,
   "metadata": {},
   "outputs": [
    {
     "name": "stdout",
     "output_type": "stream",
     "text": [
      "2\n",
      "3\n"
     ]
    }
   ],
   "source": [
    "##Definition for singly-linked list:\n",
    "class ListNode(object):\n",
    "    def __init__(self, x):\n",
    "        self.value = x\n",
    "        self.next = None\n",
    "    def __str__(self):\n",
    "        return str(self.value)\n",
    "\n",
    "#def removeKFromList(l, k):\n",
    "    \n",
    "node1 = ListNode(1)\n",
    "node2 = ListNode(2)\n",
    "node3 = ListNode(3)\n",
    "\n",
    "node1.next = node2\n",
    "node2.next = node3\n",
    "\n",
    "def printList(node):\n",
    "    while node:\n",
    "        print (node)\n",
    "        node = node.next\n",
    "\n",
    "printList(node2)"
   ]
  },
  {
   "cell_type": "code",
   "execution_count": null,
   "metadata": {
    "collapsed": true
   },
   "outputs": [],
   "source": []
  },
  {
   "cell_type": "markdown",
   "metadata": {},
   "source": [
    "## 09/17/17 ##"
   ]
  },
  {
   "cell_type": "markdown",
   "metadata": {},
   "source": [
    "## cryptarithm ##  \n",
    "translate from one type to another from a table using ord()"
   ]
  },
  {
   "cell_type": "code",
   "execution_count": 207,
   "metadata": {},
   "outputs": [
    {
     "name": "stdout",
     "output_type": "stream",
     "text": [
      "{79: '0', 77: '1', 89: '2', 69: '5', 78: '6', 68: '7', 82: '8', 83: '9'}\n",
      "['9567', '1085', '10652']\n"
     ]
    },
    {
     "data": {
      "text/plain": [
       "True"
      ]
     },
     "execution_count": 207,
     "metadata": {},
     "output_type": "execute_result"
    }
   ],
   "source": [
    "crypt = [\"SEND\", \"MORE\", \"MONEY\"]\n",
    "solution = [['O', '0'],\n",
    "            ['M', '1'],\n",
    "            ['Y', '2'],\n",
    "            ['E', '5'],\n",
    "            ['N', '6'],\n",
    "            ['D', '7'],\n",
    "            ['R', '8'],\n",
    "            ['S', '9']]\n",
    "\n",
    "def isCryptSolution(crypt, solution):\n",
    "    dic = {ord(c): d for c, d in solution}\n",
    "    #dic = {c: d for c, d in solution}\n",
    "    print (dic)\n",
    "    \n",
    "    *v, = map(lambda x: x.translate(dic), crypt)\n",
    "    print(v)\n",
    "    return not any(x != \"0\" and x.startswith(\"0\") for x in v) and \\\n",
    "        int(v[0]) + int(v[1]) == int(v[2])\n",
    "\n",
    "isCryptSolution(crypt, solution)\n"
   ]
  },
  {
   "cell_type": "code",
   "execution_count": null,
   "metadata": {
    "collapsed": true
   },
   "outputs": [],
   "source": []
  },
  {
   "cell_type": "code",
   "execution_count": 194,
   "metadata": {},
   "outputs": [
    {
     "name": "stdout",
     "output_type": "stream",
     "text": [
      "{'O': '0', 'M': '1', 'Y': '2', 'E': '5', 'N': '6', 'D': '7', 'R': '8', 'S': '9'}\n"
     ]
    },
    {
     "data": {
      "text/plain": [
       "True"
      ]
     },
     "execution_count": 194,
     "metadata": {},
     "output_type": "execute_result"
    }
   ],
   "source": [
    "crypt = [\"SEND\", \"MORE\", \"MONEY\"]\n",
    "solution = [['O', '0'],\n",
    "            ['M', '1'],\n",
    "            ['Y', '2'],\n",
    "            ['E', '5'],\n",
    "            ['N', '6'],\n",
    "            ['D', '7'],\n",
    "            ['R', '8'],\n",
    "            ['S', '9']]\n",
    "\n",
    "def isCryptSolution(crypt, solution):\n",
    "    my_dict = {}\n",
    "    zero_letter = ''\n",
    "    for i in solution:\n",
    "        my_dict[i[0]] = i[1]\n",
    "        if i[1] == '0':\n",
    "            zero_letter = i[0]\n",
    "    print (my_dict)\n",
    "\n",
    "    list_element = [''] * 3\n",
    "    #list_element = [my_dict[x] if x != zero_letter else return False for x in list(zip(*crypt))[0]]\n",
    "\n",
    "    ## check first three leading digit\n",
    "    for index in range(3):\n",
    "        list_element[index] = my_dict[crypt[index][0]]\n",
    "        if list_element[index] == '0' and len(crypt[index]) > 1:\n",
    "            \n",
    "            return False\n",
    "\n",
    "    for index in range(3):\n",
    "        list_element[index] += ''.join([my_dict[i] for i in crypt[index][1:]])\n",
    "        #print(list_element[index])\n",
    "    if int(list_element[0]) + int(list_element[1]) == int(list_element[2]):\n",
    "        #print(\"Good job!\")\n",
    "        return True\n",
    "    else:\n",
    "        return False\n",
    "\n",
    "        \n",
    "isCryptSolution(crypt, solution)\n"
   ]
  },
  {
   "cell_type": "code",
   "execution_count": null,
   "metadata": {
    "collapsed": true
   },
   "outputs": [],
   "source": []
  },
  {
   "cell_type": "markdown",
   "metadata": {},
   "source": [
    "## Sudoku2  find pattern ##"
   ]
  },
  {
   "cell_type": "code",
   "execution_count": 97,
   "metadata": {},
   "outputs": [
    {
     "data": {
      "text/plain": [
       "True"
      ]
     },
     "execution_count": 97,
     "metadata": {},
     "output_type": "execute_result"
    }
   ],
   "source": [
    "grid = [['.', '.', '.', '1', '4', '.', '.', '2', '.'],\n",
    "        ['.', '.', '6', '.', '.', '.', '.', '.', '.'],\n",
    "        ['.', '.', '.', '.', '.', '.', '.', '.', '.'],\n",
    "        ['.', '.', '1', '.', '.', '.', '.', '.', '.'],\n",
    "        ['.', '6', '7', '.', '.', '.', '.', '.', '9'],\n",
    "        ['.', '.', '.', '.', '.', '.', '8', '1', '.'],\n",
    "        ['.', '3', '.', '.', '.', '.', '.', '.', '6'],\n",
    "        ['.', '.', '.', '.', '.', '7', '.', '.', '.'],\n",
    "        ['.', '.', '.', '5', '.', '.', '.', '7', '.']]\n",
    "\n",
    "\n",
    "def check_unique(nums):\n",
    "    s = set()\n",
    "    for num in nums:\n",
    "        if num == '.':\n",
    "            continue \n",
    "            \n",
    "        if num in s:\n",
    "            return False\n",
    "        s.add(num)\n",
    "    return True\n",
    "        \n",
    "\n",
    "def sudoku2(grid):\n",
    "    for line in grid:\n",
    "        if not check_unique(line):\n",
    "            return False\n",
    "    \n",
    "    for i in range(9):\n",
    "        if not check_unique([line[i] for line in grid]):\n",
    "            return False\n",
    "        \n",
    "    for i in range(0,9,3):\n",
    "        for j in range(0, 9, 3):\n",
    "            if not check_unique(grid[i][j:j+3] + grid[i+1][j:j+3] + grid[i+2][j:j+3]):\n",
    "                return False\n",
    "            \n",
    "    return True\n",
    "\n",
    "sudoku2(grid)"
   ]
  },
  {
   "cell_type": "code",
   "execution_count": 96,
   "metadata": {},
   "outputs": [
    {
     "data": {
      "text/plain": [
       "True"
      ]
     },
     "execution_count": 96,
     "metadata": {},
     "output_type": "execute_result"
    }
   ],
   "source": [
    "import itertools\n",
    "\n",
    "grid = [['.', '.', '.', '1', '4', '.', '.', '2', '.'],\n",
    "        ['.', '.', '6', '.', '.', '.', '.', '.', '.'],\n",
    "        ['.', '.', '.', '.', '.', '.', '.', '.', '.'],\n",
    "        ['.', '.', '1', '.', '.', '.', '.', '.', '.'],\n",
    "        ['.', '6', '7', '.', '.', '.', '.', '.', '9'],\n",
    "        ['.', '.', '.', '.', '.', '.', '8', '1', '.'],\n",
    "        ['.', '3', '.', '.', '.', '.', '.', '.', '6'],\n",
    "        ['.', '.', '.', '.', '.', '7', '.', '.', '.'],\n",
    "        ['.', '.', '.', '5', '.', '.', '.', '7', '.']]\n",
    "\n",
    "def isthereDuplicate(a):\n",
    "    aset = set()\n",
    "    for value in a:\n",
    "        if value in aset:\n",
    "            return True\n",
    "        else:\n",
    "            aset.add(value)\n",
    "    return False\n",
    "\n",
    "\n",
    "x_index = [0, 3 ,6]\n",
    "y_index = [0, 3, 6]\n",
    "\n",
    "xy_index = list(itertools.product(x_index, y_index))\n",
    "\n",
    "def sudoku2(grid):\n",
    "    \n",
    "    ## check column and row\n",
    "    for i in range(9):\n",
    "        row_isdigit =[x for x in list(itertools.chain.from_iterable(grid[i])) if x.isdigit()]\n",
    "        column_isdigit=[k for k in list(itertools.chain.from_iterable((list(zip(*grid))[i]))) if k.isdigit()]\n",
    "        if isthereDuplicate(row_isdigit) or isthereDuplicate(column_isdigit):\n",
    "            #print(\"there is duplicate!\")  \n",
    "            return False\n",
    "    ## check block\n",
    "    for this_xy in xy_index:\n",
    "        this_x, this_y = this_xy\n",
    "        my_block =[grid[curr_x][this_y:this_y+3] for curr_x in range(this_x, this_x+3) ]\n",
    "        block_isdigit =[x for x in list(itertools.chain.from_iterable(my_block)) if x.isdigit()]\n",
    "        if isthereDuplicate(block_isdigit):\n",
    "            #print(\"there is duplicate!\")\n",
    "            return False\n",
    "    return True\n",
    "\n",
    "\n",
    "sudoku2(grid)\n"
   ]
  },
  {
   "cell_type": "code",
   "execution_count": null,
   "metadata": {
    "collapsed": true
   },
   "outputs": [],
   "source": []
  },
  {
   "cell_type": "markdown",
   "metadata": {},
   "source": [
    "## 09/16/17 ##"
   ]
  },
  {
   "cell_type": "markdown",
   "metadata": {},
   "source": [
    "### Rotate Image ###  \n",
    "https://stackoverflow.com/questions/39348600/convert-all-rows-to-columns-and-columns-to-rows-in-arrays"
   ]
  },
  {
   "cell_type": "code",
   "execution_count": 26,
   "metadata": {},
   "outputs": [
    {
     "name": "stdout",
     "output_type": "stream",
     "text": [
      "[[7, 4, 1], [8, 5, 2], [9, 6, 3]]\n"
     ]
    },
    {
     "data": {
      "text/plain": [
       "[[7, 4, 1], [8, 5, 2], [9, 6, 3]]"
      ]
     },
     "execution_count": 26,
     "metadata": {},
     "output_type": "execute_result"
    }
   ],
   "source": [
    "a = [[1, 2, 3],\n",
    "     [4, 5, 6],\n",
    "     [7, 8, 9]]\n",
    "\n",
    "def rotateImage(arr):\n",
    "    new_arr = list( list(i) for i in zip(*arr[::-1])  )\n",
    "    return new_arr\n",
    "\n",
    "rotateImage(a)"
   ]
  },
  {
   "cell_type": "code",
   "execution_count": null,
   "metadata": {
    "collapsed": true
   },
   "outputs": [],
   "source": []
  },
  {
   "cell_type": "markdown",
   "metadata": {},
   "source": [
    "### first not repeating character ###"
   ]
  },
  {
   "cell_type": "code",
   "execution_count": 3,
   "metadata": {},
   "outputs": [
    {
     "data": {
      "text/plain": [
       "'x'"
      ]
     },
     "execution_count": 3,
     "metadata": {},
     "output_type": "execute_result"
    }
   ],
   "source": [
    "# my_dict = {\"a\": 2,\n",
    "#            \"b\": 3,\n",
    "#            \"c\": 1}\n",
    "\n",
    "\n",
    "my_string = 'aazxcbez'\n",
    "\n",
    "def my_firstNotRepeatingCharacter(s):\n",
    "    my_dict = {}\n",
    "    save_repeated = []\n",
    "    for letter in s:\n",
    "        if letter in my_dict:\n",
    "            my_dict[letter] += 1\n",
    "            try:\n",
    "                save_repeated.remove(letter)\n",
    "            except ValueError:\n",
    "                pass\n",
    "        else:\n",
    "            my_dict[letter] = 1\n",
    "            save_repeated.append(letter)\n",
    "    return (save_repeated[0] if save_repeated else '_')\n",
    "\n",
    "def firstNotRepeatingCharacter(s):\n",
    "    chk = []\n",
    "    for i in range(len(s)): \n",
    "        if s[i] not in s[i+1:] and s[i] not in chk:\n",
    "            return s[i]\n",
    "        chk.append(s[i])\n",
    "    return '_'\n",
    "            \n",
    "\n",
    "firstNotRepeatingCharacter(my_string)\n"
   ]
  },
  {
   "cell_type": "code",
   "execution_count": null,
   "metadata": {
    "collapsed": true
   },
   "outputs": [],
   "source": []
  },
  {
   "cell_type": "markdown",
   "metadata": {},
   "source": [
    "## first duplicate ##"
   ]
  },
  {
   "cell_type": "code",
   "execution_count": 62,
   "metadata": {},
   "outputs": [
    {
     "data": {
      "text/plain": [
       "3"
      ]
     },
     "execution_count": 62,
     "metadata": {},
     "output_type": "execute_result"
    }
   ],
   "source": [
    "def firstDuplicate(a):\n",
    "    aset = set()\n",
    "    for value in a:\n",
    "        if value in aset:\n",
    "            return value\n",
    "        else:\n",
    "            aset.add(value)\n",
    "    return (-1)\n",
    "\n",
    "firstDuplicate([3,5,7,8,3,7,1])\n"
   ]
  },
  {
   "cell_type": "code",
   "execution_count": null,
   "metadata": {
    "collapsed": true
   },
   "outputs": [],
   "source": []
  },
  {
   "cell_type": "markdown",
   "metadata": {},
   "source": [
    "### RegEx ###"
   ]
  },
  {
   "cell_type": "code",
   "execution_count": null,
   "metadata": {
    "collapsed": true
   },
   "outputs": [],
   "source": [
    "import re\n",
    "#N = int(input().strip())\n",
    "N = 4\n",
    "\n",
    "my_test = [[\"julia\", \"julia@julia.me\"],\n",
    "           [\"julia\", \"sjulia@gmail.com\"],\n",
    "           [\"julia\", \"julia@gmail.com\"],\n",
    "           [\"samantha\", \"samantha@gmail.com\"]]\n",
    "\n",
    "lst=[]\n",
    "for a0 in range(N):\n",
    "    ##firstName,emailID = input().strip().split(' ')\n",
    "    firstName,emailID = my_test[a0]  # [str(firstName),str(emailID)]\n",
    "    #print (firstName, emailID)\n",
    "    #print(firstName,emailID)\n",
    "    if re.search('@gmail\\.com$',emailID):\n",
    "        lst.append(firstName)\n",
    "print(*sorted(lst),sep='\\n')"
   ]
  },
  {
   "cell_type": "code",
   "execution_count": null,
   "metadata": {
    "collapsed": true
   },
   "outputs": [],
   "source": []
  },
  {
   "cell_type": "markdown",
   "metadata": {},
   "source": [
    "### Check difference of two dates, using tuple ###"
   ]
  },
  {
   "cell_type": "code",
   "execution_count": null,
   "metadata": {
    "collapsed": true
   },
   "outputs": [],
   "source": [
    "## https://www.hackerrank.com/challenges/30-nested-logic/forum\n",
    "return_d, return_m, return_y = [int(x) for x in input().strip().split()]\n",
    "due_d, due_m, due_y = [int(x) for x in input().strip().split()]\n",
    "\n",
    "if (return_y, return_m, return_d) <= (due_y, due_m, due_d):\n",
    "    print(0)\n",
    "elif  (return_y, return_m) == (due_y, due_m):\n",
    "    print (15 * (return_d - due_d))\n",
    "elif return_y == due_y:\n",
    "    print (500 * (return_m - due_m))\n",
    "else:\n",
    "    print (10000)\n",
    "\n"
   ]
  },
  {
   "cell_type": "code",
   "execution_count": null,
   "metadata": {
    "collapsed": true
   },
   "outputs": [],
   "source": [
    "# return_date = list(input().strip().split()) \n",
    "# due_date = list(input().strip().split())\n",
    "# return_date = [int(x) for x in return_date ]\n",
    "# due_date = [int(x) for x in due_date ]\n",
    "\n",
    "# return_date = list(map(int, input().strip().split()) )\n",
    "# due_date = list(map(int, input().strip().split()) )\n",
    "\n",
    "return_date = [12, 12, 2000]\n",
    "due_date = [12, 11, 2000]\n",
    "\n",
    "if due_date[2] < return_date[2]:\n",
    "    print(\"10000\")\n",
    "    \n",
    "elif due_date[2] == return_date[2]:    \n",
    "    if due_date[1] < return_date[1]:\n",
    "        print( 500 * (return_date[1] - due_date[1]) )  \n",
    "    elif due_date[1] == return_date[1]:\n",
    "        if due_date[0] < return_date[0]: \n",
    "            print( 15 * (return_date[0] - due_date[0]) )\n",
    "        else:\n",
    "            print(0)\n",
    "    else:\n",
    "        print(0)\n",
    "else:\n",
    "    print(0)\n"
   ]
  },
  {
   "cell_type": "code",
   "execution_count": null,
   "metadata": {
    "collapsed": true
   },
   "outputs": [],
   "source": []
  },
  {
   "cell_type": "markdown",
   "metadata": {},
   "source": [
    "### Find whether it is prime ###"
   ]
  },
  {
   "cell_type": "code",
   "execution_count": null,
   "metadata": {
    "collapsed": true
   },
   "outputs": [],
   "source": [
    "import math\n",
    "\n",
    "def is_prime_number(x):\n",
    "    ## edge case\n",
    "    if x in [2, 3]:\n",
    "        print(\"Prime\")\n",
    "        return True\n",
    "    \n",
    "    if x > 2:\n",
    "        ## if x is even, not a prime\n",
    "        if x%2==0:\n",
    "            print(\"Not prime\")\n",
    "            return False\n",
    "        for y in range(3, int(math.sqrt(x)+1), 2):\n",
    "            #print (y)\n",
    "            if (x % y) == 0:\n",
    "                print(\"Not prime\")\n",
    "                #print(\"You can be factorized by {}\".format(y))\n",
    "                return False\n",
    "    else:\n",
    "        print(\"Not prime\")\n",
    "        return False\n",
    "    print(\"Prime\")\n",
    "    return True\n",
    " \n",
    "\n",
    "T=int(input())\n",
    "for i in range(T):\n",
    "    data=int(input())\n",
    "    is_it = is_prime_number(data)\n"
   ]
  },
  {
   "cell_type": "markdown",
   "metadata": {
    "collapsed": true
   },
   "source": [
    "##### "
   ]
  },
  {
   "cell_type": "code",
   "execution_count": null,
   "metadata": {
    "collapsed": true
   },
   "outputs": [],
   "source": [
    "class Node:\n",
    "    def __init__(self, data):\n",
    "        self.data = data\n",
    "        self.next = None\n",
    "class Solution:\n",
    "    def insert(self, head, data):\n",
    "        p = Node(data)\n",
    "        if head==None:\n",
    "            head = p\n",
    "        elif head.next==None:\n",
    "            head.next = p\n",
    "        else:\n",
    "            start=head\n",
    "            while(start.next!=None):\n",
    "                start=start.next\n",
    "            start.next=p\n",
    "        return head\n",
    "    def removeDuplicates(self, head):\n",
    "        if not head:\n",
    "            return head\n",
    "        current = head\n",
    "        while current.next:\n",
    "            ##print(\"next data is: {}\".format(current.next.data))\n",
    "            if current.data == current.next.data:\n",
    "                current.next = current.next.next\n",
    "            else:\n",
    "                current = current.next\n",
    "        return head\n",
    "    def display(self,head):\n",
    "        current = head\n",
    "        while current:\n",
    "            print(current.data,end=' ')\n",
    "            current = current.next\n",
    "                        \n",
    "mylist= Solution()\n",
    "T=int(input())\n",
    "head=None\n",
    "for i in range(T):\n",
    "    data=int(input())\n",
    "    head=mylist.insert(head,data)   \n",
    "head=mylist.removeDuplicates(head)\n",
    "mylist.display(head); "
   ]
  },
  {
   "cell_type": "code",
   "execution_count": null,
   "metadata": {
    "collapsed": true
   },
   "outputs": [],
   "source": []
  },
  {
   "cell_type": "markdown",
   "metadata": {},
   "source": [
    "## 09/14/17 ##"
   ]
  },
  {
   "cell_type": "code",
   "execution_count": null,
   "metadata": {
    "collapsed": true
   },
   "outputs": [],
   "source": []
  },
  {
   "cell_type": "markdown",
   "metadata": {},
   "source": [
    "### Recursive ###"
   ]
  },
  {
   "cell_type": "code",
   "execution_count": null,
   "metadata": {
    "collapsed": true
   },
   "outputs": [],
   "source": [
    "#!/usr/bin/env python\n",
    " \n",
    "def sum(list):\n",
    "    print (\"Your current list: {}\".format(list))\n",
    "    if len(list) == 1:\n",
    "        print(\"Oh, you are here.\")\n",
    "        return list[0]\n",
    "    else:\n",
    "        print(\"Still in recursion...\")    \n",
    "        return list[0] + sum(list[1:])\n",
    " \n",
    "print(sum([5,7,3,8,10]))"
   ]
  },
  {
   "cell_type": "code",
   "execution_count": null,
   "metadata": {
    "collapsed": true
   },
   "outputs": [],
   "source": []
  },
  {
   "cell_type": "code",
   "execution_count": null,
   "metadata": {
    "collapsed": true
   },
   "outputs": [],
   "source": [
    "def printme(n):\n",
    "    if n > 0:\n",
    "        printme(n - 1)\n",
    "        print (n)\n",
    "    else:\n",
    "        return \n",
    "\n",
    "printme(3)"
   ]
  },
  {
   "cell_type": "code",
   "execution_count": null,
   "metadata": {
    "collapsed": true
   },
   "outputs": [],
   "source": []
  },
  {
   "cell_type": "markdown",
   "metadata": {},
   "source": [
    "### Binary search trees, get height, BST (level-order traversal) ###  \n",
    "https://www.hackerrank.com/challenges/30-binary-search-trees/problem"
   ]
  },
  {
   "cell_type": "code",
   "execution_count": null,
   "metadata": {
    "collapsed": true
   },
   "outputs": [],
   "source": [
    "class Node:\n",
    "    def __init__(self,data):\n",
    "        self.right=self.left=None\n",
    "        self.data = data\n",
    "class Solution:\n",
    "    def insert(self,root,data):\n",
    "        if root==None:\n",
    "            return Node(data)\n",
    "        else:\n",
    "            if data<=root.data:\n",
    "                cur=self.insert(root.left,data)\n",
    "                root.left=cur\n",
    "            else:\n",
    "                cur=self.insert(root.right,data)\n",
    "                root.right=cur\n",
    "        return root\n",
    "    def getHeight(self,root):\n",
    "        if root:\n",
    "            #print (root.data)\n",
    "            leftDepth = self.getHeight(root.left)\n",
    "            rightDepth = self.getHeight(root.right)\n",
    "            #print (\"leftDepth : {}, rightDepth: {}\".format(leftDepth, rightDepth ))\n",
    "\n",
    "            if leftDepth > rightDepth:\n",
    "                #print(\"L > R\")\n",
    "                return leftDepth + 1\n",
    "            else: \n",
    "                #print(\"R > L\")\n",
    "                return rightDepth + 1\n",
    "        else:\n",
    "            return -1 ## This should be -1 and nothing else\n",
    "    def getHeight_alternative(self,root):\n",
    "        if root == None:\n",
    "            return -1\n",
    "        return 1 + max(self.getHeight_alternative(root.left), \n",
    "                       self.getHeight_alternative(root.right))\n",
    "    def levelOrder(self,root):\n",
    "        q = [root]\n",
    "        for current in q:\n",
    "            if current:\n",
    "                print(current.data, end=' ')\n",
    "                q.append(current.left)\n",
    "                q.append(current.right)\n",
    "        ## q is the list of the address of the element.\n",
    "        #print (q)\n",
    "\n",
    "my_tree_element = [3, 5, 2, 1, 4, 6, 7]\n",
    "#my_tree_element = [3, 2, 7, 1, 4, 6, 5]\n",
    "\n",
    "\n",
    "myTree=Solution()\n",
    "root=None\n",
    "for element in my_tree_element:      \n",
    "    root=myTree.insert(root,element)\n",
    "    \n",
    "## find the height of the tree\n",
    "height=myTree.getHeight(root)\n",
    "print(height)\n",
    "\n",
    "height_2=myTree.getHeight_alternative(root)\n",
    "print(height_2)     \n",
    "\n",
    "level_order = myTree.levelOrder(root)\n",
    "\n",
    "## manually input\n",
    "# T=int(input())\n",
    "# myTree=Solution()\n",
    "# root=None\n",
    "# for i in range(T):\n",
    "#     dat\n",
    "a=int(input())\n",
    "#     root=myTree.insert(root,data)\n",
    "# height=myTree.getHeight(root)\n",
    "# print(height)       "
   ]
  },
  {
   "cell_type": "code",
   "execution_count": null,
   "metadata": {
    "collapsed": true
   },
   "outputs": [],
   "source": []
  },
  {
   "cell_type": "markdown",
   "metadata": {},
   "source": [
    "### 09/13/17 ###"
   ]
  },
  {
   "cell_type": "markdown",
   "metadata": {},
   "source": [
    "### Bubble sort ###  \n",
    "The function as an input argument"
   ]
  },
  {
   "cell_type": "code",
   "execution_count": null,
   "metadata": {
    "collapsed": true
   },
   "outputs": [],
   "source": [
    "##%%timeit\n",
    "\n",
    "def bubble_sort(input_list):\n",
    "    mylist = input_list[:]\n",
    "    n = len(mylist)\n",
    "    total_numberOfSwaps = 0\n",
    "    for i in range(n):\n",
    "        numberOfSwaps = 0\n",
    "        for j in range(n-1):\n",
    "            if (mylist[j] > mylist[j + 1]):\n",
    "                mylist[j], mylist[j + 1] = mylist[j+1], mylist[j]\n",
    "                numberOfSwaps += 1\n",
    "        total_numberOfSwaps += numberOfSwaps\n",
    "    ## If no elements were swapped during a traversal, array is sorted\n",
    "        if (numberOfSwaps == 0):\n",
    "            ##print (\"Did you break?\")\n",
    "            break\n",
    "    return total_numberOfSwaps, mylist\n",
    "\n",
    "def bubble_sort_alternative(input_list):\n",
    "    mylist = input_list[:]\n",
    "    sorting_needed = True\n",
    "    tot_swap_count = 0\n",
    "    while sorting_needed:\n",
    "        sorting_needed = False\n",
    "        for i in range(len(mylist)-1):\n",
    "            if mylist[i] > mylist[i+1]:\n",
    "                mylist[i], mylist[i+1] = mylist[i+1], mylist[i]\n",
    "                tot_swap_count += 1\n",
    "                sorting_needed = True\n",
    "    return tot_swap_count, mylist\n",
    "\n",
    "def print_statement(your_sort_method, input_list):\n",
    "    tot_n_of_swap, output_list = your_sort_method(input_list)\n",
    "    #print (\"Input list: {}\".format(input_list))\n",
    "    print(\"Array is sorted in {} swaps.\".format(tot_n_of_swap)) \n",
    "    print(\"First Element: {}\".format(output_list[0]))\n",
    "    print(\"Last Element: {}\".format(output_list[-1]))\n",
    "    #print (\"Output list: {}\\n\".format(output_list))\n",
    "\n",
    "\n",
    "#size_of_list = int(input())\n",
    "#input_list = list(map(int, input().strip().split()))\n",
    "\n",
    "input_list = [1,3,5,6,4,2]\n",
    "    \n",
    "print_statement(bubble_sort, input_list)  ## 1000 loops, best of 3: 1.1 ms per loop\n",
    " \n",
    "print_statement(bubble_sort_alternative, input_list) ## 1000 loops, best of 3: 1.11 ms per loop\n"
   ]
  },
  {
   "cell_type": "code",
   "execution_count": null,
   "metadata": {
    "collapsed": true
   },
   "outputs": [],
   "source": []
  },
  {
   "cell_type": "markdown",
   "metadata": {},
   "source": [
    "### stack and queue ### "
   ]
  },
  {
   "cell_type": "code",
   "execution_count": null,
   "metadata": {
    "collapsed": true
   },
   "outputs": [],
   "source": [
    "my_list_1 = [1,2,3,4,5]\n",
    "my_list_2 = [1,2,3,4,5]\n",
    "\n",
    "for i in range(len(my_list_1)):\n",
    "    print(\"pop(0): {}, pop(): {} \".format(my_list_1.pop(0), my_list_2.pop()) )\n",
    "    \n",
    "    "
   ]
  },
  {
   "cell_type": "code",
   "execution_count": null,
   "metadata": {
    "collapsed": true
   },
   "outputs": [],
   "source": []
  },
  {
   "cell_type": "code",
   "execution_count": null,
   "metadata": {
    "collapsed": true
   },
   "outputs": [],
   "source": [
    "class Solution:\n",
    "      def __init__(self):\n",
    "          self.mystack = list()\n",
    "          self.myqueue = list()\n",
    "          return(None)\n",
    "\n",
    "      def pushCharacter(self, char):\n",
    "          self.mystack.append(char)\n",
    "\n",
    "      def popCharacter(self):\n",
    "          return(self.mystack.pop())\n",
    "\n",
    "      def enqueueCharacter(self, char):\n",
    "          self.myqueue.append(char)\n",
    "\n",
    "      def dequeueCharacter(self):\n",
    "          return(self.myqueue.pop(0))\n",
    "\n",
    "# read the string s\n",
    "s=input()\n",
    "#Create the Solution class object\n",
    "obj=Solution()   \n",
    "\n",
    "l=len(s)\n",
    "# push/enqueue all the characters of string s to stack\n",
    "for i in range(l):\n",
    "    obj.pushCharacter(s[i])\n",
    "    obj.enqueueCharacter(s[i])\n",
    "    \n",
    "isPalindrome=True\n",
    "'''\n",
    "pop the top character from stack\n",
    "dequeue the first character from queue\n",
    "compare both the characters\n",
    "''' \n",
    "for i in range(l // 2):\n",
    "    if obj.popCharacter()!=obj.dequeueCharacter():\n",
    "        isPalindrome=False\n",
    "        break\n",
    "#finally print whether string s is palindrome or not.\n",
    "if isPalindrome:\n",
    "    print(\"The word, \"+s+\", is a palindrome.\")\n",
    "else:\n",
    "    print(\"The word, \"+s+\", is not a palindrome.\")    "
   ]
  },
  {
   "cell_type": "code",
   "execution_count": null,
   "metadata": {
    "collapsed": true
   },
   "outputs": [],
   "source": []
  },
  {
   "cell_type": "markdown",
   "metadata": {},
   "source": [
    "### More exception and staticmethod ###"
   ]
  },
  {
   "cell_type": "code",
   "execution_count": null,
   "metadata": {
    "collapsed": true
   },
   "outputs": [],
   "source": [
    "class Calculator:\n",
    "    @staticmethod\n",
    "    def power(n, p):\n",
    "        if n < 0 or p < 0:\n",
    "            raise ValueError('n and p should be non-negative')\n",
    "        return n ** p\n",
    "\n",
    "myCalculator=Calculator()\n",
    "T=int(input())\n",
    "for i in range(T):\n",
    "    n,p = map(int, input().split())\n",
    "    try:\n",
    "        ans=myCalculator.power(n,p)\n",
    "        print(ans)\n",
    "    except Exception as e:\n",
    "        print(e) \n",
    "  "
   ]
  },
  {
   "cell_type": "code",
   "execution_count": null,
   "metadata": {
    "collapsed": true
   },
   "outputs": [],
   "source": [
    "## we could directly use the staticmethod. No need to create the instance of the class.\n",
    "myCalculator.power(2,3)"
   ]
  },
  {
   "cell_type": "code",
   "execution_count": null,
   "metadata": {
    "collapsed": true
   },
   "outputs": [],
   "source": []
  },
  {
   "cell_type": "markdown",
   "metadata": {},
   "source": [
    "### Exception ###"
   ]
  },
  {
   "cell_type": "code",
   "execution_count": null,
   "metadata": {
    "collapsed": true
   },
   "outputs": [],
   "source": [
    "this_is_input = input()\n",
    "\n",
    "try:\n",
    "    print(int(this_is_input))\n",
    "except ValueError:\n",
    "    print(\"Bad String\")\n",
    "# print (type(this_is_input))\n",
    "\n",
    "# if isinstance(this_is_input, int):\n",
    "#     print (this_is_input)\n",
    "# else:\n",
    "#     print (\"not good\")"
   ]
  },
  {
   "cell_type": "code",
   "execution_count": null,
   "metadata": {
    "collapsed": true
   },
   "outputs": [],
   "source": []
  },
  {
   "cell_type": "code",
   "execution_count": null,
   "metadata": {
    "collapsed": true
   },
   "outputs": [],
   "source": [
    "n = 10\n",
    "for k in range(n+1)[::-1]:\n",
    "    print (k)"
   ]
  },
  {
   "cell_type": "code",
   "execution_count": null,
   "metadata": {
    "collapsed": true
   },
   "outputs": [],
   "source": []
  },
  {
   "cell_type": "markdown",
   "metadata": {},
   "source": [
    "## 09/12/17 ##"
   ]
  },
  {
   "cell_type": "markdown",
   "metadata": {},
   "source": [
    "### Linked list ###  \n",
    "https://www.hackerrank.com/challenges/30-linked-list/forum  \n",
    "https://www.youtube.com/watch?v=Ast5sKQXxEU  \n",
    "https://www.codefellows.org/blog/implementing-a-singly-linked-list-in-python/"
   ]
  },
  {
   "cell_type": "code",
   "execution_count": 2,
   "metadata": {},
   "outputs": [
    {
     "name": "stdout",
     "output_type": "stream",
     "text": [
      "<__main__.LinkedList object at 0x106dc7518>\n"
     ]
    }
   ],
   "source": [
    "class Node(object):\n",
    "    def __init__(self, init_data, init_next_node = None):\n",
    "        self.data = init_data\n",
    "        self.next_node = init_next_node\n",
    "    def get_next(self):\n",
    "        return self.next_node\n",
    "    def set_next(self, given_next_node):\n",
    "        self.next_node = given_next_node\n",
    "    def get_data(self):\n",
    "        return self.data\n",
    "    def set_data(self, given_data):\n",
    "        self.data = given_data\n",
    "        \n",
    "class LinkedList(object):\n",
    "    def __init__(self, r = None):\n",
    "        self.root = r\n",
    "        self.size = 0\n",
    "    def get_size(self):\n",
    "        return self.size\n",
    "    def add(self, new_data):\n",
    "        new_node = Node(new_data, self.root)\n",
    "        self.root = new_node  ## root is located at the latest node!\n",
    "        self.size += 1\n",
    "    def remove(self, delete_data):\n",
    "        this_node = self.root\n",
    "        prev_node = None\n",
    "        while this_node:\n",
    "            #print (\"this_node is at {}\".format(this_node.get_data()) )\n",
    "            if this_node.get_data() == delete_data:\n",
    "                if prev_node:\n",
    "                    ## make the connection to the next of the this_node\n",
    "                    prev_node.set_next(this_node.get_next())\n",
    "                else:\n",
    "                    self.root = this_node.get_next()\n",
    "                self.size -= 1\n",
    "                return True ## data remove\n",
    "            else:\n",
    "                prev_node = this_node\n",
    "                this_node = this_node.get_next()\n",
    "        return False ## data no found\n",
    "    def find(self, look_for_data):\n",
    "        this_node = self.root\n",
    "        while this_node:\n",
    "            if this_node.get_data() == look_for_data:\n",
    "                return look_for_data\n",
    "            else:\n",
    "                this_node = this_node.get_next()\n",
    "        return None ## couldn't find it\n",
    "    def display(self):\n",
    "        this_node = self.root\n",
    "        while this_node:\n",
    "            print(this_node.data,end=' ')\n",
    "            this_node = this_node.next_node\n",
    "        print (\"\")\n",
    "    \n",
    "myList = LinkedList()\n",
    "\n",
    "print(myList)\n",
    "\n",
    "# myList.add(5)\n",
    "# myList.add(8)\n",
    "# myList.add(9)\n",
    "# myList.add(10)\n",
    "# myList.add(12)\n",
    "# myList.display()\n",
    "\n",
    "# myList.remove(12)\n",
    "\n",
    "# print (myList.remove(7))\n",
    "# print (myList.find(8))\n",
    "# myList.display()\n",
    "                "
   ]
  },
  {
   "cell_type": "code",
   "execution_count": null,
   "metadata": {
    "collapsed": true
   },
   "outputs": [],
   "source": []
  },
  {
   "cell_type": "code",
   "execution_count": null,
   "metadata": {
    "collapsed": true
   },
   "outputs": [],
   "source": [
    "class Node:\n",
    "    def __init__(self,data):\n",
    "        self.data = data\n",
    "        self.next = None \n",
    "class Solution: \n",
    "    def display(self,head):\n",
    "        current = head\n",
    "        while current:\n",
    "            print(current.data,end=' ')\n",
    "            current = current.next\n",
    "    def insert(self,head,data): \n",
    "        if (head == None):\n",
    "            head = Node(data)\n",
    "        elif (head.next == None):\n",
    "            head.next = Node(data)\n",
    "        else:\n",
    "            self.insert(head.next, data)\n",
    "        return head\n",
    "\n",
    "mylist= Solution()\n",
    "#T=int(input())\n",
    "\n",
    "T = 3\n",
    "head=None\n",
    "for i in range(T):\n",
    "    data=int(input())\n",
    "    head=mylist.insert(head,data)    \n",
    "mylist.display(head);\n",
    "\n",
    "print (\"\")\n",
    "print (\"head of data is {} at {}\".format(head.data, head))\n",
    "\n",
    "T2 = 2\n",
    "for i in range(T2):\n",
    "    data=int(input())\n",
    "    head=mylist.insert(head,data)    \n",
    "mylist.display(head);\n",
    "\n",
    "print (\"\")\n",
    "print (\"head of data is {} at {}\".format(head.data, head))\n",
    "\n",
    "print (\"The indicator of head doesn't change once the list is created.\")\n"
   ]
  },
  {
   "cell_type": "code",
   "execution_count": null,
   "metadata": {
    "collapsed": true
   },
   "outputs": [],
   "source": []
  },
  {
   "cell_type": "markdown",
   "metadata": {},
   "source": [
    "### Instance variable ###  \n",
    "https://www.python.org/dev/peps/pep-0008/#method-names-and-instance-variables"
   ]
  },
  {
   "cell_type": "code",
   "execution_count": null,
   "metadata": {
    "collapsed": true
   },
   "outputs": [],
   "source": [
    "class Difference:\n",
    "    def __init__(self, a):\n",
    "        self.__elements = a\n",
    "    def computeDifference(self):\n",
    "        self.maximumDifference = max(a) - min(a)\n",
    "        self.maximumElement = max(a)\n",
    "\n",
    "    \n",
    "a = [1, 9, 5, -2, -8, 12, 3]\n",
    "\n",
    "d = Difference(a)\n",
    "d.computeDifference()\n",
    "\n",
    "print(d.maximumDifference)\n",
    "print(d.maximumElement)"
   ]
  },
  {
   "cell_type": "code",
   "execution_count": null,
   "metadata": {
    "collapsed": true
   },
   "outputs": [],
   "source": []
  },
  {
   "cell_type": "markdown",
   "metadata": {},
   "source": [
    "### ABC, Abstract Base Class ###"
   ]
  },
  {
   "cell_type": "code",
   "execution_count": null,
   "metadata": {
    "collapsed": true
   },
   "outputs": [],
   "source": [
    "from abc import ABCMeta, abstractmethod\n",
    "class Book(object, metaclass=ABCMeta):\n",
    "    def __init__(self,title,author):\n",
    "        self.title=title\n",
    "        self.author=author   \n",
    "    @abstractmethod\n",
    "    def display(): pass\n",
    "\n",
    "#Write MyBook class\n",
    "class MyBook(Book):\n",
    "    def __init__(self, title, author, price):\n",
    "        self.title=title\n",
    "        self.author=author\n",
    "        self.price=price\n",
    "    def display(self):\n",
    "        print (\"Title: \" + self.title + \"\\nAuthor: \" + self.author + \"\\nPrice: \" + str(self.price))\n",
    "        \n",
    "title=\"To be\" ##input()\n",
    "author=\"Emily\" ##input()\n",
    "price=999 ## int(input())\n",
    "new_novel=MyBook(title,author,price)\n",
    "new_novel.display()\n",
    "        "
   ]
  },
  {
   "cell_type": "code",
   "execution_count": null,
   "metadata": {
    "collapsed": true
   },
   "outputs": [],
   "source": []
  },
  {
   "cell_type": "markdown",
   "metadata": {},
   "source": [
    "### Class inheritance ###"
   ]
  },
  {
   "cell_type": "markdown",
   "metadata": {},
   "source": [
    "### using super() ###"
   ]
  },
  {
   "cell_type": "code",
   "execution_count": null,
   "metadata": {
    "collapsed": true
   },
   "outputs": [],
   "source": [
    "class Person:\n",
    "    def __init__(self, firstName, lastName, idNumber):\n",
    "        self.firstName = firstName\n",
    "        self.lastName = lastName\n",
    "        self.idNumber = idNumber\n",
    "    def printPerson(self):\n",
    "        print(\"Name:\", self.lastName + \",\", self.firstName)\n",
    "        print(\"ID:\", self.idNumber)\n",
    "        #print (\"Hello\")\n",
    "\n",
    "class Student(Person):\n",
    " \n",
    "    # Write your constructor here\n",
    "    def __init__(self, firstName, lastName, idNumber, scores):\n",
    "        super().__init__(firstName, lastName, idNumber)      \n",
    "        self.scores = scores\n",
    "    \n",
    "    def calculate(self):\n",
    "        ave = sum(self.scores) / int(len(self.scores))\n",
    "        if 90 <= ave <= 100:\n",
    "            return \"O\"\n",
    "        elif 80 <= ave < 90:\n",
    "            return \"E\"\n",
    "        elif 70 <= ave < 80:\n",
    "            return \"A\"\n",
    "        elif 55 <= ave < 70:\n",
    "            return \"P\"\n",
    "        elif 40 <= ave < 55:\n",
    "            return \"D\"\n",
    "        else:\n",
    "            return \"T\"\n",
    "    \n",
    "##line = input().split()\n",
    "\n",
    "line = ['Heraldo', 'Memelli', 8135627]\n",
    "\n",
    "firstName = line[0]\n",
    "lastName = line[1]\n",
    "idNum = line[2]\n",
    "\n",
    "##numScores = int(input()) # not needed for Python\n",
    "##scores = list( map(int, input().split()) )\n",
    "\n",
    "scores = [80, 100]\n",
    "\n",
    "s = Student(firstName, lastName, idNum, scores)\n",
    "s.printPerson()\n",
    "print(\"Grade:\", s.calculate())\n",
    "    "
   ]
  },
  {
   "cell_type": "code",
   "execution_count": null,
   "metadata": {
    "collapsed": true
   },
   "outputs": [],
   "source": []
  },
  {
   "cell_type": "code",
   "execution_count": null,
   "metadata": {
    "collapsed": true
   },
   "outputs": [],
   "source": [
    "class Person:\n",
    "\tdef __init__(self, firstName, lastName, idNumber):\n",
    "\t\tself.firstName = firstName\n",
    "\t\tself.lastName = lastName\n",
    "\t\tself.idNumber = idNumber\n",
    "\tdef printPerson(self):\n",
    "\t\tprint(\"Name:\", self.lastName + \",\", self.firstName)\n",
    "\t\tprint(\"ID:\", self.idNumber)\n",
    "\n",
    "\n",
    "class Student(Person):\n",
    "    #   Class Constructor\n",
    "    #   \n",
    "    #   Parameters:\n",
    "    #   firstName - A string denoting the Person's first name.\n",
    "    #   lastName - A string denoting the Person's last name.\n",
    "    #   id - An integer denoting the Person's ID number.\n",
    "    #   scores - An array of integers denoting the Person's test scores.\n",
    "    #\n",
    "    # Write your constructor here\n",
    "    def __init__(self, firstName, lastName, idNumber, scores):\n",
    "        self.firstName = firstName\n",
    "        self.lastName = lastName\n",
    "        self.idNumber = idNumber\n",
    "        self.scores = scores\n",
    "    \n",
    "    def calculate(self):\n",
    "        ave = sum(self.scores) / int(len(self.scores))\n",
    "        if 90 <= ave <= 100:\n",
    "            return \"O\"\n",
    "        elif 80 <= ave < 90:\n",
    "            return \"E\"\n",
    "        elif 70 <= ave < 80:\n",
    "            return \"A\"\n",
    "        elif 55 <= ave < 70:\n",
    "            return \"P\"\n",
    "        elif 40 <= ave < 55:\n",
    "            return \"D\"\n",
    "        else:\n",
    "            return \"T\"\n",
    "    \n",
    "##line = input().split()\n",
    "\n",
    "line = ['Heraldo', 'Memelli', 8135627]\n",
    "\n",
    "firstName = line[0]\n",
    "lastName = line[1]\n",
    "idNum = line[2]\n",
    "\n",
    "##numScores = int(input()) # not needed for Python\n",
    "##scores = list( map(int, input().split()) )\n",
    "\n",
    "scores = [80, 100]\n",
    "\n",
    "s = Student(firstName, lastName, idNum, scores)\n",
    "s.printPerson()\n",
    "print(\"Grade:\", s.calculate())\n",
    "    "
   ]
  },
  {
   "cell_type": "code",
   "execution_count": null,
   "metadata": {
    "collapsed": true
   },
   "outputs": [],
   "source": []
  },
  {
   "cell_type": "markdown",
   "metadata": {},
   "source": [
    "## 09/11/17 ##"
   ]
  },
  {
   "cell_type": "markdown",
   "metadata": {
    "collapsed": true
   },
   "source": [
    "### Sum it up with pattern ###  \n",
    "https://www.hackerrank.com/challenges/30-2d-arrays/problem"
   ]
  },
  {
   "cell_type": "code",
   "execution_count": null,
   "metadata": {
    "collapsed": true
   },
   "outputs": [],
   "source": [
    "lists_of_lists = [[1, 2, 3], [4, 5, 6], [7, 8, 9]]\n",
    "[sum(x) for x in zip(*lists_of_lists)]"
   ]
  },
  {
   "cell_type": "code",
   "execution_count": null,
   "metadata": {
    "collapsed": true
   },
   "outputs": [],
   "source": [
    "##%%timeit\n",
    "arr = [[1, 1, 1, 0, 0, 0], [0, 1, 0, 0, 0, 0], [1, 1, 1, 0, 0, 0], [0, 0, 2, 4, 4, 0], [0, 0, 0, 2, 0, 0], [0, 0, 1, 2, 4, 0]]    \n",
    "\n",
    "res = []\n",
    "\n",
    "for x in range(0, 4):\n",
    "    for y in range(0, 4):\n",
    "        s = sum(arr[x][y:y+3]) + arr[x+1][y+1] + sum(arr[x+2][y:y+3])\n",
    "        res.append(s)\n",
    "print (res)\n",
    "#print(max(res))"
   ]
  },
  {
   "cell_type": "code",
   "execution_count": null,
   "metadata": {
    "collapsed": true
   },
   "outputs": [],
   "source": [
    "%%timeit\n",
    "\n",
    "#!/bin/python3\n",
    "import sys\n",
    "from functools import reduce\n",
    "\n",
    "# arr = []\n",
    "# for arr_i in range(6):\n",
    "#    arr_t = [int(arr_temp) for arr_temp in input().strip().split(' ')]\n",
    "#    arr.append(arr_t)\n",
    "\n",
    "arr = [[1, 1, 1, 0, 0, 0], [0, 1, 0, 0, 0, 0], [1, 1, 1, 0, 0, 0], [0, 0, 2, 4, 4, 0], [0, 0, 0, 2, 0, 0], [0, 0, 1, 2, 4, 0]]    \n",
    " \n",
    "def cum_sum_array(array):\n",
    "    all_list = []\n",
    "    for index in range(4):       \n",
    "        all_list.append( sum(array[index:index+3]) )        \n",
    "    return (all_list)\n",
    "\n",
    "sum_list = []\n",
    "for row_index in range(4):\n",
    "#for row_index in range(2):\n",
    "    first_row = cum_sum_array(arr[row_index])\n",
    "    second_row = arr[row_index+1][1:5]\n",
    "    third_row = cum_sum_array(arr[row_index+2])\n",
    "    sum_list.append(max([x + y + z for x, y, z in zip(first_row, second_row, third_row)]) )\n",
    "#print (max(sum_list))\n",
    "\n",
    "    "
   ]
  },
  {
   "cell_type": "code",
   "execution_count": null,
   "metadata": {
    "collapsed": true
   },
   "outputs": [],
   "source": []
  },
  {
   "cell_type": "markdown",
   "metadata": {},
   "source": [
    "### Count consecutive 1s from binary representation ###  "
   ]
  },
  {
   "cell_type": "code",
   "execution_count": null,
   "metadata": {
    "collapsed": true
   },
   "outputs": [],
   "source": [
    "## optimal solution ## I love python!\n",
    "## https://www.hackerrank.com/challenges/30-binary-numbers/forum\n",
    "\n",
    "print(len(max(bin(int(input().strip()))[2:].split('0'))))"
   ]
  },
  {
   "cell_type": "code",
   "execution_count": null,
   "metadata": {
    "collapsed": true
   },
   "outputs": [],
   "source": []
  },
  {
   "cell_type": "code",
   "execution_count": null,
   "metadata": {
    "collapsed": true
   },
   "outputs": [],
   "source": [
    "#!/bin/python3\n",
    "\n",
    "import sys\n",
    "\n",
    "n = int(input().strip())\n",
    "our_string = bin(n)[2:]\n",
    "#our_string = '111011'\n",
    "\n",
    "print (\"Input {}. \\nOutput binary: {}\".format(n, our_string))\n",
    "\n",
    "max_count = 0\n",
    "count_1s = 0\n",
    "for i in our_string:\n",
    "    #print (i)\n",
    "    if i == '1':  \n",
    "        count_1s += 1\n",
    "        #print (\"count is {}\".format(count_1s))\n",
    "    else:\n",
    "        if count_1s > max_count:\n",
    "            max_count = int(count_1s)\n",
    "        count_1s = 0\n",
    "print (max_count)\n",
    "\n",
    "\n"
   ]
  },
  {
   "cell_type": "markdown",
   "metadata": {},
   "source": [
    "### from one base to another base ###"
   ]
  },
  {
   "cell_type": "code",
   "execution_count": null,
   "metadata": {
    "collapsed": true
   },
   "outputs": [],
   "source": [
    "def frm(x, b):\n",
    "    \"\"\"\n",
    "    Converts given number x, from base 10 to base b \n",
    "    x -- the number in base 10\n",
    "    b -- base to convert\n",
    "    \"\"\"\n",
    "    assert(x >= 0)\n",
    "    assert(1< b < 37)\n",
    "    r = ''\n",
    "    import string\n",
    "    while x > 0:\n",
    "        r = string.printable[x % b] + r\n",
    "        x //= b\n",
    "    return r\n",
    "def to(s, b):\n",
    "    \"\"\"\n",
    "    Converts given number s, from base b to base 10\n",
    "    s -- string representation of number\n",
    "    b -- base of given number\n",
    "    \"\"\"\n",
    "    assert(1 < b < 37)\n",
    "    return int(s, b)\n",
    "def convert(s, a, b):\n",
    "    \"\"\"\n",
    "    Converts s from base a to base b\n",
    "    \"\"\"\n",
    "    return frm(to(s, a), b)\n",
    "\n",
    "input_string = '12'\n",
    "convert(input_string, 4, 2)"
   ]
  },
  {
   "cell_type": "code",
   "execution_count": null,
   "metadata": {
    "collapsed": true
   },
   "outputs": [],
   "source": []
  },
  {
   "cell_type": "markdown",
   "metadata": {},
   "source": [
    "### Split, map, lambda examples ###"
   ]
  },
  {
   "cell_type": "code",
   "execution_count": 137,
   "metadata": {},
   "outputs": [
    {
     "name": "stdout",
     "output_type": "stream",
     "text": [
      "['I', 'really', 'need', 'a', 'job!']\n",
      "[1, 6, 4, 1, 4]\n"
     ]
    }
   ],
   "source": [
    "sentences = 'I really need a job!'\n",
    "words = sentences.split()\n",
    "print (words)\n",
    "\n",
    "lengths = map(lambda word: len(word), words)\n",
    "print (list(lengths))\n"
   ]
  },
  {
   "cell_type": "code",
   "execution_count": null,
   "metadata": {
    "collapsed": true
   },
   "outputs": [],
   "source": []
  },
  {
   "cell_type": "markdown",
   "metadata": {},
   "source": [
    "### Great approach to use lambda, filter, map, and reduce ###"
   ]
  },
  {
   "cell_type": "code",
   "execution_count": 138,
   "metadata": {},
   "outputs": [
    {
     "name": "stdout",
     "output_type": "stream",
     "text": [
      "[3, 6, 99]\n",
      "[14, 16, 22, 36, 90, 208]\n",
      "163\n"
     ]
    }
   ],
   "source": [
    "from functools import reduce\n",
    "foo = [2, 3, 6, 13, 40, 99]\n",
    "\n",
    "print (list(filter(lambda x: x % 3 ==0, foo)))\n",
    "print (list(map(lambda x: x*2+10, foo)))\n",
    "print (reduce(lambda x, y: x+y, foo))"
   ]
  },
  {
   "cell_type": "markdown",
   "metadata": {},
   "source": [
    "### Classic factorial ###"
   ]
  },
  {
   "cell_type": "code",
   "execution_count": null,
   "metadata": {
    "collapsed": true
   },
   "outputs": [],
   "source": [
    "factorial = lambda x : 1 if x<=1 else x*factorial(x-1)\n",
    "print(factorial(int(input())))"
   ]
  },
  {
   "cell_type": "code",
   "execution_count": null,
   "metadata": {
    "collapsed": true
   },
   "outputs": [],
   "source": []
  },
  {
   "cell_type": "markdown",
   "metadata": {},
   "source": [
    "### Dictionary look up ###"
   ]
  },
  {
   "cell_type": "code",
   "execution_count": null,
   "metadata": {
    "collapsed": true
   },
   "outputs": [],
   "source": [
    "n = int(input())\n",
    "name_numbers = dict(input().split() for _ in range(n))\n",
    "phone_book = {k: v for k,v in name_numbers.items()}\n",
    "#print (phone_book)\n",
    "\n",
    "while n > 0:\n",
    "    n -= 1\n",
    "    try:\n",
    "        name = input()\n",
    "        if name in phone_book:\n",
    "            print('{}={}'.format(name, phone_book[name]))\n",
    "        else:\n",
    "            print('Not found')\n",
    "    except:\n",
    "        break"
   ]
  },
  {
   "cell_type": "code",
   "execution_count": null,
   "metadata": {
    "collapsed": true
   },
   "outputs": [],
   "source": []
  },
  {
   "cell_type": "code",
   "execution_count": null,
   "metadata": {
    "collapsed": true
   },
   "outputs": [],
   "source": [
    "n_of_query = int(input())\n",
    "\n",
    "dic_name_phone = {}\n",
    "\n",
    "for i in range(n_of_query):\n",
    "    index, value = input().strip().split(' ')\n",
    "    dic_name_phone[index] = value\n",
    "\n",
    "looking_for = list(input().strip() for i in range(n_of_query) )\n",
    "\n",
    "  \n",
    "#print (looking_for)\n",
    "for this_one in looking_for:\n",
    "    try:\n",
    "        print (\"{}={}\".format(this_one, dic_name_phone[this_one]))\n",
    "    except:\n",
    "        print (\"Not found\")\n",
    "    \n"
   ]
  },
  {
   "cell_type": "code",
   "execution_count": null,
   "metadata": {
    "collapsed": true
   },
   "outputs": [],
   "source": []
  },
  {
   "cell_type": "markdown",
   "metadata": {},
   "source": [
    "### Reverse input array order ###"
   ]
  },
  {
   "cell_type": "code",
   "execution_count": null,
   "metadata": {
    "collapsed": true
   },
   "outputs": [],
   "source": [
    "# n_of_element = int(input())\n",
    "# array_list = list(input().strip().split(\" \"))\n",
    "\n",
    "# n = int(input().strip())\n",
    "# arr = [int(arr_temp) for arr_temp in input().strip().split(' ')]\n",
    "\n",
    "n = 4\n",
    "arr = [1,2,3,4]\n",
    "print (*arr[::-1])\n",
    "## or\n",
    "print(\" \".join(map(str, arr[::-1])))\n",
    "## or\n",
    "print(' '.join(map(str, reversed(arr))))\n",
    "\n",
    "## this works for string element in the list\n",
    "arr = ['1', '2', '3', '4']\n",
    "print (\" \".join(arr[-1::-1]))\n"
   ]
  },
  {
   "cell_type": "code",
   "execution_count": null,
   "metadata": {
    "collapsed": true
   },
   "outputs": [],
   "source": []
  },
  {
   "cell_type": "markdown",
   "metadata": {},
   "source": [
    "### Split your string ###"
   ]
  },
  {
   "cell_type": "code",
   "execution_count": null,
   "metadata": {
    "collapsed": true
   },
   "outputs": [],
   "source": [
    "## Use * to collect all the individual element from list, tuple, set, etc.\n",
    "for i in range(int(input())): \n",
    "    s=input(); \n",
    "    print(*[s[::2],s[1::2]])\n",
    "    #print([s[::2],s[1::2]])\n",
    "    #print(*[\"\".join(s[::2]),\"\".join(s[1::2])])"
   ]
  },
  {
   "cell_type": "markdown",
   "metadata": {},
   "source": []
  },
  {
   "cell_type": "code",
   "execution_count": null,
   "metadata": {
    "collapsed": true
   },
   "outputs": [],
   "source": [
    "# n_of_string = int(input())\n",
    "# string_list = list( str(input().strip()) for _ in range(n_of_string))\n",
    "\n",
    "n_of_string = 2\n",
    "string_list = [\"ohIneedajob\", \"neverevergiveup\"]\n",
    "\n",
    "for i in range(n_of_string):\n",
    "    current_task = string_list[i]\n",
    "    even_word = current_task[0::2]\n",
    "    odd_word = current_task[1::2]\n",
    "    print (even_word, odd_word)\n"
   ]
  },
  {
   "cell_type": "code",
   "execution_count": null,
   "metadata": {
    "collapsed": true
   },
   "outputs": [],
   "source": []
  }
 ],
 "metadata": {
  "kernelspec": {
   "display_name": "Python 3",
   "language": "python",
   "name": "python3"
  },
  "language_info": {
   "codemirror_mode": {
    "name": "ipython",
    "version": 3
   },
   "file_extension": ".py",
   "mimetype": "text/x-python",
   "name": "python",
   "nbconvert_exporter": "python",
   "pygments_lexer": "ipython3",
   "version": "3.6.0"
  }
 },
 "nbformat": 4,
 "nbformat_minor": 2
}
