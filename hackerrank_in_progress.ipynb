{
 "cells": [
  {
   "cell_type": "code",
   "execution_count": null,
   "metadata": {
    "collapsed": true
   },
   "outputs": [],
   "source": []
  },
  {
   "cell_type": "code",
   "execution_count": null,
   "metadata": {
    "collapsed": true
   },
   "outputs": [],
   "source": []
  },
  {
   "cell_type": "markdown",
   "metadata": {},
   "source": [
    "## 09/12/17 ##"
   ]
  },
  {
   "cell_type": "code",
   "execution_count": null,
   "metadata": {
    "collapsed": true
   },
   "outputs": [],
   "source": []
  },
  {
   "cell_type": "code",
   "execution_count": null,
   "metadata": {
    "collapsed": true
   },
   "outputs": [],
   "source": []
  },
  {
   "cell_type": "code",
   "execution_count": null,
   "metadata": {
    "collapsed": true
   },
   "outputs": [],
   "source": []
  },
  {
   "cell_type": "code",
   "execution_count": null,
   "metadata": {
    "collapsed": true
   },
   "outputs": [],
   "source": []
  },
  {
   "cell_type": "code",
   "execution_count": null,
   "metadata": {
    "collapsed": true
   },
   "outputs": [],
   "source": []
  },
  {
   "cell_type": "markdown",
   "metadata": {},
   "source": [
    "### ABC, Abstract Base Class ###"
   ]
  },
  {
   "cell_type": "code",
   "execution_count": null,
   "metadata": {},
   "outputs": [],
   "source": [
    "from abc import ABCMeta, abstractmethod\n",
    "class Book(object, metaclass=ABCMeta):\n",
    "    def __init__(self,title,author):\n",
    "        self.title=title\n",
    "        self.author=author   \n",
    "    @abstractmethod\n",
    "    def display(): pass\n",
    "\n",
    "#Write MyBook class\n",
    "class MyBook(Book):\n",
    "    def __init__(self, title, author, price):\n",
    "        self.title=title\n",
    "        self.author=author\n",
    "        self.price=price\n",
    "    def display(self):\n",
    "        print (\"Title: \" + self.title + \"\\nAuthor: \" + self.author + \"\\nPrice: \" + str(self.price))\n",
    "        \n",
    "title=\"To be\" ##input()\n",
    "author=\"Emily\" ##input()\n",
    "price=999 ## int(input())\n",
    "new_novel=MyBook(title,author,price)\n",
    "new_novel.display()\n",
    "        "
   ]
  },
  {
   "cell_type": "code",
   "execution_count": null,
   "metadata": {
    "collapsed": true
   },
   "outputs": [],
   "source": []
  },
  {
   "cell_type": "markdown",
   "metadata": {},
   "source": [
    "### Class inheritance ###"
   ]
  },
  {
   "cell_type": "code",
   "execution_count": null,
   "metadata": {
    "collapsed": true
   },
   "outputs": [],
   "source": []
  },
  {
   "cell_type": "code",
   "execution_count": 2,
   "metadata": {},
   "outputs": [
    {
     "ename": "TypeError",
     "evalue": "__init__() takes 2 positional arguments but 5 were given",
     "output_type": "error",
     "traceback": [
      "\u001b[0;31m---------------------------------------------------------------------------\u001b[0m",
      "\u001b[0;31mTypeError\u001b[0m                                 Traceback (most recent call last)",
      "\u001b[0;32m<ipython-input-2-19d01edc5996>\u001b[0m in \u001b[0;36m<module>\u001b[0;34m()\u001b[0m\n\u001b[1;32m     44\u001b[0m \u001b[0mscores\u001b[0m \u001b[0;34m=\u001b[0m \u001b[0;34m[\u001b[0m\u001b[0;36m80\u001b[0m\u001b[0;34m,\u001b[0m \u001b[0;36m100\u001b[0m\u001b[0;34m]\u001b[0m\u001b[0;34m\u001b[0m\u001b[0m\n\u001b[1;32m     45\u001b[0m \u001b[0;34m\u001b[0m\u001b[0m\n\u001b[0;32m---> 46\u001b[0;31m \u001b[0ms\u001b[0m \u001b[0;34m=\u001b[0m \u001b[0mStudent\u001b[0m\u001b[0;34m(\u001b[0m\u001b[0mfirstName\u001b[0m\u001b[0;34m,\u001b[0m \u001b[0mlastName\u001b[0m\u001b[0;34m,\u001b[0m \u001b[0midNum\u001b[0m\u001b[0;34m,\u001b[0m \u001b[0mscores\u001b[0m\u001b[0;34m)\u001b[0m\u001b[0;34m\u001b[0m\u001b[0m\n\u001b[0m\u001b[1;32m     47\u001b[0m \u001b[0ms\u001b[0m\u001b[0;34m.\u001b[0m\u001b[0mprintPerson\u001b[0m\u001b[0;34m(\u001b[0m\u001b[0;34m)\u001b[0m\u001b[0;34m\u001b[0m\u001b[0m\n\u001b[1;32m     48\u001b[0m \u001b[0mprint\u001b[0m\u001b[0;34m(\u001b[0m\u001b[0;34m\"Grade:\"\u001b[0m\u001b[0;34m,\u001b[0m \u001b[0ms\u001b[0m\u001b[0;34m.\u001b[0m\u001b[0mcalculate\u001b[0m\u001b[0;34m(\u001b[0m\u001b[0;34m)\u001b[0m\u001b[0;34m)\u001b[0m\u001b[0;34m\u001b[0m\u001b[0m\n",
      "\u001b[0;31mTypeError\u001b[0m: __init__() takes 2 positional arguments but 5 were given"
     ]
    }
   ],
   "source": [
    "class Person:\n",
    "    def __init__(self, firstName, lastName, idNumber):\n",
    "        self.firstName = firstName\n",
    "        self.lastName = lastName\n",
    "        self.idNumber = idNumber\n",
    "    def printPerson(self):\n",
    "        print(\"Name:\", self.lastName + \",\", self.firstName)\n",
    "        print(\"ID:\", self.idNumber)\n",
    "        #print (\"Hello\")\n",
    "\n",
    "class Student(Person):\n",
    " \n",
    "    # Write your constructor here\n",
    "    def __init__(self, firstName, lastName, idNumber, scores):\n",
    "        super(Person).__init__()      \n",
    "        self.scores = scores\n",
    "    \n",
    "    def calculate(self):\n",
    "        ave = sum(self.scores) / int(len(self.scores))\n",
    "        if 90 <= ave <= 100:\n",
    "            return \"O\"\n",
    "        elif 80 <= ave < 90:\n",
    "            return \"E\"\n",
    "        elif 70 <= ave < 80:\n",
    "            return \"A\"\n",
    "        elif 55 <= ave < 70:\n",
    "            return \"P\"\n",
    "        elif 40 <= ave < 55:\n",
    "            return \"D\"\n",
    "        else:\n",
    "            return \"T\"\n",
    "    \n",
    "##line = input().split()\n",
    "\n",
    "line = ['Heraldo', 'Memelli', 8135627]\n",
    "\n",
    "firstName = line[0]\n",
    "lastName = line[1]\n",
    "idNum = line[2]\n",
    "\n",
    "##numScores = int(input()) # not needed for Python\n",
    "##scores = list( map(int, input().split()) )\n",
    "\n",
    "scores = [80, 100]\n",
    "\n",
    "s = Student(firstName, lastName, idNum, scores)\n",
    "s.printPerson()\n",
    "print(\"Grade:\", s.calculate())\n",
    "    "
   ]
  },
  {
   "cell_type": "code",
   "execution_count": null,
   "metadata": {
    "collapsed": true
   },
   "outputs": [],
   "source": []
  },
  {
   "cell_type": "code",
   "execution_count": null,
   "metadata": {},
   "outputs": [],
   "source": [
    "class Person:\n",
    "\tdef __init__(self, firstName, lastName, idNumber):\n",
    "\t\tself.firstName = firstName\n",
    "\t\tself.lastName = lastName\n",
    "\t\tself.idNumber = idNumber\n",
    "\tdef printPerson(self):\n",
    "\t\tprint(\"Name:\", self.lastName + \",\", self.firstName)\n",
    "\t\tprint(\"ID:\", self.idNumber)\n",
    "\n",
    "\n",
    "class Student(Person):\n",
    "    #   Class Constructor\n",
    "    #   \n",
    "    #   Parameters:\n",
    "    #   firstName - A string denoting the Person's first name.\n",
    "    #   lastName - A string denoting the Person's last name.\n",
    "    #   id - An integer denoting the Person's ID number.\n",
    "    #   scores - An array of integers denoting the Person's test scores.\n",
    "    #\n",
    "    # Write your constructor here\n",
    "    def __init__(self, firstName, lastName, idNumber, scores):\n",
    "        self.firstName = firstName\n",
    "        self.lastName = lastName\n",
    "        self.idNumber = idNumber\n",
    "        self.scores = scores\n",
    "    \n",
    "    def calculate(self):\n",
    "        ave = sum(self.scores) / int(len(self.scores))\n",
    "        if 90 <= ave <= 100:\n",
    "            return \"O\"\n",
    "        elif 80 <= ave < 90:\n",
    "            return \"E\"\n",
    "        elif 70 <= ave < 80:\n",
    "            return \"A\"\n",
    "        elif 55 <= ave < 70:\n",
    "            return \"P\"\n",
    "        elif 40 <= ave < 55:\n",
    "            return \"D\"\n",
    "        else:\n",
    "            return \"T\"\n",
    "    \n",
    "##line = input().split()\n",
    "\n",
    "line = ['Heraldo', 'Memelli', 8135627]\n",
    "\n",
    "firstName = line[0]\n",
    "lastName = line[1]\n",
    "idNum = line[2]\n",
    "\n",
    "##numScores = int(input()) # not needed for Python\n",
    "##scores = list( map(int, input().split()) )\n",
    "\n",
    "scores = [80, 100]\n",
    "\n",
    "s = Student(firstName, lastName, idNum, scores)\n",
    "s.printPerson()\n",
    "print(\"Grade:\", s.calculate())\n",
    "    "
   ]
  },
  {
   "cell_type": "code",
   "execution_count": null,
   "metadata": {
    "collapsed": true
   },
   "outputs": [],
   "source": []
  },
  {
   "cell_type": "markdown",
   "metadata": {},
   "source": [
    "## 09/11/17 ##"
   ]
  },
  {
   "cell_type": "markdown",
   "metadata": {
    "collapsed": true
   },
   "source": [
    "### Sum it up with pattern ###  \n",
    "https://www.hackerrank.com/challenges/30-2d-arrays/problem"
   ]
  },
  {
   "cell_type": "code",
   "execution_count": null,
   "metadata": {},
   "outputs": [],
   "source": [
    "lists_of_lists = [[1, 2, 3], [4, 5, 6], [7, 8, 9]]\n",
    "[sum(x) for x in zip(*lists_of_lists)]"
   ]
  },
  {
   "cell_type": "code",
   "execution_count": null,
   "metadata": {},
   "outputs": [],
   "source": [
    "##%%timeit\n",
    "arr = [[1, 1, 1, 0, 0, 0], [0, 1, 0, 0, 0, 0], [1, 1, 1, 0, 0, 0], [0, 0, 2, 4, 4, 0], [0, 0, 0, 2, 0, 0], [0, 0, 1, 2, 4, 0]]    \n",
    "\n",
    "res = []\n",
    "\n",
    "for x in range(0, 4):\n",
    "    for y in range(0, 4):\n",
    "        s = sum(arr[x][y:y+3]) + arr[x+1][y+1] + sum(arr[x+2][y:y+3])\n",
    "        res.append(s)\n",
    "print (res)\n",
    "#print(max(res))"
   ]
  },
  {
   "cell_type": "code",
   "execution_count": null,
   "metadata": {},
   "outputs": [],
   "source": [
    "%%timeit\n",
    "\n",
    "#!/bin/python3\n",
    "import sys\n",
    "from functools import reduce\n",
    "\n",
    "# arr = []\n",
    "# for arr_i in range(6):\n",
    "#    arr_t = [int(arr_temp) for arr_temp in input().strip().split(' ')]\n",
    "#    arr.append(arr_t)\n",
    "\n",
    "arr = [[1, 1, 1, 0, 0, 0], [0, 1, 0, 0, 0, 0], [1, 1, 1, 0, 0, 0], [0, 0, 2, 4, 4, 0], [0, 0, 0, 2, 0, 0], [0, 0, 1, 2, 4, 0]]    \n",
    " \n",
    "def cum_sum_array(array):\n",
    "    all_list = []\n",
    "    for index in range(4):       \n",
    "        all_list.append( sum(array[index:index+3]) )        \n",
    "    return (all_list)\n",
    "\n",
    "sum_list = []\n",
    "for row_index in range(4):\n",
    "#for row_index in range(2):\n",
    "    first_row = cum_sum_array(arr[row_index])\n",
    "    second_row = arr[row_index+1][1:5]\n",
    "    third_row = cum_sum_array(arr[row_index+2])\n",
    "    sum_list.append(max([x + y + z for x, y, z in zip(first_row, second_row, third_row)]) )\n",
    "#print (max(sum_list))\n",
    "\n",
    "    "
   ]
  },
  {
   "cell_type": "code",
   "execution_count": null,
   "metadata": {
    "collapsed": true
   },
   "outputs": [],
   "source": []
  },
  {
   "cell_type": "markdown",
   "metadata": {},
   "source": [
    "### Count consecutive 1s from binary representation ###  "
   ]
  },
  {
   "cell_type": "code",
   "execution_count": null,
   "metadata": {},
   "outputs": [],
   "source": [
    "## optimal solution ## I love python!\n",
    "## https://www.hackerrank.com/challenges/30-binary-numbers/forum\n",
    "\n",
    "print(len(max(bin(int(input().strip()))[2:].split('0'))))"
   ]
  },
  {
   "cell_type": "code",
   "execution_count": null,
   "metadata": {
    "collapsed": true
   },
   "outputs": [],
   "source": []
  },
  {
   "cell_type": "code",
   "execution_count": null,
   "metadata": {},
   "outputs": [],
   "source": [
    "#!/bin/python3\n",
    "\n",
    "import sys\n",
    "\n",
    "n = int(input().strip())\n",
    "our_string = bin(n)[2:]\n",
    "#our_string = '111011'\n",
    "\n",
    "print (\"Input {}. \\nOutput binary: {}\".format(n, our_string))\n",
    "\n",
    "max_count = 0\n",
    "count_1s = 0\n",
    "for i in our_string:\n",
    "    #print (i)\n",
    "    if i == '1':  \n",
    "        count_1s += 1\n",
    "        #print (\"count is {}\".format(count_1s))\n",
    "    else:\n",
    "        if count_1s > max_count:\n",
    "            max_count = int(count_1s)\n",
    "        count_1s = 0\n",
    "print (max_count)\n",
    "\n",
    "\n"
   ]
  },
  {
   "cell_type": "markdown",
   "metadata": {},
   "source": [
    "### from one base to another base ###"
   ]
  },
  {
   "cell_type": "code",
   "execution_count": null,
   "metadata": {},
   "outputs": [],
   "source": [
    "def frm(x, b):\n",
    "    \"\"\"\n",
    "    Converts given number x, from base 10 to base b \n",
    "    x -- the number in base 10\n",
    "    b -- base to convert\n",
    "    \"\"\"\n",
    "    assert(x >= 0)\n",
    "    assert(1< b < 37)\n",
    "    r = ''\n",
    "    import string\n",
    "    while x > 0:\n",
    "        r = string.printable[x % b] + r\n",
    "        x //= b\n",
    "    return r\n",
    "def to(s, b):\n",
    "    \"\"\"\n",
    "    Converts given number s, from base b to base 10\n",
    "    s -- string representation of number\n",
    "    b -- base of given number\n",
    "    \"\"\"\n",
    "    assert(1 < b < 37)\n",
    "    return int(s, b)\n",
    "def convert(s, a, b):\n",
    "    \"\"\"\n",
    "    Converts s from base a to base b\n",
    "    \"\"\"\n",
    "    return frm(to(s, a), b)\n",
    "\n",
    "input_string = '12'\n",
    "convert(input_string, 4, 2)"
   ]
  },
  {
   "cell_type": "code",
   "execution_count": null,
   "metadata": {
    "collapsed": true
   },
   "outputs": [],
   "source": []
  },
  {
   "cell_type": "markdown",
   "metadata": {},
   "source": [
    "### Split, map, lambda examples ###"
   ]
  },
  {
   "cell_type": "code",
   "execution_count": null,
   "metadata": {},
   "outputs": [],
   "source": [
    "sentences = 'I really need a job!'\n",
    "words = sentences.split()\n",
    "print (words)\n",
    "\n",
    "lengths = map(lambda word: len(word), words)\n",
    "print (list(lengths))"
   ]
  },
  {
   "cell_type": "code",
   "execution_count": null,
   "metadata": {
    "collapsed": true
   },
   "outputs": [],
   "source": []
  },
  {
   "cell_type": "markdown",
   "metadata": {},
   "source": [
    "### Great approach to use lambda, filter, map, and reduce ###"
   ]
  },
  {
   "cell_type": "code",
   "execution_count": null,
   "metadata": {},
   "outputs": [],
   "source": [
    "from functools import reduce\n",
    "foo = [2, 3, 6, 13, 40, 99]\n",
    "\n",
    "print (list(filter(lambda x: x % 3 ==0, foo)))\n",
    "print (list(map(lambda x: x*2+10, foo)))\n",
    "print (reduce(lambda x, y: x+y, foo))"
   ]
  },
  {
   "cell_type": "markdown",
   "metadata": {},
   "source": [
    "### Classic factorial ###"
   ]
  },
  {
   "cell_type": "code",
   "execution_count": null,
   "metadata": {},
   "outputs": [],
   "source": [
    "factorial = lambda x : 1 if x<=1 else x*factorial(x-1)\n",
    "print(factorial(int(input())))"
   ]
  },
  {
   "cell_type": "code",
   "execution_count": null,
   "metadata": {
    "collapsed": true
   },
   "outputs": [],
   "source": []
  },
  {
   "cell_type": "markdown",
   "metadata": {},
   "source": [
    "### Dictionary look up ###"
   ]
  },
  {
   "cell_type": "code",
   "execution_count": null,
   "metadata": {},
   "outputs": [],
   "source": [
    "n = int(input())\n",
    "name_numbers = dict(input().split() for _ in range(n))\n",
    "phone_book = {k: v for k,v in name_numbers.items()}\n",
    "#print (phone_book)\n",
    "\n",
    "while n > 0:\n",
    "    n -= 1\n",
    "    try:\n",
    "        name = input()\n",
    "        if name in phone_book:\n",
    "            print('{}={}'.format(name, phone_book[name]))\n",
    "        else:\n",
    "            print('Not found')\n",
    "    except:\n",
    "        break"
   ]
  },
  {
   "cell_type": "code",
   "execution_count": null,
   "metadata": {
    "collapsed": true
   },
   "outputs": [],
   "source": []
  },
  {
   "cell_type": "code",
   "execution_count": null,
   "metadata": {},
   "outputs": [],
   "source": [
    "n_of_query = int(input())\n",
    "\n",
    "dic_name_phone = {}\n",
    "\n",
    "for i in range(n_of_query):\n",
    "    index, value = input().strip().split(' ')\n",
    "    dic_name_phone[index] = value\n",
    "\n",
    "looking_for = list(input().strip() for i in range(n_of_query) )\n",
    "\n",
    "  \n",
    "#print (looking_for)\n",
    "for this_one in looking_for:\n",
    "    try:\n",
    "        print (\"{}={}\".format(this_one, dic_name_phone[this_one]))\n",
    "    except:\n",
    "        print (\"Not found\")\n",
    "    \n"
   ]
  },
  {
   "cell_type": "code",
   "execution_count": null,
   "metadata": {
    "collapsed": true
   },
   "outputs": [],
   "source": []
  },
  {
   "cell_type": "markdown",
   "metadata": {},
   "source": [
    "### Reverse input array order ###"
   ]
  },
  {
   "cell_type": "code",
   "execution_count": null,
   "metadata": {},
   "outputs": [],
   "source": [
    "# n_of_element = int(input())\n",
    "# array_list = list(input().strip().split(\" \"))\n",
    "\n",
    "# n = int(input().strip())\n",
    "# arr = [int(arr_temp) for arr_temp in input().strip().split(' ')]\n",
    "\n",
    "n = 4\n",
    "arr = [1,2,3,4]\n",
    "print (*arr[::-1])\n",
    "## or\n",
    "print(\" \".join(map(str, arr[::-1])))\n",
    "## or\n",
    "print(' '.join(map(str, reversed(arr))))\n",
    "\n",
    "## this works for string element in the list\n",
    "arr = ['1', '2', '3', '4']\n",
    "print (\" \".join(arr[-1::-1]))\n"
   ]
  },
  {
   "cell_type": "code",
   "execution_count": null,
   "metadata": {
    "collapsed": true
   },
   "outputs": [],
   "source": []
  },
  {
   "cell_type": "markdown",
   "metadata": {},
   "source": [
    "### Split your string ###"
   ]
  },
  {
   "cell_type": "code",
   "execution_count": null,
   "metadata": {},
   "outputs": [],
   "source": [
    "## Use * to collect all the individual element from list, tuple, set, etc.\n",
    "for i in range(int(input())): \n",
    "    s=input(); \n",
    "    print(*[s[::2],s[1::2]])\n",
    "    #print([s[::2],s[1::2]])\n",
    "    #print(*[\"\".join(s[::2]),\"\".join(s[1::2])])"
   ]
  },
  {
   "cell_type": "markdown",
   "metadata": {},
   "source": []
  },
  {
   "cell_type": "code",
   "execution_count": null,
   "metadata": {},
   "outputs": [],
   "source": [
    "# n_of_string = int(input())\n",
    "# string_list = list( str(input().strip()) for _ in range(n_of_string))\n",
    "\n",
    "n_of_string = 2\n",
    "string_list = [\"ohIneedajob\", \"neverevergiveup\"]\n",
    "\n",
    "for i in range(n_of_string):\n",
    "    current_task = string_list[i]\n",
    "    even_word = current_task[0::2]\n",
    "    odd_word = current_task[1::2]\n",
    "    print (even_word, odd_word)\n"
   ]
  },
  {
   "cell_type": "code",
   "execution_count": null,
   "metadata": {
    "collapsed": true
   },
   "outputs": [],
   "source": []
  }
 ],
 "metadata": {
  "kernelspec": {
   "display_name": "Python 3",
   "language": "python",
   "name": "python3"
  },
  "language_info": {
   "codemirror_mode": {
    "name": "ipython",
    "version": 3
   },
   "file_extension": ".py",
   "mimetype": "text/x-python",
   "name": "python",
   "nbconvert_exporter": "python",
   "pygments_lexer": "ipython3",
   "version": "3.6.0"
  }
 },
 "nbformat": 4,
 "nbformat_minor": 2
}
