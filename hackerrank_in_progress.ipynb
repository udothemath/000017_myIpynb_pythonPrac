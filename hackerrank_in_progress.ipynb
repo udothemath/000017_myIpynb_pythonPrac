{
 "cells": [
  {
   "cell_type": "code",
   "execution_count": null,
   "metadata": {
    "collapsed": true
   },
   "outputs": [],
   "source": []
  },
  {
   "cell_type": "code",
   "execution_count": null,
   "metadata": {
    "collapsed": true
   },
   "outputs": [],
   "source": []
  },
  {
   "cell_type": "markdown",
   "metadata": {},
   "source": [
    "## 09/11/17 ##"
   ]
  },
  {
   "cell_type": "code",
   "execution_count": null,
   "metadata": {
    "collapsed": true
   },
   "outputs": [],
   "source": []
  },
  {
   "cell_type": "code",
   "execution_count": null,
   "metadata": {
    "collapsed": true
   },
   "outputs": [],
   "source": []
  },
  {
   "cell_type": "code",
   "execution_count": null,
   "metadata": {
    "collapsed": true
   },
   "outputs": [],
   "source": []
  },
  {
   "cell_type": "markdown",
   "metadata": {},
   "source": [
    "### Count consecutive 1s from binary representation ###  "
   ]
  },
  {
   "cell_type": "code",
   "execution_count": 88,
   "metadata": {},
   "outputs": [
    {
     "name": "stdout",
     "output_type": "stream",
     "text": [
      "23432\n",
      "3\n"
     ]
    }
   ],
   "source": [
    "## optimal solution ## I love python!\n",
    "## https://www.hackerrank.com/challenges/30-binary-numbers/forum\n",
    "\n",
    "print(len(max(bin(int(input().strip()))[2:].split('0'))))"
   ]
  },
  {
   "cell_type": "code",
   "execution_count": null,
   "metadata": {
    "collapsed": true
   },
   "outputs": [],
   "source": []
  },
  {
   "cell_type": "code",
   "execution_count": 87,
   "metadata": {},
   "outputs": [
    {
     "name": "stdout",
     "output_type": "stream",
     "text": [
      "456545654\n",
      "Input 456545654. \n",
      "Output binary: 11011001101100101010101110110\n",
      "3\n"
     ]
    }
   ],
   "source": [
    "#!/bin/python3\n",
    "\n",
    "import sys\n",
    "\n",
    "n = int(input().strip())\n",
    "our_string = bin(n)[2:]\n",
    "#our_string = '111011'\n",
    "\n",
    "print (\"Input {}. \\nOutput binary: {}\".format(n, our_string))\n",
    "\n",
    "max_count = 0\n",
    "count_1s = 0\n",
    "for i in our_string:\n",
    "    #print (i)\n",
    "    if i == '1':  \n",
    "        count_1s += 1\n",
    "        #print (\"count is {}\".format(count_1s))\n",
    "    else:\n",
    "        if count_1s > max_count:\n",
    "            max_count = int(count_1s)\n",
    "        count_1s = 0\n",
    "print (max_count)\n",
    "\n",
    "\n"
   ]
  },
  {
   "cell_type": "markdown",
   "metadata": {},
   "source": [
    "### from one base to another base ###"
   ]
  },
  {
   "cell_type": "code",
   "execution_count": 84,
   "metadata": {},
   "outputs": [
    {
     "data": {
      "text/plain": [
       "'110'"
      ]
     },
     "execution_count": 84,
     "metadata": {},
     "output_type": "execute_result"
    }
   ],
   "source": [
    "def frm(x, b):\n",
    "    \"\"\"\n",
    "    Converts given number x, from base 10 to base b \n",
    "    x -- the number in base 10\n",
    "    b -- base to convert\n",
    "    \"\"\"\n",
    "    assert(x >= 0)\n",
    "    assert(1< b < 37)\n",
    "    r = ''\n",
    "    import string\n",
    "    while x > 0:\n",
    "        r = string.printable[x % b] + r\n",
    "        x //= b\n",
    "    return r\n",
    "def to(s, b):\n",
    "    \"\"\"\n",
    "    Converts given number s, from base b to base 10\n",
    "    s -- string representation of number\n",
    "    b -- base of given number\n",
    "    \"\"\"\n",
    "    assert(1 < b < 37)\n",
    "    return int(s, b)\n",
    "def convert(s, a, b):\n",
    "    \"\"\"\n",
    "    Converts s from base a to base b\n",
    "    \"\"\"\n",
    "    return frm(to(s, a), b)\n",
    "\n",
    "input_string = '12'\n",
    "convert(input_string, 4, 2)"
   ]
  },
  {
   "cell_type": "code",
   "execution_count": null,
   "metadata": {
    "collapsed": true
   },
   "outputs": [],
   "source": []
  },
  {
   "cell_type": "markdown",
   "metadata": {},
   "source": [
    "### Split, map, lambda examples ###"
   ]
  },
  {
   "cell_type": "code",
   "execution_count": 79,
   "metadata": {},
   "outputs": [
    {
     "name": "stdout",
     "output_type": "stream",
     "text": [
      "['I', 'really', 'need', 'a', 'job!']\n",
      "[1, 6, 4, 1, 4]\n"
     ]
    }
   ],
   "source": [
    "sentences = 'I really need a job!'\n",
    "words = sentences.split()\n",
    "print (words)\n",
    "\n",
    "lengths = map(lambda word: len(word), words)\n",
    "print (list(lengths))"
   ]
  },
  {
   "cell_type": "code",
   "execution_count": null,
   "metadata": {
    "collapsed": true
   },
   "outputs": [],
   "source": []
  },
  {
   "cell_type": "markdown",
   "metadata": {},
   "source": [
    "### Great approach to use lambda, filter, map, and reduce ###"
   ]
  },
  {
   "cell_type": "code",
   "execution_count": 77,
   "metadata": {},
   "outputs": [
    {
     "name": "stdout",
     "output_type": "stream",
     "text": [
      "[3, 6, 99]\n",
      "[14, 16, 22, 36, 90, 208]\n",
      "163\n"
     ]
    }
   ],
   "source": [
    "from functools import reduce\n",
    "foo = [2, 3, 6, 13, 40, 99]\n",
    "\n",
    "print (list(filter(lambda x: x % 3 ==0, foo)))\n",
    "print (list(map(lambda x: x*2+10, foo)))\n",
    "print (reduce(lambda x, y: x+y, foo))"
   ]
  },
  {
   "cell_type": "markdown",
   "metadata": {},
   "source": [
    "### Classic factorial ###"
   ]
  },
  {
   "cell_type": "code",
   "execution_count": 71,
   "metadata": {},
   "outputs": [
    {
     "name": "stdout",
     "output_type": "stream",
     "text": [
      "10\n",
      "3628800\n"
     ]
    }
   ],
   "source": [
    "factorial = lambda x : 1 if x<=1 else x*factorial(x-1)\n",
    "print(factorial(int(input())))"
   ]
  },
  {
   "cell_type": "code",
   "execution_count": null,
   "metadata": {
    "collapsed": true
   },
   "outputs": [],
   "source": []
  },
  {
   "cell_type": "markdown",
   "metadata": {},
   "source": [
    "### Dictionary look up ###"
   ]
  },
  {
   "cell_type": "code",
   "execution_count": 69,
   "metadata": {},
   "outputs": [
    {
     "name": "stdout",
     "output_type": "stream",
     "text": [
      "2\n",
      "d;klfaj 34\n",
      "dfakl;j 456\n",
      "{'d;klfaj': '34', 'dfakl;j': '456'}\n",
      "fa;ljkfa\n",
      "Not found\n",
      ";akdfj\n",
      "Not found\n"
     ]
    }
   ],
   "source": [
    "n = int(input())\n",
    "name_numbers = dict(input().split() for _ in range(n))\n",
    "phone_book = {k: v for k,v in name_numbers.items()}\n",
    "#print (phone_book)\n",
    "\n",
    "while n > 0:\n",
    "    n -= 1\n",
    "    try:\n",
    "        name = input()\n",
    "        if name in phone_book:\n",
    "            print('{}={}'.format(name, phone_book[name]))\n",
    "        else:\n",
    "            print('Not found')\n",
    "    except:\n",
    "        break"
   ]
  },
  {
   "cell_type": "code",
   "execution_count": null,
   "metadata": {
    "collapsed": true
   },
   "outputs": [],
   "source": []
  },
  {
   "cell_type": "code",
   "execution_count": 56,
   "metadata": {},
   "outputs": [
    {
     "name": "stdout",
     "output_type": "stream",
     "text": [
      "2\n",
      "f;dklfj 23\n",
      "qqq 11\n",
      "fdjak;fjk;fja;j;a\n",
      "qqq\n",
      "Not found\n",
      "qqq=11\n"
     ]
    }
   ],
   "source": [
    "n_of_query = int(input())\n",
    "\n",
    "dic_name_phone = {}\n",
    "\n",
    "for i in range(n_of_query):\n",
    "    index, value = input().strip().split(' ')\n",
    "    dic_name_phone[index] = value\n",
    "\n",
    "looking_for = list(input().strip() for i in range(n_of_query) )\n",
    "\n",
    "  \n",
    "#print (looking_for)\n",
    "for this_one in looking_for:\n",
    "    try:\n",
    "        print (\"{}={}\".format(this_one, dic_name_phone[this_one]))\n",
    "    except:\n",
    "        print (\"Not found\")\n",
    "    \n"
   ]
  },
  {
   "cell_type": "code",
   "execution_count": null,
   "metadata": {
    "collapsed": true
   },
   "outputs": [],
   "source": []
  },
  {
   "cell_type": "markdown",
   "metadata": {},
   "source": [
    "### Reverse input array order ###"
   ]
  },
  {
   "cell_type": "code",
   "execution_count": 41,
   "metadata": {},
   "outputs": [
    {
     "name": "stdout",
     "output_type": "stream",
     "text": [
      "4 3 2 1\n",
      "4 3 2 1\n",
      "4 3 2 1\n",
      "4 3 2 1\n"
     ]
    }
   ],
   "source": [
    "# n_of_element = int(input())\n",
    "# array_list = list(input().strip().split(\" \"))\n",
    "\n",
    "# n = int(input().strip())\n",
    "# arr = [int(arr_temp) for arr_temp in input().strip().split(' ')]\n",
    "\n",
    "n = 4\n",
    "arr = [1,2,3,4]\n",
    "print (*arr[::-1])\n",
    "## or\n",
    "print(\" \".join(map(str, arr[::-1])))\n",
    "## or\n",
    "print(' '.join(map(str, reversed(arr))))\n",
    "\n",
    "## this works for string element in the list\n",
    "arr = ['1', '2', '3', '4']\n",
    "print (\" \".join(arr[-1::-1]))\n"
   ]
  },
  {
   "cell_type": "code",
   "execution_count": null,
   "metadata": {
    "collapsed": true
   },
   "outputs": [],
   "source": []
  },
  {
   "cell_type": "markdown",
   "metadata": {},
   "source": [
    "### Split your string ###"
   ]
  },
  {
   "cell_type": "code",
   "execution_count": 12,
   "metadata": {},
   "outputs": [
    {
     "name": "stdout",
     "output_type": "stream",
     "text": [
      "2\n",
      "dfkadjfa;kdfja;k\n",
      "dkdf;dj; fajakfak\n",
      "jeoiafjfeakljef;k\n",
      "joajekjfk eiffale;\n"
     ]
    }
   ],
   "source": [
    "## Use * to collect all the individual element from list, tuple, set, etc.\n",
    "for i in range(int(input())): \n",
    "    s=input(); \n",
    "    print(*[s[::2],s[1::2]])\n",
    "    #print([s[::2],s[1::2]])\n",
    "    #print(*[\"\".join(s[::2]),\"\".join(s[1::2])])"
   ]
  },
  {
   "cell_type": "markdown",
   "metadata": {},
   "source": []
  },
  {
   "cell_type": "code",
   "execution_count": 5,
   "metadata": {},
   "outputs": [
    {
     "name": "stdout",
     "output_type": "stream",
     "text": [
      "oIedjb hneao\n",
      "nvrvriep eeeegvu\n"
     ]
    }
   ],
   "source": [
    "# n_of_string = int(input())\n",
    "# string_list = list( str(input().strip()) for _ in range(n_of_string))\n",
    "\n",
    "n_of_string = 2\n",
    "string_list = [\"ohIneedajob\", \"neverevergiveup\"]\n",
    "\n",
    "for i in range(n_of_string):\n",
    "    current_task = string_list[i]\n",
    "    even_word = current_task[0::2]\n",
    "    odd_word = current_task[1::2]\n",
    "    print (even_word, odd_word)\n"
   ]
  },
  {
   "cell_type": "code",
   "execution_count": null,
   "metadata": {
    "collapsed": true
   },
   "outputs": [],
   "source": []
  }
 ],
 "metadata": {
  "kernelspec": {
   "display_name": "Python 3",
   "language": "python",
   "name": "python3"
  },
  "language_info": {
   "codemirror_mode": {
    "name": "ipython",
    "version": 3
   },
   "file_extension": ".py",
   "mimetype": "text/x-python",
   "name": "python",
   "nbconvert_exporter": "python",
   "pygments_lexer": "ipython3",
   "version": "3.6.0"
  }
 },
 "nbformat": 4,
 "nbformat_minor": 2
}
