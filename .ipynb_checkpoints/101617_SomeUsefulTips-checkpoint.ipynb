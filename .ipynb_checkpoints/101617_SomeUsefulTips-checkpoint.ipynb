{
 "cells": [
  {
   "cell_type": "code",
   "execution_count": null,
   "metadata": {
    "collapsed": true
   },
   "outputs": [],
   "source": []
  },
  {
   "cell_type": "markdown",
   "metadata": {},
   "source": [
    "### Remove the N/A data entry ###"
   ]
  },
  {
   "cell_type": "code",
   "execution_count": 35,
   "metadata": {},
   "outputs": [],
   "source": [
    "import pandas as pd\n",
    "import numpy as np\n",
    "from IPython.display import display\n",
    "from sklearn.datasets import load_iris\n",
    "\n",
    "import matplotlib.pyplot as plt\n",
    "\n",
    "iris_data = load_iris()\n",
    "\n",
    "iris_x = iris_data.data\n",
    "iris_y = iris_data.target\n",
    "\n",
    "#print(iris_x)\n",
    "# df1 = pd.DataFrame({'A': [np.nan, '9', '23', '15'],\n",
    "#                     'B': ['22', '-4', '0', '-4'],\n",
    "#                     'C': ['90', '33', 0, '0'],\n",
    "#                     'D': ['994', np.nan, '5', '432']},\n",
    "#                     index=[0, 1, 2, 3])\n",
    "# print(\"Watch out the difference between integer and string\")\n",
    "# print(df1) "
   ]
  },
  {
   "cell_type": "code",
   "execution_count": 24,
   "metadata": {},
   "outputs": [
    {
     "name": "stdout",
     "output_type": "stream",
     "text": [
      "[[ 5.1  3.5  1.4  0.2]\n",
      " [ 4.9  3.   1.4  0.2]\n",
      " [ 4.7  3.2  1.3  0.2]]\n"
     ]
    }
   ],
   "source": [
    "print(iris_x[:3])"
   ]
  },
  {
   "cell_type": "code",
   "execution_count": 26,
   "metadata": {},
   "outputs": [
    {
     "name": "stdout",
     "output_type": "stream",
     "text": [
      "['DESCR', 'data', 'feature_names', 'target', 'target_names']\n",
      "['sepal length (cm)', 'sepal width (cm)', 'petal length (cm)', 'petal width (cm)']\n",
      "['setosa' 'versicolor' 'virginica']\n"
     ]
    }
   ],
   "source": [
    "print(dir(iris_data))\n",
    "print(iris_data.feature_names)\n",
    "print(iris_data.target_names)\n"
   ]
  },
  {
   "cell_type": "code",
   "execution_count": 28,
   "metadata": {},
   "outputs": [
    {
     "data": {
      "text/html": [
       "<div>\n",
       "<style>\n",
       "    .dataframe thead tr:only-child th {\n",
       "        text-align: right;\n",
       "    }\n",
       "\n",
       "    .dataframe thead th {\n",
       "        text-align: left;\n",
       "    }\n",
       "\n",
       "    .dataframe tbody tr th {\n",
       "        vertical-align: top;\n",
       "    }\n",
       "</style>\n",
       "<table border=\"1\" class=\"dataframe\">\n",
       "  <thead>\n",
       "    <tr style=\"text-align: right;\">\n",
       "      <th></th>\n",
       "      <th>sepal length (cm)</th>\n",
       "      <th>sepal width (cm)</th>\n",
       "      <th>petal length (cm)</th>\n",
       "      <th>petal width (cm)</th>\n",
       "    </tr>\n",
       "  </thead>\n",
       "  <tbody>\n",
       "    <tr>\n",
       "      <th>0</th>\n",
       "      <td>5.1</td>\n",
       "      <td>3.5</td>\n",
       "      <td>1.4</td>\n",
       "      <td>0.2</td>\n",
       "    </tr>\n",
       "    <tr>\n",
       "      <th>1</th>\n",
       "      <td>4.9</td>\n",
       "      <td>3.0</td>\n",
       "      <td>1.4</td>\n",
       "      <td>0.2</td>\n",
       "    </tr>\n",
       "    <tr>\n",
       "      <th>2</th>\n",
       "      <td>4.7</td>\n",
       "      <td>3.2</td>\n",
       "      <td>1.3</td>\n",
       "      <td>0.2</td>\n",
       "    </tr>\n",
       "  </tbody>\n",
       "</table>\n",
       "</div>"
      ],
      "text/plain": [
       "   sepal length (cm)  sepal width (cm)  petal length (cm)  petal width (cm)\n",
       "0                5.1               3.5                1.4               0.2\n",
       "1                4.9               3.0                1.4               0.2\n",
       "2                4.7               3.2                1.3               0.2"
      ]
     },
     "metadata": {},
     "output_type": "display_data"
    }
   ],
   "source": [
    "df1 = pd.DataFrame(iris_x, columns=iris_data.feature_names)\n",
    "display(df1.head(3))"
   ]
  },
  {
   "cell_type": "code",
   "execution_count": 43,
   "metadata": {},
   "outputs": [
    {
     "name": "stdout",
     "output_type": "stream",
     "text": [
      "sepal length (cm)    0\n",
      "sepal width (cm)     0\n",
      "petal length (cm)    0\n",
      "petal width (cm)     0\n",
      "dtype: int64\n"
     ]
    }
   ],
   "source": [
    "## Clean the data\n",
    "counter_nan = df1.isnull().sum()\n",
    "print(counter_nan)"
   ]
  },
  {
   "cell_type": "code",
   "execution_count": 44,
   "metadata": {},
   "outputs": [],
   "source": [
    "counter_without_nan = counter_nan[counter_nan==0]\n",
    "## remove the columns with missing elements\n",
    "df1_all = df1[counter_without_nan.keys()]"
   ]
  },
  {
   "cell_type": "code",
   "execution_count": 45,
   "metadata": {
    "collapsed": true
   },
   "outputs": [],
   "source": [
    "## remove the column by its indexes\n",
    "# df1_all = df1_all.iloc[:,:2]"
   ]
  },
  {
   "cell_type": "code",
   "execution_count": 46,
   "metadata": {},
   "outputs": [],
   "source": [
    "from sklearn.preprocessing import StandardScaler\n",
    "x = df1_all.iloc[:, :].values\n",
    "standard_scalar = StandardScaler()\n",
    "x_std = standard_scalar.fit_transform(x)"
   ]
  },
  {
   "cell_type": "code",
   "execution_count": 63,
   "metadata": {},
   "outputs": [
    {
     "name": "stdout",
     "output_type": "stream",
     "text": [
      "(150, 4)\n"
     ]
    }
   ],
   "source": [
    "print(x_std.shape)"
   ]
  },
  {
   "cell_type": "markdown",
   "metadata": {},
   "source": [
    "### T distributed stochastic neighbor embedding (t-SNE) visualization ###"
   ]
  },
  {
   "cell_type": "code",
   "execution_count": 47,
   "metadata": {},
   "outputs": [],
   "source": [
    "from sklearn.manifold import TSNE\n",
    "tsne = TSNE(n_components=2, random_state = 311)\n",
    "x_test_2d = tsne.fit_transform(x_std)"
   ]
  },
  {
   "cell_type": "code",
   "execution_count": 67,
   "metadata": {},
   "outputs": [
    {
     "name": "stdout",
     "output_type": "stream",
     "text": [
      "(150, 2)\n",
      "[[ 15.40242863 -14.17713165]\n",
      " [ 16.77496719 -10.51078129]\n",
      " [ 15.68960285 -11.44600105]\n",
      " [ 15.7251873  -10.68215561]\n",
      " [ 15.75592995 -14.78833389]]\n"
     ]
    }
   ],
   "source": [
    "print(x_test_2d.shape)\n",
    "print(x_test_2d[:5])"
   ]
  },
  {
   "cell_type": "code",
   "execution_count": 68,
   "metadata": {},
   "outputs": [
    {
     "name": "stdout",
     "output_type": "stream",
     "text": [
      "(298,)\n",
      "[-17.48503876 -17.2306118  -17.01259232 -16.83356667 -16.43995857]\n"
     ]
    }
   ],
   "source": [
    "print(np.unique(x_test_2d).shape)\n",
    "print(np.unique(x_test_2d)[:5])"
   ]
  },
  {
   "cell_type": "code",
   "execution_count": 71,
   "metadata": {},
   "outputs": [
    {
     "name": "stdout",
     "output_type": "stream",
     "text": [
      "[1 2 3 4 3]\n",
      "[1 2 3 4]\n"
     ]
    }
   ],
   "source": [
    "aa = np.array([1, 2, 3, 4, 3])\n",
    "print(aa)\n",
    "print(np.unique(aa))"
   ]
  },
  {
   "cell_type": "code",
   "execution_count": 72,
   "metadata": {},
   "outputs": [
    {
     "name": "stdout",
     "output_type": "stream",
     "text": [
      "15.4024\n",
      "16.775\n",
      "15.6896\n",
      "15.7252\n",
      "15.7559\n",
      "15.0692\n",
      "15.0787\n",
      "15.6137\n",
      "16.0052\n",
      "16.619\n",
      "14.7846\n",
      "15.5181\n",
      "16.428\n",
      "15.3905\n",
      "14.4486\n",
      "14.789\n",
      "14.9915\n",
      "15.5446\n",
      "14.4047\n",
      "15.6354\n",
      "14.5098\n",
      "15.7099\n",
      "16.7244\n",
      "16.4322\n",
      "15.3699\n",
      "17.0523\n",
      "15.9971\n",
      "15.1043\n",
      "15.0181\n",
      "15.7164\n",
      "16.1264\n",
      "14.5348\n",
      "15.4387\n",
      "14.9717\n",
      "16.619\n",
      "16.4066\n",
      "14.4612\n",
      "16.619\n",
      "15.6384\n",
      "15.3407\n",
      "15.8367\n",
      "16.182\n",
      "15.0906\n",
      "16.3346\n",
      "15.8573\n",
      "16.4304\n",
      "15.5917\n",
      "15.3964\n",
      "15.0272\n",
      "16.0284\n",
      "-5.35763\n",
      "-5.02462\n",
      "-5.57711\n",
      "-0.312495\n",
      "-3.71721\n",
      "-1.16753\n",
      "-5.36514\n",
      "1.00509\n",
      "-3.61672\n",
      "0.614341\n",
      "0.672488\n",
      "-1.93671\n",
      "-1.26062\n",
      "-2.98676\n",
      "-0.327804\n",
      "-4.69195\n",
      "-1.1563\n",
      "-0.902663\n",
      "-2.37875\n",
      "-0.276465\n",
      "-5.2042\n",
      "-2.05206\n",
      "-3.58046\n",
      "-2.52717\n",
      "-3.14515\n",
      "-4.14394\n",
      "-3.665\n",
      "-6.26084\n",
      "-2.71693\n",
      "-0.465564\n",
      "-0.0478753\n",
      "0.0096816\n",
      "-0.809192\n",
      "-4.19709\n",
      "-0.590712\n",
      "-5.24253\n",
      "-5.14202\n",
      "-2.2809\n",
      "-0.746925\n",
      "0.0769193\n",
      "-0.0321654\n",
      "-2.89766\n",
      "-0.748438\n",
      "0.857891\n",
      "-0.332643\n",
      "-1.02576\n",
      "-1.07794\n",
      "-2.67046\n",
      "0.886948\n",
      "-0.806543\n",
      "-9.92199\n",
      "-5.3699\n",
      "-8.56643\n",
      "-6.41277\n",
      "-8.20799\n",
      "-8.83058\n",
      "1.2762\n",
      "-8.16599\n",
      "-4.55659\n",
      "-10.6373\n",
      "-7.7713\n",
      "-5.7325\n",
      "-8.07451\n",
      "-5.34646\n",
      "-6.46542\n",
      "-9.07391\n",
      "-6.88659\n",
      "-10.8803\n",
      "-8.6731\n",
      "-2.44417\n",
      "-9.23818\n",
      "-5.82075\n",
      "-8.60148\n",
      "-4.8546\n",
      "-9.41741\n",
      "-8.24529\n",
      "-4.88548\n",
      "-5.1918\n",
      "-7.04445\n",
      "-7.61777\n",
      "-8.26433\n",
      "-10.8927\n",
      "-7.27139\n",
      "-3.95083\n",
      "-3.72569\n",
      "-9.04513\n",
      "-9.96193\n",
      "-6.8952\n",
      "-4.94693\n",
      "-8.41346\n",
      "-8.91277\n",
      "-8.69259\n",
      "-5.37004\n",
      "-9.3323\n",
      "-9.85309\n",
      "-8.37022\n",
      "-4.486\n",
      "-7.38934\n",
      "-9.83018\n",
      "-5.08077\n"
     ]
    },
    {
     "ename": "IndexError",
     "evalue": "index 150 is out of bounds for axis 0 with size 150",
     "output_type": "error",
     "traceback": [
      "\u001b[0;31m---------------------------------------------------------------------------\u001b[0m",
      "\u001b[0;31mIndexError\u001b[0m                                Traceback (most recent call last)",
      "\u001b[0;32m<ipython-input-72-715980059902>\u001b[0m in \u001b[0;36m<module>\u001b[0;34m()\u001b[0m\n\u001b[1;32m      5\u001b[0m \u001b[0;32mfor\u001b[0m \u001b[0midx\u001b[0m\u001b[0;34m,\u001b[0m \u001b[0mcl\u001b[0m \u001b[0;32min\u001b[0m \u001b[0menumerate\u001b[0m\u001b[0;34m(\u001b[0m\u001b[0mnp\u001b[0m\u001b[0;34m.\u001b[0m\u001b[0munique\u001b[0m\u001b[0;34m(\u001b[0m\u001b[0mx_test_2d\u001b[0m\u001b[0;34m)\u001b[0m\u001b[0;34m)\u001b[0m\u001b[0;34m:\u001b[0m\u001b[0;34m\u001b[0m\u001b[0m\n\u001b[1;32m      6\u001b[0m     \u001b[0;31m#print(idx, cl)\u001b[0m\u001b[0;34m\u001b[0m\u001b[0;34m\u001b[0m\u001b[0m\n\u001b[0;32m----> 7\u001b[0;31m     \u001b[0mprint\u001b[0m\u001b[0;34m(\u001b[0m\u001b[0mx_test_2d\u001b[0m\u001b[0;34m[\u001b[0m\u001b[0midx\u001b[0m\u001b[0;34m]\u001b[0m\u001b[0;34m[\u001b[0m\u001b[0;36m0\u001b[0m\u001b[0;34m]\u001b[0m\u001b[0;34m)\u001b[0m\u001b[0;34m\u001b[0m\u001b[0m\n\u001b[0m\u001b[1;32m      8\u001b[0m     \u001b[0;31m#plt.scatter(x=x_test_2d[idx][0], y=x_test_2d[idx][1])\u001b[0m\u001b[0;34m\u001b[0m\u001b[0;34m\u001b[0m\u001b[0m\n\u001b[1;32m      9\u001b[0m \u001b[0;31m#     plt.scatter(x=x_test_2d[idx][0], y=x_test_2d[idx][1], c=color_map[idx],\u001b[0m\u001b[0;34m\u001b[0m\u001b[0;34m\u001b[0m\u001b[0m\n",
      "\u001b[0;31mIndexError\u001b[0m: index 150 is out of bounds for axis 0 with size 150"
     ]
    }
   ],
   "source": [
    "# scatter plot the sample points among 5 classes\n",
    "markers = {'s', 'd', 'o', '^', 'v'}\n",
    "color_map = {0: 'red', 1: 'blue', 2: 'lightgreen', 3: 'purple', 4: 'cyan'}\n",
    "plt.figure()\n",
    "for idx, cl in enumerate(np.unique(x_test_2d)):\n",
    "    #print(idx, cl)\n",
    "    print(x_test_2d[idx][0])\n",
    "    #plt.scatter(x=x_test_2d[idx][0], y=x_test_2d[idx][1])\n",
    "#     plt.scatter(x=x_test_2d[idx][0], y=x_test_2d[idx][1], c=color_map[idx],\n",
    "#                 marker=markers[idx], label=cl) \n",
    "#plt.show()"
   ]
  },
  {
   "cell_type": "code",
   "execution_count": null,
   "metadata": {
    "collapsed": true
   },
   "outputs": [],
   "source": []
  },
  {
   "cell_type": "code",
   "execution_count": null,
   "metadata": {
    "collapsed": true
   },
   "outputs": [],
   "source": []
  },
  {
   "cell_type": "code",
   "execution_count": null,
   "metadata": {
    "collapsed": true
   },
   "outputs": [],
   "source": []
  },
  {
   "cell_type": "code",
   "execution_count": null,
   "metadata": {
    "collapsed": true
   },
   "outputs": [],
   "source": []
  },
  {
   "cell_type": "code",
   "execution_count": null,
   "metadata": {
    "collapsed": true
   },
   "outputs": [],
   "source": []
  },
  {
   "cell_type": "markdown",
   "metadata": {},
   "source": [
    "### Interactive matplotlib ###"
   ]
  },
  {
   "cell_type": "code",
   "execution_count": 3,
   "metadata": {
    "collapsed": true
   },
   "outputs": [],
   "source": [
    "# import matplotlib.pyplot as plt\n",
    "# %matplotlib notebook\n",
    "# plt.plot([0, 1, 2, 2])\n",
    "# plt.show()"
   ]
  },
  {
   "cell_type": "code",
   "execution_count": 2,
   "metadata": {
    "collapsed": true
   },
   "outputs": [],
   "source": [
    "## It doens't work on JupyterLab yet. 10/24/17\n",
    "# import ipympl\n",
    "# import matplotlib.pyplot as plt\n",
    "\n",
    "# plt.plot([0, 1, 2, 2])\n",
    "# plt.show()"
   ]
  },
  {
   "cell_type": "code",
   "execution_count": null,
   "metadata": {
    "collapsed": true
   },
   "outputs": [],
   "source": [
    "import pandas as pd\n",
    "import numpy as np\n",
    "from IPython.display import display\n",
    "\n",
    "df1 = pd.DataFrame({'A': ['0', '9', '23', '15'],\n",
    "                    'B': ['22', '-4', '0', '-4'],\n",
    "                    'C': ['90', '33', 0, '0'],\n",
    "                    'D': ['994', '-2', '5', '432']},\n",
    "                    index=[0, 1, 2, 3])\n",
    "print(\"Watch out the difference between integer and string\")\n",
    "print(df1) "
   ]
  },
  {
   "cell_type": "code",
   "execution_count": null,
   "metadata": {
    "collapsed": true
   },
   "outputs": [],
   "source": [
    "df1.C.loc[df1['C'] == 0] = np.nan\n",
    "print(df1)"
   ]
  },
  {
   "cell_type": "code",
   "execution_count": null,
   "metadata": {
    "collapsed": true
   },
   "outputs": [],
   "source": [
    "func = lambda x: df1.loc[df1[x] == '-4']\n",
    "len(func('B'))\n",
    "#len(df1.loc[df1['B'] == '-4'])"
   ]
  },
  {
   "cell_type": "code",
   "execution_count": null,
   "metadata": {
    "collapsed": true
   },
   "outputs": [],
   "source": [
    "## http://pandas.pydata.org/pandas-docs/stable/indexing.html#ix-indexer-is-deprecated\n",
    "dfd = pd.DataFrame({'A': [1, 2, 3],\n",
    "                    'B': [4, 5, 6]},\n",
    "                    index=list('abc'))\n",
    "display(dfd)"
   ]
  },
  {
   "cell_type": "code",
   "execution_count": null,
   "metadata": {
    "collapsed": true
   },
   "outputs": [],
   "source": [
    "print(dfd.loc[dfd.index[[0, 2]], 'A'])"
   ]
  },
  {
   "cell_type": "code",
   "execution_count": null,
   "metadata": {
    "collapsed": true
   },
   "outputs": [],
   "source": [
    "dfcat = pd.DataFrame({ 'A' : pd.Series(list('aabbcdba')).astype('category'),\n",
    "                       'B' : np.random.randn(8) })\n",
    "print(dfcat.dtypes)\n",
    "display(dfcat)\n"
   ]
  },
  {
   "cell_type": "code",
   "execution_count": null,
   "metadata": {
    "collapsed": true
   },
   "outputs": [],
   "source": [
    "cstore = pd.HDFStore('df_cats.h5', mode='w')\n",
    "cstore.append('dfcat', dfcat)\n",
    "## cstore.append('dfcat', dfcat, format='table', data_columns=['A'])\n",
    "##hello = cstore.select('dfcat')\n",
    "cstore.close()\n",
    "## result = cstore.select('dfcat', where=\"A in ['b','c']\")"
   ]
  },
  {
   "cell_type": "markdown",
   "metadata": {},
   "source": [
    "### Slicing the dataframe  \n",
    "#### https://stackoverflow.com/questions/10665889/how-to-take-column-slices-of-dataframe-in-pandas"
   ]
  },
  {
   "cell_type": "code",
   "execution_count": null,
   "metadata": {
    "collapsed": true
   },
   "outputs": [],
   "source": [
    "import pandas as pd    \n",
    "import numpy as np\n",
    "df = pd.DataFrame(np.random.rand(4,7), columns = list('abcdefg'))\n",
    "display(df)"
   ]
  },
  {
   "cell_type": "code",
   "execution_count": 4,
   "metadata": {},
   "outputs": [
    {
     "data": {
      "text/html": [
       "<div>\n",
       "<style>\n",
       "    .dataframe thead tr:only-child th {\n",
       "        text-align: right;\n",
       "    }\n",
       "\n",
       "    .dataframe thead th {\n",
       "        text-align: left;\n",
       "    }\n",
       "\n",
       "    .dataframe tbody tr th {\n",
       "        vertical-align: top;\n",
       "    }\n",
       "</style>\n",
       "<table border=\"1\" class=\"dataframe\">\n",
       "  <thead>\n",
       "    <tr style=\"text-align: right;\">\n",
       "      <th></th>\n",
       "      <th>a</th>\n",
       "      <th>b</th>\n",
       "      <th>c</th>\n",
       "    </tr>\n",
       "  </thead>\n",
       "  <tbody>\n",
       "    <tr>\n",
       "      <th>0</th>\n",
       "      <td>0.997441</td>\n",
       "      <td>0.467757</td>\n",
       "      <td>0.422065</td>\n",
       "    </tr>\n",
       "    <tr>\n",
       "      <th>1</th>\n",
       "      <td>0.632436</td>\n",
       "      <td>0.579141</td>\n",
       "      <td>0.414597</td>\n",
       "    </tr>\n",
       "    <tr>\n",
       "      <th>2</th>\n",
       "      <td>0.950893</td>\n",
       "      <td>0.688445</td>\n",
       "      <td>0.925318</td>\n",
       "    </tr>\n",
       "    <tr>\n",
       "      <th>3</th>\n",
       "      <td>0.556055</td>\n",
       "      <td>0.819518</td>\n",
       "      <td>0.502582</td>\n",
       "    </tr>\n",
       "  </tbody>\n",
       "</table>\n",
       "</div>"
      ],
      "text/plain": [
       "          a         b         c\n",
       "0  0.997441  0.467757  0.422065\n",
       "1  0.632436  0.579141  0.414597\n",
       "2  0.950893  0.688445  0.925318\n",
       "3  0.556055  0.819518  0.502582"
      ]
     },
     "execution_count": 4,
     "metadata": {},
     "output_type": "execute_result"
    }
   ],
   "source": [
    "df.loc[:, [\"a\", \"b\", \"c\"]] ## label based selective column slicing"
   ]
  },
  {
   "cell_type": "code",
   "execution_count": 5,
   "metadata": {},
   "outputs": [
    {
     "data": {
      "text/html": [
       "<div>\n",
       "<style>\n",
       "    .dataframe thead tr:only-child th {\n",
       "        text-align: right;\n",
       "    }\n",
       "\n",
       "    .dataframe thead th {\n",
       "        text-align: left;\n",
       "    }\n",
       "\n",
       "    .dataframe tbody tr th {\n",
       "        vertical-align: top;\n",
       "    }\n",
       "</style>\n",
       "<table border=\"1\" class=\"dataframe\">\n",
       "  <thead>\n",
       "    <tr style=\"text-align: right;\">\n",
       "      <th></th>\n",
       "      <th>a</th>\n",
       "      <th>b</th>\n",
       "      <th>c</th>\n",
       "    </tr>\n",
       "  </thead>\n",
       "  <tbody>\n",
       "    <tr>\n",
       "      <th>0</th>\n",
       "      <td>0.997441</td>\n",
       "      <td>0.467757</td>\n",
       "      <td>0.422065</td>\n",
       "    </tr>\n",
       "    <tr>\n",
       "      <th>1</th>\n",
       "      <td>0.632436</td>\n",
       "      <td>0.579141</td>\n",
       "      <td>0.414597</td>\n",
       "    </tr>\n",
       "    <tr>\n",
       "      <th>2</th>\n",
       "      <td>0.950893</td>\n",
       "      <td>0.688445</td>\n",
       "      <td>0.925318</td>\n",
       "    </tr>\n",
       "    <tr>\n",
       "      <th>3</th>\n",
       "      <td>0.556055</td>\n",
       "      <td>0.819518</td>\n",
       "      <td>0.502582</td>\n",
       "    </tr>\n",
       "  </tbody>\n",
       "</table>\n",
       "</div>"
      ],
      "text/plain": [
       "          a         b         c\n",
       "0  0.997441  0.467757  0.422065\n",
       "1  0.632436  0.579141  0.414597\n",
       "2  0.950893  0.688445  0.925318\n",
       "3  0.556055  0.819518  0.502582"
      ]
     },
     "execution_count": 5,
     "metadata": {},
     "output_type": "execute_result"
    }
   ],
   "source": [
    "df.loc[:, \"a\":\"c\"] ## label based column ranges slicing"
   ]
  },
  {
   "cell_type": "code",
   "execution_count": 6,
   "metadata": {},
   "outputs": [
    {
     "data": {
      "text/html": [
       "<div>\n",
       "<style>\n",
       "    .dataframe thead tr:only-child th {\n",
       "        text-align: right;\n",
       "    }\n",
       "\n",
       "    .dataframe thead th {\n",
       "        text-align: left;\n",
       "    }\n",
       "\n",
       "    .dataframe tbody tr th {\n",
       "        vertical-align: top;\n",
       "    }\n",
       "</style>\n",
       "<table border=\"1\" class=\"dataframe\">\n",
       "  <thead>\n",
       "    <tr style=\"text-align: right;\">\n",
       "      <th></th>\n",
       "      <th>a</th>\n",
       "      <th>b</th>\n",
       "      <th>c</th>\n",
       "    </tr>\n",
       "  </thead>\n",
       "  <tbody>\n",
       "    <tr>\n",
       "      <th>0</th>\n",
       "      <td>0.997441</td>\n",
       "      <td>0.467757</td>\n",
       "      <td>0.422065</td>\n",
       "    </tr>\n",
       "    <tr>\n",
       "      <th>1</th>\n",
       "      <td>0.632436</td>\n",
       "      <td>0.579141</td>\n",
       "      <td>0.414597</td>\n",
       "    </tr>\n",
       "    <tr>\n",
       "      <th>2</th>\n",
       "      <td>0.950893</td>\n",
       "      <td>0.688445</td>\n",
       "      <td>0.925318</td>\n",
       "    </tr>\n",
       "    <tr>\n",
       "      <th>3</th>\n",
       "      <td>0.556055</td>\n",
       "      <td>0.819518</td>\n",
       "      <td>0.502582</td>\n",
       "    </tr>\n",
       "  </tbody>\n",
       "</table>\n",
       "</div>"
      ],
      "text/plain": [
       "          a         b         c\n",
       "0  0.997441  0.467757  0.422065\n",
       "1  0.632436  0.579141  0.414597\n",
       "2  0.950893  0.688445  0.925318\n",
       "3  0.556055  0.819518  0.502582"
      ]
     },
     "execution_count": 6,
     "metadata": {},
     "output_type": "execute_result"
    }
   ],
   "source": [
    "df.iloc[:, 0:3] ## index based column ranges slicing "
   ]
  },
  {
   "cell_type": "code",
   "execution_count": 7,
   "metadata": {},
   "outputs": [
    {
     "data": {
      "text/html": [
       "<div>\n",
       "<style>\n",
       "    .dataframe thead tr:only-child th {\n",
       "        text-align: right;\n",
       "    }\n",
       "\n",
       "    .dataframe thead th {\n",
       "        text-align: left;\n",
       "    }\n",
       "\n",
       "    .dataframe tbody tr th {\n",
       "        vertical-align: top;\n",
       "    }\n",
       "</style>\n",
       "<table border=\"1\" class=\"dataframe\">\n",
       "  <thead>\n",
       "    <tr style=\"text-align: right;\">\n",
       "      <th></th>\n",
       "      <th>a</th>\n",
       "      <th>c</th>\n",
       "    </tr>\n",
       "  </thead>\n",
       "  <tbody>\n",
       "    <tr>\n",
       "      <th>0</th>\n",
       "      <td>0.997441</td>\n",
       "      <td>0.422065</td>\n",
       "    </tr>\n",
       "    <tr>\n",
       "      <th>1</th>\n",
       "      <td>0.632436</td>\n",
       "      <td>0.414597</td>\n",
       "    </tr>\n",
       "    <tr>\n",
       "      <th>2</th>\n",
       "      <td>0.950893</td>\n",
       "      <td>0.925318</td>\n",
       "    </tr>\n",
       "    <tr>\n",
       "      <th>3</th>\n",
       "      <td>0.556055</td>\n",
       "      <td>0.502582</td>\n",
       "    </tr>\n",
       "  </tbody>\n",
       "</table>\n",
       "</div>"
      ],
      "text/plain": [
       "          a         c\n",
       "0  0.997441  0.422065\n",
       "1  0.632436  0.414597\n",
       "2  0.950893  0.925318\n",
       "3  0.556055  0.502582"
      ]
     },
     "execution_count": 7,
     "metadata": {},
     "output_type": "execute_result"
    }
   ],
   "source": [
    "### with 2 different column ranges, index based slicing: \n",
    "df[df.columns[0:1].tolist() + df.columns[2:3].tolist()]"
   ]
  },
  {
   "cell_type": "code",
   "execution_count": 13,
   "metadata": {},
   "outputs": [
    {
     "data": {
      "text/plain": [
       "['a', 'c']"
      ]
     },
     "execution_count": 13,
     "metadata": {},
     "output_type": "execute_result"
    }
   ],
   "source": [
    "df.columns[0:1].tolist() + df.columns[2:3].tolist()"
   ]
  },
  {
   "cell_type": "markdown",
   "metadata": {},
   "source": [
    "### Table ###"
   ]
  },
  {
   "cell_type": "markdown",
   "metadata": {},
   "source": [
    "| This | is   |\n",
    "|------|------|\n",
    "|   a  | table|\n"
   ]
  },
  {
   "cell_type": "markdown",
   "metadata": {},
   "source": [
    "| Date | Name | Website |\n",
    "|:-----:\t|:------:\t|:-----------:\t|\n",
    "|A|B|C |"
   ]
  },
  {
   "cell_type": "markdown",
   "metadata": {},
   "source": [
    "### Classification comparison ###  \n",
    "https://machinelearningmastery.com/compare-machine-learning-algorithms-python-scikit-learn/"
   ]
  },
  {
   "cell_type": "code",
   "execution_count": null,
   "metadata": {
    "collapsed": true
   },
   "outputs": [],
   "source": [
    "# Compare Algorithms\n",
    "import pandas\n",
    "import matplotlib.pyplot as plt\n",
    "from sklearn import model_selection\n",
    "from sklearn.linear_model import LogisticRegression\n",
    "from sklearn.tree import DecisionTreeClassifier\n",
    "from sklearn.neighbors import KNeighborsClassifier\n",
    "from sklearn.discriminant_analysis import LinearDiscriminantAnalysis\n",
    "from sklearn.naive_bayes import GaussianNB\n",
    "from sklearn.svm import SVC\n",
    "# load dataset\n",
    "url = \"https://archive.ics.uci.edu/ml/machine-learning-databases/pima-indians-diabetes/pima-indians-diabetes.data\"\n",
    "names = ['preg', 'plas', 'pres', 'skin', 'test', 'mass', 'pedi', 'age', 'class']\n",
    "dataframe = pandas.read_csv(url, names=names)\n",
    "array = dataframe.values\n",
    "X = array[:,0:8]\n",
    "Y = array[:,8]\n",
    "# prepare configuration for cross validation test harness\n",
    "seed = 7\n",
    "# prepare models\n",
    "models = []\n",
    "models.append(('LR', LogisticRegression()))\n",
    "models.append(('LDA', LinearDiscriminantAnalysis()))\n",
    "models.append(('KNN', KNeighborsClassifier()))\n",
    "models.append(('CART', DecisionTreeClassifier()))\n",
    "models.append(('NB', GaussianNB()))\n",
    "models.append(('SVM', SVC()))\n",
    "# evaluate each model in turn\n",
    "results = []\n",
    "names = []\n",
    "scoring = 'accuracy'\n",
    "for name, model in models:\n",
    "\tkfold = model_selection.KFold(n_splits=10, random_state=seed)\n",
    "\tcv_results = model_selection.cross_val_score(model, X, Y, cv=kfold, scoring=scoring)\n",
    "\tresults.append(cv_results)\n",
    "\tnames.append(name)\n",
    "\tmsg = \"%s: %f (%f)\" % (name, cv_results.mean(), cv_results.std())\n",
    "\tprint(msg)\n",
    "# boxplot algorithm comparison\n",
    "fig = plt.figure()\n",
    "fig.suptitle('Algorithm Comparison')\n",
    "ax = fig.add_subplot(111)\n",
    "plt.boxplot(results)\n",
    "ax.set_xticklabels(names)\n",
    "plt.show()"
   ]
  },
  {
   "cell_type": "code",
   "execution_count": 1,
   "metadata": {},
   "outputs": [
    {
     "data": {
      "image/png": "[encoded data removed]",
      "text/plain": [
       "<matplotlib.figure.Figure at 0x10a0da710>"
      ]
     },
     "metadata": {},
     "output_type": "display_data"
    }
   ],
   "source": [
    "import matplotlib\n",
    "#matplotlib.use(\"TkAgg\")\n",
    "\n",
    "import cartopy\n",
    "import cartopy.crs as ccrs\n",
    "import matplotlib.pyplot as plt\n",
    "ax = plt.axes(projection=ccrs.Mollweide())\n",
    "ax.stock_img()\n",
    "plt.show()"
   ]
  },
  {
   "cell_type": "code",
   "execution_count": 2,
   "metadata": {},
   "outputs": [
    {
     "name": "stdout",
     "output_type": "stream",
     "text": [
      "(23.59829785, 120.835363138175)\n",
      "{'place_id': '179822071', 'licence': 'Data © OpenStreetMap contributors, ODbL 1.0. http://www.openstreetmap.org/copyright', 'osm_type': 'relation', 'osm_id': '7219605', 'boundingbox': ['21.8968599', '25.2997353', '120.0341883', '122.0064049'], 'lat': '23.59829785', 'lon': '120.835363138175', 'display_name': '臺灣, 信義鄉, 南投縣, 臺灣', 'class': 'place', 'type': 'island', 'importance': 0.75910570161765}\n"
     ]
    }
   ],
   "source": [
    "from geopy.geocoders import Nominatim\n",
    "geolocator = Nominatim()\n",
    "location = geolocator.geocode(\"Taiwan\")\n",
    "#print(location.address)\n",
    "print((location.latitude, location.longitude))\n",
    "print(location.raw)"
   ]
  },
  {
   "cell_type": "code",
   "execution_count": null,
   "metadata": {
    "collapsed": true
   },
   "outputs": [],
   "source": []
  }
 ],
 "metadata": {
  "kernelspec": {
   "display_name": "Python 3",
   "language": "python",
   "name": "python3"
  },
  "language_info": {
   "codemirror_mode": {
    "name": "ipython",
    "version": 3
   },
   "file_extension": ".py",
   "mimetype": "text/x-python",
   "name": "python",
   "nbconvert_exporter": "python",
   "pygments_lexer": "ipython3",
   "version": "3.6.0"
  }
 },
 "nbformat": 4,
 "nbformat_minor": 2
}
