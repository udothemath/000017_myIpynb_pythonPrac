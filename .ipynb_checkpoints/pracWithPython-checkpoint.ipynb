{
 "cells": [
  {
   "cell_type": "markdown",
   "metadata": {},
   "source": [
    "## 08/15/17 ##"
   ]
  },
  {
   "cell_type": "markdown",
   "metadata": {},
   "source": [
    "### Graph ###"
   ]
  },
  {
   "cell_type": "code",
   "execution_count": null,
   "metadata": {
    "collapsed": true
   },
   "outputs": [],
   "source": [
    "def color_graph(graph, colors):\n",
    "\n",
    "    for node in graph:   \n",
    "        \n",
    "        if node in node.neighbors:\n",
    "            raise Exception('Legal coloring impossible for node with loop: {}'.format(node.label))\n",
    "        \n",
    "        \n",
    "        ## get the node's nieghbors' colors, as a set so we\n",
    "        ## can check if a color is illegal in constant time\n",
    "        illegal_colors = set([neighbor.color for neighbor in node.neighbors if neighbor.color])\n",
    "        \n",
    "        ## assign the first legal color\n",
    "        for color in colors:\n",
    "            if color not in illegal_colors:\n",
    "                node.color = color\n",
    "                break\n",
    "                \n"
   ]
  },
  {
   "cell_type": "code",
   "execution_count": null,
   "metadata": {
    "collapsed": true
   },
   "outputs": [],
   "source": []
  },
  {
   "cell_type": "code",
   "execution_count": null,
   "metadata": {
    "collapsed": true
   },
   "outputs": [],
   "source": []
  },
  {
   "cell_type": "markdown",
   "metadata": {},
   "source": [
    "### Broadly (this is definitely a simplification), there are two main types of databases these days: ###\n",
    "\n",
    "- Relational databases (RDBMs) like MySQL and Postgres.  \n",
    "- \"NoSQL\"-style databases like BigTable and Cassandra.  \n",
    "\n",
    "In general (again, this is a simplification), relational databases are great for systems where you expect to make lots of complex queries involving joins and such—in other words, they're good if you're planning to look at the relationships between things a lot. NoSQL databases don't handle these things quite as well, but in exchange they're faster for writes and simple key-value reads. \n"
   ]
  },
  {
   "cell_type": "code",
   "execution_count": null,
   "metadata": {
    "collapsed": true
   },
   "outputs": [],
   "source": []
  },
  {
   "cell_type": "markdown",
   "metadata": {},
   "source": [
    "### Merge two lists ###"
   ]
  },
  {
   "cell_type": "markdown",
   "metadata": {},
   "source": [
    "#### my naive solution ####"
   ]
  },
  {
   "cell_type": "code",
   "execution_count": 115,
   "metadata": {},
   "outputs": [
    {
     "name": "stdout",
     "output_type": "stream",
     "text": [
      "[1, 3, 5, 6, 7, 8, 9]\n",
      "[2, 4, 6]\n",
      "[3, 5, 6, 7, 8, 9]\n",
      "[2, 4, 6]\n",
      "[3, 5, 6, 7, 8, 9]\n",
      "[4, 6]\n",
      "[5, 6, 7, 8, 9]\n",
      "[4, 6]\n",
      "[5, 6, 7, 8, 9]\n",
      "[6]\n",
      "[6, 7, 8, 9]\n",
      "[6]\n",
      "[7, 8, 9]\n",
      "[6]\n"
     ]
    },
    {
     "data": {
      "text/plain": [
       "[1, 2, 3, 4, 5, 6, 6, 7, 8, 9]"
      ]
     },
     "execution_count": 115,
     "metadata": {},
     "output_type": "execute_result"
    }
   ],
   "source": [
    "def merge_two_list(list1, list2):\n",
    "    merged_list = []\n",
    "    while list1 and list2:\n",
    "        print (list1)\n",
    "        print (list2)\n",
    "        list1_head = list1[0]\n",
    "        list2_head = list2[0]\n",
    "        if list1_head <= list2_head:\n",
    "            merged_list.append(list1_head)\n",
    "            list1.pop(0)\n",
    "        else:\n",
    "            merged_list.append(list2_head)\n",
    "            list2.pop(0)\n",
    "    \n",
    "    ## add the remaining to the merged_list        \n",
    "    merged_list += list1 + list2    \n",
    "    return merged_list\n",
    "        \n",
    "list1 = [1,3,5,6,7,8,9]\n",
    "list2 = [2,4,6]\n",
    "\n",
    "merge_two_list(list1, list2)\n",
    "    "
   ]
  },
  {
   "cell_type": "code",
   "execution_count": 100,
   "metadata": {},
   "outputs": [
    {
     "data": {
      "text/plain": [
       "1"
      ]
     },
     "execution_count": 100,
     "metadata": {},
     "output_type": "execute_result"
    }
   ],
   "source": [
    "from collections import deque\n",
    "\n",
    "list1 = [1,2,3]\n",
    "list1.pop(0)"
   ]
  },
  {
   "cell_type": "markdown",
   "metadata": {},
   "source": [
    "### Write a function that returns a list of all the duplicate files ###  \n",
    "- a dictionary to hold the files we've already seen  \n",
    "- a stack (we'll implement ours with a list) to hold directories and files as we go through them  \n",
    "- a list to hold our output tuples  \n",
    "\n",
    "Error: read utf-8"
   ]
  },
  {
   "cell_type": "code",
   "execution_count": 94,
   "metadata": {},
   "outputs": [],
   "source": [
    "import os\n",
    "\n",
    "def find_duplicate_files(starting_directory):\n",
    "    files_seen_already = {}\n",
    "    stack = [starting_directory]\n",
    "    \n",
    "    ## we will track tuples of (duplicate_file, original_file)\n",
    "    duplicates = []\n",
    "    while len(stack) > 0:\n",
    "        current_path = stack.pop()\n",
    "        \n",
    "        ## if it's a directory\n",
    "        ## put the contents in our stack\n",
    "        if os.path.isdir(current_path):\n",
    "            for path in os.listdir(current_path):\n",
    "                full_path = os.path.join(current_path, path)\n",
    "                stack.append(full_path)\n",
    "                \n",
    "        ## if it is a file        \n",
    "        else:\n",
    "            \n",
    "            ## get its contents\n",
    "            with open(current_path) as file:\n",
    "                file_contents = file.read()\n",
    "            \n",
    "            ## get its last edited time\n",
    "            current_last_edited_time = os.path.getmtime(current_path)\n",
    "            \n",
    "            ## if we have seen it before\n",
    "            if file_contents in files_seen_already:\n",
    "                                \n",
    "                existing_last_edited_time, existing_path = files_seen_already[file_contents]\n",
    "                \n",
    "                if current_last_edited_time > existing_last_edited_time:\n",
    "                    ## current (The later version) file is the dupe\n",
    "                    duplicates.append((current_path, existing_path))\n",
    "                    \n",
    "                else:\n",
    "                    ## old file is the dupe!\n",
    "                    ## so delete it\n",
    "                    duplicates.append((existing_path, current_path))\n",
    "                    \n",
    "                    ## but also update files_seen_already to have the new file's info\n",
    "                    files_seen_already[file_contents] = \\\n",
    "                        (current_last_edited_time, current_path)\n",
    "            \n",
    "            ## if it is a new file, throuw it in files_seen_already\n",
    "            ## and record the path and the last edited time\n",
    "            ## so we can delete it later if it's a dupe\n",
    "            else:\n",
    "                files_seen_already[file_contents] = \\\n",
    "                    (current_last_edited_time, current_path)                   \n",
    "                            \n",
    "    return duplicates\n",
    "\n",
    "\n",
    "#find_duplicate_files(\"/Users/udothemath1984/ML_2017/2017_move_on/000017_myIpynb_pythonPrac\")"
   ]
  },
  {
   "cell_type": "code",
   "execution_count": null,
   "metadata": {},
   "outputs": [],
   "source": []
  },
  {
   "cell_type": "markdown",
   "metadata": {},
   "source": [
    "### find duplicate, optimal O(n) in time, O(1) in space ###"
   ]
  },
  {
   "cell_type": "code",
   "execution_count": 84,
   "metadata": {},
   "outputs": [
    {
     "data": {
      "text/plain": [
       "5"
      ]
     },
     "execution_count": 84,
     "metadata": {},
     "output_type": "execute_result"
    }
   ],
   "source": [
    "def find_duplicate(int_list):\n",
    "    n = len(int_list) - 1\n",
    "    \n",
    "    ## step 1: get inside a cycle\n",
    "    ## start at position n+1 and walk n steps to\n",
    "    ## find a position guaranteed to be in a cycle\n",
    "    position_in_cycle = n + 1\n",
    "    for _ in range(n):\n",
    "        position_in_cycle = int_list[position_in_cycle - 1]\n",
    "        \n",
    "    ## step 2: find the length of the cycle\n",
    "    ## find the length of the cycle by remembering a position in the cycle\n",
    "    ## and counting the steps it takes to get back to that position\n",
    "    remembered_position_in_cycle = position_in_cycle\n",
    "    current_position_in_cycle = int_list[position_in_cycle - 1] ## 1 step ahead\n",
    "    cycle_step_count = 1\n",
    "    \n",
    "    ## keep moving to find number of steps in cycle\n",
    "    while current_position_in_cycle != remembered_position_in_cycle:\n",
    "        current_position_in_cycle = int_list[current_position_in_cycle - 1]\n",
    "        cycle_step_count += 1\n",
    "        \n",
    "    #print (cycle_step_count)    \n",
    "    ## step 3: find the first node of the cycle\n",
    "    ## start two pointers\n",
    "    ## (1) at position n+1\n",
    "    ## (2) ahead of position n+1 as many steps as the cycle's length\n",
    "    \n",
    "    pointer_start = n + 1\n",
    "    pointer_ahead = n + 1\n",
    "    for _ in range(cycle_step_count):\n",
    "        pointer_ahead = int_list[pointer_ahead - 1]\n",
    "        #print (pointer_ahead)\n",
    "      \n",
    "    ## advance until the pointers are in the same position\n",
    "    ## which is the first node in the cycle\n",
    "    while pointer_start != pointer_ahead:\n",
    "        pointer_start = int_list[pointer_start - 1]\n",
    "        pointer_ahead = int_list[pointer_ahead - 1]\n",
    "    \n",
    "    ## since there are multiple values pointing to the first node\n",
    "    ## in the cycle, its position is a duplicate in our list\n",
    "    return pointer_start\n",
    "\n",
    "\n",
    "\n",
    "#int_list = [3, 4, 2, 3, 1, 5]\n",
    "\n",
    "int_list = [2, 5, 5, 3, 1, 1, 4, 7]\n",
    "\n",
    "\n",
    "find_duplicate(int_list)"
   ]
  },
  {
   "cell_type": "code",
   "execution_count": null,
   "metadata": {
    "collapsed": true
   },
   "outputs": [],
   "source": []
  },
  {
   "cell_type": "markdown",
   "metadata": {},
   "source": [
    "### find duplicate, space version ###"
   ]
  },
  {
   "cell_type": "markdown",
   "metadata": {},
   "source": [
    "#### O(n log n) in time, O(1) in space ####"
   ]
  },
  {
   "cell_type": "code",
   "execution_count": 68,
   "metadata": {},
   "outputs": [
    {
     "name": "stdout",
     "output_type": "stream",
     "text": [
      "4\n"
     ]
    }
   ],
   "source": [
    "def find_repeat(the_list):\n",
    "    floor = 1\n",
    "    ceiling = len(the_list) - 1\n",
    "    while floor < ceiling:\n",
    "        ## divide our range 1..n into an upper range and lower range\n",
    "        ## (such that they don't overlap)\n",
    "        ## lower range is floor..midpoint\n",
    "        ## upper range is midpoint+1..ceiling\n",
    "        midpoint = int (floor + ((ceiling - floor)) / 2)\n",
    "        lower_range_floor, lower_range_ceiling = floor, midpoint\n",
    "        upper_range_floor, upper_range_ceiling = midpoint+1, ceiling\n",
    "        \n",
    "        ## count number of items in lower range\n",
    "        items_in_lower_range = 0\n",
    "        for item in the_list:\n",
    "            # is it in the lower range?\n",
    "            if item >= lower_range_floor and item <= lower_range_ceiling:\n",
    "                items_in_lower_range += 1\n",
    "        \n",
    "        distinct_possible_intergers_in_lower_range = \\\n",
    "        lower_range_ceiling - lower_range_floor + 1\n",
    "        \n",
    "        if items_in_lower_range > distinct_possible_intergers_in_lower_range:\n",
    "            ## there must be a duplicate in the lower range\n",
    "            ## so use the same approach iteratively on that range\n",
    "            floor, ceiling = lower_range_floor, lower_range_ceiling\n",
    "        else:\n",
    "            ## there must be a duplicate in the upper range\n",
    "            ## so use the same approach iteratively on that trange\n",
    "            floor, ceiling = upper_range_floor, upper_range_ceiling\n",
    "        \n",
    "    ## floor and ceiling have converged\n",
    "    ## we found a number that repeats!\n",
    "    return floor\n",
    "            \n",
    "        \n",
    "my_testing_list = [1,9,7,5,3,8,2,4,6,6,6,4,6]    \n",
    "\n",
    "print (find_repeat(my_testing_list))\n"
   ]
  },
  {
   "cell_type": "code",
   "execution_count": null,
   "metadata": {
    "collapsed": true
   },
   "outputs": [],
   "source": []
  },
  {
   "cell_type": "markdown",
   "metadata": {},
   "source": [
    "#### O(n$^2$) in time, O(1) in space ####"
   ]
  },
  {
   "cell_type": "code",
   "execution_count": 60,
   "metadata": {},
   "outputs": [
    {
     "data": {
      "text/plain": [
       "1"
      ]
     },
     "execution_count": 60,
     "metadata": {},
     "output_type": "execute_result"
    }
   ],
   "source": [
    "def find_repeat_brute_force(numbers):\n",
    "    for needle in range(1, len(numbers)):\n",
    "        has_been_seen = False\n",
    "        for number in numbers:\n",
    "            if number == needle:\n",
    "                if has_been_seen:\n",
    "                    return number\n",
    "                else:\n",
    "                    has_been_seen = True\n",
    "    ## no duplicate\n",
    "    raise Exception('There is no duplicate.')\n",
    "        \n",
    "find_repeat_brute_force([1,2,3,4,3,2,9,1,1,1,8])\n",
    "        "
   ]
  },
  {
   "cell_type": "code",
   "execution_count": null,
   "metadata": {
    "collapsed": true
   },
   "outputs": [],
   "source": []
  },
  {
   "cell_type": "markdown",
   "metadata": {},
   "source": [
    "#### O(n) in time, O(n) in space ####"
   ]
  },
  {
   "cell_type": "code",
   "execution_count": 56,
   "metadata": {},
   "outputs": [
    {
     "data": {
      "text/plain": [
       "3"
      ]
     },
     "execution_count": 56,
     "metadata": {},
     "output_type": "execute_result"
    }
   ],
   "source": [
    "## only find the first duplicate\n",
    "def find_duplicate(numbers):\n",
    "    numbers_seen = set()\n",
    "    for number in numbers:\n",
    "        if number in numbers_seen:\n",
    "            return number\n",
    "        else:\n",
    "            numbers_seen.add(number)\n",
    "    \n",
    "    raise Exception(\"There is no duplicate.\")\n",
    "    \n",
    "find_duplicate([1,2,3,4,3,2])"
   ]
  },
  {
   "cell_type": "markdown",
   "metadata": {},
   "source": [
    "### Drop eggs from the building ###"
   ]
  },
  {
   "cell_type": "markdown",
   "metadata": {},
   "source": [
    "n + (n - 1) + ... + 2 + 1 = 100  \n",
    "n $\\approx$ 13.4 "
   ]
  },
  {
   "cell_type": "code",
   "execution_count": 47,
   "metadata": {},
   "outputs": [
    {
     "name": "stdout",
     "output_type": "stream",
     "text": [
      "27\n",
      "39\n",
      "50\n",
      "60\n",
      "69\n",
      "77\n",
      "84\n",
      "90\n",
      "95\n",
      "99\n"
     ]
    }
   ],
   "source": [
    "first_drop_at = 14\n",
    "\n",
    "for i in range(13, 3, -1):\n",
    "    first_drop_at += i\n",
    "    print (first_drop_at)\n",
    "    \n",
    "\n",
    "# print (\"drop at 13 ...\")    \n",
    "# first_drop_at = 13\n",
    "\n",
    "# for i in range(12, 1, -1):\n",
    "#     first_drop_at += i\n",
    "#     print (first_drop_at)"
   ]
  },
  {
   "cell_type": "code",
   "execution_count": null,
   "metadata": {
    "collapsed": true
   },
   "outputs": [],
   "source": []
  },
  {
   "cell_type": "markdown",
   "metadata": {},
   "source": [
    "### use random rand(5) to generate random rand(7) ###  "
   ]
  },
  {
   "cell_type": "code",
   "execution_count": null,
   "metadata": {
    "collapsed": true
   },
   "outputs": [],
   "source": []
  },
  {
   "cell_type": "code",
   "execution_count": 36,
   "metadata": {},
   "outputs": [
    {
     "name": "stdout",
     "output_type": "stream",
     "text": [
      "2\n",
      "5\n"
     ]
    }
   ],
   "source": [
    "from random import randint\n",
    "\n",
    "def rand5_for_sure():\n",
    "    return randint(1, 5)\n",
    "\n",
    "def rand7_from_rand5():\n",
    "    \n",
    "    while True:\n",
    "        \n",
    "        ## do our die rolls\n",
    "        roll1 = rand5()\n",
    "        roll2 = rand5()\n",
    "        \n",
    "        outcome_value = (roll1-1) * 5 + (roll2-1) + 1\n",
    "        \n",
    "        ## if we hit an extraneous\n",
    "        ## outcome we just re-roll\n",
    "        if outcome_value > 21:\n",
    "            continue\n",
    "        \n",
    "        ## our outcomes was fine, use it\n",
    "        return outcome_value % 7 + 1\n",
    "    \n",
    "print (rand5_for_sure())\n",
    "print (rand7_from_rand5())   "
   ]
  },
  {
   "cell_type": "code",
   "execution_count": null,
   "metadata": {
    "collapsed": true
   },
   "outputs": [],
   "source": []
  },
  {
   "cell_type": "markdown",
   "metadata": {},
   "source": [
    "### use random rand(7) to generate random rand(5) ###"
   ]
  },
  {
   "cell_type": "code",
   "execution_count": 27,
   "metadata": {},
   "outputs": [
    {
     "name": "stdout",
     "output_type": "stream",
     "text": [
      "2\n"
     ]
    }
   ],
   "source": [
    "import random\n",
    "\n",
    "def rand7():\n",
    "    return random.randint(1, 7)\n",
    "\n",
    "\n",
    "def rand5():\n",
    "    result = 7 ## arbitrarily large\n",
    "    while result > 5:\n",
    "        result = rand7()\n",
    "    return result\n",
    "\n",
    "print (rand5())"
   ]
  },
  {
   "cell_type": "code",
   "execution_count": null,
   "metadata": {
    "collapsed": true
   },
   "outputs": [],
   "source": []
  },
  {
   "cell_type": "markdown",
   "metadata": {},
   "source": [
    "## 08/14/17 ##"
   ]
  },
  {
   "cell_type": "markdown",
   "metadata": {},
   "source": [
    "### Shuffle cards ###"
   ]
  },
  {
   "cell_type": "markdown",
   "metadata": {},
   "source": [
    "#### O(n) in time and O(1) in space  ####\n"
   ]
  },
  {
   "cell_type": "code",
   "execution_count": 18,
   "metadata": {},
   "outputs": [
    {
     "name": "stdout",
     "output_type": "stream",
     "text": [
      "True\n"
     ]
    }
   ],
   "source": [
    "def is_single_riffle(half1, half2, shuffled_deck):\n",
    "\n",
    "    half1_index = 0\n",
    "    half2_index = 0\n",
    "    half1_max_index = len(half1) - 1\n",
    "    half2_max_index = len(half2) - 1\n",
    "    \n",
    "    for card in shuffled_deck:\n",
    "        \n",
    "        ## if we still have cards in half1\n",
    "        ## and the \"top\" card in half1 is the smae\n",
    "        ## as the top card in shuffled_deck\n",
    "        if half1_index <= half1_max_index and \\\n",
    "            card ==  half1[half1_index]:\n",
    "            half1_index += 1\n",
    "            \n",
    "        ## if we still have cards in half2\n",
    "        ## and the \"top\" card in half2 is the same\n",
    "        ## as the top card in shuffled_deck\n",
    "        elif half2_index <= half2_max_index and \\\n",
    "            card == half2[half2_index]:\n",
    "            half2_index += 1\n",
    "        \n",
    "        ## if the top card in shuffled_deck doesn't match the top\n",
    "        ## card in half1 or half2, this isn't single riffle\n",
    "        else:\n",
    "            return False\n",
    "    \n",
    "    ## all cards in shuffled_deck have been \"account for\"\n",
    "    ## so this is a single riffle\n",
    "    return True\n",
    "\n",
    "print (is_single_riffle([1,3,5], [2,4,6], [1,2,3,4,5,6]))\n",
    "\n"
   ]
  },
  {
   "cell_type": "markdown",
   "metadata": {},
   "source": [
    "#### O(n) in time and O(n) in space  ####"
   ]
  },
  {
   "cell_type": "code",
   "execution_count": 16,
   "metadata": {},
   "outputs": [
    {
     "name": "stdout",
     "output_type": "stream",
     "text": [
      "True\n",
      "True\n",
      "False\n"
     ]
    }
   ],
   "source": [
    "def is_single_riffle(half1, half2, shuffled_deck, shuffled_deck_index=0, \\\n",
    "                     half1_index=0, half2_index=0):\n",
    "    ## base case we've hit the end of the shuffled_deck\n",
    "    if shuffled_deck_index == len(shuffled_deck):\n",
    "        return True\n",
    "    \n",
    "    ## if we still have cards in half1\n",
    "    ## and the \"top\" card in half1 is the same\n",
    "    ## as the top card in shuffled_deck   \n",
    "    if (half1_index < len(half1)) and \\\n",
    "        half1[half1_index] == shuffled_deck[shuffled_deck_index]:\n",
    "            half1_index += 1\n",
    "            \n",
    "    ## if we still have cards in half2\n",
    "    ## and the \"top\" card in half2 is the same\n",
    "    ## as the top card in shuffled_deck\n",
    "    elif (half2_index < len(half2)) and \\\n",
    "        half2[half2_index] == shuffled_deck[shuffled_deck_index]:\n",
    "            half2_index += 1\n",
    "        \n",
    "    ## if the top card in shuffled_deck doesn't match the top card\n",
    "    ## in half1 and half2, this isn't a single riffle\n",
    "    else:\n",
    "        return False\n",
    "    \n",
    "    ## the current card in shuffled_deck has now been \"accounted for\"\n",
    "    ## so move on to the next one\n",
    "    shuffled_deck_index += 1\n",
    "    return is_single_riffle(half1, half2, shuffled_deck, shuffled_deck_index, \\\n",
    "                           half1_index, half2_index)\n",
    "\n",
    "print (is_single_riffle([1,3,5], [2,4,6], [1,2,3,4,5,6]))\n",
    "print (is_single_riffle([1,3,5], [2,4,6], [1,2,4,3,5,6]))\n",
    "print (is_single_riffle([1,3,5], [2,4,6], [1,3,5,6,2,4]))\n",
    "    "
   ]
  },
  {
   "cell_type": "markdown",
   "metadata": {},
   "source": [
    "#### O(n$^2$) in time and O(n$^2$) in space  ####"
   ]
  },
  {
   "cell_type": "code",
   "execution_count": 13,
   "metadata": {},
   "outputs": [
    {
     "name": "stdout",
     "output_type": "stream",
     "text": [
      "True\n",
      "True\n",
      "False\n"
     ]
    }
   ],
   "source": [
    "def is_single_riffle(half1, half2, shuffled_deck):\n",
    "    ## base case\n",
    "    if len(shuffled_deck) == 0:\n",
    "        return True\n",
    "    \n",
    "    ## if the top of shuffled_deck is the same as the top of half1\n",
    "    ## (making sure first that we have a top card in half1)\n",
    "    \n",
    "    if len(half1) and half1[0] == shuffled_deck[0]:\n",
    "        \n",
    "        ## take the top cards off half1 and shuffled_deck and recurse\n",
    "        return is_single_riffle(half1[1:], half2, shuffled_deck[1:])\n",
    "    \n",
    "    ## if the top of shuffled_deck is the same as the top of half2\n",
    "    elif len(half2) and half2[0] == shuffled_deck[0]:\n",
    "        \n",
    "        ## take the top cards off half2 and shuffled_deck and recurse\n",
    "        return is_single_riffle(half1, half2[1:], shuffled_deck[1:])\n",
    "    \n",
    "    ## top of shuffled_deck doesn't match top of half1 and half2\n",
    "    ## so we know it's not a single riffle\n",
    "    else:\n",
    "        return False\n",
    "    \n",
    "print (is_single_riffle([1,3,5], [2,4,6], [1,2,3,4,5,6]))\n",
    "\n",
    "print (is_single_riffle([1,3,5], [2,4,6], [1,2,4,3,5,6]))\n",
    "\n",
    "print (is_single_riffle([1,3,5], [2,4,6], [1,3,5,6,2,4]))"
   ]
  },
  {
   "cell_type": "code",
   "execution_count": null,
   "metadata": {
    "collapsed": true
   },
   "outputs": [],
   "source": []
  },
  {
   "cell_type": "markdown",
   "metadata": {},
   "source": [
    "### in-place shuffle of a list ###"
   ]
  },
  {
   "cell_type": "code",
   "execution_count": 9,
   "metadata": {},
   "outputs": [
    {
     "name": "stdout",
     "output_type": "stream",
     "text": [
      "[-3, 0, 3, 1, 4, -2, -4, 2, -5, -1]\n"
     ]
    }
   ],
   "source": [
    "import random\n",
    "\n",
    "def get_random(floor, ceiling):\n",
    "    return random.randrange(floor, ceiling + 1)\n",
    "\n",
    "def shuffle(the_list):\n",
    "    ## if it is 1 or 0 items, just return\n",
    "    if len(the_list) <= 1:\n",
    "        return the_list\n",
    "    \n",
    "    last_index_in_the_list = len(the_list) - 1\n",
    "    \n",
    "    ## walk through from beginning to the end\n",
    "    for index_we_are_choosing_for in range(0, len(the_list) - 1):\n",
    "        \n",
    "        ## choose a random not-yet-placed item to place there\n",
    "        ## (could also be the item currently in that spot)\n",
    "        ## must be an item AFTER the current item, because the stuff\n",
    "        ## before has all already been placed\n",
    "        random_choice_index = get_random(index_we_are_choosing_for, last_index_in_the_list)\n",
    "        \n",
    "        ## place our random choice in the spot by swapping\n",
    "        if random_choice_index != index_we_are_choosing_for:\n",
    "            the_list[index_we_are_choosing_for], the_list[random_choice_index] = \\\n",
    "            the_list[random_choice_index], the_list[index_we_are_choosing_for]\n",
    "    return the_list\n",
    "            \n",
    "# for _ in range(40):            \n",
    "#     print (get_random(2, 10))\n",
    "\n",
    "#input_list = [3, 55, 2, 100, -4, 56, 1, 50, 60, -30]\n",
    "input_list = [i for i in range(-5, 5)]\n",
    "\n",
    "print (shuffle(input_list))\n"
   ]
  },
  {
   "cell_type": "code",
   "execution_count": null,
   "metadata": {
    "collapsed": true
   },
   "outputs": [],
   "source": []
  },
  {
   "cell_type": "code",
   "execution_count": null,
   "metadata": {
    "collapsed": true
   },
   "outputs": [],
   "source": []
  },
  {
   "cell_type": "markdown",
   "metadata": {},
   "source": [
    "### Create word infograph ### \n",
    "- split the words  \n",
    "- populate the dictionary  \n",
    "- handle uppercase and lowercase words"
   ]
  },
  {
   "cell_type": "code",
   "execution_count": 99,
   "metadata": {},
   "outputs": [
    {
     "data": {
      "text/plain": [
       "{'are': 1, 'hello': 1, 'how': 1, 'you': 1}"
      ]
     },
     "execution_count": 99,
     "metadata": {},
     "output_type": "execute_result"
    }
   ],
   "source": [
    "class WordCloudData:\n",
    "    \n",
    "    def __init__(self, input_string):\n",
    "        self.words_to_counts = {}\n",
    "        self.populate_words_to_counts(input_string)\n",
    "        \n",
    "    def populate_words_to_counts(self, input_string):\n",
    "        ## iterrate over each character in the input string, splitting\n",
    "        ## words and passing them to add_word_to_dictionary()\n",
    "        current_word_start_index = 0\n",
    "        current_word_length = 0\n",
    "        \n",
    "        for i, character in enumerate(input_string):\n",
    "            ## if we reached the end of the string we check if the last\n",
    "            ## character is a letter and add the last word to our dictionary\n",
    "            if i == len(input_string) - 1:\n",
    "                if character.isalpha():\n",
    "                    current_word_length += 1\n",
    "                if current_word_length > 0:\n",
    "                    current_word = input_string[current_word_start_index:\n",
    "                                               current_word_start_index + current_word_length]\n",
    "                    self.add_word_to_dictionary(current_word)\n",
    "            \n",
    "            ## if we reach a space or emdash we know we're at the end of a word\n",
    "            ## so we add it to our dictionary and reset our current word\n",
    "            elif character == ' ' or character == u'\\u2014':\n",
    "                if current_word_length > 0:\n",
    "                    current_word = input_string[current_word_start_index:\n",
    "                                               current_word_start_index + current_word_length]\n",
    "                    self.add_word_to_dictionary(current_word)\n",
    "                    current_word_length = 0\n",
    "            \n",
    "            ## we want to make sure we split on ellipses so if we get two periods in\n",
    "            ## a row we add the current word to our dictionary and reset our current word\n",
    "            elif character == '.':\n",
    "                if i < len(input_string) - 1 and input_string[i + 1] == '.':\n",
    "                    if current_word_length > 0:\n",
    "                        current_word = input_string[current_word_start_index:\n",
    "                            current_word_start_index + current_word_length]\n",
    "                        self.add_word_to_dictionary(current_word)\n",
    "                        current_word_length = 0\n",
    "            \n",
    "            ## if the character is a letter or an apostrophe, we add it to our current word\n",
    "            elif character.isalpha() or character == '\\'':\n",
    "                if current_word_length == 0:\n",
    "                    current_word_start_index = i\n",
    "                current_word_length += 1\n",
    "            \n",
    "            ## if the character is a pyphen, we want to check if it's surrounded by letters\n",
    "            ## if it is, we add it to our current word\n",
    "            elif character == '-':\n",
    "                if i > 0 and input_string[i - 1].isalpha() and \\\n",
    "                input_string[i+1].isalpha():\n",
    "                    if current_word_length == 0:\n",
    "                        current_word_start_index = i\n",
    "                    current_word_index += 1\n",
    "                else:\n",
    "                    if current_word_length > 0:\n",
    "                        current_word = input_string[current_word_start_index:\n",
    "                            current_word_start_index + current_word_length]\n",
    "                        self.add_word_to_dictionary(current_word)\n",
    "                        current_word_length = 0\n",
    "    \n",
    "    def add_word_to_dictionary(self, word):\n",
    "        \n",
    "        ## if the word is already in the idctionary we increment its ocunt\n",
    "        if word in self.words_to_counts:\n",
    "            self.words_to_counts[word] += 1\n",
    "            \n",
    "        ## if a lowercase version is in the dictionary, we know our input word must be uppercase\n",
    "        ## but we only include uppercase words if they're always uppercase\n",
    "        ## so we just increment the lowercase version's count\n",
    "        elif word.lower() in self.words_to_counts:\n",
    "            self.words_to_counts[word.lower()] += 1\n",
    "            \n",
    "        ## if an uppercase version is in the idctionary, we know our input word must be lowercase.\n",
    "        ## since we only include uppercase words if they're always uppercase, we add the \n",
    "        ## lowercase version and give it the uppercase version's count\n",
    "        elif word.capitalize() in self.words_to_counts:\n",
    "            self.words_to_counts[word] = 1\n",
    "            self.words_to_counts[word] += self.words_to_counts[word.capitalize()]\n",
    "            del self.words_to_counts[word.capitalize()]\n",
    "            \n",
    "        ## otherwise, the word is not in the idctionary at all, lowercase or uppercase\n",
    "        ## so we add it to the dicitonary\n",
    "        else:\n",
    "            self.words_to_counts[word] = 1\n",
    "            \n",
    "          \n",
    "# my_object = WordCloudData()\n",
    "# my_object.populate_words_to_counts(\"hello how are you?\")\n",
    "\n",
    "WordCloudData(\"hello how are you?\").words_to_counts"
   ]
  },
  {
   "cell_type": "code",
   "execution_count": null,
   "metadata": {
    "collapsed": true
   },
   "outputs": [],
   "source": []
  },
  {
   "cell_type": "code",
   "execution_count": 91,
   "metadata": {
    "collapsed": true
   },
   "outputs": [],
   "source": [
    "## split the words\n",
    "def split_words(input_string):\n",
    "    \n",
    "    words = []\n",
    "    \n",
    "    current_word_start_index = 0\n",
    "    current_word_length = 0\n",
    "    \n",
    "    for i, char in enumerate(input_string):\n",
    "        if char.isalpha():\n",
    "            if current_word_length == 0:\n",
    "                current_word_start_index = i\n",
    "            current_word_length += 1\n",
    "        else:\n",
    "            word = input_string[current_word_start_index:current_word_start_index + current_word_length]\n",
    "            words.append(word)\n",
    "            current_word_length = 0\n",
    "    return words\n",
    "\n",
    "split_words(\"Hello my friend\")\n"
   ]
  },
  {
   "cell_type": "code",
   "execution_count": null,
   "metadata": {
    "collapsed": true
   },
   "outputs": [],
   "source": []
  },
  {
   "cell_type": "markdown",
   "metadata": {},
   "source": [
    "## Find one duplicate number in the range of 1..n from n+1 numbers ##"
   ]
  },
  {
   "cell_type": "code",
   "execution_count": 86,
   "metadata": {},
   "outputs": [
    {
     "data": {
      "text/plain": [
       "2.0"
      ]
     },
     "execution_count": 86,
     "metadata": {},
     "output_type": "execute_result"
    }
   ],
   "source": [
    "def find_duplicate(my_list):\n",
    "    list_size = len(my_list)\n",
    "    my_n = list_size - 1\n",
    "    list_sum = (1 + my_n) * my_n / 2\n",
    "    return sum(my_list) - list_sum\n",
    "\n",
    "find_duplicate([3,2,2,1])"
   ]
  },
  {
   "cell_type": "code",
   "execution_count": null,
   "metadata": {
    "collapsed": true
   },
   "outputs": [],
   "source": []
  },
  {
   "cell_type": "markdown",
   "metadata": {},
   "source": [
    "** Function:**\n",
    "- a list of unsorted_scores  \n",
    "- the highest_possible_score in the game"
   ]
  },
  {
   "cell_type": "code",
   "execution_count": 84,
   "metadata": {},
   "outputs": [
    {
     "data": {
      "text/plain": [
       "[97, 78, 69, 56, 56, 56, 56, 44, 34, 33, 23, 10, 10]"
      ]
     },
     "execution_count": 84,
     "metadata": {},
     "output_type": "execute_result"
    }
   ],
   "source": [
    "## counting sort\n",
    "## a list score_counts where the indices represent scores and\n",
    "## the values represent how many times the score appears\n",
    "\n",
    "def sort_scores(unsorted_scores, highest_possible_score):\n",
    "    \n",
    "    ## list of 0s at indices 0..highest_possible_score\n",
    "    \n",
    "    score_counts = [0] * (highest_possible_score + 1)\n",
    "    \n",
    "    ## populate score_counts\n",
    "    for score in unsorted_scores:\n",
    "        score_counts[score] += 1\n",
    "        \n",
    "    ## polulate the final sorted list\n",
    "    sorted_scores= []\n",
    "    \n",
    "    ## for each item in score_counts\n",
    "    ##for score in reversed(range(len(score_counts)-1)):  ## alternative but not good for allocation\n",
    "    for score in range(len(score_counts)-1, -1, -1):\n",
    "        count = score_counts[score]\n",
    "        \n",
    "        ## for the number of times the item occurs\n",
    "        for time in range(count):\n",
    "            \n",
    "            ## add it to the sorted list\n",
    "            sorted_scores.append(score)\n",
    "    return sorted_scores\n",
    "\n",
    "\n",
    "scores_set = [56, 78, 44, 33, 10, 23, 56, 34, 97, 69, 10, 56, 56]\n",
    "highest_possible_score = 100\n",
    "sort_scores(scores_set, 100)\n",
    "\n"
   ]
  },
  {
   "cell_type": "code",
   "execution_count": null,
   "metadata": {
    "collapsed": true
   },
   "outputs": [],
   "source": []
  },
  {
   "cell_type": "markdown",
   "metadata": {},
   "source": [
    "**Recursive permutation**"
   ]
  },
  {
   "cell_type": "code",
   "execution_count": 80,
   "metadata": {},
   "outputs": [
    {
     "data": {
      "text/plain": [
       "{'eeio',\n",
       " 'eeoi',\n",
       " 'eieo',\n",
       " 'eioe',\n",
       " 'eoei',\n",
       " 'eoie',\n",
       " 'ieeo',\n",
       " 'ieoe',\n",
       " 'ioee',\n",
       " 'oeei',\n",
       " 'oeie',\n",
       " 'oiee'}"
      ]
     },
     "execution_count": 80,
     "metadata": {},
     "output_type": "execute_result"
    }
   ],
   "source": [
    "def get_permutations(string):\n",
    "    \n",
    "    ## base case\n",
    "    if len(string) <= 1:\n",
    "        return set([string])\n",
    "    \n",
    "    all_chars_except_last = string[:-1]\n",
    "    last_char = string[-1]\n",
    "    \n",
    "    ## recursive call:get all possible permutations for all chars except last \n",
    "    permutations_of_all_chars_except_last = get_permutations(all_chars_except_last)\n",
    "    \n",
    "    ## put the last char in all possible positions for each of the above permutations\n",
    "    permutations = set()\n",
    "    for permutation_of_all_chars_except_last in permutations_of_all_chars_except_last:\n",
    "        for position in range(len(all_chars_except_last)+1):\n",
    "            permutation = permutation_of_all_chars_except_last[:position] + last_char \\\n",
    "            + permutation_of_all_chars_except_last[position:]\n",
    "            permutations.add(permutation)\n",
    "    return permutations\n",
    "    \n",
    "    \n",
    "get_permutations('eeio')\n",
    "    "
   ]
  },
  {
   "cell_type": "code",
   "execution_count": 124,
   "metadata": {},
   "outputs": [
    {
     "name": "stdout",
     "output_type": "stream",
     "text": [
      "hello\n"
     ]
    }
   ],
   "source": [
    "import math\n",
    "math.ceil(7/2)\n",
    "\n",
    "\n",
    "n = 3\n",
    "\n",
    "if n == 3:\n",
    "    print (\"hello\")"
   ]
  },
  {
   "cell_type": "markdown",
   "metadata": {},
   "source": [
    "**Palindrome**: Check number of appearance is even or odd"
   ]
  },
  {
   "cell_type": "code",
   "execution_count": 75,
   "metadata": {},
   "outputs": [
    {
     "name": "stdout",
     "output_type": "stream",
     "text": [
      "{'c'}\n",
      "{'c', 'o'}\n",
      "{'c'}\n",
      "{'c', 'l'}\n",
      "False\n",
      "{'c'}\n",
      "{'c', 'o'}\n",
      "{'c'}\n",
      "{'c', 'o'}\n",
      "{'c'}\n",
      "{'c', 'o'}\n",
      "{'c'}\n",
      "{'c', 'o'}\n",
      "{'c'}\n",
      "{'c', 'l'}\n",
      "{'c'}\n",
      "{'c', 'l'}\n",
      "{'c'}\n",
      "{'c', 'l'}\n",
      "{'c'}\n",
      "True\n"
     ]
    }
   ],
   "source": [
    "def has_palindrome_permutation(the_string):\n",
    "    \n",
    "    ## track characters we've seen an odd number of times\n",
    "    unpaired_characters = set()\n",
    "    \n",
    "    for char in the_string:\n",
    "        if char in unpaired_characters:\n",
    "            unpaired_characters.remove(char)\n",
    "        else:\n",
    "            unpaired_characters.add(char)\n",
    "        \n",
    "        print (unpaired_characters)\n",
    "    \n",
    "    ## the string has a palindrome permutation if it\n",
    "    ## has one or zero characters without a pair\n",
    "    return len(unpaired_characters) <= 1\n",
    "\n",
    "print (has_palindrome_permutation('cool'))\n",
    "\n",
    "print (has_palindrome_permutation('coooooooollllll'))\n",
    "\n"
   ]
  },
  {
   "cell_type": "code",
   "execution_count": null,
   "metadata": {
    "collapsed": true
   },
   "outputs": [],
   "source": [
    "\n"
   ]
  },
  {
   "cell_type": "markdown",
   "metadata": {},
   "source": [
    "## 08/13/17 ##"
   ]
  },
  {
   "cell_type": "markdown",
   "metadata": {},
   "source": [
    "## Find the closer properly! ##  \n",
    "- each closer corresponds to the most recently seen, unclosed opener  \n",
    "- every opener and closer is in a pair  "
   ]
  },
  {
   "cell_type": "code",
   "execution_count": 70,
   "metadata": {},
   "outputs": [
    {
     "data": {
      "text/plain": [
       "True"
      ]
     },
     "execution_count": 70,
     "metadata": {},
     "output_type": "execute_result"
    }
   ],
   "source": [
    "def is_valid(code):\n",
    "    \n",
    "    openers_to_closers = {\n",
    "        '(' : ')',\n",
    "        '{' : '}',\n",
    "        '[' : ']'\n",
    "    }\n",
    "    \n",
    "    openers = frozenset(openers_to_closers.keys())\n",
    "    closers = frozenset(openers_to_closers.values())\n",
    "    \n",
    "    openers_stack = []\n",
    "    \n",
    "    for char in code:\n",
    "        if char in openers:\n",
    "            openers_stack.append(char)\n",
    "        elif char in closers:\n",
    "            if not openers_stack:\n",
    "                return False\n",
    "            else:\n",
    "                last_unclosed_opener = openers_stack.pop()\n",
    "                \n",
    "                ## if this closer doesn't correspond to the most recently\n",
    "                ## seen unclosed opener, short-circuit, returning false\n",
    "                if not openers_to_closers[last_unclosed_opener] == char:\n",
    "                    return False\n",
    "    \n",
    "    return openers_stack == []\n",
    "    \n",
    "is_valid('[[{[h(el()l)o]}]]')\n",
    "    "
   ]
  },
  {
   "cell_type": "code",
   "execution_count": null,
   "metadata": {
    "collapsed": true
   },
   "outputs": [],
   "source": []
  },
  {
   "cell_type": "markdown",
   "metadata": {},
   "source": [
    "## Identify the corresponding parenthesis ##"
   ]
  },
  {
   "cell_type": "code",
   "execution_count": 62,
   "metadata": {},
   "outputs": [
    {
     "data": {
      "text/plain": [
       "73"
      ]
     },
     "execution_count": 62,
     "metadata": {},
     "output_type": "execute_result"
    }
   ],
   "source": [
    "def get_closing_paren(sentence, opening_paren_index):\n",
    "    open_nested_parens = 0\n",
    "    \n",
    "    ## the position of following character\n",
    "    position = opening_paren_index + 1\n",
    "    \n",
    "    ## Only have to start from the position of first appearance of '('\n",
    "    while position <= len(sentence) - 1:\n",
    "        char = sentence[position]\n",
    "        \n",
    "        if char == '(':\n",
    "            open_nested_parens += 1\n",
    "        elif char == ')':\n",
    "            if open_nested_parens == 0:\n",
    "                return position\n",
    "            else:\n",
    "                open_nested_parens -= 1\n",
    "        \n",
    "        position += 1\n",
    "    raise Exception('No closing parenthesis')\n",
    " \n",
    "\n",
    "my_sentence = \"Can you (my friend (and the very (special one) and family (you, (and u)))) find out?\" \n",
    "get_closing_paren(my_sentence, 9)\n"
   ]
  },
  {
   "cell_type": "code",
   "execution_count": null,
   "metadata": {
    "collapsed": true
   },
   "outputs": [],
   "source": []
  },
  {
   "cell_type": "markdown",
   "metadata": {},
   "source": [
    "## Reverse the words in a sentence ##"
   ]
  },
  {
   "cell_type": "code",
   "execution_count": 57,
   "metadata": {},
   "outputs": [
    {
     "name": "stdout",
     "output_type": "stream",
     "text": [
      "['.', 'e', 'e', 's', ' ', 'o', 'n', ' ', 'e', 'm', 'i', 't', ' ', 'g', 'n', 'o', 'L', ' ', '.', 'o', 'l', 'l', 'e', 'H']\n",
      "['s', 'e', 'e', '.', ' ', 'o', 'n', ' ', 'e', 'm', 'i', 't', ' ', 'g', 'n', 'o', 'L', ' ', '.', 'o', 'l', 'l', 'e', 'H']\n",
      "['s', 'e', 'e', '.', ' ', 'n', 'o', ' ', 'e', 'm', 'i', 't', ' ', 'g', 'n', 'o', 'L', ' ', '.', 'o', 'l', 'l', 'e', 'H']\n",
      "['s', 'e', 'e', '.', ' ', 'n', 'o', ' ', 't', 'i', 'm', 'e', ' ', 'g', 'n', 'o', 'L', ' ', '.', 'o', 'l', 'l', 'e', 'H']\n",
      "['s', 'e', 'e', '.', ' ', 'n', 'o', ' ', 't', 'i', 'm', 'e', ' ', 'L', 'o', 'n', 'g', ' ', '.', 'o', 'l', 'l', 'e', 'H']\n",
      "['s', 'e', 'e', '.', ' ', 'n', 'o', ' ', 't', 'i', 'm', 'e', ' ', 'L', 'o', 'n', 'g', ' ', 'H', 'e', 'l', 'l', 'o', '.']\n"
     ]
    },
    {
     "data": {
      "text/plain": [
       "'see. no time Long Hello.'"
      ]
     },
     "execution_count": 57,
     "metadata": {},
     "output_type": "execute_result"
    }
   ],
   "source": [
    "def reverse_words(message):\n",
    "    \n",
    "    message_list = list(message)\n",
    "    ## first we reverse all the characters in the entire message_list\n",
    "    reverse_characters(message_list, 0, len(message_list)-1)\n",
    "    ## this gives us the right word order\n",
    "    ## but with each word backwards\n",
    "    \n",
    "    ## now we'll make the words forward again\n",
    "    ## by reversing each word's characters\n",
    "    \n",
    "    ## we hold the index of the *start* of the current word\n",
    "    ## as we look for the *end* of the current word\n",
    "    current_word_start_index = 0\n",
    "    \n",
    "    for i in range(len(message_list) + 1):\n",
    "        ## found the end of the each word, either last word or the space\n",
    "        if (i == len(message_list)) or (message_list[i] == ' '):\n",
    "            \n",
    "            reverse_characters(message_list, current_word_start_index, i - 1)\n",
    "            \n",
    "            ## if we haven't exhausted the string our\n",
    "            ## next word's start is one character aheand\n",
    "            current_word_start_index = i + 1\n",
    "    \n",
    "    return ''.join(message_list)\n",
    "\n",
    "def reverse_characters(message_list, front_index, back_index):\n",
    "    \n",
    "    ## walk towards the middle, from both sides\n",
    "    while front_index < back_index:\n",
    "        \n",
    "        ## swap the front char and back char\n",
    "        message_list[front_index], message_list[back_index] = \\\n",
    "        message_list[back_index], message_list[front_index]\n",
    "        \n",
    "        front_index += 1\n",
    "        back_index -= 1\n",
    "        \n",
    "    print (message_list)    \n",
    "    return message_list\n",
    "\n",
    "\n",
    "my_sent = \"Hello. Long time no see.\"\n",
    "\n",
    "#string_list = list(my_sent)\n",
    "#reverse_characters(string_list, 0, int(len(string_list)-1))\n",
    "\n",
    "reverse_words(my_sent)\n",
    "    "
   ]
  },
  {
   "cell_type": "code",
   "execution_count": null,
   "metadata": {
    "collapsed": true
   },
   "outputs": [],
   "source": []
  },
  {
   "cell_type": "code",
   "execution_count": 42,
   "metadata": {},
   "outputs": [
    {
     "name": "stdout",
     "output_type": "stream",
     "text": [
      "olleH\n",
      "!ahola\n"
     ]
    }
   ],
   "source": [
    "## reverse a string in-place\n",
    "def reverse(string):\n",
    "    string_list = list(string)\n",
    "    \n",
    "    left_pointer = 0\n",
    "    right_pointer = len(string_list) - 1\n",
    "    \n",
    "    ## Note: if the string has odd number\n",
    "    ## we don't change anything on the middle character\n",
    "    while left_pointer < right_pointer:\n",
    "        \n",
    "        ## swap characters\n",
    "        string_list[left_pointer], string_list[right_pointer] = \\\n",
    "        string_list[right_pointer], string_list[left_pointer]\n",
    "        \n",
    "        ## move towards middle\n",
    "        left_pointer += 1\n",
    "        right_pointer -= 1\n",
    "    \n",
    "    return ''.join(string_list)\n",
    "\n",
    "my_test_list = \"Hello\"\n",
    "print (reverse(my_test_list))\n",
    "\n",
    "my_test_list = \"aloha!\"\n",
    "print (reverse(my_test_list))\n",
    "\n"
   ]
  },
  {
   "cell_type": "code",
   "execution_count": null,
   "metadata": {
    "collapsed": true
   },
   "outputs": [],
   "source": []
  },
  {
   "cell_type": "markdown",
   "metadata": {},
   "source": [
    "## define a stick to find the k to the last  list ##"
   ]
  },
  {
   "cell_type": "code",
   "execution_count": 40,
   "metadata": {},
   "outputs": [
    {
     "name": "stdout",
     "output_type": "stream",
     "text": [
      "DrPepper\n"
     ]
    }
   ],
   "source": [
    "def kth_to_last_node_stick(k, head):\n",
    "    \n",
    "    left_node = head\n",
    "    right_node = head\n",
    "    \n",
    "    ## move right_node to the kth node\n",
    "    for _ in range(k-1):\n",
    "        right_node = right_node.next\n",
    "    \n",
    "    ## starting with left_node on the head,\n",
    "    ## move left_node and right_node down the list\n",
    "    ## maintaining a distance of k between them,\n",
    "    ## until right_node hits the end of the list\n",
    "    while right_node.next:\n",
    "        left_node = left_node.next\n",
    "        right_node = right_node.next\n",
    "        \n",
    "    ## since left_node is k nodes behind right_node\n",
    "    ## left_node is now the kth to last node\n",
    "    return left_node\n",
    " \n",
    "a = LinkedListNode(\"Apple\")        \n",
    "b = LinkedListNode(\"Banana\")        \n",
    "c = LinkedListNode(\"Cinnamon\")        \n",
    "d = LinkedListNode(\"DrPepper\")        \n",
    "e = LinkedListNode(\"Egg\")        \n",
    "f = LinkedListNode(\"FriedChicken\")        \n",
    "\n",
    "a.next = b\n",
    "b.next = c\n",
    "c.next = d\n",
    "d.next = e\n",
    "e.next = f\n",
    "\n",
    "print (kth_to_last_node_stick(3, a).value)    "
   ]
  },
  {
   "cell_type": "code",
   "execution_count": null,
   "metadata": {
    "collapsed": true
   },
   "outputs": [],
   "source": []
  },
  {
   "cell_type": "code",
   "execution_count": 39,
   "metadata": {},
   "outputs": [
    {
     "name": "stdout",
     "output_type": "stream",
     "text": [
      "DrPepper\n"
     ]
    }
   ],
   "source": [
    "class LinkedListNode():\n",
    "    def __init__(self, value):\n",
    "        self.value = value\n",
    "        self.next = None\n",
    "\n",
    "def kth_to_last_node(k, head):\n",
    "    ## step 1: get the length of the list\n",
    "    ## start at 1, not 0\n",
    "    ## else we'd fail to count the head node\n",
    "    list_length = 1\n",
    "    current_node = head\n",
    "    \n",
    "    ## traverse the whole list,\n",
    "    ## counting all the nodes\n",
    "    while current_node.next:\n",
    "        current_node = current_node.next\n",
    "        list_length += 1\n",
    "    \n",
    "    ## step 2: walk to the target node\n",
    "    ## calculate how far to go, from the head,\n",
    "    ## to get to the kth to last node\n",
    "    how_far_to_go = list_length - k\n",
    "    \n",
    "    current_node = head\n",
    "    for _ in range(how_far_to_go):\n",
    "        current_node = current_node.next\n",
    "    \n",
    "    return current_node\n",
    "        \n",
    "        \n",
    "a = LinkedListNode(\"Apple\")        \n",
    "b = LinkedListNode(\"Banana\")        \n",
    "c = LinkedListNode(\"Cinnamon\")        \n",
    "d = LinkedListNode(\"DrPepper\")        \n",
    "e = LinkedListNode(\"Egg\")        \n",
    "f = LinkedListNode(\"FriedChicken\")        \n",
    "\n",
    "a.next = b\n",
    "b.next = c\n",
    "c.next = d\n",
    "d.next = e\n",
    "e.next = f\n",
    "\n",
    "print (kth_to_last_node(3, a).value)\n"
   ]
  },
  {
   "cell_type": "code",
   "execution_count": null,
   "metadata": {
    "collapsed": true
   },
   "outputs": [],
   "source": []
  },
  {
   "cell_type": "code",
   "execution_count": 35,
   "metadata": {
    "collapsed": true
   },
   "outputs": [],
   "source": [
    "class LinkedListNode:\n",
    "    def __init__(self, value):\n",
    "        self.value = value\n",
    "        self.next = None\n",
    "        \n",
    "def reverse(head_of_list):\n",
    "    current = head_of_list\n",
    "    previous = None\n",
    "    next = None\n",
    "    \n",
    "    ## until we have fallen off the end of the list\n",
    "    while current:\n",
    "        ## copy a pointer to the next element\n",
    "        ## before we overwrite current.next\n",
    "        next = current.next\n",
    "        \n",
    "        ## reverse the next pointer (The linking is reversed HERE!)\n",
    "        current.next = previous\n",
    "        \n",
    "        ## step forward in the list\n",
    "        previous = current \n",
    "        current = next\n",
    "    return previous"
   ]
  },
  {
   "cell_type": "code",
   "execution_count": null,
   "metadata": {
    "collapsed": true
   },
   "outputs": [],
   "source": []
  },
  {
   "cell_type": "code",
   "execution_count": 33,
   "metadata": {},
   "outputs": [
    {
     "name": "stdout",
     "output_type": "stream",
     "text": [
      "[1, 9, 25, 49]\n",
      "[1, 9, 25, 49]\n"
     ]
    }
   ],
   "source": [
    "## in-place modification\n",
    "\n",
    "def square_list_in_place(int_list):\n",
    "    ## enumerate() lets us get the index and element\n",
    "    for index, element in enumerate(int_list):\n",
    "        int_list[index] *= element\n",
    "    \n",
    "    ## note: we could make this function just return, since\n",
    "    ## we modify int_list in place.\n",
    "    return int_list\n",
    "\n",
    "my_list = [1,3,5,7]\n",
    "print (square_list_in_place(my_list))\n",
    "\n",
    "\n",
    "## out-of-place modification\n",
    "\n",
    "def square_list_out_of_place(int_list):\n",
    "    ## we allocate a new list with the length of the input list\n",
    "    squared_list = [None] * len(int_list)\n",
    "    for index, element in enumerate(int_list):\n",
    "        squared_list[index] = element ** 2\n",
    "    return squared_list\n",
    "\n",
    "my_list = [1,3,5,7]\n",
    "print (square_list_out_of_place(my_list))\n",
    "        "
   ]
  },
  {
   "cell_type": "code",
   "execution_count": null,
   "metadata": {
    "collapsed": true
   },
   "outputs": [],
   "source": []
  },
  {
   "cell_type": "markdown",
   "metadata": {},
   "source": [
    "## Check whether there is a loop in a singly linked list ##"
   ]
  },
  {
   "cell_type": "code",
   "execution_count": 27,
   "metadata": {},
   "outputs": [
    {
     "data": {
      "text/plain": [
       "True"
      ]
     },
     "execution_count": 27,
     "metadata": {},
     "output_type": "execute_result"
    }
   ],
   "source": [
    "class LinkedListNode:\n",
    "    \n",
    "    def __init__(self, value):\n",
    "        self.value = value\n",
    "        self.next = None\n",
    "\n",
    "\n",
    "def contains_cycle(first_node):\n",
    "    ## start both runners at the beginning\n",
    "    slow_runner = first_node\n",
    "    fast_runner = first_node\n",
    "    \n",
    "    ## until we hit the end of the list\n",
    "    while fast_runner is not None and fast_runner.next is not None:\n",
    "        \n",
    "        ## The order MATTERS! avoid fast_runner skip over slow_runner\n",
    "        slow_runner = slow_runner.next\n",
    "        fast_runner = fast_runner.next.next\n",
    "        \n",
    "        ## case: fast_runner is about to \"lap\" slow_runner\n",
    "        if fast_runner is slow_runner:\n",
    "            return True\n",
    "        \n",
    "    ## case: fast_runner hit the end of the list\n",
    "    return False\n",
    "\n",
    "my_node = [3, 5, 6, 2, 90, 3]\n",
    "\n",
    "class LinkedListNode:\n",
    "    \n",
    "    def __init__(self, value):\n",
    "        self.value = value\n",
    "        self.next = None\n",
    "\n",
    "def delete_node(node_to_delete):\n",
    "    \n",
    "    ## get the input node's next node, the one we want to skip to\n",
    "    next_node = node_to_delete.next\n",
    "    \n",
    "    if next_node:      \n",
    "        ## replace the input node's value and pointer with the next\n",
    "        ## node's value and pointer. the previous node now effectively\n",
    "        ## skips over the input node\n",
    "        node_to_delete.value = next_node.value\n",
    "        node_to_delete.next = next_node.next\n",
    "    else:\n",
    "        \n",
    "        ## eep, we are trying to delete the last node:\n",
    "        raise Exception(\"Can't delete the last node using this method.\")\n",
    "           \n",
    "a = LinkedListNode('A')\n",
    "b = LinkedListNode('B')\n",
    "c = LinkedListNode('C')\n",
    "d = LinkedListNode('D')\n",
    "\n",
    "a.next = b\n",
    "b.next = c\n",
    "c.next = d\n",
    "d.next = b\n",
    "\n",
    "contains_cycle(a)\n"
   ]
  },
  {
   "cell_type": "code",
   "execution_count": null,
   "metadata": {
    "collapsed": true
   },
   "outputs": [],
   "source": []
  },
  {
   "cell_type": "markdown",
   "metadata": {},
   "source": [
    "## Linked list ##  \n",
    "advantages:  \n",
    "- _constant-time insertions and deletions_\n",
    "- _continue to expand_   \n",
    "\n",
    "disadvantage:  \n",
    "-  _take O(i) time to access or edit the i-th item_"
   ]
  },
  {
   "cell_type": "code",
   "execution_count": 22,
   "metadata": {},
   "outputs": [
    {
     "name": "stdout",
     "output_type": "stream",
     "text": [
      "Before deleting B...\n",
      "B\n",
      "After deleting B...\n",
      "C\n"
     ]
    }
   ],
   "source": [
    "class LinkedListNode:\n",
    "    \n",
    "    def __init__(self, value):\n",
    "        self.value = value\n",
    "        self.next = None\n",
    "\n",
    "def delete_node(node_to_delete):\n",
    "    \n",
    "    ## get the input node's next node, the one we want to skip to\n",
    "    next_node = node_to_delete.next\n",
    "    \n",
    "    if next_node:      \n",
    "        ## replace the input node's value and pointer with the next\n",
    "        ## node's value and pointer. the previous node now effectively\n",
    "        ## skips over the input node\n",
    "        node_to_delete.value = next_node.value\n",
    "        node_to_delete.next = next_node.next\n",
    "    else:\n",
    "        \n",
    "        ## eep, we are trying to delete the last node:\n",
    "        raise Exception(\"Can't delete the last node using this method.\")\n",
    "           \n",
    "a = LinkedListNode('A')\n",
    "b = LinkedListNode('B')\n",
    "c = LinkedListNode('C')\n",
    "\n",
    "a.next = b\n",
    "b.next = c\n",
    "\n",
    "print (\"Before deleting B...\")\n",
    "print (a.next.value)\n",
    "\n",
    "delete_node(b)\n",
    "print (\"After deleting B...\")\n",
    "print (a.next.value)\n",
    "\n"
   ]
  },
  {
   "cell_type": "code",
   "execution_count": null,
   "metadata": {
    "collapsed": true
   },
   "outputs": [],
   "source": []
  },
  {
   "cell_type": "markdown",
   "metadata": {},
   "source": [
    "## Solve duplicate element in list using bitwise approach XOR ##"
   ]
  },
  {
   "cell_type": "code",
   "execution_count": 9,
   "metadata": {},
   "outputs": [
    {
     "name": "stdout",
     "output_type": "stream",
     "text": [
      "10\n",
      "11\n",
      "8\n",
      "1\n",
      "89\n",
      "83\n",
      "90\n",
      "2\n",
      "3\n"
     ]
    },
    {
     "data": {
      "text/plain": [
       "3"
      ]
     },
     "execution_count": 9,
     "metadata": {},
     "output_type": "execute_result"
    }
   ],
   "source": [
    "## save info using bit\n",
    "def find_unique_delivery_id_using_bit(delivery_ids):\n",
    "    \n",
    "    unique_delivery_id = 0\n",
    "    \n",
    "    for delivery_id in delivery_ids:\n",
    "        unique_delivery_id ^= delivery_id\n",
    "    return unique_delivery_id\n",
    "\n",
    "my_deli = [10, 1, 3, 9, 88, 10, 9, 88, 1]\n",
    "\n",
    "find_unique_delivery_id_using_bit(my_deli)"
   ]
  },
  {
   "cell_type": "code",
   "execution_count": 14,
   "metadata": {},
   "outputs": [
    {
     "name": "stdout",
     "output_type": "stream",
     "text": [
      "{10: 2, 1: 2, 3: 1, 9: 2, 88: 2}\n",
      "dict_items([(10, 2), (1, 2), (3, 1), (9, 2), (88, 2)])\n",
      "dict_items([(10, 2), (1, 2), (3, 1), (9, 2), (88, 2)])\n",
      "dict_items([(10, 2), (1, 2), (3, 1), (9, 2), (88, 2)])\n"
     ]
    },
    {
     "data": {
      "text/plain": [
       "3"
      ]
     },
     "execution_count": 14,
     "metadata": {},
     "output_type": "execute_result"
    }
   ],
   "source": [
    "def find_unique_delivery_id(delivery_ids):\n",
    "    \n",
    "    ids_to_occurrences = {}\n",
    "    \n",
    "    for delivery_id in delivery_ids:\n",
    "        if delivery_id in ids_to_occurrences:\n",
    "            ids_to_occurrences[delivery_id] += 1\n",
    "        else:\n",
    "            ids_to_occurrences[delivery_id] = 1\n",
    "            \n",
    "    print (ids_to_occurrences)\n",
    "    for delivery_id, occurrences in ids_to_occurrences.items():\n",
    "        print (ids_to_occurrences.items())\n",
    "        if occurrences == 1: return delivery_id\n",
    "        \n",
    "my_deli = [10, 1, 3, 9, 88, 10, 9, 88, 1]\n",
    "\n",
    "find_unique_delivery_id(my_deli)"
   ]
  },
  {
   "cell_type": "code",
   "execution_count": null,
   "metadata": {
    "collapsed": true
   },
   "outputs": [],
   "source": []
  },
  {
   "cell_type": "markdown",
   "metadata": {},
   "source": [
    "## The rule of thumb: ##\n",
    "Sometimes the first step in algorithm design is deciding what we're optimizing for. Start by considering the expected characteristics of the input."
   ]
  },
  {
   "cell_type": "code",
   "execution_count": 6,
   "metadata": {
    "collapsed": true
   },
   "outputs": [],
   "source": [
    "## access largest element in a stack\n",
    "\n",
    "class Stack:\n",
    "    ## initialize an empty list\n",
    "    def __init__(self):\n",
    "        self.items = []\n",
    "        \n",
    "    ## push a new item to the last index\n",
    "    def push(self, item):\n",
    "        self.items.append(item)\n",
    "        \n",
    "    ## remove the last item\n",
    "    def pop(self):\n",
    "        ## if the stack is empty, return None\n",
    "        ## it would also be reasonable to throw an exception\n",
    "        if not self.items:\n",
    "            return None\n",
    "        return self.tiems.pop()\n",
    "    \n",
    "    ## see what the last item is\n",
    "    def peek(self):\n",
    "        if not self.items:\n",
    "            return None\n",
    "        return self.item[-1]\n",
    "\n",
    "class MaxStack:\n",
    "    def __init__(self):\n",
    "        self.stack = Stack()\n",
    "        self.maxes_stack = Stack()\n",
    "        \n",
    "    ## add a new item to the top of our stack. if the item is greater\n",
    "    ## than or equal to the last item in maxes_stack, it's \n",
    "    ## the new max! so we will add it to maxes_stack\n",
    "    def push(self, item):\n",
    "        self.stack.push(item)\n",
    "        if slef.maxes_stack.peek() is None or item >= self.maxes_stack.peek():\n",
    "            self.maxes_stack.push(item)\n",
    "    \n",
    "    ## remove and return the top item from our stack. if it equals\n",
    "    ## the top item in maxes_stack, they must have been pushed in together.\n",
    "    ## so we'll pop it out of maxes_stack too.\n",
    "    def pop(self):\n",
    "        item = self.stack.pop()\n",
    "        if item ++ self.maxes_stack.peek():\n",
    "            self.maxes_stack.pop()\n",
    "        return item\n",
    "    \n",
    "    ## the last item in maxes_stack is the max item in our stack.\n",
    "    def get_max(self):\n",
    "        return self.maxes_stack.peek()"
   ]
  },
  {
   "cell_type": "code",
   "execution_count": null,
   "metadata": {
    "collapsed": true
   },
   "outputs": [],
   "source": []
  },
  {
   "cell_type": "code",
   "execution_count": null,
   "metadata": {
    "collapsed": true
   },
   "outputs": [],
   "source": [
    "class QueueTwoStacks:\n",
    "    \n",
    "    def __init__(self):\n",
    "        self.in_stack = []\n",
    "        self.out_stack = []\n",
    "    \n",
    "    def enqueue(self, item):\n",
    "        self.in_stack.append(item)\n",
    "        \n",
    "    def dequeue(self, item):\n",
    "        if len(self.out_stack) == 0:\n",
    "            ## move items from in_stack to out_stack, reversing order\n",
    "            while len(self.in_stack) > 0:\n",
    "                newest_in_stack_item = self.in_stack.pop()\n",
    "                self.out_stack.append(newest_in_stack_item)\n",
    "            ## if out_stack is still emply, raise an error\n",
    "            if len(self.out_stack) == 0:\n",
    "                raise IndexError(\"Can't dequeue from from empty queue!\")\n",
    "        return self.out_stack.pop()\n",
    "    "
   ]
  },
  {
   "cell_type": "code",
   "execution_count": null,
   "metadata": {
    "collapsed": true
   },
   "outputs": [],
   "source": []
  },
  {
   "cell_type": "markdown",
   "metadata": {},
   "source": [
    "### Concept of pass by reference vs pass by value ###"
   ]
  },
  {
   "cell_type": "code",
   "execution_count": 5,
   "metadata": {},
   "outputs": [
    {
     "data": {
      "application/javascript": [
       "  var threatLevel = 1;\n",
       "\n",
       "function inspireFear(threatLevel){\n",
       "    threatLevel += 100;\n",
       "}\n",
       "\n",
       "inspireFear(threatLevel);\n",
       "console.log(threatLevel); // Whoops! It's still 1!"
      ],
      "text/plain": [
       "<IPython.core.display.Javascript object>"
      ]
     },
     "metadata": {},
     "output_type": "display_data"
    }
   ],
   "source": [
    "%%javascript\n",
    "var threatLevel = 1;\n",
    "\n",
    "function inspireFear(threatLevel){\n",
    "    threatLevel += 100;\n",
    "}\n",
    "\n",
    "inspireFear(threatLevel);\n",
    "console.log(threatLevel); // Whoops! It's still 1!"
   ]
  },
  {
   "cell_type": "code",
   "execution_count": null,
   "metadata": {
    "collapsed": true
   },
   "outputs": [],
   "source": []
  },
  {
   "cell_type": "code",
   "execution_count": 4,
   "metadata": {},
   "outputs": [
    {
     "data": {
      "text/html": [
       "\n",
       "<button id=\"btn-0\">Button 1!</button>\n",
       "<button id=\"btn-1\">Button 2!</button>\n",
       "<button id=\"btn-2\">Button 3!</button>\n",
       "\n",
       "<script type=\"text/javascript\">\n",
       "    var prizes = ['A Unicorn!', 'A Hug!', 'Fresh Laundry!'];\n",
       "    for (var btnNum = 0; btnNum < prizes.length; btnNum++) {\n",
       "        // for each of our buttons, when the user clicks it...\n",
       "        document.getElementById('btn-' + btnNum).onclick = function(frozenBtnNum){\n",
       "            return function() {\n",
       "                // tell her what she's won!\n",
       "                alert(prizes[frozenBtnNum]);\n",
       "            };\n",
       "        }(btnNum); // LOOK! We're passing btnNum to our anonymous function here!\n",
       "    }\n",
       "</script>"
      ],
      "text/plain": [
       "<IPython.core.display.HTML object>"
      ]
     },
     "metadata": {},
     "output_type": "display_data"
    }
   ],
   "source": [
    "%%HTML\n",
    "\n",
    "<button id=\"btn-0\">Button 1!</button>\n",
    "<button id=\"btn-1\">Button 2!</button>\n",
    "<button id=\"btn-2\">Button 3!</button>\n",
    "\n",
    "<script type=\"text/javascript\">\n",
    "    var prizes = ['A Unicorn!', 'A Hug!', 'Fresh Laundry!'];\n",
    "    for (var btnNum = 0; btnNum < prizes.length; btnNum++) {\n",
    "        // for each of our buttons, when the user clicks it...\n",
    "        document.getElementById('btn-' + btnNum).onclick = function(frozenBtnNum){\n",
    "            return function() {\n",
    "                // tell her what she's won!\n",
    "                alert(prizes[frozenBtnNum]);\n",
    "            };\n",
    "        }(btnNum); // LOOK! We're passing btnNum to our anonymous function here!\n",
    "    }\n",
    "</script>"
   ]
  },
  {
   "cell_type": "code",
   "execution_count": null,
   "metadata": {
    "collapsed": true
   },
   "outputs": [],
   "source": []
  },
  {
   "cell_type": "markdown",
   "metadata": {},
   "source": [
    "## 08/12/17 ## "
   ]
  },
  {
   "cell_type": "markdown",
   "metadata": {},
   "source": [
    "### the unbounded knapsack problem ###"
   ]
  },
  {
   "cell_type": "code",
   "execution_count": 267,
   "metadata": {},
   "outputs": [
    {
     "name": "stdout",
     "output_type": "stream",
     "text": [
      "[0, 24, 48, 80, 104, 128, 160, 184, 208, 240, 264]\n"
     ]
    },
    {
     "data": {
      "text/plain": [
       "264"
      ]
     },
     "execution_count": 267,
     "metadata": {},
     "output_type": "execute_result"
    }
   ],
   "source": [
    "def max_duffel_bag_value(cake_tuples, weight_capacity):\n",
    "    \n",
    "    ## we make a list to hold the maximum possible value at every\n",
    "    ## duffle bag weight capacity from 0 to weight_capacity\n",
    "    ## starting each index with value 0\n",
    "    \n",
    "    max_values_at_capacities = [0] * (weight_capacity + 1)\n",
    "    \n",
    "    for current_capacity in range(weight_capacity + 1):\n",
    "        \n",
    "        ## set a variable to hold the max monetary value\n",
    "        ## so far for current_capacity\n",
    "        current_max_value = 0\n",
    "        \n",
    "        for cake_weight, cake_value in cake_tuples:\n",
    "        \n",
    "            ## if a cake weights 0 and has a positive value the value of our duffle bag is infinite\n",
    "            if (cake_weight == 0 and cake_value != 0):\n",
    "                return float('inf')\n",
    "            ## if the current cake weights as much or less than the current weight capacity\n",
    "            ## it's possible taking the cake would give a better value\n",
    "            if (cake_weight <= current_capacity):\n",
    "                ## so we check: should we use the cake or not?\n",
    "                ## if we use the cake, the most kilograms we can include in addition to the cake\n",
    "                ## we are adding is the current capacity minus the ckae's weight. we find the max\n",
    "                ## value at that interger capacity in our list max_values_at_capacities\n",
    "                max_value_using_cake = cake_value + max_values_at_capacities[current_capacity - cake_weight]\n",
    "\n",
    "                ## now we see if it's worth taking the cake, how do the\n",
    "                ## value with the cake compare to the current_max_value?\n",
    "                current_max_value = max(max_value_using_cake, current_max_value)\n",
    "\n",
    "            ## add each capacity's max value to our list so we can use them\n",
    "            ## when calculating all the remaining capacities\n",
    "        max_values_at_capacities[current_capacity] = current_max_value\n",
    "    \n",
    "    print (max_values_at_capacities[:])    \n",
    "    return max_values_at_capacities[weight_capacity]\n",
    "\n",
    "cake_options = ((1, 24), (2, 40), (3, 80), (4, 100))\n",
    "\n",
    "my_bag_capacity = 10\n",
    "\n",
    "max_duffel_bag_value(cake_options, my_bag_capacity)\n"
   ]
  },
  {
   "cell_type": "code",
   "execution_count": null,
   "metadata": {
    "collapsed": true
   },
   "outputs": [],
   "source": []
  },
  {
   "cell_type": "markdown",
   "metadata": {},
   "source": [
    "### Fibber using memoize Bottom-Up ###"
   ]
  },
  {
   "cell_type": "code",
   "execution_count": 116,
   "metadata": {},
   "outputs": [
    {
     "data": {
      "text/plain": [
       "5"
      ]
     },
     "execution_count": 116,
     "metadata": {},
     "output_type": "execute_result"
    }
   ],
   "source": [
    "def fib(n):\n",
    "    \n",
    "    ## edge cases:\n",
    "    if n < 0:\n",
    "        raise Exception(\"Index was negative. Be positive!\")\n",
    "    elif n in [0, 1]:\n",
    "        return n\n",
    "    \n",
    "    ## we will be building the fibonacci series from the bottom up\n",
    "    ## so we will need to track the previous 2 numbers at each step\n",
    "    prev_prev = 0 ## 0th fibonacci\n",
    "    prev = 1      ## 1st fibonacci\n",
    "    \n",
    "    for _ in range(n-1):\n",
    "        ## Iteration 1: current = 2nd fibonacci\n",
    "        ## Iteration 2: current = 3nd fibonacci\n",
    "        ## Iteration 3: current = 4nd fibonacci \n",
    "        ## To get nth fibonacci ... do n-1 iterations\n",
    "        current = prev + prev_prev\n",
    "        prev_prev = prev\n",
    "        prev = current\n",
    "    return current\n",
    "\n",
    "fib(5)"
   ]
  },
  {
   "cell_type": "markdown",
   "metadata": {},
   "source": [
    "### Fibber using memoize Top-Down ###"
   ]
  },
  {
   "cell_type": "code",
   "execution_count": 254,
   "metadata": {},
   "outputs": [
    {
     "data": {
      "text/plain": [
       "21"
      ]
     },
     "execution_count": 254,
     "metadata": {},
     "output_type": "execute_result"
    }
   ],
   "source": [
    "class Fibber:\n",
    "    \n",
    "    def __init__(self):\n",
    "        self.memo = {}\n",
    "        \n",
    "    def fib(self, n):\n",
    "        \n",
    "        ## eage case: negative index\n",
    "        if n < 0:\n",
    "            raise Exception(\"Index wsa negative. Be positive!\")\n",
    "            \n",
    "        ## base case: 0 or 1\n",
    "        elif n in [0, 1]:\n",
    "            return n\n",
    "        \n",
    "        ## see if we have already calculated this\n",
    "        if n in self.memo:\n",
    "            return self.memo[n]\n",
    "        \n",
    "        result = self.fib(n-1)+self.fib(n-2)\n",
    "        \n",
    "        ## memoize\n",
    "        self.memo[n] = result\n",
    "        \n",
    "        return result\n",
    "\n",
    "my_fib = Fibber()\n",
    "my_fib.fib(8)"
   ]
  },
  {
   "cell_type": "code",
   "execution_count": null,
   "metadata": {
    "collapsed": true
   },
   "outputs": [],
   "source": []
  },
  {
   "cell_type": "markdown",
   "metadata": {},
   "source": [
    "### Using hash-based data structures, like dictionaries or sets, is so common in coding challenge solutions, it should always be your first thought. ###"
   ]
  },
  {
   "cell_type": "code",
   "execution_count": 249,
   "metadata": {},
   "outputs": [
    {
     "name": "stdout",
     "output_type": "stream",
     "text": [
      "{65, 40, 10, 75, 50, 51, 20, 55, 30}\n"
     ]
    },
    {
     "data": {
      "text/plain": [
       "False"
      ]
     },
     "execution_count": 249,
     "metadata": {},
     "output_type": "execute_result"
    }
   ],
   "source": [
    "## flight time\n",
    "def can_two_movies_fill_flight(movie_lengths, flight_length):\n",
    "    \n",
    "    ## movie lengths we've seen so far\n",
    "    movie_lengths_seen = set()\n",
    "    \n",
    "    for first_movie_length in movie_lengths:\n",
    "        \n",
    "        matching_second_movie_length = flight_length - first_movie_length\n",
    "        if matching_second_movie_length in movie_lengths_seen:\n",
    "            print (movie_lengths_seen)\n",
    "            return True\n",
    "        movie_lengths_seen.add(first_movie_length)\n",
    "        \n",
    "    ## we never found a match, so return False\n",
    "    print (movie_lengths_seen)\n",
    "    return False\n",
    "\n",
    "movie_theater = [10, 20, 30, 40, 50, 50, 55 ,65, 75]\n",
    "\n",
    "my_flight_length = 100\n",
    "\n",
    "can_two_movies_fill_flight(movie_theater, my_flight_length)\n"
   ]
  },
  {
   "cell_type": "code",
   "execution_count": null,
   "metadata": {
    "collapsed": true
   },
   "outputs": [],
   "source": []
  },
  {
   "cell_type": "code",
   "execution_count": null,
   "metadata": {
    "collapsed": true
   },
   "outputs": [],
   "source": [
    "## find the rotating point in the dictionary\n",
    "\n",
    "def find_rotation_point(words):\n",
    "    \n",
    "    first_word = words[0]\n",
    "    floor_index = 0\n",
    "    ceiling_index = len(words) - 1\n",
    "    \n",
    "    while floor_index < ceiling_index:\n",
    "        ## guess a point halfway between floor and ceiling\n",
    "        guess_index = floor_index + ((ceiling_index - floor_index) / 2)\n",
    "        \n",
    "        ## if guess comes after first word or is the first word\n",
    "        if words[guess_index] >= first_word:\n",
    "            ## go right\n",
    "            floor_index = guess_index\n",
    "        else \n",
    "            ## go left\n",
    "            ceiling_index = guess_index\n",
    "        ## if floor and ceiling have converged\n",
    "        if floor_index + 1 == ceiling_index\n",
    "            ## between floor and ceiling is where we flipped to the beginning\n",
    "            ## so ceiling is alphabetically first\n",
    "            return ceiling_index\n"
   ]
  },
  {
   "cell_type": "code",
   "execution_count": null,
   "metadata": {
    "collapsed": true
   },
   "outputs": [],
   "source": []
  },
  {
   "cell_type": "code",
   "execution_count": 240,
   "metadata": {},
   "outputs": [
    {
     "name": "stdout",
     "output_type": "stream",
     "text": [
      "Nope. You don't have 99 in the list.\n",
      "Yep. You have 5 in the list.\n"
     ]
    },
    {
     "data": {
      "text/plain": [
       "True"
      ]
     },
     "execution_count": 240,
     "metadata": {},
     "output_type": "execute_result"
    }
   ],
   "source": [
    "def binary_search(target, nums):\n",
    "    ## see if target appears in nums\n",
    "    ## we think of floor_index and ceiling_index as \"walls\" around\n",
    "    ## the possible positions of our target, so by -1 below we mean\n",
    "    ## to start our wall \"to the left\" of the 0th index\n",
    "    ## (we DON'T mean the last index)\n",
    "    floor_index = -1\n",
    "    ceiling_index = len(nums)\n",
    "    \n",
    "    ## if there isn't at least 1 index between floor and ceiling,\n",
    "    ## we've run out of guesses and the number must not be present\n",
    "    while floor_index + 1 < ceiling_index:\n",
    "        \n",
    "        ## find the index ~halfway between the floor and ceiling\n",
    "        ## we use interger division, so we'll never get a \"half index\"\n",
    "        distance = ceiling_index - floor_index\n",
    "        half_distance = int(distance / 2)\n",
    "        #print (half_distance)\n",
    "        guess_index = floor_index + half_distance\n",
    "        \n",
    "        guess_value = nums[guess_index]\n",
    "        \n",
    "        if guess_value == target:\n",
    "            print (\"Yep. You have {} in the list.\".format(target))\n",
    "            return True\n",
    "        \n",
    "        if guess_value > target:\n",
    "            ## target is to the left, so move ceiling to the left\n",
    "            ceiling_index = guess_index\n",
    "            \n",
    "        else:\n",
    "            ## target is to the right, so move floor to the right\n",
    "            floor_index = guess_index\n",
    "    print (\"Nope. You don't have {} in the list.\".format(target))\n",
    "    return False\n",
    "\n",
    "my_list = [1,3,5,6,7,8,12,13,16,18,23,36,49,56,59,333]\n",
    "\n",
    "do_you_have = 99\n",
    "binary_search(do_you_have, my_list)\n",
    "\n",
    "do_you_have = 5\n",
    "binary_search(do_you_have, my_list)\n",
    "\n",
    "        "
   ]
  },
  {
   "cell_type": "code",
   "execution_count": null,
   "metadata": {
    "collapsed": true
   },
   "outputs": [],
   "source": []
  },
  {
   "cell_type": "markdown",
   "metadata": {},
   "source": [
    "### re-check ###"
   ]
  },
  {
   "cell_type": "code",
   "execution_count": 230,
   "metadata": {},
   "outputs": [
    {
     "name": "stdout",
     "output_type": "stream",
     "text": [
      "False\n",
      "you have a new input h\n",
      "you have a new input e\n",
      "you have a new input l\n",
      "you have a new input l\n",
      "you have a new input o\n",
      "{'h': {'e': {'l': {'l': {'o': {'End of Word': {}}}}}}}\n",
      "before returing: True\n",
      "False\n",
      "{'h': {'e': {'l': {'l': {'o': {'End of Word': {}}}}}}}\n",
      "before returing: False\n",
      "False\n",
      "you have a new input a\n",
      "you have a new input b\n",
      "you have a new input c\n",
      "{'h': {'e': {'l': {'l': {'o': {'End of Word': {}, 'a': {'b': {'c': {'End of Word': {}}}}}}}}}}\n",
      "before returing: True\n"
     ]
    },
    {
     "data": {
      "text/plain": [
       "True"
      ]
     },
     "execution_count": 230,
     "metadata": {},
     "output_type": "execute_result"
    }
   ],
   "source": [
    "## Search engine\n",
    "class Trie:\n",
    "    \n",
    "    def __init__(self):\n",
    "        self.root_node = {}\n",
    "    \n",
    "    def check_present_and_add(self, word):\n",
    "        current_node = self.root_node\n",
    "        \n",
    "        is_new_word = False\n",
    "        \n",
    "        print (is_new_word)\n",
    "        \n",
    "        ## work downwards through the trie, adding nodes as needed\n",
    "        ## and keep tracking of whether we add any nodes.\n",
    "        for char in word:\n",
    "            if char not in current_node:\n",
    "                print (\"you have a new input {}\".format(char))\n",
    "                is_new_word = True\n",
    "                current_node[char] = {}\n",
    "            current_node = current_node[char]\n",
    "            \n",
    "        ## explicitly mark the end of a word.\n",
    "        ## otherwise, we might say a word is present if it is a prefix of a different,\n",
    "        ## longer word that was added earlier.\n",
    "        if \"End of Word\" not in current_node:\n",
    "            is_new_word = True\n",
    "            current_node[\"End of Word\"] = {}\n",
    "        \n",
    "        print (self.root_node)\n",
    "        print (\"before returing: {}\".format(is_new_word))\n",
    "        return is_new_word\n",
    "\n",
    "my_trie = Trie()\n",
    "my_trie.check_present_and_add(\"hello\")\n",
    "my_trie.check_present_and_add(\"hello\")\n",
    "my_trie.check_present_and_add('helloabc')\n",
    "# my_trie.check_present_and_add('hello')\n"
   ]
  },
  {
   "cell_type": "code",
   "execution_count": null,
   "metadata": {
    "collapsed": true
   },
   "outputs": [],
   "source": []
  },
  {
   "cell_type": "markdown",
   "metadata": {},
   "source": [
    "## 08/11/17 ##"
   ]
  },
  {
   "cell_type": "markdown",
   "metadata": {},
   "source": [
    "### O(h) time and constant space! ###"
   ]
  },
  {
   "cell_type": "code",
   "execution_count": 197,
   "metadata": {
    "collapsed": true
   },
   "outputs": [],
   "source": [
    "def find_largest(root_node):\n",
    "    current = root_node\n",
    "    while current:\n",
    "        if not current.right:\n",
    "            return current.value\n",
    "        current = current.right\n",
    "\n",
    "def find_second_largest(root_node):\n",
    "    if root_node is None or \\\n",
    "    (root_node.left is None and root_node.right is None):\n",
    "        raise Exception('Tree must have at least 2 nodes')\n",
    "    \n",
    "    current = root_node\n",
    "    \n",
    "    while current:\n",
    "        ## case: current is largest and has a left subleft\n",
    "        ## 2nd largest is the largest in that subtree\n",
    "        if current.left and not current.right:\n",
    "            return find_largest(current.left)\n",
    "    \n",
    "        ## case: current is parent of largest, and largest has no children,\n",
    "        ## so current is 2nd largest\n",
    "        if current.right and \\\n",
    "            not current.right.left and \\\n",
    "            not current.right.right:\n",
    "            return current.value\n",
    "        \n",
    "        current = current.right\n",
    "        "
   ]
  },
  {
   "cell_type": "code",
   "execution_count": null,
   "metadata": {
    "collapsed": true
   },
   "outputs": [],
   "source": []
  },
  {
   "cell_type": "markdown",
   "metadata": {},
   "source": [
    "### O(h) time and O(h) space ###"
   ]
  },
  {
   "cell_type": "code",
   "execution_count": 193,
   "metadata": {
    "collapsed": true
   },
   "outputs": [],
   "source": [
    "class BinaryTreeNode():\n",
    "    def __init__(self, value):\n",
    "        self.value = value\n",
    "        self.left = None\n",
    "        self.right = None\n",
    "    def insert_left(self, value):\n",
    "        self.left = BinaryTreeNode(value)\n",
    "        return self.left\n",
    "    def insert_right(self, value):\n",
    "        self.right = BinaryTreeNode(value)\n",
    "        return self.right\n",
    "    \n",
    "def find_largest(root_node):\n",
    "    if root_node is None:\n",
    "        raise Exception('Tree must have at least 1 node')\n",
    "    if root_node.right:\n",
    "        return find_largest(root_node.right)\n",
    "    return root_node.value\n",
    "\n",
    "def find_second_largest(root_node):\n",
    "    if root_node is None or \\\n",
    "    (root_node.left is None and root_node.right is None):\n",
    "        raise Exception ('Tree must have at least 2 nodes')\n",
    "    \n",
    "    ## case: we're currently at largest, and largest has a left subtree\n",
    "    ## so 2nd largest is largest in said subtree\n",
    "    if root_node.left and not root_node.right:\n",
    "        return find_largest(root_node.left)\n",
    "    \n",
    "    ## case: we're at parent of largest, and largest has no left subtree,\n",
    "    ## so 2nd largest must be current node\n",
    "    if root_node.right and \\\n",
    "        not root_node.right.left and \\\n",
    "        not root_node.right.right:\n",
    "            return root_node.value\n",
    "    \n",
    "    ## otherwise:step right\n",
    "    return find_second_largest(root_node.right)\n",
    "    "
   ]
  },
  {
   "cell_type": "code",
   "execution_count": null,
   "metadata": {
    "collapsed": true
   },
   "outputs": [],
   "source": []
  },
  {
   "cell_type": "code",
   "execution_count": 192,
   "metadata": {
    "collapsed": true
   },
   "outputs": [],
   "source": [
    "## Check whether a binary tree is a valid binary search tree\n",
    "## 1. The node's value is greater than all values in the left subtree.\n",
    "## 2. The node's value is less than all values in the right subtree.\n",
    "\n",
    "class BinaryTreeNode():\n",
    "    def __init__(self,value):\n",
    "        self.value = value\n",
    "        self.left = None\n",
    "        self.right = None\n",
    "    def insert_left(self, value):\n",
    "        self.left = BinaryTreeNode(value)\n",
    "        return self.left\n",
    "    def insert_right(self, right):\n",
    "        self.right = BinaryTreeNode(right)\n",
    "        return self.right\n",
    "\n",
    "def is_binary_search_tree(root):\n",
    "    \n",
    "    ## start at the root, with an arbitrarily low lower bound\n",
    "    ## and an arbitrarily high upper bound\n",
    "    node_and_bounds_stack = [(root, -float('inf'), float('inf'))]\n",
    "    \n",
    "    ## depth-first traversal\n",
    "    while len(node_and_bounds_stack):\n",
    "        node, lower_bound, upper_bound = node_and_bounds_stack.pop()\n",
    "        \n",
    "        ## if this node is invalid, we return false right away\n",
    "        if (node.value <= lower_bound) or (node.value >= upper_bound):\n",
    "            return False\n",
    "        \n",
    "        if node.left:\n",
    "            ## this node must be less than the current node\n",
    "            node_and_bounds_stack.append((node.left, lower_bound, node.value))\n",
    "        if node.right:\n",
    "            ## this node must be greater than the current node\n",
    "            node_and_bounds_stack.append((node.right, node.value, upper_bound))\n",
    "    \n",
    "    ## if none of the nodes were invalid, return true\n",
    "    ## at this point we have checked all nodes\n",
    "    \n",
    "    return True\n"
   ]
  },
  {
   "cell_type": "code",
   "execution_count": null,
   "metadata": {
    "collapsed": true
   },
   "outputs": [],
   "source": []
  },
  {
   "cell_type": "markdown",
   "metadata": {},
   "source": [
    "### re-visit necessary ###"
   ]
  },
  {
   "cell_type": "code",
   "execution_count": 191,
   "metadata": {},
   "outputs": [
    {
     "data": {
      "text/plain": [
       "<__main__.BinaryTreeNode at 0x108242be0>"
      ]
     },
     "execution_count": 191,
     "metadata": {},
     "output_type": "execute_result"
    }
   ],
   "source": [
    "## 8. Binary tree\n",
    "\n",
    "class BinaryTreeNode:\n",
    "    \n",
    "    def __init__(self, value):\n",
    "        self.value = value\n",
    "        self.left = None\n",
    "        self.right = None\n",
    "    \n",
    "    def insert_left(self, value):\n",
    "        self.left = BinaryTreeNode(value)\n",
    "        return self.left\n",
    "\n",
    "    def insert_right(self, value):\n",
    "        self.right = BinaryTreeNode(value)\n",
    "        return self.right\n",
    "\n",
    "\n",
    "def is_balanced(tree_root):\n",
    "    \n",
    "    ## a tree with no nodes is superbalanced, since there are no leaves\n",
    "    if tree_root == None:\n",
    "        return True\n",
    "    \n",
    "    depths = [] ## we short-circuit as soon as we find more than 2\n",
    "    \n",
    "    ## we treat the list as a stack that would store tuples of (node, depth)\n",
    "    nodes = []\n",
    "    nodes.append((tree_root, 0))\n",
    "    \n",
    "    while len(nodes):\n",
    "        ## pop a node and its depth from the top of our stack\n",
    "        node, depth = nodes.pop()\n",
    "        \n",
    "        ## case: we found a leaf\n",
    "        if (not node.left) and (not node.right):\n",
    "            \n",
    "            ## we only care if it's a new depth\n",
    "            if depth not in depths:\n",
    "                depths.append(depth)\n",
    "                \n",
    "                ## two criteria of having an unbalanced tree:\n",
    "                ## 1. more than 2 different leaf depths\n",
    "                ## 2. 2 leaf depths that are more than 1 apart\n",
    "                if (len(depths) > 2) or (len(depths) == 2 and abs(depths[0]-depths[1]) > 1):\n",
    "                    return False\n",
    "        ## case: we didn't find a leaf yet, keep stepping down\n",
    "        else:\n",
    "            if node.left:\n",
    "                nodes.append((node.left, depth + 1))\n",
    "            if node.right:\n",
    "                nodes.append((node.right, depth + 1))\n",
    "    return True\n",
    "    \n",
    "my_tree = BinaryTreeNode(5)"
   ]
  },
  {
   "cell_type": "code",
   "execution_count": null,
   "metadata": {
    "collapsed": true
   },
   "outputs": [],
   "source": []
  },
  {
   "cell_type": "code",
   "execution_count": 179,
   "metadata": {},
   "outputs": [
    {
     "name": "stdout",
     "output_type": "stream",
     "text": [
      "6\n",
      "1\n",
      "3.5\n",
      "3\n"
     ]
    }
   ],
   "source": [
    "## Get the temperature info\n",
    "\n",
    "class TempTracker:\n",
    "\n",
    "    def __init__(self):\n",
    "\n",
    "        # for mode\n",
    "        self.occurrences = [0] * (111)  # list of 0s at indices 0..110\n",
    "        self.max_occurrences = 0\n",
    "        self.mode = None\n",
    "\n",
    "        # for mean\n",
    "        self.total_numbers = 0\n",
    "        self.total_sum = 0.0  # mean should be float\n",
    "        self.mean = None\n",
    "\n",
    "        # for min and max\n",
    "        self.min_temp = float('inf')\n",
    "        self.max_temp = float('-inf')\n",
    "\n",
    "    def insert(self, temperature):\n",
    "\n",
    "        # for mode\n",
    "        self.occurrences[temperature] += 1\n",
    "        if self.occurrences[temperature] > self.max_occurrences:\n",
    "            self.mode = temperature\n",
    "            self.max_occurrences = self.occurrences[temperature]\n",
    "\n",
    "        # for mean\n",
    "        self.total_numbers += 1\n",
    "        self.total_sum += temperature\n",
    "        self.mean = self.total_sum / self.total_numbers\n",
    "\n",
    "        # for min and max\n",
    "        if temperature > self.max_temp:\n",
    "            self.max_temp = temperature\n",
    "        if temperature < self.min_temp:\n",
    "            self.min_temp = temperature\n",
    "\n",
    "    def get_max(self):\n",
    "        return self.max_temp\n",
    "\n",
    "    def get_min(self):\n",
    "        return self.min_temp\n",
    "\n",
    "    def get_mean(self):\n",
    "        return self.mean\n",
    "\n",
    "    def get_mode(self):\n",
    "        return self.mode\n",
    "    \n",
    "    \n",
    "my_list = TempTracker()             \n",
    "          \n",
    "temp_to_insert = [1,2,3,4,4,5,4,6,4,3,3,2,3,3,4,5]\n",
    "\n",
    "for i in temp_to_insert:\n",
    "    my_list.insert(i)\n",
    "\n",
    "print (my_list.get_max())\n",
    "print (my_list.get_min())\n",
    "print (my_list.get_mean())\n",
    "print (my_list.get_mode())"
   ]
  },
  {
   "cell_type": "code",
   "execution_count": null,
   "metadata": {
    "collapsed": true
   },
   "outputs": [],
   "source": []
  },
  {
   "cell_type": "code",
   "execution_count": 147,
   "metadata": {},
   "outputs": [
    {
     "data": {
      "text/plain": [
       "{'bottom_y': None, 'height': None, 'left_x': None, 'width': None}"
      ]
     },
     "execution_count": 147,
     "metadata": {},
     "output_type": "execute_result"
    }
   ],
   "source": [
    "## Find overlapping rectangle\n",
    "\n",
    "def find_xORy_overlap(xORy1, width1, xORy2, width2):\n",
    "    \n",
    "    ## find the highest (\"rightmost\") start point and lowest (\"leftmost\") end point\n",
    "    highest_start_point = max(xORy1, xORy2)\n",
    "    lowest_end_point = min(xORy1 + width1, xORy2 + width2)\n",
    "    \n",
    "    ## return null overlap if there is no overlap\n",
    "    if highest_start_point >= lowest_end_point: return (None, None)\n",
    "    \n",
    "    ## compute the overlap width\n",
    "    overlap_width = lowest_end_point - highest_start_point\n",
    "    \n",
    "    return (highest_start_point, overlap_width)\n",
    "\n",
    "def find_rectangular_overlap(rect1, rect2):\n",
    "    \n",
    "    ## get the x and y overlap points and lengths\n",
    "    \n",
    "    x_overlap_point, overlap_width = find_xORy_overlap(\\\n",
    "                    rect1['left_x'], rect1['width'], rect2['left_x'], rect2['width'])\n",
    "    y_overlap_point, overlap_height = find_xORy_overlap(\\\n",
    "                    rect1['bottom_y'], rect1['height'], rect2['bottom_y'], rect2['height'])\n",
    "    \n",
    "    ## return null rectangle if there is no overlap\n",
    "\n",
    "    ## caution: check whether you define overlap_width = 0 or None while \n",
    "    ## there is no overlap!\n",
    "    \n",
    "    #if (overlap_width == None) or (overlap_height == None):\n",
    "    if not overlap_width or not overlap_height:\n",
    "        return {\n",
    "            'left_x': None,\n",
    "            'width': None,\n",
    "            'bottom_y': None,\n",
    "            'height': None,\n",
    "        }\n",
    "    \n",
    "    return {\n",
    "            'left_x': x_overlap_point,\n",
    "            'width': overlap_width,\n",
    "            'bottom_y': y_overlap_point,\n",
    "            'height': overlap_height\n",
    "    }\n",
    "\n",
    "my_rectangle_1 = {\n",
    "\n",
    "# coordinates of bottom-left corner\n",
    "'left_x': 1,\n",
    "'bottom_y': 5,\n",
    "\n",
    "# width and height\n",
    "'width': 10,\n",
    "'height': 4,\n",
    "}\n",
    "\n",
    "my_rectangle_2 = {\n",
    "\n",
    "# coordinates of bottom-left corner\n",
    "'left_x': 11,\n",
    "'bottom_y': 7,\n",
    "\n",
    "# width and height\n",
    "'width': 6,\n",
    "'height': 6,\n",
    "}\n",
    "\n",
    "find_rectangular_overlap(my_rectangle_1, my_rectangle_2)\n",
    "\n"
   ]
  },
  {
   "cell_type": "code",
   "execution_count": null,
   "metadata": {
    "collapsed": true
   },
   "outputs": [],
   "source": []
  },
  {
   "cell_type": "markdown",
   "metadata": {},
   "source": [
    "## 08/10/17 ##"
   ]
  },
  {
   "cell_type": "code",
   "execution_count": null,
   "metadata": {
    "collapsed": true
   },
   "outputs": [],
   "source": []
  },
  {
   "cell_type": "markdown",
   "metadata": {},
   "source": [
    "### Idea: bottom-up ###  \n",
    "compute the answer for small values of amount first, and use those answers to iteratively compute the answer for higher values until arriving at the final amount"
   ]
  },
  {
   "cell_type": "code",
   "execution_count": 123,
   "metadata": {},
   "outputs": [
    {
     "name": "stdout",
     "output_type": "stream",
     "text": [
      "[1, 1, 2, 3, 4, 5, 7, 8, 10, 12, 14]\n"
     ]
    },
    {
     "data": {
      "text/plain": [
       "14"
      ]
     },
     "execution_count": 123,
     "metadata": {},
     "output_type": "execute_result"
    }
   ],
   "source": [
    "def change_poss_bottom_up(amount, denominations):\n",
    "    ways_of_doing_n_cents = [0] * (amount + 1)\n",
    "    ways_of_doing_n_cents[0] = 1\n",
    "    \n",
    "    for coin in denominations:\n",
    "        for higher_amount in range(coin, amount + 1):\n",
    "            higher_amount_reminder = higher_amount - coin\n",
    "            ways_of_doing_n_cents[higher_amount] += ways_of_doing_n_cents[higher_amount_reminder]\n",
    "    \n",
    "    print (ways_of_doing_n_cents[:])\n",
    "    return ways_of_doing_n_cents[amount]\n",
    "\n",
    "total_amount = 10\n",
    "my_denominations = [1, 2, 3]\n",
    "\n",
    "change_poss_bottom_up(total_amount, my_denominations)"
   ]
  },
  {
   "cell_type": "code",
   "execution_count": null,
   "metadata": {
    "collapsed": true
   },
   "outputs": [],
   "source": []
  },
  {
   "cell_type": "code",
   "execution_count": 122,
   "metadata": {},
   "outputs": [
    {
     "name": "stdout",
     "output_type": "stream",
     "text": [
      "check way to make 10 with [1, 2, 3].\n",
      "check way to make 10 with [2, 3].\n",
      "check way to make 10 with [3].\n",
      "check way to make 8 with [3].\n",
      "check way to make 6 with [3].\n",
      "check way to make 4 with [3].\n",
      "check way to make 2 with [3].\n",
      "check way to make 9 with [2, 3].\n",
      "check way to make 9 with [3].\n",
      "check way to make 7 with [3].\n",
      "check way to make 5 with [3].\n",
      "check way to make 3 with [3].\n",
      "check way to make 1 with [3].\n",
      "check way to make 8 with [2, 3].\n",
      "grab memo (8, 2)\n",
      "grab memo (6, 2)\n",
      "grab memo (4, 2)\n",
      "grab memo (2, 2)\n",
      "check way to make 7 with [2, 3].\n",
      "grab memo (7, 2)\n",
      "grab memo (5, 2)\n",
      "grab memo (3, 2)\n",
      "grab memo (1, 2)\n",
      "check way to make 6 with [2, 3].\n",
      "grab memo (6, 2)\n",
      "grab memo (4, 2)\n",
      "grab memo (2, 2)\n",
      "check way to make 5 with [2, 3].\n",
      "grab memo (5, 2)\n",
      "grab memo (3, 2)\n",
      "grab memo (1, 2)\n",
      "check way to make 4 with [2, 3].\n",
      "grab memo (4, 2)\n",
      "grab memo (2, 2)\n",
      "check way to make 3 with [2, 3].\n",
      "grab memo (3, 2)\n",
      "grab memo (1, 2)\n",
      "check way to make 2 with [2, 3].\n",
      "grab memo (2, 2)\n",
      "check way to make 1 with [2, 3].\n",
      "grab memo (1, 2)\n"
     ]
    },
    {
     "data": {
      "text/plain": [
       "14"
      ]
     },
     "execution_count": 122,
     "metadata": {},
     "output_type": "execute_result"
    }
   ],
   "source": [
    "### potential large call stack issue\n",
    "\n",
    "class Change:\n",
    "    def __init__(self):\n",
    "        self.memo = {}\n",
    "    \n",
    "    def change_poss_top_down_memo(self, amount_left, denominations, curr_index= 0):\n",
    "        ## Check our memo and hsort-circuit if we've already solved this one\n",
    "        memo_key = str((amount_left, curr_index))\n",
    "        if memo_key in self.memo:\n",
    "            print (\"grab memo {}\".format(memo_key))\n",
    "            return self.memo[memo_key]\n",
    "    \n",
    "        ## base cases:\n",
    "        ## we hit the amount spot on. We count 1\n",
    "        if amount_left == 0: return 1\n",
    "\n",
    "        ## we overshot\n",
    "        if amount_left < 0: return 0\n",
    "\n",
    "\n",
    "        ## we are out of denominations\n",
    "        if curr_index == len(denominations): return 0\n",
    "        \n",
    "        \n",
    "        print (\"check way to make {} with {}.\".format(amount_left, \n",
    "                                                      denominations[curr_index:]\n",
    "                                                     ))\n",
    "\n",
    "        ## choose the current coin\n",
    "        curr_coin = denominations[curr_index]\n",
    "\n",
    "        ## see how many possibilities we can get\n",
    "        ## for each number of times to use curr_coin\n",
    "        num_possibilities = 0\n",
    "        \n",
    "        while amount_left >= 0:\n",
    "            num_possibilities += self.change_poss_top_down_memo(amount_left, denominations, curr_index+1)\n",
    "            amount_left -= curr_coin\n",
    "            #print (\"Checking\")\n",
    "\n",
    "        ## save the answer in our memo so we don't compute it again\n",
    "        self.memo[memo_key] = num_possibilities\n",
    "          \n",
    "        return num_possibilities\n",
    "\n",
    "total_amount = 10\n",
    "my_denominations = [1, 2, 3]\n",
    "\n",
    "Change().change_poss_top_down_memo(total_amount, my_denominations)\n",
    "    "
   ]
  },
  {
   "cell_type": "code",
   "execution_count": null,
   "metadata": {
    "collapsed": true
   },
   "outputs": [],
   "source": []
  },
  {
   "cell_type": "markdown",
   "metadata": {},
   "source": [
    "## Memoize ##"
   ]
  },
  {
   "cell_type": "markdown",
   "metadata": {},
   "source": [
    "<figure>\n",
    "<center>\n",
    "  <img src=\"https://www.interviewcake.com/images/svgs/fibonacci__binary_tree_memoized.svg?bust=150\" alt=\"Drawing\" style=\"width: 400px;\"/>\n",
    "  <figcaption align=\"center\">Fig.1 - [from here](https://www.interviewcake.com/question/python/coin).\n",
    "  </figcaption>\n",
    "  </center>\n",
    "</figure>"
   ]
  },
  {
   "cell_type": "code",
   "execution_count": 117,
   "metadata": {},
   "outputs": [
    {
     "name": "stdout",
     "output_type": "stream",
     "text": [
      "Computing fib 5\n",
      "Computing fib 4\n",
      "Computing fib 3\n",
      "Computing fib 2\n",
      "grab meme 2\n",
      "grab meme 3\n"
     ]
    },
    {
     "data": {
      "text/plain": [
       "5"
      ]
     },
     "execution_count": 117,
     "metadata": {},
     "output_type": "execute_result"
    }
   ],
   "source": [
    "class Fibber:\n",
    "    \n",
    "    def __init__(self):\n",
    "        self.memo={}\n",
    "    \n",
    "    def fib(self, n):\n",
    "        \n",
    "        if n < 0:\n",
    "            raise Exception(\"Index was negative. Be positive!\")\n",
    "        \n",
    "        elif n in [0, 1]:\n",
    "            return n\n",
    "            \n",
    "        ## see if we've already calculated this\n",
    "        if n in self.memo:\n",
    "            print (\"grab meme {}\".format(n))\n",
    "            return self.memo[n]\n",
    "        \n",
    "        print (\"Computing fib {}\".format(n))\n",
    "        result = self.fib(n-1) + self.fib(n-2)\n",
    "        \n",
    "        # memoize\n",
    "        self.memo[n] = result\n",
    "        \n",
    "        return result\n",
    "\n",
    "Fibber().fib(5)"
   ]
  },
  {
   "cell_type": "code",
   "execution_count": null,
   "metadata": {
    "collapsed": true
   },
   "outputs": [],
   "source": []
  },
  {
   "cell_type": "code",
   "execution_count": 137,
   "metadata": {},
   "outputs": [
    {
     "name": "stdout",
     "output_type": "stream",
     "text": [
      "2\n",
      "18\n"
     ]
    }
   ],
   "source": [
    "a = [1234, 4567]\n",
    "m = [3456, 3333]\n",
    "\n",
    "\n",
    "length_of_a_and_m = len(a)\n",
    "\n",
    "print (length_of_a_and_m)\n",
    "\n",
    "total_steps = 0\n",
    "for list_index in range(length_of_a_and_m):\n",
    "    a_split = [int(i) for i in str(a[list_index])]\n",
    "    m_split = [int(j) for j in str(m[list_index])]\n",
    "    each_steps = sum([abs(a_i - m_i) for a_i, m_i in zip(a_split, m_split)])\n",
    "    total_steps += each_steps\n",
    "    \n",
    "print (total_steps)\n",
    "    #print (a_split, m_split)\n",
    "\n",
    "# print ([int(i) for i in str(1234)])\n",
    "\n",
    "# [a_i - m_i for a_i, m_i in zip(a, m)]"
   ]
  },
  {
   "cell_type": "code",
   "execution_count": null,
   "metadata": {
    "collapsed": true
   },
   "outputs": [],
   "source": []
  },
  {
   "cell_type": "code",
   "execution_count": null,
   "metadata": {
    "collapsed": true
   },
   "outputs": [],
   "source": []
  },
  {
   "cell_type": "code",
   "execution_count": null,
   "metadata": {
    "collapsed": true
   },
   "outputs": [],
   "source": []
  },
  {
   "cell_type": "code",
   "execution_count": 95,
   "metadata": {},
   "outputs": [
    {
     "name": "stdout",
     "output_type": "stream",
     "text": [
      "Check combination to make 4 with [1, 2, 3]\n",
      "Check combination to make 4 with [2, 3]\n",
      "Check combination to make 4 with [3]\n",
      "Check combination to make 2 with [3]\n",
      "Check combination to make 3 with [2, 3]\n",
      "Check combination to make 3 with [3]\n",
      "Check combination to make 1 with [3]\n",
      "Check combination to make 2 with [2, 3]\n",
      "Check combination to make 2 with [3]\n",
      "Check combination to make 1 with [2, 3]\n",
      "Check combination to make 1 with [3]\n"
     ]
    },
    {
     "data": {
      "text/plain": [
       "4"
      ]
     },
     "execution_count": 95,
     "metadata": {},
     "output_type": "execute_result"
    }
   ],
   "source": [
    "### The results were repeated in time. Try another way to avoid this.\n",
    "def change_poss_top_down(amount_left, denominations, curr_index=0):\n",
    "    # base case\n",
    "    # we hit the amount spot on.\n",
    "    if amount_left == 0: return 1\n",
    "    # we overshot the amount left\n",
    "    if amount_left < 0: return 0\n",
    "    # we are out of denominations (We have checked all the possible denominations)\n",
    "    if curr_index == len(denominations): return 0\n",
    "    print (\"Check combination to make {} with {}\".format(amount_left, denominations[curr_index:]))\n",
    "    \n",
    "    ## choose a current coin\n",
    "    curr_coin = denominations[curr_index]\n",
    "    \n",
    "    ## see how many possibilities we can get\n",
    "    ## for each number of times to use curr_coin\n",
    "    \n",
    "    num_possibilities = 0\n",
    "    while amount_left >= 0:\n",
    "        num_possibilities += change_poss_top_down(amount_left, denominations, curr_index+1)\n",
    "        amount_left -= curr_coin\n",
    "    return num_possibilities\n",
    "\n",
    "amount = 4\n",
    "denominations = [1, 2, 3]\n",
    "\n",
    "change_poss_top_down(amount, denominations)\n",
    "\n",
    "    \n",
    "    "
   ]
  },
  {
   "cell_type": "code",
   "execution_count": null,
   "metadata": {
    "collapsed": true
   },
   "outputs": [],
   "source": []
  },
  {
   "cell_type": "code",
   "execution_count": 90,
   "metadata": {},
   "outputs": [
    {
     "name": "stdout",
     "output_type": "stream",
     "text": [
      "[(1, 2), (5, 8), (2, 4)]\n",
      "[(1, 2), (2, 4), (5, 8)]\n",
      "2 4\n",
      "5 8\n"
     ]
    },
    {
     "data": {
      "text/plain": [
       "[(1, 4), (5, 8)]"
      ]
     },
     "execution_count": 90,
     "metadata": {},
     "output_type": "execute_result"
    }
   ],
   "source": [
    "## Sort meeting time\n",
    "## We sort our input list of meetings by start time \n",
    "## so any meetings that might need to be merged are\n",
    "## now next to each other.\n",
    "\n",
    "## !. If we can merge, do it.\n",
    "## 2. If we cannot merge, we know the previous meeting cannot\n",
    "##    be merged with any future meeting (since we have the sorted lists).\n",
    "##    Then we save the previous meeting into merged_meetings\n",
    "\n",
    "def merge_ranges(meetings):\n",
    "    # sort by start time\n",
    "    \n",
    "    print (meetings)\n",
    "    sorted_meetings = sorted(meetings)\n",
    "    print (sorted_meetings)\n",
    "    \n",
    "    # initialized merged_meetings with the earliest meeting\n",
    "    merged_meetings = [sorted_meetings[0]]\n",
    "    for current_meeting_start, current_meeting_end in sorted_meetings[1:]:\n",
    "        print (current_meeting_start, current_meeting_end)\n",
    "        last_merged_meeting_start, last_merged_meeting_end = merged_meetings[-1]\n",
    "        \n",
    "        ## if the current and last meetings overlap, use the latest end time\n",
    "        \n",
    "        if (current_meeting_start <= last_merged_meeting_end):\n",
    "            merged_meetings[-1] = (last_merged_meeting_start, max(last_merged_meeting_end, current_meeting_end))\n",
    "        \n",
    "        ## directly add the current meeting since it doesn't overlap\n",
    "        else:\n",
    "            merged_meetings.append((current_meeting_start, current_meeting_end))\n",
    "        \n",
    "    return merged_meetings\n",
    "    \n",
    "all_meetings = [(1,2), (5,8), (2,4)]\n",
    "\n",
    "merge_ranges(all_meetings)\n",
    "        "
   ]
  },
  {
   "cell_type": "code",
   "execution_count": null,
   "metadata": {
    "collapsed": true
   },
   "outputs": [],
   "source": []
  },
  {
   "cell_type": "code",
   "execution_count": 83,
   "metadata": {},
   "outputs": [
    {
     "data": {
      "text/plain": [
       "90"
      ]
     },
     "execution_count": 83,
     "metadata": {},
     "output_type": "execute_result"
    }
   ],
   "source": [
    "from itertools import islice\n",
    "\n",
    "def highest_3_product(list_of_ints):\n",
    "    if len(list_of_ints) < 3:\n",
    "        raise Exception('Less than 3 items.')\n",
    "    # We start at the 3rd item (index 2)\n",
    "    # so pre-pupulate highests and lowests based on the first 2 items.\n",
    "    # we could also start these as None and check below if they're set\n",
    "    # But this is arguably cleaner\n",
    "    highest = max(list_of_ints[0], list_of_ints[1])\n",
    "    lowest = min(list_of_ints[0], list_of_ints[1])\n",
    "    \n",
    "    highest_product_of_2 = list_of_ints[0] * list_of_ints[1]\n",
    "    lowest_product_of_2 = list_of_ints[0] * list_of_ints[1]\n",
    "    \n",
    "    # initialize highest_product_of_3\n",
    "    highest_product_of_3 = list_of_ints[0] * list_of_ints[1] * list_of_ints[2]\n",
    "\n",
    "    # Walk through items, starting at index 2\n",
    "    for current in islice(list_of_ints, 2, None):\n",
    "        # do we have a new highest product of 3?\n",
    "        # it's either the current highest,\n",
    "        # or the current times the highest product of two\n",
    "        # or the current times the lowest product of two\n",
    "        highest_product_of_3 = max(\n",
    "            highest_product_of_3,\n",
    "            current*highest_product_of_2,\n",
    "            current*lowest_product_of_2)\n",
    "        \n",
    "        # do we have a new highest product of two?\n",
    "        highest_product_of_2 = max(\n",
    "            highest_product_of_2,\n",
    "            current*highest,\n",
    "            current*lowest)\n",
    "        # do we have a new lowest product of two?\n",
    "        lowest_product_of_2 = min(\n",
    "            lowest_product_of_2,\n",
    "            current*highest,\n",
    "            current*lowest)\n",
    "        # do we have a new highest?\n",
    "        highest = max(highest, current)\n",
    "        # do we have a new lowest?\n",
    "        lowest = min(lowest, current)\n",
    "    return highest_product_of_3\n",
    "\n",
    "\n",
    "my_list_of_ints = [-1,2,-3,4,-5,6]\n",
    "\n",
    "highest_3_product(my_list_of_ints)\n",
    "\n",
    "\n"
   ]
  },
  {
   "cell_type": "code",
   "execution_count": null,
   "metadata": {
    "collapsed": true
   },
   "outputs": [],
   "source": []
  },
  {
   "cell_type": "code",
   "execution_count": 76,
   "metadata": {},
   "outputs": [
    {
     "name": "stdout",
     "output_type": "stream",
     "text": [
      "It is your list [3, 4, 11, 2].\n",
      "[1, 3, 12, 132]\n",
      "[88, 22, 2, 1]\n"
     ]
    },
    {
     "data": {
      "text/plain": [
       "[88, 66, 24, 132]"
      ]
     },
     "execution_count": 76,
     "metadata": {},
     "output_type": "execute_result"
    }
   ],
   "source": [
    "def get_products_of_all_ints_except_at_index(input_list):\n",
    "    \n",
    "    if len(input_list) < 2:\n",
    "        raise IndexError('We need at least 2 numbers in the list to accomplish the task.')\n",
    "    \n",
    "    ## we make a list with the length of the input list to hold our products\n",
    "    products_of_all_ints_except_at_index = [0]*(len(input_list))\n",
    "    \n",
    "    from_front = [0]*(len(input_list))\n",
    "    from_back = [0]*(len(input_list))\n",
    "    \n",
    "    \n",
    "    ## for each interger, find the product of all the intergers\n",
    "    ## before it, storing the total product so far each time\n",
    "     \n",
    "    ## Counting from the first index\n",
    "    product_so_far = 1\n",
    "    i = 0   \n",
    "    while i < len(input_list):\n",
    "        products_of_all_ints_except_at_index[i] = product_so_far\n",
    "        \n",
    "        from_front[i] = products_of_all_ints_except_at_index[i]\n",
    "        #print (product_so_far)\n",
    "        product_so_far *= input_list[i]\n",
    "        i += 1\n",
    "   \n",
    "    ## Counting from the last index\n",
    "    product_so_far = 1\n",
    "    i = len(input_list) - 1\n",
    "    while i >= 0:\n",
    "        \n",
    "        from_back[i] = product_so_far\n",
    "        products_of_all_ints_except_at_index[i] *= product_so_far\n",
    "        #print (product_so_far)\n",
    "        product_so_far *= input_list[i]\n",
    "        i -= 1\n",
    "    print (from_front)\n",
    "    print (from_back)\n",
    "    return products_of_all_ints_except_at_index\n",
    "\n",
    "           \n",
    "my_list = [3, 4, 11, 2]\n",
    "print (\"It is your list {}.\".format(my_list))\n",
    "get_products_of_all_ints_except_at_index(my_list)\n",
    "\n"
   ]
  },
  {
   "cell_type": "code",
   "execution_count": null,
   "metadata": {
    "collapsed": true
   },
   "outputs": [],
   "source": []
  },
  {
   "cell_type": "code",
   "execution_count": 63,
   "metadata": {},
   "outputs": [
    {
     "name": "stdout",
     "output_type": "stream",
     "text": [
      "-1\n",
      "-1\n",
      "-1\n",
      "-1\n",
      "-1\n",
      "-1\n"
     ]
    },
    {
     "data": {
      "text/plain": [
       "-1"
      ]
     },
     "execution_count": 63,
     "metadata": {},
     "output_type": "execute_result"
    }
   ],
   "source": [
    "def get_max_profile(stock_prices_yesterday):\n",
    "    if len(stock_prices_yesterday) < 2:\n",
    "        raise IndexError('Getting a profit requires at least 2 prices.')\n",
    "    \n",
    "    min_price = stock_prices_yesterday[0]\n",
    "    max_profit = stock_prices_yesterday[1] - stock_prices_yesterday[0]\n",
    "    print (max_profit)\n",
    "    \n",
    "    for current_price in stock_prices_yesterday[1:]:\n",
    "        # see what our profit would be if we bought at the min price and sold at the current price\n",
    "        pot_profit = current_price - min_price\n",
    "        \n",
    "        # update max_profit if we can do better\n",
    "        max_profit = max(max_profit, pot_profit)\n",
    "        \n",
    "        # ensure min_price is the lowest price we've seen so far\n",
    "        min_price = min(min_price, current_price)\n",
    "\n",
    "        print (max_profit)\n",
    "    return max_profit\n",
    "\n",
    "#stock_prices_yesterday = [10, 7, 5, 8, 11, 9]\n",
    "stock_prices_yesterday = [10,9,8,7,6,5]\n",
    "get_max_profile(stock_prices_yesterday)\n"
   ]
  },
  {
   "cell_type": "code",
   "execution_count": null,
   "metadata": {
    "collapsed": true
   },
   "outputs": [],
   "source": []
  },
  {
   "cell_type": "code",
   "execution_count": 50,
   "metadata": {},
   "outputs": [
    {
     "name": "stdout",
     "output_type": "stream",
     "text": [
      "0 10\n",
      "1 7\n",
      "2 5\n",
      "3 8\n",
      "4 11\n",
      "5 9\n"
     ]
    },
    {
     "data": {
      "text/plain": [
       "6"
      ]
     },
     "execution_count": 50,
     "metadata": {},
     "output_type": "execute_result"
    }
   ],
   "source": [
    "stock_prices_yesterday = [10, 7, 5, 8, 11, 9]\n",
    "\n",
    "def get_max_profit(stock_prices_yesterday):\n",
    "    max_profit = 0\n",
    "    \n",
    "    # go through every price (with its index as the time)\n",
    "    for earlier_time, earlier_price in enumerate(stock_prices_yesterday):\n",
    "        print (earlier_time, earlier_price)\n",
    "        # and go through all the LATER prices\n",
    "        for later_price in stock_prices_yesterday[earlier_time+1:]:\n",
    "            # see what our profit would be if we bout at the earlier price and sold at the later price\n",
    "            pot_profit = later_price - earlier_price\n",
    "            # update max_profit if we can do better\n",
    "            max_profit = max(max_profit, pot_profit)\n",
    "    return max_profit\n",
    "\n",
    "get_max_profit(stock_prices_yesterday)"
   ]
  },
  {
   "cell_type": "code",
   "execution_count": null,
   "metadata": {
    "collapsed": true
   },
   "outputs": [],
   "source": []
  },
  {
   "cell_type": "code",
   "execution_count": 48,
   "metadata": {},
   "outputs": [
    {
     "data": {
      "text/plain": [
       "6"
      ]
     },
     "execution_count": 48,
     "metadata": {},
     "output_type": "execute_result"
    }
   ],
   "source": [
    "## brute force\n",
    "\n",
    "\n",
    "stock_prices_yesterday = [10, 7, 5, 8, 11, 9]\n",
    "\n",
    "def get_max_profit(stock_prices_yesterday):\n",
    "\n",
    "    max_profit = 0\n",
    "\n",
    "    # go through every time\n",
    "    for outer_time in range(len(stock_prices_yesterday)):\n",
    "\n",
    "        # for every time, go through every OTHER time\n",
    "        for inner_time in range(len(stock_prices_yesterday)):\n",
    "\n",
    "            # for each pair, find the earlier and later times\n",
    "            earlier_time = min(outer_time, inner_time)\n",
    "            later_time   = max(outer_time, inner_time)\n",
    "\n",
    "            # and use those to find the earlier and later prices\n",
    "            earlier_price = stock_prices_yesterday[earlier_time]\n",
    "            later_price   = stock_prices_yesterday[later_time]\n",
    "\n",
    "            # see what our profit would be if we bought at the\n",
    "            # earlier price and sold at the later price\n",
    "            potential_profit = later_price - earlier_price\n",
    "\n",
    "            # update max_profit if we can do better\n",
    "            max_profit = max(max_profit, potential_profit)\n",
    "            #print (\"outer_time is {}, inner_time is {}. Pot:{}, Max:{}\".format(outer_time, inner_time, potential_profit, max_profit  ))\n",
    "\n",
    "\n",
    "    return max_profit\n",
    "\n",
    "get_max_profit(stock_prices_yesterday)\n",
    "\n"
   ]
  },
  {
   "cell_type": "code",
   "execution_count": null,
   "metadata": {
    "collapsed": true
   },
   "outputs": [],
   "source": []
  },
  {
   "cell_type": "code",
   "execution_count": 41,
   "metadata": {},
   "outputs": [
    {
     "name": "stdout",
     "output_type": "stream",
     "text": [
      "6\n"
     ]
    }
   ],
   "source": [
    "def fac(x):\n",
    "    val = 1\n",
    "    for i in range(1, x+1):\n",
    "        val *= i\n",
    "    print (val)\n",
    "\n",
    "fac(3)"
   ]
  },
  {
   "cell_type": "code",
   "execution_count": null,
   "metadata": {
    "collapsed": true
   },
   "outputs": [],
   "source": []
  },
  {
   "cell_type": "code",
   "execution_count": 139,
   "metadata": {},
   "outputs": [
    {
     "name": "stdout",
     "output_type": "stream",
     "text": [
      "1\n",
      "2\n",
      "fuzz\n",
      "4\n",
      "buzz\n",
      "fuzz\n",
      "7\n",
      "8\n",
      "fuzz\n",
      "buzz\n",
      "11\n",
      "fuzz\n",
      "13\n",
      "14\n",
      "fuzzbuzz\n",
      "16\n"
     ]
    }
   ],
   "source": [
    "# %%timeit\n",
    "\n",
    "def buzz_word(N):\n",
    "    multi_3 = \"fuzz\"\n",
    "    multi_5 = \"buzz\"\n",
    "    multi_15 = \"fuzzbuzz\"\n",
    "    for i in range(1, N+1):\n",
    "        if i%15 == 0:\n",
    "            print (multi_15)\n",
    "        elif i%3 == 0:\n",
    "            print (multi_3)\n",
    "        elif i%5 == 0:\n",
    "            print (multi_5)\n",
    "        else:\n",
    "            print (i)\n",
    "\n",
    "            \n",
    "buzz_word(16)\n",
    "    "
   ]
  },
  {
   "cell_type": "code",
   "execution_count": 84,
   "metadata": {
    "collapsed": true
   },
   "outputs": [],
   "source": [
    "## %%timeit\n",
    "## Results\n",
    "## 100 loops, best of 3: 8.55 ms per loop\n",
    "\n",
    "# for i in range(1,21):\n",
    "# \tt=((15,\"fuzzbuzz\"),(5,\"buzz\"),(3,\"fuzz\"),(i,i))\n",
    "# \tfor (k, w) in t:\n",
    "# \t\tif i%k==0:\n",
    "# \t\t\tprint(w) \n",
    "# \t\t\t#break"
   ]
  },
  {
   "cell_type": "code",
   "execution_count": 146,
   "metadata": {},
   "outputs": [
    {
     "name": "stdout",
     "output_type": "stream",
     "text": [
      "[1, 1, -1, 1, -1, -1, 1]\n",
      "9\n",
      "7\n",
      "0.444444\n",
      "0.333333\n",
      "0.222222\n",
      "0.222222\n"
     ]
    }
   ],
   "source": [
    "arr = [1, 4, -3, 0, 6, -3, -2, 0, 7]\n",
    "\n",
    "n = len(arr)\n",
    "l = [1 if x > 0 else -1 for x in arr if x != 0]\n",
    "print (l)\n",
    "print (n)\n",
    "print (len(l))\n",
    "print(\"%.6f\" % float(l.count(1)/n))\n",
    "print(\"%.6f\" % float(l.count(-1)/n))\n",
    "print(\"%.6f\" % float(abs(len(l)-n) /n))\n",
    "print(\"%.6f\" % float((n-len(l)) /n))"
   ]
  },
  {
   "cell_type": "code",
   "execution_count": null,
   "metadata": {
    "collapsed": true
   },
   "outputs": [],
   "source": []
  }
 ],
 "metadata": {
  "kernelspec": {
   "display_name": "Python 3",
   "language": "python",
   "name": "python3"
  },
  "language_info": {
   "codemirror_mode": {
    "name": "ipython",
    "version": 3
   },
   "file_extension": ".py",
   "mimetype": "text/x-python",
   "name": "python",
   "nbconvert_exporter": "python",
   "pygments_lexer": "ipython3",
   "version": "3.6.0"
  }
 },
 "nbformat": 4,
 "nbformat_minor": 2
}
