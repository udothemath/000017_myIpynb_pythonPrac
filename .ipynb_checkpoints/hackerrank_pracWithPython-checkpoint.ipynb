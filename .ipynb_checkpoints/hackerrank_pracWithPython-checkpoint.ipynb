{
 "cells": [
  {
   "cell_type": "markdown",
   "metadata": {},
   "source": [
    "## 09/05/17 ##"
   ]
  },
  {
   "cell_type": "markdown",
   "metadata": {},
   "source": [
    "### Multiple Linear Regression ###  \n",
    "https://www.hackerrank.com/challenges/s10-multiple-linear-regression/tutorial  \n",
    "http://www.statsoft.com/Textbook/Multiple-Regression"
   ]
  },
  {
   "cell_type": "code",
   "execution_count": 32,
   "metadata": {},
   "outputs": [
    {
     "name": "stdout",
     "output_type": "stream",
     "text": [
      "[  6.65116279 -11.1627907 ]\n",
      "29.4\n"
     ]
    }
   ],
   "source": [
    "#import data\n",
    "import numpy as np\n",
    "#m,n = [int(i) for i in input().strip().split(' ')]\n",
    "\n",
    "m, n = 2, 5\n",
    "\n",
    "#X = []\n",
    "#Y = []\n",
    "\n",
    "X = [[5,7],[6,6],[7,4], [8,5], [9,6]]\n",
    "Y = [10, 20, 60, 40, 50]\n",
    "\n",
    "q = 1\n",
    "\n",
    "# for i in range(n):\n",
    "#     data = input().strip().split(' ')\n",
    "#     X.append(data[:m])\n",
    "#     Y.append(data[m:])\n",
    "# q = int(input().strip())\n",
    "\n",
    "\n",
    "X_new = [[5, 5]]\n",
    "\n",
    "# X_new = []\n",
    "# for x in range(q):\n",
    "#     X_new.append(input().strip().split(' '))\n",
    "    \n",
    "X = np.array(X,float)\n",
    "Y = np.array(Y,float)\n",
    "X_new = np.array(X_new,float)\n",
    "\n",
    "#center\n",
    "X_R = X-np.mean(X,axis=0)\n",
    "Y_R = Y-np.mean(Y)\n",
    "\n",
    "#calculate beta\n",
    "beta = np.dot(np.linalg.inv(np.dot(X_R.T,X_R)),np.dot(X_R.T,Y_R))\n",
    "\n",
    "print (beta)\n",
    "\n",
    "#predict\n",
    "X_new_R = X_new-np.mean(X,axis=0)\n",
    "Y_new_R = np.dot(X_new_R,beta)\n",
    "Y_new = Y_new_R + np.mean(Y)\n",
    "\n",
    "#print\n",
    "for i in Y_new:\n",
    "    print(round(float(i),2))"
   ]
  },
  {
   "cell_type": "code",
   "execution_count": 33,
   "metadata": {},
   "outputs": [
    {
     "name": "stdout",
     "output_type": "stream",
     "text": [
      "[ 51.95348837   6.65116279 -11.1627907 ]\n",
      "29.4\n"
     ]
    }
   ],
   "source": [
    "#import data\n",
    "import numpy as np\n",
    "#m,n = [int(i) for i in input().strip().split(' ')]\n",
    "\n",
    "m, n = 2, 5\n",
    "\n",
    "#X = []\n",
    "#Y = []\n",
    "\n",
    "X = [[1,5,7],[1,6,6],[1,7,4], [1,8,5], [1,9,6]]\n",
    "Y = [10, 20, 60, 40, 50]\n",
    "\n",
    "q = 1\n",
    "\n",
    "# for i in range(n):\n",
    "#     data = input().strip().split(' ')\n",
    "#     X.append(data[:m])\n",
    "#     Y.append(data[m:])\n",
    "# q = int(input().strip())\n",
    "\n",
    "X_new = [[1, 5, 5]]\n",
    "\n",
    "# X_new = []\n",
    "# for x in range(q):\n",
    "#     X_new.append(input().strip().split(' '))\n",
    "    \n",
    "X = np.array(X,float)\n",
    "Y = np.array(Y,float)\n",
    "X_new = np.array(X_new,float)\n",
    "\n",
    "#calculate beta\n",
    "beta_non_shifted = np.dot(np.linalg.inv(np.dot(X.T,X)),np.dot(X.T,Y))\n",
    "\n",
    "print (beta_non_shifted)\n",
    "\n",
    "#predict\n",
    "Y_new = np.dot(X_new,beta_non_shifted)\n",
    "\n",
    "#print\n",
    "for i in Y_new:\n",
    "    print(round(float(i),2))"
   ]
  },
  {
   "cell_type": "code",
   "execution_count": null,
   "metadata": {
    "collapsed": true
   },
   "outputs": [],
   "source": []
  },
  {
   "cell_type": "code",
   "execution_count": null,
   "metadata": {
    "collapsed": true
   },
   "outputs": [],
   "source": []
  },
  {
   "cell_type": "markdown",
   "metadata": {},
   "source": [
    "### Solve matrix ###  \n",
    "https://docs.scipy.org/doc/numpy-1.10.1/reference/generated/numpy.linalg.solve.html"
   ]
  },
  {
   "cell_type": "code",
   "execution_count": 26,
   "metadata": {},
   "outputs": [
    {
     "data": {
      "text/plain": [
       "array([ 2.,  3.])"
      ]
     },
     "execution_count": 26,
     "metadata": {},
     "output_type": "execute_result"
    }
   ],
   "source": [
    "import numpy as np\n",
    "a = np.array([[ 3, 1], [1, 2]])\n",
    "b = np.array([ 9, 8])\n",
    "x = np.linalg.solve(a, b)\n",
    "x"
   ]
  },
  {
   "cell_type": "code",
   "execution_count": null,
   "metadata": {
    "collapsed": true
   },
   "outputs": [],
   "source": []
  },
  {
   "cell_type": "markdown",
   "metadata": {},
   "source": [
    "### Linear regression, sci-kit learn ###  \n",
    "https://www.hackerrank.com/challenges/s10-least-square-regression-line/tutorial"
   ]
  },
  {
   "cell_type": "code",
   "execution_count": 18,
   "metadata": {},
   "outputs": [
    {
     "name": "stdout",
     "output_type": "stream",
     "text": [
      "78.288\n"
     ]
    }
   ],
   "source": [
    "## nice solution by Furrane\n",
    "# x,y=[],[]\n",
    "# for i in range(5):\n",
    "#     student = [int(i) for i in input().split()]\n",
    "#     x+=[student[0]]\n",
    "#     y+=[student[1]]\n",
    "\n",
    "x = [95, 85, 80, 70, 60]\n",
    "y = [85, 95, 70, 65, 70]\n",
    "\n",
    "mean_x = sum(x)/5\n",
    "mean_y= sum(y)/5\n",
    "\n",
    "x_squared,xy = sum([x[i]*x[i] for i in range(5)]),sum([x[i]*y[i] for i in range(5)])\n",
    "\n",
    "## y = ax + b\n",
    "a = (5*xy - sum(x)*sum(y))/(5*x_squared - sum(x)**2)\n",
    "b = mean_y - a*mean_x\n",
    "\n",
    "print(round(a*80+b,3))"
   ]
  },
  {
   "cell_type": "code",
   "execution_count": 14,
   "metadata": {},
   "outputs": [
    {
     "name": "stdout",
     "output_type": "stream",
     "text": [
      "Linear regress: y = 0.644x + 26.781\n"
     ]
    },
    {
     "data": {
      "text/plain": [
       "array([ 78.28767123])"
      ]
     },
     "execution_count": 14,
     "metadata": {},
     "output_type": "execute_result"
    }
   ],
   "source": [
    "from sklearn import linear_model\n",
    "import numpy as np\n",
    "\n",
    "x_list = []\n",
    "y_list = []\n",
    "\n",
    "x_list = [95, 85, 80, 70, 60]\n",
    "y_list = [85, 95, 70, 65, 70]\n",
    "\n",
    "# numb_of_pairs = 2\n",
    "# for _ in range(numb_of_pairs):\n",
    "#     input_x, input_y = map(float, input().split(\" \"))\n",
    "#     x_list.append(input_x)\n",
    "#     y_list.append(input_y)\n",
    "\n",
    "## x_list = [1, 2, 3, 4, 5]\n",
    "x_list_T = np.asarray(x_list).reshape(-1, 1)\n",
    "#print (x_list_T)\n",
    "\n",
    "## y_list = [2, 1, 4, 3, 5]\n",
    "lm = linear_model.LinearRegression()\n",
    "lm.fit(x_list_T, y_list)\n",
    "\n",
    "## print(lm.intercept_)\n",
    "## print(lm.coef_[0])\n",
    "print (\"Linear regress: y = {:.3f}x + {:.3f}\".format(lm.coef_[0], lm.intercept_))\n",
    "\n",
    "# ## input x, predict y\n",
    "lm.predict(80)"
   ]
  },
  {
   "cell_type": "markdown",
   "metadata": {},
   "source": [
    "### Linear regression, using built-in function only ###"
   ]
  },
  {
   "cell_type": "code",
   "execution_count": 20,
   "metadata": {},
   "outputs": [
    {
     "name": "stdout",
     "output_type": "stream",
     "text": [
      "78.288\n"
     ]
    }
   ],
   "source": [
    "from math import sqrt\n",
    "\n",
    "def mean(X):\n",
    "    s = 0\n",
    "    for x in X:\n",
    "        s += x\n",
    "    return s / len(X)\n",
    "\n",
    "def sd(X):\n",
    "    m = mean(X)\n",
    "    s = 0\n",
    "    for x in X:\n",
    "        s += (x - m)**2\n",
    "    return sqrt(s/len(X))\n",
    "\n",
    "def pearson(X, Y):\n",
    "    s = 0\n",
    "    mux = mean(X)\n",
    "    muy = mean(Y)\n",
    "    sx = sd(X)\n",
    "    sy = sd(Y)\n",
    "    for i in range(len(X)):\n",
    "        s += (X[i] - mux) * (Y[i] - muy)\n",
    "    return s / (len(X) * sx * sy)\n",
    "\n",
    "# x_list = []\n",
    "# y_list = []\n",
    "\n",
    "# numb_of_pairs = 5\n",
    "# for _ in range(numb_of_pairs):\n",
    "#     input_x, input_y = map(float, input().split(\" \"))\n",
    "#     x_list.append(input_x)\n",
    "#     y_list.append(input_y)\n",
    "\n",
    "x_list = [95, 85, 80, 70, 60]\n",
    "y_list = [85, 95, 70, 65, 70]\n",
    "    \n",
    "## y = ax + b\n",
    "\n",
    "## a: \n",
    "rho = pearson(x_list,y_list)\n",
    "a = rho * sd(y_list) / sd(x_list)\n",
    "\n",
    "## b:\n",
    "b = mean(y_list) - a * mean(x_list)\n",
    "\n",
    "#print (a, b)\n",
    "\n",
    "predict_input_x = 80\n",
    "\n",
    "print(round(a * predict_input_x + b,3))"
   ]
  },
  {
   "cell_type": "code",
   "execution_count": null,
   "metadata": {
    "collapsed": true
   },
   "outputs": [],
   "source": []
  },
  {
   "cell_type": "markdown",
   "metadata": {},
   "source": [
    "## 09/04/17 ##"
   ]
  },
  {
   "cell_type": "markdown",
   "metadata": {},
   "source": [
    "### Map ###"
   ]
  },
  {
   "cell_type": "code",
   "execution_count": 133,
   "metadata": {},
   "outputs": [
    {
     "name": "stdout",
     "output_type": "stream",
     "text": [
      "['It', 'is', 'raining', 'cats', 'and', 'dogs']\n",
      "[2, 2, 7, 4, 3, 4]\n"
     ]
    }
   ],
   "source": [
    "sentence = 'It is raining cats and dogs'\n",
    "words = sentence.split()\n",
    "print (words)\n",
    " \n",
    "lengths = list(map(lambda word: len(word), words))\n",
    "print (lengths)"
   ]
  },
  {
   "cell_type": "code",
   "execution_count": null,
   "metadata": {
    "collapsed": true
   },
   "outputs": [],
   "source": []
  },
  {
   "cell_type": "markdown",
   "metadata": {},
   "source": [
    "### Spearman's rank correlation coefficient ###  \n",
    "https://en.wikipedia.org/wiki/Spearman%27s_rank_correlation_coefficient"
   ]
  },
  {
   "cell_type": "code",
   "execution_count": 19,
   "metadata": {},
   "outputs": [
    {
     "name": "stdout",
     "output_type": "stream",
     "text": [
      "-0.1\n"
     ]
    }
   ],
   "source": [
    "from math import sqrt\n",
    "\n",
    "def mean(X):\n",
    "    s = 0\n",
    "    for x in X:\n",
    "        s += x\n",
    "    return s / len(X)\n",
    "\n",
    "def sd(X):\n",
    "    m = mean(X)\n",
    "    s = 0\n",
    "    for x in X:\n",
    "        s += (x - m)**2\n",
    "    return sqrt(s/len(X))\n",
    "\n",
    "def pearson(X, Y):\n",
    "    s = 0\n",
    "    mux = mean(X)\n",
    "    muy = mean(Y)\n",
    "    sx = sd(X)\n",
    "    sy = sd(Y)\n",
    "    for i in range(len(X)):\n",
    "        s += (X[i] - mux) * (Y[i] - muy)\n",
    "    return s / (len(X) * sx * sy)\n",
    "\n",
    "## get the rank (the order if we put the element from small to large)\n",
    "def get_rank(X):\n",
    "    x_rank = dict((x, i+1) for i, x in enumerate(sorted(set(X))))\n",
    "    #print (x_rank)\n",
    "    return [x_rank[x] for x in X]\n",
    "\n",
    "#input_x = [1, 5, 10, 4, 6, 2, 3, 1]\n",
    "#get_rank(input_x, len(input_x))\n",
    "\n",
    "# input_n = int(input())\n",
    "# input_X = [float(x) for x in input().split()]\n",
    "# input_Y = [float(y) for y in input().split()]\n",
    "\n",
    "input_n = 5\n",
    "input_X = [1, 13, 15, 7,20]\n",
    "input_Y = [2, 6, 19, 9, 1]\n",
    "\n",
    "rank_input_X = get_rank(input_X)\n",
    "rank_input_Y = get_rank(input_Y)\n",
    "\n",
    "print(round(pearson(rank_input_X,rank_input_Y),3))\n"
   ]
  },
  {
   "cell_type": "code",
   "execution_count": 132,
   "metadata": {},
   "outputs": [
    {
     "name": "stdout",
     "output_type": "stream",
     "text": [
      "Input list: [2, 9, 1, 14, 4, 6, 2]\n",
      "The ranking of the list: [2, 5, 1, 6, 3, 4, 2]\n"
     ]
    }
   ],
   "source": [
    "\n",
    "def practice_get_rank(input_X):\n",
    "    x_rank = dict((x, i+1) for i, x in enumerate(set(input_X)))\n",
    "    return [x_rank[x] for x in input_X]\n",
    "    \n",
    "input_X = [ 2, 9, 1, 14, 4, 6, 2]\n",
    "print (\"Input list: {}\".format(input_X))\n",
    "rank_input_X = practice_get_rank(input_X)\n",
    "print (\"The ranking of the list: {}\".format(rank_input_X))\n",
    "\n"
   ]
  },
  {
   "cell_type": "markdown",
   "metadata": {},
   "source": [
    "### cumsum, cumulative sum with customized window ###"
   ]
  },
  {
   "cell_type": "code",
   "execution_count": 110,
   "metadata": {},
   "outputs": [
    {
     "name": "stdout",
     "output_type": "stream",
     "text": [
      "[ 1  2  3  4  5  6  7  8  9 10 11 12]\n",
      "[ 1  3  6 10 15 21 28 36 45 55 66 78]\n",
      "[10 15 21 28 36 45 55 66 78]\n",
      "[ 1  3  6 10 15 21 28 36 45]\n",
      "[ 1  3  6  9 12 15 18 21 24 27 30 33]\n"
     ]
    }
   ],
   "source": [
    "import numpy as np\n",
    "\n",
    "a = np.array([1,2,3,4,5,6,7,8,9,10,11,12])\n",
    "b = a.cumsum()\n",
    "print (a)\n",
    "print (b)\n",
    "print (b[3:])\n",
    "print (b[:-3])\n",
    "b[3:] = b[3:] - b[:-3]\n",
    "print (b)\n"
   ]
  },
  {
   "cell_type": "code",
   "execution_count": null,
   "metadata": {
    "collapsed": true
   },
   "outputs": [],
   "source": []
  },
  {
   "cell_type": "markdown",
   "metadata": {},
   "source": [
    "### Pearson correlation coefficient ###"
   ]
  },
  {
   "cell_type": "code",
   "execution_count": 108,
   "metadata": {},
   "outputs": [
    {
     "name": "stdout",
     "output_type": "stream",
     "text": [
      "0.996\n"
     ]
    }
   ],
   "source": [
    "from math import sqrt\n",
    "\n",
    "def mean(X):\n",
    "    s = 0\n",
    "    for x in X:\n",
    "        s += x\n",
    "    return s / len(X)\n",
    "\n",
    "def sd(X):\n",
    "    m = mean(X)\n",
    "    s = 0\n",
    "    for x in X:\n",
    "        s += (x - m)**2\n",
    "    return sqrt(s/len(X))\n",
    "\n",
    "def cov(X, Y):\n",
    "    s = 0\n",
    "    mux = mean(X)\n",
    "    muy = mean(Y)\n",
    "    sx = sd(X)\n",
    "    sy = sd(Y)\n",
    "    for i in range(len(X)):\n",
    "        s += (X[i] - mux) * (Y[i] - muy)\n",
    "    return s / (len(X) * sx * sy)\n",
    "\n",
    "# n = int(input())\n",
    "# X = [float(x) for x in input().split()]\n",
    "# Y = [float(y) for y in input().split()]\n",
    "\n",
    "input_n = 5\n",
    "input_X = [1, 3, 5, 7,  9]\n",
    "input_Y = [2, 4, 6, 8, 11]\n",
    "\n",
    "print(round(cov(input_X,input_Y),3))"
   ]
  },
  {
   "cell_type": "code",
   "execution_count": 104,
   "metadata": {},
   "outputs": [
    {
     "name": "stdout",
     "output_type": "stream",
     "text": [
      "0.996\n"
     ]
    }
   ],
   "source": [
    "import math\n",
    "# input_n = int(input())\n",
    "# input_X = list(map(float, input().strip().split(\" \")))\n",
    "# input_Y = list(map(float, input().strip().split(\" \")))\n",
    "\n",
    "input_n = 5\n",
    "input_X = [1, 3, 5, 7,  9]\n",
    "input_Y = [2, 4, 6, 8, 11]\n",
    "\n",
    "mean_X = sum(input_X)/len(input_X)\n",
    "mean_Y = sum(input_Y)/len(input_Y)\n",
    "\n",
    "std_X =   math.sqrt(sum((x - mean_X)** 2 for x in input_X)/input_n)\n",
    "std_Y =   math.sqrt(sum((y - mean_Y)** 2 for y in input_Y)/input_n)\n",
    "\n",
    "numerator = sum([(x - mean_X) * (y - mean_Y) for x, y in zip(input_X,input_Y)])\n",
    "answer = numerator / (input_n * std_X * std_Y )\n",
    "\n",
    "print (\"{:.3f}\".format(answer))"
   ]
  },
  {
   "cell_type": "code",
   "execution_count": 105,
   "metadata": {},
   "outputs": [
    {
     "data": {
      "text/plain": [
       "0.99589320646770385"
      ]
     },
     "execution_count": 105,
     "metadata": {},
     "output_type": "execute_result"
    }
   ],
   "source": [
    "from scipy.stats import pearsonr\n",
    "# input_n = int(input())\n",
    "# input_X = map(float, input().strip().split(\" \"))\n",
    "# input_Y = map(float, input().strip().split(\" \"))\n",
    "\n",
    "input_X = [1, 3, 5, 7,  9]\n",
    "input_Y = [2, 4, 6, 8, 11]\n",
    "\n",
    "pearsonr(input_X, input_Y)[0]"
   ]
  },
  {
   "cell_type": "markdown",
   "metadata": {},
   "source": []
  },
  {
   "cell_type": "markdown",
   "metadata": {},
   "source": [
    "## 09/03/17 ##"
   ]
  },
  {
   "cell_type": "code",
   "execution_count": null,
   "metadata": {
    "collapsed": true
   },
   "outputs": [],
   "source": []
  },
  {
   "cell_type": "markdown",
   "metadata": {},
   "source": [
    "### assertion and exception ###"
   ]
  },
  {
   "cell_type": "code",
   "execution_count": 93,
   "metadata": {},
   "outputs": [
    {
     "name": "stdout",
     "output_type": "stream",
     "text": [
      "6.0\n",
      "0\n"
     ]
    },
    {
     "ename": "TypeError",
     "evalue": "unsupported operand type(s) for +: 'int' and 'str'\nOnly numbers are allowed.",
     "output_type": "error",
     "traceback": [
      "\u001b[0;31m---------------------------------------------------------------------------\u001b[0m",
      "\u001b[0;31mTypeError\u001b[0m                                 Traceback (most recent call last)",
      "\u001b[0;32m<ipython-input-93-c9456e847ba0>\u001b[0m in \u001b[0;36mfind_mean\u001b[0;34m(input_list)\u001b[0m\n\u001b[1;32m      2\u001b[0m     \u001b[0;32mtry\u001b[0m\u001b[0;34m:\u001b[0m\u001b[0;34m\u001b[0m\u001b[0m\n\u001b[0;32m----> 3\u001b[0;31m         \u001b[0;32mreturn\u001b[0m \u001b[0msum\u001b[0m\u001b[0;34m(\u001b[0m\u001b[0minput_list\u001b[0m\u001b[0;34m)\u001b[0m\u001b[0;34m/\u001b[0m\u001b[0mlen\u001b[0m\u001b[0;34m(\u001b[0m\u001b[0minput_list\u001b[0m\u001b[0;34m)\u001b[0m\u001b[0;34m\u001b[0m\u001b[0m\n\u001b[0m\u001b[1;32m      4\u001b[0m     \u001b[0;32mexcept\u001b[0m \u001b[0mZeroDivisionError\u001b[0m\u001b[0;34m:\u001b[0m\u001b[0;34m\u001b[0m\u001b[0m\n",
      "\u001b[0;31mTypeError\u001b[0m: unsupported operand type(s) for +: 'int' and 'str'",
      "\nDuring handling of the above exception, another exception occurred:\n",
      "\u001b[0;31mTypeError\u001b[0m                                 Traceback (most recent call last)",
      "\u001b[0;32m<ipython-input-93-c9456e847ba0>\u001b[0m in \u001b[0;36m<module>\u001b[0;34m()\u001b[0m\n\u001b[1;32m     12\u001b[0m \u001b[0mprint\u001b[0m \u001b[0;34m(\u001b[0m\u001b[0mfind_mean\u001b[0m\u001b[0;34m(\u001b[0m\u001b[0;34m[\u001b[0m\u001b[0;34m]\u001b[0m\u001b[0;34m)\u001b[0m\u001b[0;34m)\u001b[0m\u001b[0;34m\u001b[0m\u001b[0m\n\u001b[1;32m     13\u001b[0m \u001b[0;34m\u001b[0m\u001b[0m\n\u001b[0;32m---> 14\u001b[0;31m \u001b[0mprint\u001b[0m \u001b[0;34m(\u001b[0m\u001b[0mfind_mean\u001b[0m\u001b[0;34m(\u001b[0m\u001b[0;34m[\u001b[0m\u001b[0;36m1\u001b[0m\u001b[0;34m,\u001b[0m \u001b[0;36m2\u001b[0m\u001b[0;34m,\u001b[0m \u001b[0;36m3\u001b[0m\u001b[0;34m,\u001b[0m \u001b[0;34m'Hello'\u001b[0m\u001b[0;34m]\u001b[0m\u001b[0;34m)\u001b[0m\u001b[0;34m)\u001b[0m\u001b[0;34m\u001b[0m\u001b[0m\n\u001b[0m\u001b[1;32m     15\u001b[0m \u001b[0;34m\u001b[0m\u001b[0m\n",
      "\u001b[0;32m<ipython-input-93-c9456e847ba0>\u001b[0m in \u001b[0;36mfind_mean\u001b[0;34m(input_list)\u001b[0m\n\u001b[1;32m      6\u001b[0m     \u001b[0;32mexcept\u001b[0m \u001b[0mTypeError\u001b[0m \u001b[0;32mas\u001b[0m \u001b[0mdetail\u001b[0m\u001b[0;34m:\u001b[0m\u001b[0;34m\u001b[0m\u001b[0m\n\u001b[1;32m      7\u001b[0m         \u001b[0mmsg\u001b[0m \u001b[0;34m=\u001b[0m \u001b[0;34m\"Only numbers are allowed.\"\u001b[0m\u001b[0;34m\u001b[0m\u001b[0m\n\u001b[0;32m----> 8\u001b[0;31m         \u001b[0;32mraise\u001b[0m \u001b[0mTypeError\u001b[0m\u001b[0;34m(\u001b[0m\u001b[0mdetail\u001b[0m\u001b[0;34m.\u001b[0m\u001b[0m__str__\u001b[0m\u001b[0;34m(\u001b[0m\u001b[0;34m)\u001b[0m \u001b[0;34m+\u001b[0m \u001b[0;34m\"\\n\"\u001b[0m \u001b[0;34m+\u001b[0m \u001b[0mmsg\u001b[0m \u001b[0;34m)\u001b[0m\u001b[0;34m\u001b[0m\u001b[0m\n\u001b[0m\u001b[1;32m      9\u001b[0m \u001b[0;34m\u001b[0m\u001b[0m\n\u001b[1;32m     10\u001b[0m \u001b[0mprint\u001b[0m \u001b[0;34m(\u001b[0m\u001b[0mfind_mean\u001b[0m\u001b[0;34m(\u001b[0m\u001b[0;34m[\u001b[0m\u001b[0;36m8\u001b[0m\u001b[0;34m,\u001b[0m \u001b[0;36m4\u001b[0m\u001b[0;34m]\u001b[0m\u001b[0;34m)\u001b[0m\u001b[0;34m)\u001b[0m\u001b[0;34m\u001b[0m\u001b[0m\n",
      "\u001b[0;31mTypeError\u001b[0m: unsupported operand type(s) for +: 'int' and 'str'\nOnly numbers are allowed."
     ]
    }
   ],
   "source": [
    "def find_mean(input_list):\n",
    "    try:\n",
    "        return sum(input_list)/len(input_list)\n",
    "    except ZeroDivisionError:\n",
    "        return 0\n",
    "    except TypeError as detail:\n",
    "        msg = \"Only numbers are allowed.\"\n",
    "        raise TypeError(detail.__str__() + \"\\n\" + msg )\n",
    "        \n",
    "print (find_mean([8, 4]))\n",
    "print (find_mean([]))\n",
    "print (find_mean([1, 2, 3, 'Hello']))\n",
    "        "
   ]
  },
  {
   "cell_type": "code",
   "execution_count": null,
   "metadata": {
    "collapsed": true
   },
   "outputs": [],
   "source": []
  },
  {
   "cell_type": "code",
   "execution_count": 86,
   "metadata": {},
   "outputs": [
    {
     "name": "stdout",
     "output_type": "stream",
     "text": [
      "your input list is [3, 6, 9]\n",
      "your input list is []\n"
     ]
    },
    {
     "ename": "ZeroDivisionError",
     "evalue": "division by zero\nPlease provide a valid list.",
     "output_type": "error",
     "traceback": [
      "\u001b[0;31m---------------------------------------------------------------------------\u001b[0m",
      "\u001b[0;31mZeroDivisionError\u001b[0m                         Traceback (most recent call last)",
      "\u001b[0;32m<ipython-input-86-4af75ab3e998>\u001b[0m in \u001b[0;36mfind_list_mean\u001b[0;34m(input_list)\u001b[0m\n\u001b[1;32m      3\u001b[0m         \u001b[0mprint\u001b[0m \u001b[0;34m(\u001b[0m\u001b[0;34m\"your input list is {}\"\u001b[0m\u001b[0;34m.\u001b[0m\u001b[0mformat\u001b[0m\u001b[0;34m(\u001b[0m\u001b[0minput_list\u001b[0m\u001b[0;34m)\u001b[0m\u001b[0;34m)\u001b[0m\u001b[0;34m\u001b[0m\u001b[0m\n\u001b[0;32m----> 4\u001b[0;31m         \u001b[0;32mreturn\u001b[0m \u001b[0msum\u001b[0m\u001b[0;34m(\u001b[0m\u001b[0minput_list\u001b[0m\u001b[0;34m)\u001b[0m\u001b[0;34m/\u001b[0m\u001b[0mlen\u001b[0m\u001b[0;34m(\u001b[0m\u001b[0minput_list\u001b[0m\u001b[0;34m)\u001b[0m\u001b[0;34m\u001b[0m\u001b[0m\n\u001b[0m\u001b[1;32m      5\u001b[0m     \u001b[0;32mexcept\u001b[0m \u001b[0mZeroDivisionError\u001b[0m \u001b[0;32mas\u001b[0m \u001b[0mdetail\u001b[0m\u001b[0;34m:\u001b[0m\u001b[0;34m\u001b[0m\u001b[0m\n",
      "\u001b[0;31mZeroDivisionError\u001b[0m: division by zero",
      "\nDuring handling of the above exception, another exception occurred:\n",
      "\u001b[0;31mZeroDivisionError\u001b[0m                         Traceback (most recent call last)",
      "\u001b[0;32m<ipython-input-86-4af75ab3e998>\u001b[0m in \u001b[0;36m<module>\u001b[0;34m()\u001b[0m\n\u001b[1;32m     11\u001b[0m \u001b[0;34m\u001b[0m\u001b[0m\n\u001b[1;32m     12\u001b[0m \u001b[0mmy_list_b\u001b[0m \u001b[0;34m=\u001b[0m \u001b[0;34m[\u001b[0m\u001b[0;34m]\u001b[0m\u001b[0;34m\u001b[0m\u001b[0m\n\u001b[0;32m---> 13\u001b[0;31m \u001b[0mfind_list_mean\u001b[0m\u001b[0;34m(\u001b[0m\u001b[0mmy_list_b\u001b[0m\u001b[0;34m)\u001b[0m\u001b[0;34m\u001b[0m\u001b[0m\n\u001b[0m",
      "\u001b[0;32m<ipython-input-86-4af75ab3e998>\u001b[0m in \u001b[0;36mfind_list_mean\u001b[0;34m(input_list)\u001b[0m\n\u001b[1;32m      5\u001b[0m     \u001b[0;32mexcept\u001b[0m \u001b[0mZeroDivisionError\u001b[0m \u001b[0;32mas\u001b[0m \u001b[0mdetail\u001b[0m\u001b[0;34m:\u001b[0m\u001b[0;34m\u001b[0m\u001b[0m\n\u001b[1;32m      6\u001b[0m         \u001b[0mmsg\u001b[0m \u001b[0;34m=\u001b[0m \u001b[0;34m\"Please provide a valid list.\"\u001b[0m\u001b[0;34m\u001b[0m\u001b[0m\n\u001b[0;32m----> 7\u001b[0;31m         \u001b[0;32mraise\u001b[0m \u001b[0mZeroDivisionError\u001b[0m\u001b[0;34m(\u001b[0m\u001b[0mdetail\u001b[0m\u001b[0;34m.\u001b[0m\u001b[0m__str__\u001b[0m\u001b[0;34m(\u001b[0m\u001b[0;34m)\u001b[0m \u001b[0;34m+\u001b[0m \u001b[0;34m\"\\n\"\u001b[0m \u001b[0;34m+\u001b[0m \u001b[0mmsg\u001b[0m\u001b[0;34m)\u001b[0m\u001b[0;34m\u001b[0m\u001b[0m\n\u001b[0m\u001b[1;32m      8\u001b[0m \u001b[0;34m\u001b[0m\u001b[0m\n\u001b[1;32m      9\u001b[0m \u001b[0mmy_list_a\u001b[0m \u001b[0;34m=\u001b[0m \u001b[0;34m[\u001b[0m\u001b[0;36m3\u001b[0m\u001b[0;34m,\u001b[0m\u001b[0;36m6\u001b[0m\u001b[0;34m,\u001b[0m\u001b[0;36m9\u001b[0m\u001b[0;34m]\u001b[0m\u001b[0;34m\u001b[0m\u001b[0m\n",
      "\u001b[0;31mZeroDivisionError\u001b[0m: division by zero\nPlease provide a valid list."
     ]
    }
   ],
   "source": [
    "def find_list_mean(input_list):\n",
    "    try:\n",
    "        print (\"your input list is {}\".format(input_list))\n",
    "        return sum(input_list)/len(input_list)\n",
    "    except ZeroDivisionError as detail:\n",
    "        msg = \"Please provide a valid list.\"\n",
    "        raise ZeroDivisionError(detail.__str__() + \"\\n\" + msg)\n",
    "    \n",
    "my_list_a = [3,6,9]\n",
    "find_list_mean(my_list_a)\n",
    "\n",
    "my_list_b = []\n",
    "find_list_mean(my_list_b)\n"
   ]
  },
  {
   "cell_type": "code",
   "execution_count": null,
   "metadata": {
    "collapsed": true
   },
   "outputs": [],
   "source": []
  },
  {
   "cell_type": "code",
   "execution_count": 82,
   "metadata": {},
   "outputs": [
    {
     "name": "stdout",
     "output_type": "stream",
     "text": [
      "tolerance is 0.003\n",
      "You passed!\n",
      "\n",
      "tolerance is 0.0003\n"
     ]
    },
    {
     "ename": "AssertionError",
     "evalue": "\nNot equal to tolerance rtol=0, atol=0.0003\n\n(mismatch 100.0%)\n x: array(2.001)\n y: array(2)",
     "output_type": "error",
     "traceback": [
      "\u001b[0;31m---------------------------------------------------------------------------\u001b[0m",
      "\u001b[0;31mAssertionError\u001b[0m                            Traceback (most recent call last)",
      "\u001b[0;32m<ipython-input-82-ae75d71683eb>\u001b[0m in \u001b[0;36m<module>\u001b[0;34m()\u001b[0m\n\u001b[1;32m      9\u001b[0m \u001b[0;34m\u001b[0m\u001b[0m\n\u001b[1;32m     10\u001b[0m \u001b[0mprint\u001b[0m \u001b[0;34m(\u001b[0m\u001b[0;34m\"\\ntolerance is 0.0003\"\u001b[0m\u001b[0;34m)\u001b[0m\u001b[0;34m\u001b[0m\u001b[0m\n\u001b[0;32m---> 11\u001b[0;31m \u001b[0massert_allclose\u001b[0m\u001b[0;34m(\u001b[0m\u001b[0mmy_value\u001b[0m\u001b[0;34m,\u001b[0m \u001b[0;36m2\u001b[0m\u001b[0;34m,\u001b[0m \u001b[0matol\u001b[0m\u001b[0;34m=\u001b[0m\u001b[0;36m0.0003\u001b[0m\u001b[0;34m,\u001b[0m \u001b[0mrtol\u001b[0m\u001b[0;34m=\u001b[0m\u001b[0;36m0\u001b[0m\u001b[0;34m)\u001b[0m\u001b[0;34m\u001b[0m\u001b[0m\n\u001b[0m",
      "\u001b[0;32m/Users/udothemath1984/anaconda/lib/python3.6/site-packages/numpy/testing/utils.py\u001b[0m in \u001b[0;36massert_allclose\u001b[0;34m(actual, desired, rtol, atol, equal_nan, err_msg, verbose)\u001b[0m\n\u001b[1;32m   1393\u001b[0m     \u001b[0mheader\u001b[0m \u001b[0;34m=\u001b[0m \u001b[0;34m'Not equal to tolerance rtol=%g, atol=%g'\u001b[0m \u001b[0;34m%\u001b[0m \u001b[0;34m(\u001b[0m\u001b[0mrtol\u001b[0m\u001b[0;34m,\u001b[0m \u001b[0matol\u001b[0m\u001b[0;34m)\u001b[0m\u001b[0;34m\u001b[0m\u001b[0m\n\u001b[1;32m   1394\u001b[0m     assert_array_compare(compare, actual, desired, err_msg=str(err_msg),\n\u001b[0;32m-> 1395\u001b[0;31m                          verbose=verbose, header=header, equal_nan=equal_nan)\n\u001b[0m\u001b[1;32m   1396\u001b[0m \u001b[0;34m\u001b[0m\u001b[0m\n\u001b[1;32m   1397\u001b[0m \u001b[0;34m\u001b[0m\u001b[0m\n",
      "\u001b[0;32m/Users/udothemath1984/anaconda/lib/python3.6/site-packages/numpy/testing/utils.py\u001b[0m in \u001b[0;36massert_array_compare\u001b[0;34m(comparison, x, y, err_msg, verbose, header, precision, equal_nan, equal_inf)\u001b[0m\n\u001b[1;32m    776\u001b[0m                                 names=('x', 'y'), precision=precision)\n\u001b[1;32m    777\u001b[0m             \u001b[0;32mif\u001b[0m \u001b[0;32mnot\u001b[0m \u001b[0mcond\u001b[0m\u001b[0;34m:\u001b[0m\u001b[0;34m\u001b[0m\u001b[0m\n\u001b[0;32m--> 778\u001b[0;31m                 \u001b[0;32mraise\u001b[0m \u001b[0mAssertionError\u001b[0m\u001b[0;34m(\u001b[0m\u001b[0mmsg\u001b[0m\u001b[0;34m)\u001b[0m\u001b[0;34m\u001b[0m\u001b[0m\n\u001b[0m\u001b[1;32m    779\u001b[0m     \u001b[0;32mexcept\u001b[0m \u001b[0mValueError\u001b[0m\u001b[0;34m:\u001b[0m\u001b[0;34m\u001b[0m\u001b[0m\n\u001b[1;32m    780\u001b[0m         \u001b[0;32mimport\u001b[0m \u001b[0mtraceback\u001b[0m\u001b[0;34m\u001b[0m\u001b[0m\n",
      "\u001b[0;31mAssertionError\u001b[0m: \nNot equal to tolerance rtol=0, atol=0.0003\n\n(mismatch 100.0%)\n x: array(2.001)\n y: array(2)"
     ]
    }
   ],
   "source": [
    "from numpy.testing import assert_allclose\n",
    "\n",
    "my_value = 2.001\n",
    "\n",
    "print (\"tolerance is 0.003\")\n",
    "assert_allclose(my_value, 2, atol=0.003, rtol=0)\n",
    "print (\"You passed!\")\n",
    "\n",
    "\n",
    "print (\"\\ntolerance is 0.0003\")\n",
    "assert_allclose(my_value, 2, atol=0.0003, rtol=0)"
   ]
  },
  {
   "cell_type": "code",
   "execution_count": 115,
   "metadata": {},
   "outputs": [
    {
     "name": "stdout",
     "output_type": "stream",
     "text": [
      "6\n"
     ]
    }
   ],
   "source": [
    "#my_arr_rolls_lessMcases[0, 1] = n-1 if n < 6 else 6\n",
    "n = 10\n",
    "a = n-1 if n < 7 else 6\n",
    "print (a)"
   ]
  },
  {
   "cell_type": "code",
   "execution_count": null,
   "metadata": {
    "collapsed": true
   },
   "outputs": [],
   "source": []
  },
  {
   "cell_type": "markdown",
   "metadata": {},
   "source": [
    "## 09/ 02/17 ##"
   ]
  },
  {
   "cell_type": "markdown",
   "metadata": {},
   "source": [
    "### bad while M goes large ###"
   ]
  },
  {
   "cell_type": "code",
   "execution_count": 76,
   "metadata": {
    "scrolled": true
   },
   "outputs": [
    {
     "name": "stdout",
     "output_type": "stream",
     "text": [
      "[[    1     6]\n",
      " [    2    36]\n",
      " [    3   215]\n",
      " [    4  1225]\n",
      " [    5  5403]\n",
      " [    6 16941]\n",
      " [    7 38397]\n",
      " [    8 65285]\n",
      " [    9 85942]\n",
      " [   10 89517]\n",
      " [   11 74723]\n",
      " [   12 50231]\n",
      " [   13 27118]\n",
      " [   14 11627]\n",
      " [   15  3876]\n",
      " [   16   968]\n",
      " [   17   171]\n",
      " [   18    19]\n",
      " [   19     1]]\n",
      "5.87597731139\n"
     ]
    }
   ],
   "source": [
    "import numpy as np\n",
    "from scipy.ndimage.interpolation import shift\n",
    "import math\n",
    "\n",
    "def large_number_division(numerator, denominator):\n",
    "    ## we want to know y = p/q\n",
    "    ## log(y) = log(p) - log(q)\n",
    "    log_y = math.log(numerator) - math.log(denominator)\n",
    "    return math.exp(log_y)\n",
    "        \n",
    "def find_mean_std_from_array(array_roll_lessMcases):\n",
    "    prob_fail_at_previous_step = 1\n",
    "    my_shape = array_roll_lessMcases.shape[0]\n",
    "    mean = 0.0\n",
    "    first_non_zero_cases = math.ceil(my_shape / 6)\n",
    "    ##print (first_non_zero_cases)\n",
    "    for index in range(first_non_zero_cases, my_shape+1):\n",
    "\n",
    "        curr_roll, curr_less_than_M_cases = array_roll_lessMcases[index-1]\n",
    "        n_of_cases_at_curr_roll = 6 ** index\n",
    "        \n",
    "        num_equal_larger_M_cases = n_of_cases_at_curr_roll - curr_less_than_M_cases\n",
    "        \n",
    "        curr_success_prob = large_number_division(num_equal_larger_M_cases,n_of_cases_at_curr_roll)\n",
    "        \n",
    "        mean += curr_roll * prob_fail_at_previous_step * curr_success_prob\n",
    "                  \n",
    "        # you fail at all the previous steps    \n",
    "        prob_fail_at_previous_step *= (1 - curr_success_prob) \n",
    "       \n",
    "        ## direct calculation without using log\n",
    "        ## might give error while M is large\n",
    "#         curr_success_ratio = (total_cases - curr_failed_cases) / total_cases\n",
    "#         curr_suc_prob = curr_success_ratio * prob_fail_at_previous_step \n",
    "#         mean += curr_roll * curr_suc_prob\n",
    "#         print (curr_roll, curr_success_ratio, prob_fail_at_previous_step, curr_suc_prob)\n",
    "#         prob_fail_at_previous_step *= curr_failed_cases / total_cases\n",
    "        \n",
    "        \n",
    "    print (mean)\n",
    " \n",
    "    \n",
    "\n",
    "# def find_mean_std_from_dic(dic_roll_lessMcases):\n",
    "#     prob_fail_at_previous_step = 1\n",
    "#     for key, value in dic_roll_lessMcases.items():\n",
    "#         print (key, value)\n",
    "\n",
    "if __name__=='__main__':\n",
    "    \n",
    "    sum_less_than_M = 20\n",
    "    my_arr = np.zeros((sum_less_than_M-1,sum_less_than_M-1))\n",
    "    my_arr[0][0:6] = 1\n",
    "    #print (my_arr)\n",
    "    \n",
    "    ## my_count column: n_of_role, n_of_lessMcount\n",
    "    my_count = np.zeros((sum_less_than_M-1, 2))\n",
    "    my_count[0] = 1, 6\n",
    "    \n",
    "    ## dic_roll_lessMcases = {1: 6}\n",
    "    for curr_n_of_roll in range(1, sum_less_than_M-1):\n",
    "        prev_index = curr_n_of_roll - 1\n",
    "        \n",
    "        my_arr[curr_n_of_roll] = my_arr[prev_index] + shift(my_arr[prev_index], 1, cval=0) \\\n",
    "                               + shift(my_arr[prev_index], 2, cval=0) + shift(my_arr[prev_index], 3, cval=0) \\\n",
    "                               + shift(my_arr[prev_index], 4, cval=0) + shift(my_arr[prev_index], 5, cval=0)   \n",
    "        \n",
    "        \n",
    "#         my_arr[curr_n_of_roll] = my_arr[prev_index] + shift(my_arr[prev_index], 1, np.int32, cval=0) \\\n",
    "#                                + shift(my_arr[prev_index], 2, np.int32, cval=0) + shift(my_arr[prev_index], 3, np.int32, cval=0) \\\n",
    "#                                + shift(my_arr[prev_index], 4, np.int32, cval=0) + shift(my_arr[prev_index], 5, np.int32, cval=0)   \n",
    "        \n",
    "        ## dic_roll_lessMcases[curr_n_of_roll+1] = np.sum(my_arr[curr_n_of_roll])\n",
    "        curr_sum = np.sum(my_arr[curr_n_of_roll][:-curr_n_of_roll])\n",
    "        my_count[curr_n_of_roll] = curr_n_of_roll+1, curr_sum \n",
    "\n",
    "    #print (my_arr.astype(int))\n",
    "    print (my_count.astype(int))\n",
    "    \n",
    "    find_mean_std_from_array(my_count)\n",
    "\n",
    "\n",
    "    ## dictionary approach\n",
    "    ## print (dic_roll_lessMcases)\n",
    "    ## find_mean_std_from_dic(dic_roll_lessMcases)\n"
   ]
  },
  {
   "cell_type": "code",
   "execution_count": null,
   "metadata": {
    "collapsed": true
   },
   "outputs": [],
   "source": []
  },
  {
   "cell_type": "markdown",
   "metadata": {},
   "source": [
    "## 08/31/17 ##"
   ]
  },
  {
   "cell_type": "code",
   "execution_count": null,
   "metadata": {
    "collapsed": true
   },
   "outputs": [],
   "source": [
    "# https://stackoverflow.com/questions/20864847/probability-to-z-score-and-vice-versa-in-python\n",
    "import scipy.stats as st\n",
    "import math\n",
    "#print (st.norm.ppf(0.95))\n",
    "# print (norm.cdf(prob_less_than_this, standard_mu, standard_dev))\n",
    "\n",
    "sample_size = 100 #int(input())\n",
    "pop_mu = 500 #int(input())\n",
    "pop_sigma = 15 #int(input())\n",
    "prob_range = 0.95\n",
    "z_score = 1.96\n",
    "\n",
    "# sample_size = int(input())\n",
    "# pop_mu = int(input())\n",
    "# pop_sigma = int(input())\n",
    "# prob_range = float(input())\n",
    "# z_score = float(input())\n",
    "\n",
    "\n",
    "sample_sigma = pop_sigma/ math.sqrt(sample_size)\n",
    "\n",
    "print (st.norm.ppf(0.975, 500, 80/math.sqrt(100)))\n",
    "print (st.norm.ppf(0.025, 500, 80/math.sqrt(100)))\n",
    "\n",
    "#print (st.norm.cdf(1.96))\n",
    "#print (st.norm.cdf(-1.96))\n"
   ]
  },
  {
   "cell_type": "code",
   "execution_count": null,
   "metadata": {
    "collapsed": true
   },
   "outputs": [],
   "source": []
  },
  {
   "cell_type": "code",
   "execution_count": null,
   "metadata": {
    "collapsed": true
   },
   "outputs": [],
   "source": [
    "from IPython.display import Image\n",
    "Image(\"img/fGYNp.png\")"
   ]
  },
  {
   "cell_type": "code",
   "execution_count": null,
   "metadata": {
    "collapsed": true
   },
   "outputs": [],
   "source": []
  },
  {
   "cell_type": "markdown",
   "metadata": {},
   "source": [
    "## The Central Limit Theorem I ##"
   ]
  },
  {
   "cell_type": "code",
   "execution_count": null,
   "metadata": {
    "collapsed": true
   },
   "outputs": [],
   "source": [
    "##https://www.hackerrank.com/challenges/s10-the-central-limit-theorem-1\n",
    "import math\n",
    "load_capacity = 9800 #int(input())\n",
    "total_n_of_box = 49 #int(input())\n",
    "distri_mu = 205 #int(input())\n",
    "distri_sigma = 15 #int(input())\n",
    "\n",
    "#print (load_capacity, total_n_of_box, distri_mu, distri_sigma)\n",
    "\n",
    "def phi_with_mu_and_standard(x, mu, sigma):\n",
    "    return (1.0 + math.erf((x-mu) / (sigma * math.sqrt(2.0)))) / 2.0\n",
    "\n",
    "mod_mu = total_n_of_box * distri_mu\n",
    "mod_sigma = math.sqrt(total_n_of_box) * distri_sigma\n",
    "\n",
    "print (\"{:.4f}\".format( phi_with_mu_and_standard(load_capacity, mod_mu, mod_sigma) ))"
   ]
  },
  {
   "cell_type": "code",
   "execution_count": null,
   "metadata": {
    "collapsed": true
   },
   "outputs": [],
   "source": []
  },
  {
   "cell_type": "markdown",
   "metadata": {},
   "source": [
    "## 08/30/17 ##"
   ]
  },
  {
   "cell_type": "markdown",
   "metadata": {},
   "source": [
    "### Normal Distribution I ###"
   ]
  },
  {
   "cell_type": "markdown",
   "metadata": {},
   "source": [
    "#### built-in function ####"
   ]
  },
  {
   "cell_type": "code",
   "execution_count": null,
   "metadata": {
    "collapsed": true
   },
   "outputs": [],
   "source": [
    "## build-in function\n",
    "## https://en.wikipedia.org/wiki/Normal_distribution#Cumulative_distribution_function\n",
    "import math\n",
    "\n",
    "# standard_mu, standard_dev = list(map(float, input().strip().split(' ')))\n",
    "# prob_less_than_this = float(input())\n",
    "# prob_between_start, prob_between_end = list(map(float, input().strip().split(' ')))\n",
    "\n",
    "standard_mu, standard_dev = 20, 2\n",
    "prob_less_than_this = 19.5\n",
    "prob_between_start, prob_between_end = 20, 22\n",
    "\n",
    "#print (standard_mu, standard_dev)\n",
    "#print (prob_less_than_this)\n",
    "#print (prob_between_start, prob_between_end)\n",
    "\n",
    "def phi(x):\n",
    "    ##Cumulative distribution function for the standard normal distribution\n",
    "    return (1.0 + math.erf(x / math.sqrt(2.0))) / 2.0\n",
    "\n",
    "def phi_with_mu_and_standard(x, mu, sigma):\n",
    "    return (1.0 + math.erf((x-mu) / (sigma * math.sqrt(2.0)))) / 2.0\n",
    "\n",
    "## problem #1\n",
    "ans1 = phi_with_mu_and_standard(prob_less_than_this, standard_mu, standard_dev)\n",
    "print (\"{:.3f}\".format(ans1))\n",
    "\n",
    "## problem #2\n",
    "righ_h_side = phi_with_mu_and_standard(prob_between_end, standard_mu, standard_dev)\n",
    "left_h_side = phi_with_mu_and_standard(prob_between_start, standard_mu, standard_dev)\n",
    "print (\"{:.3f}\".format(righ_h_side - left_h_side))"
   ]
  },
  {
   "cell_type": "code",
   "execution_count": null,
   "metadata": {
    "collapsed": true
   },
   "outputs": [],
   "source": []
  },
  {
   "cell_type": "markdown",
   "metadata": {},
   "source": [
    "#### scipy.stats ####"
   ]
  },
  {
   "cell_type": "code",
   "execution_count": null,
   "metadata": {
    "collapsed": true
   },
   "outputs": [],
   "source": [
    "#import numpy as np\n",
    "from scipy import stats\n",
    "from scipy.stats import norm\n",
    "\n",
    "# standard_mu, standard_dev = input().strip().split(' ')\n",
    "# prob_less_than_this = float(input())\n",
    "# prob_between_start, prob_between_end = input().strip().split(' ')\n",
    "\n",
    "standard_mu, standard_dev = 20, 2\n",
    "prob_less_than_this = 19.5\n",
    "prob_between_start, prob_between_end = 20, 22\n",
    "\n",
    "\n",
    "## https://stackoverflow.com/questions/809362/how-to-calculate-cumulative-normal-distribution-in-python/33824283#33824283\n",
    "\n",
    "## Probability of less than prob_less_than_this hours\n",
    "print (norm.cdf(prob_less_than_this, standard_mu, standard_dev))\n",
    "\n",
    "## Probability of between prob_between_start, prob_between_end \n",
    "print (norm.cdf(prob_between_end, standard_mu, standard_dev) - norm.cdf(prob_between_start, standard_mu, standard_dev) )\n",
    "\n",
    "#print (standard_mu, standard_dev)\n",
    "#print (prob_less_than_this)\n",
    "#print (prob_between_start, prob_between_end)"
   ]
  },
  {
   "cell_type": "code",
   "execution_count": null,
   "metadata": {
    "collapsed": true
   },
   "outputs": [],
   "source": []
  },
  {
   "cell_type": "markdown",
   "metadata": {},
   "source": [
    "### Poisson Distribution II ###"
   ]
  },
  {
   "cell_type": "code",
   "execution_count": null,
   "metadata": {
    "collapsed": true
   },
   "outputs": [],
   "source": [
    "## Expectation of X^2 on poisson distribution E[X^2] = mean + mean^2\n",
    "## mean_a, mean_b = map(float, input().strip().split(' '))\n",
    "\n",
    "mean_a, mean_b = 1.1, 2.2\n",
    "\n",
    "## print (mean_a, mean_b)\n",
    "\n",
    "machine_a = 160 + 40 * (mean_a + mean_a ** 2)\n",
    "machine_b = 128 + 40 * (mean_b + mean_b ** 2)\n",
    "\n",
    "print (\"{:.3f}\".format(machine_a))\n",
    "print (\"{:.3f}\".format(machine_b))"
   ]
  },
  {
   "cell_type": "code",
   "execution_count": null,
   "metadata": {
    "collapsed": true
   },
   "outputs": [],
   "source": []
  },
  {
   "cell_type": "markdown",
   "metadata": {},
   "source": [
    "### Poisson Distribution I ###"
   ]
  },
  {
   "cell_type": "code",
   "execution_count": null,
   "metadata": {
    "collapsed": true
   },
   "outputs": [],
   "source": [
    "# Enter your code here. Read input from STDIN. Print output to STDOUT\n",
    "import math\n",
    "\n",
    "in_put_mean_lambda = float(input())\n",
    "in_put_value_k = float(input())\n",
    "\n",
    "def factorial(n):\n",
    "    return (1 if n<2 else n*factorial(n-1))\n",
    "\n",
    "def prob_poisson(mean_lambda, k):\n",
    "    return mean_lambda ** k * math.exp(-mean_lambda) / factorial(k)\n",
    "\n",
    "#print (factorial(5))\n",
    "print (prob_poisson(in_put_mean_lambda, in_put_value_k))"
   ]
  },
  {
   "cell_type": "code",
   "execution_count": null,
   "metadata": {
    "collapsed": true
   },
   "outputs": [],
   "source": []
  },
  {
   "cell_type": "markdown",
   "metadata": {},
   "source": [
    "## 08/28/17 ##"
   ]
  },
  {
   "cell_type": "code",
   "execution_count": null,
   "metadata": {
    "collapsed": true
   },
   "outputs": [],
   "source": []
  },
  {
   "cell_type": "markdown",
   "metadata": {},
   "source": [
    "## Geometric Distribution I ##"
   ]
  },
  {
   "cell_type": "code",
   "execution_count": null,
   "metadata": {
    "collapsed": true
   },
   "outputs": [],
   "source": [
    "## 1 - no bad at first 5\n",
    "\n",
    "nu, de = list(map(int, input().strip().split(\" \")))\n",
    "find_it_here = int(input().strip())\n",
    "\n",
    "good_rate = 1 - nu/de\n",
    "prob = 1 - good_rate ** (find_it_here)\n",
    "\n",
    "print (\"{:.3f}\".format(prob))"
   ]
  },
  {
   "cell_type": "code",
   "execution_count": null,
   "metadata": {
    "collapsed": true
   },
   "outputs": [],
   "source": []
  },
  {
   "cell_type": "code",
   "execution_count": null,
   "metadata": {
    "collapsed": true
   },
   "outputs": [],
   "source": [
    "nu, de = list(map(int, input().strip().split(\" \")))\n",
    "find_it_here = int(input().strip())\n",
    "\n",
    "# print (nu, de)\n",
    "# print (find_it_here)\n",
    "\n",
    "good_rate = 1 - nu/de\n",
    "prob = good_rate ** (find_it_here-1) * nu/de\n",
    "\n",
    "print (\"{:.3f}\".format(prob))"
   ]
  },
  {
   "cell_type": "code",
   "execution_count": null,
   "metadata": {
    "collapsed": true
   },
   "outputs": [],
   "source": []
  },
  {
   "cell_type": "markdown",
   "metadata": {},
   "source": [
    "### Binomial Distribution II ###"
   ]
  },
  {
   "cell_type": "code",
   "execution_count": null,
   "metadata": {
    "collapsed": true
   },
   "outputs": [],
   "source": [
    "## (bad, good) ** number_of_pistons\n",
    "\n",
    "defect_p, number_of_pistons = list(map(float,input().strip().split(\" \")))\n",
    "\n",
    "##defect_p, number_of_pistons = 12, 10\n",
    "\n",
    "def factorial(n):\n",
    "    return 1 if n < 2 else n*factorial(n-1)\n",
    "\n",
    "def n_choose_k(n, k):\n",
    "    n_sub_k = int(n) - int(k)\n",
    "    return factorial(n)/(factorial(k)*factorial(n_sub_k)) \n",
    "    \n",
    "# for i in range(5):\n",
    "#     print (factorial(i))\n",
    "#     print (n_choose_k(6, i))\n",
    "\n",
    "def bad_good_rate(defect_percentage):\n",
    "    return defect_percentage/100, (1-defect_percentage/100)\n",
    "\n",
    "def prob_at_most_k_defects(n, k):\n",
    "    total_prob = 0\n",
    "    n_of_defect = 0\n",
    "    while (n_of_defect <= k):\n",
    "        total_prob += n_choose_k(n, n_of_defect)*(bad_good_rate(defect_p)[0] ** n_of_defect )* \\\n",
    "                                                 (bad_good_rate(defect_p)[1] ** (n - n_of_defect) )   \n",
    "        n_of_defect += 1\n",
    "    return total_prob\n",
    "\n",
    "## No more than 2 rejects\n",
    "print (\"{:.3f}\".format(prob_at_most_k_defects(number_of_pistons, 2)))\n",
    "\n",
    "## At least 2 rejects\n",
    "print (\"{:.3f}\".format(1 - prob_at_most_k_defects(number_of_pistons, 1)))\n",
    "\n"
   ]
  },
  {
   "cell_type": "code",
   "execution_count": null,
   "metadata": {
    "collapsed": true
   },
   "outputs": [],
   "source": []
  },
  {
   "cell_type": "markdown",
   "metadata": {},
   "source": [
    "### Binomial Distribution I ###"
   ]
  },
  {
   "cell_type": "code",
   "execution_count": null,
   "metadata": {
    "collapsed": true
   },
   "outputs": [],
   "source": [
    "#n_of_childs, at_least_m_boys = [x for x in input().strip().split(\" \")]\n",
    "\n",
    "get_boy_rate, get_girl_rate = 1.09, 1\n",
    "\n",
    "def factorial(n):\n",
    "    return 1 if n < 2 else n * factorial(n-1)\n",
    "\n",
    "def n_choose_k(n, k): \n",
    "    return factorial(n)/(factorial(k) * factorial(n-k))\n",
    "\n",
    "def prob_b_and_g(target, other):\n",
    "    return target/(target+other), other/(target+other)\n",
    "\n",
    "def at_least_k_boys(n_of_child, k):\n",
    "    total_p = 0\n",
    "    while(k <= n_of_child):\n",
    "        facto = n_choose_k(n_of_child, k)\n",
    "        total_p += facto*(prob_b_and_g(get_boy_rate, get_girl_rate)[0] ** k ) * \\\n",
    "                        (prob_b_and_g(get_boy_rate, get_girl_rate)[1] ** (n_of_child-k ))\n",
    "        k += 1\n",
    "    return total_p\n",
    "\n",
    "final_result = at_least_k_boys(6, 3)\n",
    "print (\"{:.3f}\".format(final_result))\n"
   ]
  },
  {
   "cell_type": "markdown",
   "metadata": {},
   "source": []
  },
  {
   "cell_type": "code",
   "execution_count": null,
   "metadata": {
    "collapsed": true
   },
   "outputs": [],
   "source": [
    "import math\n",
    "\n",
    "input_prob_b_and_g = list(map(float,input().strip().split(\" \")))\n",
    "\n",
    "def prob_n_childs_m_boys(n_of_child, n_of_boy_is_m, b_ratio, g_ratio):\n",
    "    prob_b = b_ratio/(b_ratio + g_ratio)\n",
    "    prob_g = g_ratio/(b_ratio + g_ratio)\n",
    "    numerator = math.factorial(n_of_child)\n",
    "    b_g_possible_cases = {}\n",
    "    total_p = 0\n",
    "    final_p = 0\n",
    "    for i in range(n_of_child, n_of_boy_is_m-1 , -1):\n",
    "        #print (i)\n",
    "        denominator = math.factorial(i)*math.factorial(n_of_child-i)\n",
    "        #print (denominator)\n",
    "        prob_at_this_case = prob_b ** i * prob_g ** (n_of_child-i)\n",
    "        #print (i ,prob_at_this_case)\n",
    "        b_g_possible_cases[i] = (numerator/denominator) * prob_at_this_case \n",
    "        total_p += prob_at_this_case\n",
    "    \n",
    "    #print  (sum([ value for key, value in b_g_possible_cases.items()     ]))\n",
    "    return (sum([ value for key, value in b_g_possible_cases.items()     ]))\n",
    "     \n",
    "        \n",
    "result = prob_n_childs_m_boys(6, 3, input_prob_b_and_g[0], input_prob_b_and_g[1])\n",
    "\n",
    "print (\"{:.3f}\".format(result))"
   ]
  },
  {
   "cell_type": "code",
   "execution_count": null,
   "metadata": {
    "collapsed": true
   },
   "outputs": [],
   "source": []
  },
  {
   "cell_type": "markdown",
   "metadata": {},
   "source": [
    "## 08/27/17 ##"
   ]
  },
  {
   "cell_type": "code",
   "execution_count": null,
   "metadata": {
    "collapsed": true
   },
   "outputs": [],
   "source": [
    "from plotly import tools\n",
    "import plotly.plotly as py\n",
    "import plotly.graph_objs as go\n",
    "\n",
    "#from random import randint\n",
    "#print(randint(0, 9))\n",
    "\n",
    "dic_sales_index_type = {1: \"first_type\", 2: \"second_type\"}\n",
    "\n",
    "## https://stackoverflow.com/questions/876853/generating-color-ranges-in-python\n",
    "\n",
    "import colorsys\n",
    "\n",
    "n_of_traces = 10\n",
    "\n",
    "HSV_tuples = [(x*1.0/n_of_traces, 0.5, 0.5) for x in range(n_of_traces)]\n",
    "RGB_tuples = list((map(lambda x: colorsys.hsv_to_rgb(*x), HSV_tuples)))\n",
    "#print (HSV_tuples)\n",
    "#print (RGB_tuples)\n",
    "\n",
    "tract_list = []\n",
    "for index_of_trace in range(1,3):\n",
    "    trace_item = go.Scatter()\n",
    "    trace_item.name = dic_sales_index_type[index_of_trace]\n",
    "    trace_item.mode='markers'\n",
    "    rgb_string = 'rgb'+str(RGB_tuples[index_of_trace-1])\n",
    "    trace_item.marker=dict(\n",
    "                    color=rgb_string,\n",
    "                    size=110,\n",
    "                    line=dict(\n",
    "                    color='white'\n",
    "                    ),\n",
    "                    opacity=0.7\n",
    "                    )\n",
    "    trace_item.update(x = [1, 2, 3])\n",
    "    trace_item.update(y = 2*[1, 2, 3])\n",
    " \n",
    "    tract_list.append(trace_item)\n",
    "\n",
    "##print (tract_list)\n",
    "\n",
    "## make subplots\n",
    "fig = tools.make_subplots(rows=2, cols=1)\n",
    "\n",
    "\n",
    "totalPlot = len(simplelist)\n",
    "x = [item for item in simplelist]\n",
    "y = [(item + 1) for item in range(totalPlot)]\n",
    "z = [1] * totalPlot\n",
    "\n",
    "for i, j, k in zip(x, y, z):\n",
    "    fig.append_trace(i, j, k)\n",
    "\n",
    "\n",
    "# fig['layout'].update(height=600, width=600, title='subplots')\n",
    "# py.iplot(fig, filename='subplot_using_for_loop')"
   ]
  },
  {
   "cell_type": "code",
   "execution_count": null,
   "metadata": {
    "collapsed": true
   },
   "outputs": [],
   "source": []
  },
  {
   "cell_type": "code",
   "execution_count": null,
   "metadata": {
    "collapsed": true
   },
   "outputs": [],
   "source": [
    "from plotly import tools\n",
    "import plotly.plotly as py\n",
    "import plotly.graph_objs as go\n",
    "\n",
    "trace1 = go.Scatter(\n",
    "x = [1, 2, 3],\n",
    "y = [4, 5, 6])\n",
    "\n",
    "trace2 = go.Scatter(\n",
    "x = [20, 30, 40],\n",
    "y = [50, 60, 70])\n",
    "\n",
    "my_trace_set = [trace1, trace2]\n",
    "\n",
    "fig = tools.make_subplots(rows=2, cols=1)\n",
    "\n",
    "\n",
    "#print (type(trace1))\n",
    "\n",
    "# totalPlot = len(my_trace_set)\n",
    "# x = [item for item in my_trace_set]\n",
    "# y = [(item + 1) for item in range(totalPlot)]\n",
    "# z = [1] * totalPlot\n",
    "\n",
    "# #print (x,y,z)\n",
    "\n",
    "# for i, j, k in zip(x, y, z):\n",
    "#     fig.append_trace(i, j, k)\n",
    "\n",
    "# ##\n",
    "# fig.append_trace(trace1, 1, 1)\n",
    "# fig.append_trace(trace2, 2, 1)\n",
    "# ##\n",
    "\n",
    "#fig['layout'].update(height=600, width=600, title='subplots')\n",
    "#py.iplot(fig, filename='subplot_using_for_loop')"
   ]
  },
  {
   "cell_type": "code",
   "execution_count": null,
   "metadata": {
    "collapsed": true
   },
   "outputs": [],
   "source": []
  },
  {
   "cell_type": "code",
   "execution_count": null,
   "metadata": {
    "collapsed": true
   },
   "outputs": [],
   "source": []
  },
  {
   "cell_type": "code",
   "execution_count": null,
   "metadata": {
    "collapsed": true
   },
   "outputs": [],
   "source": [
    "from plotly import tools\n",
    "import plotly.plotly as py\n",
    "import plotly.graph_objs as go\n",
    "\n",
    "trace1 = go.Scatter(\n",
    "x = [1, 2, 3],\n",
    "y = [4, 5, 6])\n",
    "\n",
    "trace2 = go.Scatter(\n",
    "x = [20, 30, 40],\n",
    "y = [50, 60, 70])\n",
    "\n",
    "fig = tools.make_subplots(rows=2, cols=1)\n",
    "\n",
    "##\n",
    "fig.append_trace(trace1, 1, 1)\n",
    "fig.append_trace(trace2, 2, 1)\n",
    "##\n",
    "\n",
    "fig['layout'].update(height=600, width=600, title='subplots')\n",
    "py.iplot(fig, filename='subplot_using_for_loop')"
   ]
  },
  {
   "cell_type": "code",
   "execution_count": null,
   "metadata": {
    "collapsed": true
   },
   "outputs": [],
   "source": []
  },
  {
   "cell_type": "markdown",
   "metadata": {},
   "source": [
    "## 08/26/17 ##"
   ]
  },
  {
   "cell_type": "markdown",
   "metadata": {},
   "source": [
    "### Fibonacci hash table approach (Dictionary in Python) ### "
   ]
  },
  {
   "cell_type": "code",
   "execution_count": null,
   "metadata": {
    "collapsed": true
   },
   "outputs": [],
   "source": [
    "fibTable = {1:1, 2: 1}\n",
    "def fib_using_dic(n):\n",
    "    if n <= 2:\n",
    "        return n\n",
    "    if n in fibTable:\n",
    "        return fibTable[n]\n",
    "    else:\n",
    "        fibTable[n] = fib(n-1) + fib(n-2)\n",
    "        return fibTable[n]"
   ]
  },
  {
   "cell_type": "code",
   "execution_count": null,
   "metadata": {
    "collapsed": true
   },
   "outputs": [],
   "source": [
    "%%timeit\n",
    "fib_using_dic(100000)\n"
   ]
  },
  {
   "cell_type": "code",
   "execution_count": null,
   "metadata": {
    "collapsed": true
   },
   "outputs": [],
   "source": [
    "%%timeit\n",
    "fib(100000)"
   ]
  },
  {
   "cell_type": "code",
   "execution_count": null,
   "metadata": {
    "collapsed": true
   },
   "outputs": [],
   "source": []
  },
  {
   "cell_type": "markdown",
   "metadata": {},
   "source": [
    "### Fibonacci recursive approach ###"
   ]
  },
  {
   "cell_type": "code",
   "execution_count": null,
   "metadata": {
    "collapsed": true
   },
   "outputs": [],
   "source": [
    "%%time\n",
    "def fib(n):\n",
    "    fibValue = [0, 1]\n",
    "    for i in range(2, n+1):\n",
    "        fibValue.append(fibValue[i-1] + fibValue[i-2])\n",
    "    return fibValue[n]\n",
    "                        \n",
    "print (fib(1000))\n",
    "                                        "
   ]
  },
  {
   "cell_type": "code",
   "execution_count": null,
   "metadata": {
    "collapsed": true
   },
   "outputs": [],
   "source": []
  },
  {
   "cell_type": "code",
   "execution_count": null,
   "metadata": {
    "collapsed": true
   },
   "outputs": [],
   "source": []
  },
  {
   "cell_type": "markdown",
   "metadata": {},
   "source": [
    "## 08/22/17 ##"
   ]
  },
  {
   "cell_type": "code",
   "execution_count": null,
   "metadata": {
    "collapsed": true
   },
   "outputs": [],
   "source": [
    "import numpy as np\n",
    "\n",
    "def sum_to_smaller_than_M(amount):\n",
    "    \n",
    "    ## initialize the possible cases with size amount [1, 1, 1, 1, 1, 1, ...]\n",
    "    ## dict_nRolls_cases: keys: number of rolls, values: smaller than M cases\n",
    "    ## dict_nRolls_prob_greater_eq_M : keys: number of rolls, values: prob. greater or equal to M\n",
    "    prob_fail_at_previous_step = 0\n",
    "    ways_of_n_prev = [1 if i < 6 else 0 for i in range(amount)]\n",
    "    ways_of_n_curr = [0] * (amount)\n",
    "\n",
    "    if amount > 6:\n",
    "        dict_nRolls_cases = {1: 6}\n",
    "        dict_nRolls_prob_greater_eq_M = {1: 0}\n",
    "        prob_fail_at_previous_step = 1\n",
    "    else:\n",
    "        dict_nRolls_cases = {1: amount}\n",
    "        dict_nRolls_prob_greater_eq_M = {1: 1./6*(6-amount+1)}\n",
    "        prob_fail_at_previous_step = 1./6*(amount-1)\n",
    "    ## the pattern to find all the possible cases\n",
    "    for curr_n_of_rolls in range(2, amount+1):\n",
    "        all_less_than_M_cases = 1\n",
    "        ## for each starting point, there is only one way (all 1s) to make S_n = number of rolls\n",
    "        ways_of_n_curr[0] = 1\n",
    "        for higher_amount_index in range(1, amount):\n",
    "            higher_amount_indexMinus1 = higher_amount_index - 1\n",
    "            \n",
    "            if higher_amount_index < 6:\n",
    "                ways_of_n_curr[higher_amount_index] = ways_of_n_curr[higher_amount_indexMinus1]\\\n",
    "                                                    + ways_of_n_prev[higher_amount_index]\n",
    "            else: \n",
    "                ways_of_n_curr[higher_amount_index] = ways_of_n_curr[higher_amount_indexMinus1]\\\n",
    "                                                    + ways_of_n_prev[higher_amount_index]      \\\n",
    "                                                    - ways_of_n_prev[higher_amount_index - 6]\n",
    "            if higher_amount_index < amount - curr_n_of_rolls:\n",
    "                all_less_than_M_cases += ways_of_n_curr[higher_amount_index]\n",
    "        #print (ways_of_n_curr)                    \n",
    "        # the prob goes to very small, arbitrary desired accuracy\n",
    "        #if prob_fail_at_previous_step < 1e-8:\n",
    "        #    break\n",
    "        dict_nRolls_cases[curr_n_of_rolls] = all_less_than_M_cases          \n",
    "        dict_nRolls_prob_greater_eq_M[curr_n_of_rolls] = prob_fail_at_previous_step*(6**curr_n_of_rolls-all_less_than_M_cases)/(6**curr_n_of_rolls) \n",
    "                \n",
    "        # you fail at all the previous steps\n",
    "        prob_fail_at_previous_step *= (1/6)**(curr_n_of_rolls)*(all_less_than_M_cases) \n",
    "        \n",
    "        ## update (sway) the current to previous list\n",
    "        ways_of_n_prev, ways_of_n_curr = ways_of_n_curr, [0] * (amount) \n",
    " \n",
    "\n",
    "    ## find the mean\n",
    "    mean_n_of_rolls = sum([ k * v  for k, v in dict_nRolls_prob_greater_eq_M.items() ])\n",
    "    ## find the standard deviation\n",
    "    standard_dev =  np.sqrt( sum([ (k-mean_n_of_rolls) ** 2 * v  for k, v in dict_nRolls_prob_greater_eq_M.items() ]   ) )\n",
    "    \n",
    "    #print (dict_nRolls_cases)\n",
    "    #return (dict_nRolls_cases)\n",
    "    #print (dict_nRolls_prob_greater_eq_M)\n",
    "    return dict_nRolls_prob_greater_eq_M, mean_n_of_rolls, standard_dev \n",
    "\n",
    "if __name__ == '__main__':\n",
    "    M = 100\n",
    "    dict_nRolls_prob_greater_eq_M, mean_n_of_rolls, standard_dev = sum_to_smaller_than_M(M)\n",
    "    #print (dict_nRolls_prob_greater_eq_M)\n",
    "    print (\"The mean of M = {} is {:.4f}\".format(M, mean_n_of_rolls))\n",
    "    print (\"The standard deviation of M = {} is {:.4f}\".format(M, standard_dev))\n",
    "    \n",
    "    \n",
    "\n"
   ]
  },
  {
   "cell_type": "code",
   "execution_count": null,
   "metadata": {
    "collapsed": true
   },
   "outputs": [],
   "source": []
  },
  {
   "cell_type": "code",
   "execution_count": null,
   "metadata": {
    "collapsed": true
   },
   "outputs": [],
   "source": [
    "from decimal import *\n",
    "getcontext().prec = 100\n",
    "d1 = Decimal(2).sqrt()\n",
    "\n",
    "l = [1,  2, 3]\n",
    "d1 =  [Decimal(i).sqrt() for i in l  ]  \n",
    "\n",
    "print (d1[1])\n",
    "\n",
    "a = [0,1,2,3,4,5]\n",
    "print (a)\n",
    "del a[3:]\n",
    "print (a)"
   ]
  },
  {
   "cell_type": "code",
   "execution_count": null,
   "metadata": {
    "collapsed": true
   },
   "outputs": [],
   "source": []
  },
  {
   "cell_type": "code",
   "execution_count": null,
   "metadata": {
    "collapsed": true
   },
   "outputs": [],
   "source": []
  },
  {
   "cell_type": "code",
   "execution_count": null,
   "metadata": {
    "collapsed": true
   },
   "outputs": [],
   "source": []
  },
  {
   "cell_type": "markdown",
   "metadata": {},
   "source": [
    "## 08/21/17 ##"
   ]
  },
  {
   "cell_type": "markdown",
   "metadata": {},
   "source": [
    "### dynamic programming approach ###"
   ]
  },
  {
   "cell_type": "code",
   "execution_count": null,
   "metadata": {
    "collapsed": true
   },
   "outputs": [],
   "source": [
    "class Change:\n",
    "    def __init__(self):\n",
    "        self.memo = {}\n",
    "\n",
    "    def change_possibilities_top_down(self, amount_left, denominations, current_index=0):\n",
    "\n",
    "        # check our memo and short-circuit if we've already solved this one\n",
    "        memo_key = str((amount_left, current_index))\n",
    "        if memo_key in self.memo:\n",
    "            #print (\"grabbing memo[%s]\" % memo_key)\n",
    "            return self.memo[memo_key]\n",
    "\n",
    "        # base cases:\n",
    "        # we hit the amount spot on. yes!\n",
    "        if amount_left == 0: return 1\n",
    "\n",
    "        # we overshot the amount left (used too many coins)\n",
    "        if amount_left < 0: return 0\n",
    "\n",
    "        # we're out of denominations\n",
    "        if current_index == len(denominations): return 0\n",
    "\n",
    "        #print (\"checking ways to make %i with %s\" % (amount_left, denominations[current_index:]) )\n",
    "\n",
    "        # choose a current coin\n",
    "        current_coin = denominations[current_index]\n",
    "\n",
    "        # see how many possibilities we can get\n",
    "        # for each number of times to use current_coin\n",
    "        num_possibilities = 0\n",
    "        while amount_left >= 0:\n",
    "            num_possibilities += self.change_possibilities_top_down(amount_left, denominations, current_index + 1)\n",
    "            amount_left -= current_coin\n",
    "\n",
    "        # save the answer in our memo so we don't compute it again\n",
    "        self.memo[memo_key] = num_possibilities\n",
    "        return num_possibilities\n",
    "\n",
    "my_change = Change()\n",
    "\n",
    "my_change.change_possibilities_top_down(3, [1,2,3,4,5,6])"
   ]
  },
  {
   "cell_type": "code",
   "execution_count": null,
   "metadata": {
    "collapsed": true
   },
   "outputs": [],
   "source": [
    "def change_possibilities_bottom_up(amount, denominations):\n",
    "    ways_of_doing_n_cents = [0] * (amount + 1)\n",
    "    ways_of_doing_n_cents[0] = 1\n",
    "\n",
    "    for coin in denominations:\n",
    "        for higher_amount in range(coin, amount + 1):\n",
    "            higher_amount_remainder = higher_amount - coin\n",
    "            ways_of_doing_n_cents[higher_amount] += ways_of_doing_n_cents[higher_amount_remainder]\n",
    "\n",
    "    return ways_of_doing_n_cents[amount]\n",
    "\n",
    "change_possibilities_bottom_up(1000, [1,2,3,4,5,6])"
   ]
  },
  {
   "cell_type": "code",
   "execution_count": null,
   "metadata": {
    "collapsed": true
   },
   "outputs": [],
   "source": []
  },
  {
   "cell_type": "markdown",
   "metadata": {},
   "source": [
    "### Combination Cn ###"
   ]
  },
  {
   "cell_type": "code",
   "execution_count": null,
   "metadata": {
    "collapsed": true
   },
   "outputs": [],
   "source": [
    "import math\n",
    "\n",
    "from operator import mul    # or mul=lambda x,y:x*y\n",
    "from fractions import Fraction\n",
    "\n",
    "def nCk(n,k): \n",
    "    return int( reduce(mul, (Fraction(n-i, i+1) for i in range(k)), 1) )\n",
    "\n",
    "## print (nCk(5,2) )\n",
    "\n",
    "n = 20 \n",
    "k = 6 \n",
    "s = 100 \n",
    "summation = 0\n",
    "\n",
    "print (math.floor((s-n)/k))\n",
    "\n",
    "for i in range(math.floor((s-n)/k)+1):\n",
    "    summation += (-1)**i * nCk(n,i) * nCk(s-k*i-1,n-1)\n",
    "print (summation)\n"
   ]
  },
  {
   "cell_type": "code",
   "execution_count": null,
   "metadata": {
    "collapsed": true
   },
   "outputs": [],
   "source": []
  },
  {
   "cell_type": "code",
   "execution_count": null,
   "metadata": {
    "collapsed": true
   },
   "outputs": [],
   "source": [
    "coeff_outcome = (np.poly1d([1,1,1,1,1,1]) ** 1).coef\n",
    "print (coeff_outcome.tolist())\n",
    "\n",
    "coeff_outcome = (np.poly1d([1,1,1,1,1,1]) ** 2).coef\n",
    "print (coeff_outcome.tolist())\n",
    "\n",
    "# coeff_outcome = (np.poly1d([1,1,1,1,1,1]) ** 3).coef\n",
    "# print (coeff_outcome.tolist())\n",
    "\n",
    "# coeff_outcome = (np.poly1d([1,1,1,1,1,1]) ** 4).coef\n",
    "# print (coeff_outcome.tolist())\n",
    "\n",
    "# coeff_outcome = (np.poly1d([1,1,1,1,1,1]) ** 5).coef\n",
    "# print (coeff_outcome.tolist())\n",
    "\n",
    "# coeff_outcome = (np.poly1d([1,1,1,1,1,1]) ** 6).coef\n",
    "# print (coeff_outcome.tolist())\n",
    "\n",
    "# coeff_outcome = (np.poly1d([1,1,1,1,1,1]) ** 7).coef\n",
    "# print (coeff_outcome.tolist())\n",
    "\n",
    "# coeff_outcome = (np.poly1d([1,1,1,1,1,1]) ** 8).coef\n",
    "# print (coeff_outcome.tolist())"
   ]
  },
  {
   "cell_type": "code",
   "execution_count": null,
   "metadata": {
    "collapsed": true
   },
   "outputs": [],
   "source": [
    "import numpy as np\n",
    "num_of_rolls = np.array([1,2,3, 4])\n",
    "prob = np.array([3./6, 33/36, 215/(6**3), 1])\n",
    "\n",
    "real_prob = prob/sum(prob)\n",
    "print (real_prob)\n",
    "\n",
    "value_times_prob = [a*b for a,b in zip(num_of_rolls, real_prob)]\n",
    "\n",
    "print (sum(value_times_prob))"
   ]
  },
  {
   "cell_type": "code",
   "execution_count": null,
   "metadata": {
    "collapsed": true
   },
   "outputs": [],
   "source": []
  },
  {
   "cell_type": "markdown",
   "metadata": {},
   "source": [
    "### numpy to list ### "
   ]
  },
  {
   "cell_type": "code",
   "execution_count": null,
   "metadata": {
    "collapsed": true
   },
   "outputs": [],
   "source": [
    "import numpy as np\n",
    "\n",
    "coeff_outcome = (np.poly1d([1,1,0]) ** 4).coef\n",
    "\n",
    "print (coeff_outcome)\n",
    "print (coeff_outcome.tolist())\n"
   ]
  },
  {
   "cell_type": "code",
   "execution_count": null,
   "metadata": {
    "collapsed": true
   },
   "outputs": [],
   "source": []
  },
  {
   "cell_type": "markdown",
   "metadata": {},
   "source": [
    "## 08/20/17 ##"
   ]
  },
  {
   "cell_type": "markdown",
   "metadata": {},
   "source": [
    "### read input save output ###"
   ]
  },
  {
   "cell_type": "code",
   "execution_count": null,
   "metadata": {
    "collapsed": true
   },
   "outputs": [],
   "source": [
    "## concept\n",
    "# with open(input_file_path) as input_file:\n",
    "#     with open(output_file_path, 'w') as output_file:\n",
    "#         for line in input_file:\n",
    "#             output_file.write.write(process(line))\n",
    "\n",
    "## alternative\n",
    "# with open(input_file_path) as input_file, open(output_file_path) as output_file:\n",
    "#     for line in input_file:\n",
    "#         output_file.write(process(line))\n"
   ]
  },
  {
   "cell_type": "code",
   "execution_count": null,
   "metadata": {
    "collapsed": true
   },
   "outputs": [],
   "source": []
  },
  {
   "cell_type": "markdown",
   "metadata": {},
   "source": [
    "### itertools ###"
   ]
  },
  {
   "cell_type": "code",
   "execution_count": null,
   "metadata": {
    "collapsed": true
   },
   "outputs": [],
   "source": [
    "import itertools\n",
    "\n",
    "letters = ['a', 'b', 'c', 'd', 'e', 'f']\n",
    "booleans = [1, 0, 1, 0, 0, 1]\n",
    "numbers = [23, 20, 44, 32, 7, 12]\n",
    "decimals = [0.1, 0.7, 0.4, 0.4, 0.5]\n",
    "\n",
    "print (itertools.chain(letters, booleans, numbers) )\n",
    "print (list(itertools.chain(letters, booleans, numbers) ))"
   ]
  },
  {
   "cell_type": "code",
   "execution_count": null,
   "metadata": {
    "collapsed": true
   },
   "outputs": [],
   "source": []
  },
  {
   "cell_type": "markdown",
   "metadata": {},
   "source": [
    "## from collections: data structures, dir(counter): method ##"
   ]
  },
  {
   "cell_type": "code",
   "execution_count": null,
   "metadata": {
    "collapsed": true
   },
   "outputs": [],
   "source": [
    "import re\n",
    "python_string = 'Python is a widely used general-purpose high-level programming language.'\n",
    "word_list = list(map(lambda k: k.lower().strip(), re.split(r'[;,:(\\.\\s)]\\s*', python_string)))\n",
    "word_list[:10]\n",
    "\n",
    "from collections import defaultdict\n",
    "dictionary = defaultdict(int)\n",
    "for word in word_list:\n",
    "    dictionary[word] += 1\n",
    "print (dictionary)\n",
    "\n",
    "from collections import Counter\n",
    "counter = Counter(word_list)\n",
    "\n",
    "counter.most_common(10)\n",
    "counter.items()\n",
    "counter.keys()\n",
    "\n",
    "dir(counter)\n"
   ]
  },
  {
   "cell_type": "code",
   "execution_count": null,
   "metadata": {
    "collapsed": true
   },
   "outputs": [],
   "source": []
  },
  {
   "cell_type": "markdown",
   "metadata": {},
   "source": [
    "## 08/19/17 ##"
   ]
  },
  {
   "cell_type": "markdown",
   "metadata": {},
   "source": [
    "### Summation of dictionary and list representation ###"
   ]
  },
  {
   "cell_type": "code",
   "execution_count": null,
   "metadata": {
    "collapsed": true
   },
   "outputs": [],
   "source": [
    "## dictionary representation\n",
    "dict_rep = {i: list(range(i)) for i in range(5)}\n",
    "print (dict_rep)\n",
    "for key, value in dict_rep.items():\n",
    "    print (sum(value))\n",
    "\n",
    "## list representation\n",
    "list_rep = [[ii] + list(range(jj)) for ii, jj in enumerate(range(5))]\n",
    "print (list_rep)\n",
    "for head, *rest in list_rep:\n",
    "    print (sum(rest))\n",
    "\n",
    "    \n",
    "## head, middle, and tail (Require at least 1 elements in list)\n",
    "list_rep2 = [[ii] + list(range(jj)) for ii, jj in enumerate(range(1, 10))]\n",
    "print (list_rep2)\n",
    "for head, *middle, tail in list_rep2:\n",
    "    print (head, sum(middle), tail)"
   ]
  },
  {
   "cell_type": "code",
   "execution_count": null,
   "metadata": {
    "collapsed": true
   },
   "outputs": [],
   "source": []
  },
  {
   "cell_type": "markdown",
   "metadata": {},
   "source": [
    "### Arbitrary Number of Items in a List ###"
   ]
  },
  {
   "cell_type": "code",
   "execution_count": null,
   "metadata": {
    "collapsed": true
   },
   "outputs": [],
   "source": [
    "def find_some_average(name_paystubs):\n",
    "    name, *paystub_history = name_paystubs\n",
    "    return name, (sum(paystub_history) / float(len(paystub_history)))\n",
    "\n",
    "worker_name, ave_salary = find_some_average([\"Emily\", 66666, 88888, 99999])\n",
    "\n",
    "print (worker_name, ave_salary)\n"
   ]
  },
  {
   "cell_type": "code",
   "execution_count": null,
   "metadata": {
    "collapsed": true
   },
   "outputs": [],
   "source": []
  },
  {
   "cell_type": "markdown",
   "metadata": {},
   "source": [
    "### Get the max key and value from a dictionary ###"
   ]
  },
  {
   "cell_type": "code",
   "execution_count": null,
   "metadata": {
    "collapsed": true
   },
   "outputs": [],
   "source": [
    "a_dict = {i: sum(range(i)) for i in range(5)}\n",
    "\n",
    "print (a_dict)\n",
    "print (max(zip(a_dict.values(), a_dict.keys())))\n",
    "print (sorted(zip(a_dict.values(), a_dict.keys()), reverse=True))"
   ]
  },
  {
   "cell_type": "code",
   "execution_count": null,
   "metadata": {
    "collapsed": true
   },
   "outputs": [],
   "source": []
  },
  {
   "cell_type": "markdown",
   "metadata": {},
   "source": [
    "### add list items into dictionary ###"
   ]
  },
  {
   "cell_type": "code",
   "execution_count": null,
   "metadata": {
    "collapsed": true
   },
   "outputs": [],
   "source": [
    "ls = [(i, 10*i) for i in range(5)]\n",
    "\n",
    "# dictionary = {}\n",
    "# for k, v in ls:\n",
    "#     #print (k, v)\n",
    "#     if not k in dictionary:\n",
    "#         dictionary[k] = []\n",
    "#     dictionary[k].append(v)\n",
    "# print (dictionary)\n",
    "    \n",
    "from collections import defaultdict\n",
    "dictionary = defaultdict(list) # defaults to list\n",
    "for k, v in ls:\n",
    "    dictionary[k].append(v)\n",
    "print (dictionary)\n"
   ]
  },
  {
   "cell_type": "code",
   "execution_count": null,
   "metadata": {
    "collapsed": true
   },
   "outputs": [],
   "source": []
  },
  {
   "cell_type": "markdown",
   "metadata": {},
   "source": [
    "### gcd (greatest common divisor), lcm (lowest common multiple) ###"
   ]
  },
  {
   "cell_type": "code",
   "execution_count": null,
   "metadata": {
    "collapsed": true
   },
   "outputs": [],
   "source": [
    "### optimal\n",
    "\n",
    "import sys\n",
    "from functools import reduce\n",
    "from math import gcd\n",
    "\n",
    "## a = map(int,input().strip().split())\n",
    "## b = map(int,input().strip().split())\n",
    "\n",
    "a = [2, 4]\n",
    "\n",
    "b = [16, 32, 96]\n",
    "\n",
    "lcm_a = reduce(lambda x,y: x*y//gcd(x,y), a)\n",
    "gcd_b = reduce(gcd, b)\n",
    "print(sum(1 for x in range(lcm_a,gcd_b+1,lcm_a) if gcd_b%x==0))"
   ]
  },
  {
   "cell_type": "code",
   "execution_count": null,
   "metadata": {
    "collapsed": true
   },
   "outputs": [],
   "source": []
  },
  {
   "cell_type": "code",
   "execution_count": null,
   "metadata": {
    "collapsed": true
   },
   "outputs": [],
   "source": [
    "mylist = ['spam', 'ham', 'eggs']\n",
    "print (', '.join(mylist) )\n",
    "\n",
    "list_of_ints = [80, 443, 8080, 8081]\n",
    "\n",
    "print (str(list_of_ints).strip('[]'))\n",
    "print (str(list_of_ints)[1:-1])\n",
    "print (', '.join(map(str, list_of_ints)))"
   ]
  },
  {
   "cell_type": "code",
   "execution_count": null,
   "metadata": {
    "collapsed": true
   },
   "outputs": [],
   "source": []
  },
  {
   "cell_type": "code",
   "execution_count": null,
   "metadata": {
    "collapsed": true
   },
   "outputs": [],
   "source": [
    "## https://stackoverflow.com/questions/147515/least-common-multiple-for-3-or-more-numbers\n",
    "import functools\n",
    "def gcd(a, b):\n",
    "    \"\"\"Return greatest common divisor using Euclid's Algorithm.\"\"\"\n",
    "    while b: \n",
    "        #print (a, b)\n",
    "        a, b = b, a % b\n",
    "        #print (a, b)\n",
    "    return a\n",
    "\n",
    "def gcd_from_list(your_list):\n",
    "    return functools.reduce(gcd, your_list)\n",
    "    \n",
    "def lcm(a, b):\n",
    "    \"\"\"Return lowest common multiple.\"\"\"\n",
    "    return a * b // gcd(a, b)\n",
    "\n",
    "def lcm_from_list(your_list):\n",
    "    return functools.reduce(lcm, your_list)\n",
    "\n",
    "def evenly_divisor(numerator, denominator):\n",
    "    return numerator % denominator == 0\n",
    "\n",
    "#print (evenly_divisor(2,4))\n",
    "\n",
    "# def lcmm(*args):\n",
    "#     \"\"\"Return lcm of args.\"\"\"   \n",
    "#     return functools.reduce(lcm, args)\n",
    "\n",
    "# def get_lcm_from_list(your_list):\n",
    "#     return functools.reduce(lambda x, y: lcm(x, y), your_list)\n",
    "\n",
    "gcd(2, 4)\n",
    "\n",
    "gcd_list = [6, 12, 15, 21]\n",
    "\n",
    "print (gcd_from_list(gcd_list))\n",
    "\n",
    "\n",
    "#print (lcm_from_list([1,2,3,4,5,6]))\n",
    "#print (get_lcm_from_list([1,2,3,4,5,6]))\n"
   ]
  },
  {
   "cell_type": "code",
   "execution_count": null,
   "metadata": {
    "collapsed": true
   },
   "outputs": [],
   "source": [
    "## reduce\n",
    "import functools\n",
    "functools.reduce(lambda x, y: x*y, [1,2,3,4,5,6])"
   ]
  },
  {
   "cell_type": "code",
   "execution_count": null,
   "metadata": {
    "collapsed": true
   },
   "outputs": [],
   "source": []
  },
  {
   "cell_type": "markdown",
   "metadata": {},
   "source": [
    "### find remaining in the list ###"
   ]
  },
  {
   "cell_type": "code",
   "execution_count": null,
   "metadata": {
    "collapsed": true
   },
   "outputs": [],
   "source": [
    "%%timeit\n",
    "\n",
    "## optimal\n",
    "#s = input().strip()\n",
    "#n = int(input().strip())\n",
    "\n",
    "s = 'abcabcaca'\n",
    "n= 12343212\n",
    "\n",
    "result = s.count(\"a\") * (n // len(s)) + s.count(\"a\",0,n%len(s))\n",
    "\n",
    "#print (result)"
   ]
  },
  {
   "cell_type": "code",
   "execution_count": null,
   "metadata": {
    "collapsed": true
   },
   "outputs": [],
   "source": [
    "%%timeit\n",
    "\n",
    "s = 'abcabcaca'\n",
    "n= 12343212\n",
    "result = s.count(\"a\") * (n // len(s)) + s[:n%len(s)].count(\"a\")"
   ]
  },
  {
   "cell_type": "code",
   "execution_count": null,
   "metadata": {
    "collapsed": true
   },
   "outputs": [],
   "source": []
  },
  {
   "cell_type": "code",
   "execution_count": null,
   "metadata": {
    "collapsed": true
   },
   "outputs": [],
   "source": [
    "#!/bin/python3\n",
    "\n",
    "import sys\n",
    "\n",
    "# s = input().strip()\n",
    "# n = int(input().strip())\n",
    "\n",
    "s = 'abcabcaca'\n",
    "n= 12343212\n",
    "\n",
    "num_of_a_in_s = sum([1 for letter in s if letter == 'a' ])\n",
    "extra_a = sum( [1 for letter in s[: n%len(s)] if letter == 'a' ]  )\n",
    "\n",
    "print (num_of_a_in_s * (n//len(s)) + extra_a )"
   ]
  },
  {
   "cell_type": "code",
   "execution_count": null,
   "metadata": {
    "collapsed": true
   },
   "outputs": [],
   "source": []
  },
  {
   "cell_type": "markdown",
   "metadata": {},
   "source": [
    "#### Count at certain condition ####"
   ]
  },
  {
   "cell_type": "code",
   "execution_count": null,
   "metadata": {
    "collapsed": true
   },
   "outputs": [],
   "source": [
    "# n_steps = input().strip()\n",
    "# journey = [x for x in input().strip()]\n",
    "\n",
    "journey = 'UUDDDDDDUUUDUDUUUDUD'\n",
    "\n",
    "#print (journey)\n",
    "current_level = 0\n",
    "count_valley = 0\n",
    "below_0 = False\n",
    "\n",
    "for index, up_or_down in enumerate(journey):\n",
    "    if up_or_down == 'U':\n",
    "        value = 1\n",
    "    else:\n",
    "        value = -1\n",
    "    current_level += value\n",
    "    #print (current_level)\n",
    "    if current_level == -1 and below_0 == False:\n",
    "        #print (\"hello\")\n",
    "        below_0 = True\n",
    "    elif current_level == 0 and below_0 == True:\n",
    "        #print (\"get up\")\n",
    "        below_0 = False\n",
    "        count_valley += 1\n",
    "        \n",
    "print (\"You were at valley for {} time(s).\".format(count_valley))\n",
    "      "
   ]
  },
  {
   "cell_type": "code",
   "execution_count": null,
   "metadata": {
    "collapsed": true
   },
   "outputs": [],
   "source": []
  },
  {
   "cell_type": "markdown",
   "metadata": {},
   "source": [
    "### Create classes practice ###"
   ]
  },
  {
   "cell_type": "markdown",
   "metadata": {},
   "source": [
    "#### class fish in another class aquarium ####"
   ]
  },
  {
   "cell_type": "code",
   "execution_count": null,
   "metadata": {
    "collapsed": true
   },
   "outputs": [],
   "source": [
    "class Aquarium():\n",
    "    fish = []\n",
    "    def __init__(self, fish):\n",
    "        self.fish = fish\n",
    "    def feed(self, food):\n",
    "        for fish in self.fish:\n",
    "            fish.eat(food)\n",
    "\n",
    "class Fish():\n",
    "    color = \"Blue\"\n",
    "    skin = \"scales\"\n",
    "    def __init__(self, name):\n",
    "        self.name = name\n",
    "    def eat(self, food):\n",
    "        print (self.name + \" is eating \" + food + \".\")\n",
    "    \n",
    "class Goldfish(Fish):\n",
    "    color = \"Gold\"\n",
    "    \n",
    "class Flounder(Fish):\n",
    "    pass\n",
    "\n",
    "my_fish = [Goldfish(\"poo1\"), Goldfish(\"foo2\"), Flounder(\"koo3\")]\n",
    "my_aquarium = Aquarium(my_fish)\n",
    "my_aquarium.feed(\"cookie\")\n",
    "\n",
    "# for fish in my_aquarium.fish:\n",
    "#     print (fish.name)\n",
    "    \n"
   ]
  },
  {
   "cell_type": "code",
   "execution_count": null,
   "metadata": {
    "collapsed": true
   },
   "outputs": [],
   "source": []
  },
  {
   "cell_type": "markdown",
   "metadata": {},
   "source": [
    "#### child override parent's behavior ####"
   ]
  },
  {
   "cell_type": "code",
   "execution_count": null,
   "metadata": {
    "collapsed": true
   },
   "outputs": [],
   "source": [
    "class Fish:\n",
    "    color = \"Blue\"\n",
    "    skin = \"scales\"\n",
    "    \n",
    "class Flounder(Fish):\n",
    "    pass      ## inherits color = \"Blue\" from parent\n",
    "\n",
    "class Goldfish(Fish):\n",
    "    color = \"Golden\"\n",
    "    \n",
    "fish1 = Flounder()\n",
    "print (fish1.color)\n",
    "\n",
    "fish2 = Goldfish()\n",
    "print (fish2.color)\n"
   ]
  },
  {
   "cell_type": "code",
   "execution_count": null,
   "metadata": {
    "collapsed": true
   },
   "outputs": [],
   "source": []
  },
  {
   "cell_type": "markdown",
   "metadata": {},
   "source": [
    "#### parent class ####"
   ]
  },
  {
   "cell_type": "code",
   "execution_count": null,
   "metadata": {
    "collapsed": true
   },
   "outputs": [],
   "source": [
    "class Fish:\n",
    "    skin = \"scales\"\n",
    "\n",
    "class Goldfish(Fish):\n",
    "    def move(self, speed):\n",
    "        print (\"It moves {}.\".format(speed))\n",
    "    \n",
    "myfish = Goldfish()\n",
    "myfish.move(\"extremely slow\")\n",
    "myfish.skin\n",
    "    "
   ]
  },
  {
   "cell_type": "code",
   "execution_count": null,
   "metadata": {
    "collapsed": true
   },
   "outputs": [],
   "source": []
  },
  {
   "cell_type": "code",
   "execution_count": null,
   "metadata": {
    "collapsed": true
   },
   "outputs": [],
   "source": [
    "class Fish:\n",
    "    def __init__(self, fish_name, fish_color):\n",
    "        print (\"Fish init!\")\n",
    "        self.name = fish_name\n",
    "        self.color = fish_color\n",
    "        \n",
    "    def move(self, speed):\n",
    "        print (self.name + \" is moving \" + speed + \"!\")\n",
    "        \n",
    "        \n",
    "myfish = Fish(\"Poo\", \"purple\")\n",
    "print (myfish.name)\n",
    "print (myfish.color)\n",
    "\n",
    "myfish.move(\"slowly\")"
   ]
  },
  {
   "cell_type": "code",
   "execution_count": null,
   "metadata": {
    "collapsed": true
   },
   "outputs": [],
   "source": []
  },
  {
   "cell_type": "code",
   "execution_count": null,
   "metadata": {
    "collapsed": true
   },
   "outputs": [],
   "source": [
    "class Fish:\n",
    "    def move(self, speed):\n",
    "        print (self.name + \" is moving \" + speed + \"!\")\n",
    "\n",
    "myfish = Fish()\n",
    "myfish.name = \"Poo\"\n",
    "myfish.move(\"fast\")"
   ]
  },
  {
   "cell_type": "code",
   "execution_count": null,
   "metadata": {
    "collapsed": true
   },
   "outputs": [],
   "source": []
  },
  {
   "cell_type": "markdown",
   "metadata": {},
   "source": [
    "## 08/18/17 ##"
   ]
  },
  {
   "cell_type": "markdown",
   "metadata": {},
   "source": [
    "### Standard deviation ###"
   ]
  },
  {
   "cell_type": "code",
   "execution_count": null,
   "metadata": {
    "collapsed": true
   },
   "outputs": [],
   "source": [
    "## alternatives\n",
    "\n",
    "import statistics as st\n",
    "\n",
    "#n = int(input())\n",
    "#data = list(map(int, input().split()))\n",
    "\n",
    "data = [1, 3, 5, 7, 9]\n",
    "n = len(data)\n",
    "print(round(st.pstdev(data), 1))\n",
    "\n",
    "## or\n",
    "\n",
    "mean = sum(data) / n\n",
    "variance = sum([((x - mean) ** 2) for x in data]) / n\n",
    "stddev = variance ** 0.5\n",
    "\n",
    "print(\"{0:0.1f}\".format(stddev))\n",
    "\n"
   ]
  },
  {
   "cell_type": "code",
   "execution_count": null,
   "metadata": {
    "collapsed": true
   },
   "outputs": [],
   "source": [
    "import math\n",
    "#n = int(input().strip())\n",
    "#array = list(map(int, input().strip().split(' ')))\n",
    "\n",
    "array = [1, 3, 5, 7, 9]\n",
    "n = len(array)\n",
    "`\n",
    "mean = sum(array)/n\n",
    "sta_dev = math.sqrt(sum( [ (i-mean)*(i-mean) for i in array ] )/n)\n",
    "\n",
    "print (\"{:.1f}\".format(sta_dev))"
   ]
  },
  {
   "cell_type": "code",
   "execution_count": null,
   "metadata": {
    "collapsed": true
   },
   "outputs": [],
   "source": []
  },
  {
   "cell_type": "markdown",
   "metadata": {},
   "source": [
    "### Interquartile Range ###"
   ]
  },
  {
   "cell_type": "code",
   "execution_count": null,
   "metadata": {
    "collapsed": true
   },
   "outputs": [],
   "source": [
    "# n = int(input().strip())\n",
    "# s = list(map(int, input().strip().split(' ')))\n",
    "# f = list(map(int, input().strip().split(' ')))\n",
    "\n",
    "s = [10, 3, 4]\n",
    "f = [2, 4, 5]\n",
    "\n",
    "def median(sorted_list):\n",
    "    floor_of_half = len(sorted_list)//2\n",
    "    if len(sorted_list) % 2 ==0:\n",
    "        result = sum(sorted_list[floor_of_half-1:floor_of_half+1])/2\n",
    "    else:\n",
    "        result = sorted_list[floor_of_half]\n",
    "    return result\n",
    "\n",
    "def q1_and_q3(num_of_element, sorted_list):\n",
    "    floor_of_half = len(sorted_list)//2\n",
    "    q1 = median(sorted_list[:floor_of_half])\n",
    "    \n",
    "    if num_of_element%2 == 0:\n",
    "        q3 = median(sorted_list[floor_of_half:])\n",
    "    else:\n",
    "        q3 = median(sorted_list[floor_of_half+1:])\n",
    "    return q1, q3\n",
    "\n",
    "combined_list = []\n",
    "for i, value in enumerate(s):\n",
    "    combined_list += [value]*f[i]\n",
    "#print (combined_list)\n",
    "\n",
    "sorted_combined = sorted(combined_list)\n",
    "\n",
    "q1, q3 = q1_and_q3(len(sorted_combined),sorted_combined)\n",
    "\n",
    "print (\"{:.1f}\".format(q3-q1))\n",
    "\n"
   ]
  },
  {
   "cell_type": "code",
   "execution_count": null,
   "metadata": {
    "collapsed": true
   },
   "outputs": [],
   "source": []
  },
  {
   "cell_type": "markdown",
   "metadata": {},
   "source": [
    "### Find Quartiles ###"
   ]
  },
  {
   "cell_type": "code",
   "execution_count": null,
   "metadata": {
    "collapsed": true
   },
   "outputs": [],
   "source": [
    "# n = int(input().strip())\n",
    "# input_arry = list(map(int, input().strip().split(' ')))\n",
    "\n",
    "input_arry = [1,3,5,7,2,4,6,8]\n",
    "#input_arry = [1,3,5,7,9,2,4,6,8]\n",
    "n = len(input_arry)\n",
    "\n",
    "ordered_list = sorted(input_arry)\n",
    "\n",
    "def median(ordered_nums):\n",
    "    floor_of_half_n = len(ordered_nums)//2\n",
    "    if len(ordered_nums) % 2 == 0:\n",
    "        med_value = sum( ordered_nums[floor_of_half_n-1: floor_of_half_n+1])/2\n",
    "    else:\n",
    "        med_value = ordered_nums[floor_of_half_n]\n",
    "    return med_value\n",
    "\n",
    "def quartiles(n_of_nums, ordered_nums):\n",
    "    floor_of_half_n = len(ordered_nums)//2\n",
    "    q1 = median(ordered_nums[:floor_of_half_n])\n",
    "    q2 = median(ordered_nums)\n",
    "    if n_of_nums%2 == 0:\n",
    "        q3 = median(ordered_nums[floor_of_half_n:])\n",
    "    else:\n",
    "        q3 = median(ordered_nums[floor_of_half_n+1:])\n",
    "    return q1, q2, q3\n",
    "        \n",
    "\n",
    "q1, q2, q3 = quartiles(n, ordered_list)\n",
    "print (q1, q2, q3)\n"
   ]
  },
  {
   "cell_type": "code",
   "execution_count": null,
   "metadata": {
    "collapsed": true
   },
   "outputs": [],
   "source": []
  },
  {
   "cell_type": "markdown",
   "metadata": {},
   "source": [
    "## 08/17/17 ##"
   ]
  },
  {
   "cell_type": "markdown",
   "metadata": {},
   "source": [
    "### Work on dictionary ###"
   ]
  },
  {
   "cell_type": "code",
   "execution_count": null,
   "metadata": {
    "collapsed": true
   },
   "outputs": [],
   "source": [
    "import numpy as np\n",
    "from collections import Counter\n",
    "\n",
    "this = '4 1 5 6 4 6 1 2 3 '\n",
    "array = list(map(int, this.strip().split(' ')))\n",
    "\n",
    "#dict_array = dict(Counter(array))\n",
    "\n",
    "dict_array = Counter(array)\n",
    "\n",
    "## Key of dictionary\n",
    "print (dict_array.keys())\n",
    "## Value of dictionary\n",
    "print (dict_array.values())\n",
    "\n",
    "# one of the key with largest value\n",
    "print (max(dict_array, key=dict_array.get))\n",
    "\n",
    "# one of the largest value in dictionary \n",
    "#print (max(dict_array.values()))\n",
    "\n",
    "# max_occurence_list = []\n",
    "# for each_element, n_of_occurrence in dict_array.items():\n",
    "#     if n_of_occurrence == max(dict_array.values()):\n",
    "#         max_occurence_list.append(each_element)\n",
    "\n",
    "# print (min(max_occurence_list))\n"
   ]
  },
  {
   "cell_type": "code",
   "execution_count": null,
   "metadata": {
    "collapsed": true
   },
   "outputs": [],
   "source": []
  },
  {
   "cell_type": "markdown",
   "metadata": {},
   "source": [
    "### Use numpy to find mean, median and counter in dictionary to find mode ###"
   ]
  },
  {
   "cell_type": "code",
   "execution_count": null,
   "metadata": {
    "collapsed": true
   },
   "outputs": [],
   "source": [
    "## Task \n",
    "## Given an array, X, of N integers, calculate and print the respective mean, median, and mode on separate lines. \n",
    "## If your array contains more than one modal value, choose the numerically smallest one.\n",
    "\n",
    "import numpy as np\n",
    "from collections import Counter\n",
    "\n",
    "this = '19325 74348 68955 98497 26622 32516 97390 64601 64410 10205 5173 25044 23966 60492 71098 13852 27371 40577 74997 42548 95799 26783 51505 25284 49987 99134 33865 25198 24497 19837 53534 44961 93979 76075 57999 93564 71865 90141 5736 54600 58914 72031 78758 30015 21729 57992 35083 33079 6932 96145 73623 55226 18447 15526 41033 46267 52486 64081 3705 51675 97470 64777 31060 90341 55108 77695 16588 64492 21642 56200 48312 5279 15252 20428 57224 38086 19494 57178 49084 37239 32317 68884 98127 79085 77820 2664 37698 84039 63449 63987 20771 3946 862 1311 77463 19216 57974 73012 78016 9412 90919 40744 24322 68755 59072 57407 4026 15452 82125 91125 99024 49150 90465 62477 30556 39943 44421 68568 31056 66870 63203 43521 78523 58464 38319 30682 77207 86684 44876 81896 58623 24624 14808 73395 92533 4398 8767 72743 1999 6507 49353 81676 71188 78019 88429 68320 59395 95307 95770 32034 57015 26439 2878 40394 33748 41552 64939 49762 71841 40393 38293 48853 81628 52111 49934 74061 98537 83075 83920 42792 96943 3357 83393 73735 32851 12631 954 18806 12518 77451 40057 83048 50251 4042 43390 50802 22087 33164 56529 29586 45201 53718 45822 60832 22942 71260 14629 64736 31441 95195 58122 40597 27533 79588 42012 72119 98585 88519 44490 25289 17586 44822 14592 51428 48069 90282 42412 12944 76050 70793 16815 20712 64466 73404 14806 48857 50014 23121 20402 27509 88681 28108 51497 78993 93631 78013 36779 50217 23025 67506 23403 25015 52071 16229 94964 62133 18117 10038 92156 22253 19201 35213 63072 70702 60003 62184 25174 38807 69217 18269 34780 53985 64378 58515 42341 50198 20372 934 68985 57963 11215 21403 46205 15507 69671 34155 88430 88452 1638 90592 99970 93572 63994 51694 47581 29963 6021 42300 79985 87980 53593 13316 15453 10690 7573 43792 71043 65837 86090 11849 13415 37913 80829 43556 11626 86456 11948 48753 50572 94985 23127 92587 83075 85085 89213 23297 27255 79461 26307 97724 26001 39409 93543 24518 28315 3599 56270 47726 99708 66323 74188 38233 21863 33325 49449 97950 59748 36920 52970 4946 20811 59734 48067 88412 94590 31698 29282 74060 16216 53409 24486 45424 80834 30793 94982 71937 95521 43915 92787 15257 18588 84638 21077 53848 42191 20160 81149 45716 77300 47107 65762 77770 60567 96962 86928 76800 19170 91142 61000 46222 92164 32435 49106 71353 58661 9160 25018 11123 77541 86787 50724 5969 25433 76577 98856 28132 10052 77552 86342 81409 41371 17538 24809 96460 22169 98237 3789 59813 15371 48294 70037 47116 32200 51917 62708 77990 42760 87598 87462 62436 71345 86329 14745 89479 11246 60179 37511 26942 1721 26985 53855 63666 82255 31569 24481 62224 90107 33765 88634 82435 84202 54962 20873 97722 7023 118 2156 28323 35373 24906 24622 44402 22859 91908 17323 31298 83975 56369 74897 5968 98200 42143 76553 93357 30137 21480 92955 18346 68236 67495 8807 10356 51969 80403 10977 60186 61611 74497 45701 96794 52543 43777 78845 39918 84993 85737 53324 53059 8893 31858 36064 64260 73749 64164 52772 15242 70311 43764 79923 21407 86961 34987 34521 34150 38204 51300 77691 92008 96320 61963 84021 2961 34363 28456 71932 61930 54930 42445 96453 65401 13256 79334 64615 9713 60815 28008 69492 23199 59589 28739 72633 94170 10888 51539 76480 33665 81973 81803 24272 7155 70828 65184 69458 9390 65970 98428 765 62446 22955 35044 34202 49648 58515 77039 48268 79160 96421 37434 67204 17068 51985 54255 83409 59296 59036 28023 74513 8622 69405 19712 6680 817 62113 98302 52920 12954 77764 25274 22437 90534 92079 98910 49387 69816 44078 60998 52391 51178 45243 89793 74003 91778 55278 33697 27890 18311 35679 87953 66143 97993 71430 76652 12832 35921 29371 14645 70692 7439 67552 89386 30277 36893 73268 30427 51781 76463 16556 78063 66670 15697 60224 60255 93858 15647 69254 96862 20258 73106 90668 30131 38159 86807 96083 63534 33235 56646 99334 77717 47654 78754 35419 5937 94914 75688 37158 80916 82320 13570 92068 47138 4526 3896 80131 16190 492 40210 32404 62557 23356 73738 64698 16020 87525 48586 47273 13890 72410 52461 56223 72174 41025 30187 6276 10306 32807 48922 60093 18323 11049 63702 22413 13780 84304 83085 46 75596 35294 54872 92212 32064 25302 55609 95164 1524 46990 60773 21909 68402 59472 56689 91087 39631 78193 71526 51792 63272 42985 95265 44552 28294 21810 71384 48003 80544 1363 45802 16952 7529 13362 22473 1221 94395 55384 21619 79257 77566 32224 88127 31954 35651 71426 68599 74190 33407 41231 96316 71415 42254 94181 42133 82767 27639 35673 44389 25222 7332 41911 72559 63687 43008 42840 48593 65086 43754 18516 22700 33797 24547 26764 33146 62195 90700 21335 79793 31396 47616 99154 10299 91775 32512 66035 21502 50806 77264 39799 56009 87600 64349 93885 69236 86648 55846 58090 41524 90695 50647 8308 4564 63060 16932 11331 19852 8639 11040 5202 76658 19618 76458 66905 6581 87747 69766 66507 12010 58124 84856 49117 30234 51748 3611 13964 28011 16438 84796 81080 2963 8912 41050 38175 78210 74440 37042 67605 61848 94040 41364 16395 44176 71400 61297 95912 87090 9691 18671 977 72851 50455 27237 95495 11534 65397 69505 97372 54739 78898 38469 27660 55602 69921 86400 56781 16652 72492 6572 55659 40411 22286 20435 17512 15070 53427 71684 33266 30803 17200 56805 16966 76097 20127 21996 93123 68003 6415 41574 68735 51681 5988 42035 90528 77866 48393 80726 2714 24469 14254 20282 47385 44742 36760 50505 94900 21049 58767 22447 76968 34660 23291 30673 12488 46615 77985 50839 55140 31758 8923 71099 57760 2237 99895 27919 98440 78073 3250 17013 39576 36805 78428 65778 8839 47507 51209 40737 66930 97033 9950 28929 74108 17718 31227 48917 2591 20557 60745 50520 6665 12886 2205 21233 62940 63064 99827 44353 36273 17091 22133 41282 72177 39909 99400 44757 80418 20575 27374 25036 14293 82818 64537 10341 68264 8768 65063 90343 61732 84088 92928 41263 12622 64719 81768 16617 34794 90326 87305 89775 35134 13526 98060 21125 32299 31821 53569 30817 10219 70250 56209 19281 41416 50165 30684 16851 71174 37494 32826 52678 46243 95973 51466 30591 1283 60759 26119 14561 49639 14693 57942 74728 77986 67387 73980 33794 21169 94308 13535 57336 77665 76237 26633 55123 84724 61795 50799 55130 46403 77064 3722 2943 83713 5180 31675 89814 48553 15581 18386 58474 61670 94741 65667 56691 58050 96910 81112 31084 26768 49181 44360 49573 38162 31258 95180 33203 83514 90651 17289 5019 73422 88007 23601 2671 41554 87019 77093 1470 88583 8841 84657 6010 31424 65927 10808 1713 97054 20585 34858 76380 30146 80525 32298 43056 79873 13677 47435 99707 54131 21311 5899 30165 41150 28736 78279 15171 91568 31235 42511 11095 36422 714 45729 68643 55404 77010 37352 14947 34410 87253 2023 99674 21840 63256 50010 78920 37483 13740 86182 36207 12335 86255 69645 1389 85623 34629 35540 97000 67341 37753 10438 88143 49022 21675 7974 25640 52450 37259 51969 57779 28828 89784 39197 84369 74567 70392 27302 82628 46481 78912 53537 20334 29517 20199 37447 43714 82529 68375 23352 16781 91174 3473 38759 22646 10011 29909 12330 43860 27145 38211 4371 96114 84483 23574 89416 70438 67457 34240 96515 87507 15103 50109 18034 37018 94027 82945 85596 22123 27691 11072 36388 30043 55477 36964 29155 44842 89150 4486 69248 48490 98392 50943 4550 77781 66886 81600 41604 53084 40070 88930 60544 73949 33311 30471 66913 15782 78285 76930 72520 37042 68986 43837 94224 46063 85472 72001 92578 84779 72870 66604 3226 23363 25664 59154 81211 14548 82424 10939 47442 51254 56050 95197 77959 23304 8462 89748 98052 94722 55421 90535 26127 16193 15750 76569 6362 12238 67951 34260 38716 26820 48149 98374 36872 27130 17109 65400 94303 26866 34845 88110 94988 96683 63618 23963 9994 20656 54965 53822 94836 28168 6477 93138 73931 29234 87728 67240 52419 64152 41700 721 32516 56375 25567 71196 16585 36696 76479 13480 24419 36434 71672 33742 73445 61854 56844 53164 48181 23848 95085 66647 28945 99487 6971 35820 77999 24366 83595 60755 78496 44267 97352 8016 43857 89120 13576 73019 46834 13282 69406 76455 39531 2963 45758 42325 6010 32380 52541 17340 96073 91868 40931 43220 43681 11625 99374 83824 45877 34162 27499 19445 76280 66428 48016 14662 1681 43725 95891 40204 64845 47840 6416 75532 12342 55280 98806 28520 86284 57025 15664 20195 38125 26821 6954 35942 10786 55679 88640 77839 33797 64511 74958 89019 71955 17252 1004 71078 59048 7702 94236 71137 98008 81859 92890 95632 65782 86928 70030 19485 65253 74982 95361 56903 2476 41790 77964 55352 41374 31762 12290 56482 58584 43220 56178 50987 38724 47817 21042 45094 67390 98430 11533 28884 58759 23162 71657 49440 28925 4693 21136 24328 94257 9808 92577 45852 75930 2151 49505 57759 78168 87797 82824 35706 86404 12993 8938 41606 37152 51915 12097 4388 21510 71798 61425 84956 7638 73699 29255 89177 16400 71453 90108 79062 10561 44604 25540 61945 84835 65707 39679 94848 82746 88580 95163 42939 72722 71129 36800 93351 13066 34621 22886 23586 39954 11246 51623 83339 47847 88135 42996 5184 72033 96604 48362 84720 20388 21389 34906 46035 2665 4920 94465 3196 29137 20767 49061 39634 48028 44199 29097 32274 12110 91829 32788 92025 19474 96282 34088 40272 7778 66750 16996 45025 83489 3589 66008 45773 72467 74043 77751 46004 86743 40481 27323 51069 10215 19206 36450 79667 57211 83658 59228 78735 24408 44752 34321 33803 4365 27439 9012 95864 23583 63450 11932 20021 44815 10170 94900 86241 96663 33082 70515 25822 85348 51426 93063 70527 31342 3883 9497 3495 96230 19127 77857 16310 30724 32368 62646 16378 50298 57695 90448 21023 91959 5547 71630 58750 32224 98322 52304 17361 55421 1200 84993 37888 10372 33355 10461 59193 64165 87728 98676 39184 79931 65773 58268 76007 49713 29842 9767 10021 50290 94426 7856 71069 95504 91908 3412 48516 91025 41357 59057 5349 62818 45034 15298 20004 97875 46490 25490 15783 95208 61362 46869 53645 41987 96858 85583 71207 14943 11977 91706 41540 7046 17197 27004 61897 49647 66239 83245 68753 46041 34322 76758 65595 32143 36923 44198 17143 90388 99829 20676 98555 2975 99141 12876 63617 75137 23903 66499 48565 22359 52964 27846 42921 24974 98425 38987 95924 77927 37264 18518 4709 58272 89422 84397 22040 21772 7116 39569 62032 35663 81633 86315 94020 14401 57097 85565 41264 42272 73643 13524 1556 15936 21353 51970 74909 58214 2817 28486 27908 68226 96761 26786 12991 8599 90118 74512 81723 69567 21050 5233 87266 35718 59743 37364 35688 6443 96488 47811 95945 36255 85715 76180 3852 11822 48624 44174 83234 545 36124 79133 81952 59399 10367 35724 41173 65965 59460 18738 52864 74156 20220 77784 5532 2182 93154 82136 30899 30657 11779 20502 45445 74189 59112 72748 39169 75772 75382 65380 52677 26163 27541 81791 87376 62546 40975 4353 41328 11095 88056 66021 48550 50049 11869 21732 35209 52470 64607 31285 11986 93640 6542 77841 17049 91603 37095 78304 19927 43910 36880 58369 77205 58205 67977 68879 93364 12358 35802 90268 44668 3503 36619 10964 79855 89493 50538 8750 50157 54636 27500 59749 73953 11760 9843 20259 98627 8950 78601 60936 77130 6688 48825 15946 70835 61600 87504 64249 91007 80368 47257 27273 94128 85001 86443 16747 55344 31330 18964 11641 20138 12512 10199 96447 36996 31841 31155 83663 80321 84856 92580 38764 66022 44830 12008 60387 65421 86313 21837 67073 51002 68046 69427 12254 99019 72758 86571 39963 68165 19777 36042 24189 48651 78247 1699 10011 70583 83282 60135 67535 44768 81973 74116 32111 21176 92956 82684 40121 7244 24466 91896 26306 7071 83476 89855 76901 98594 69221 12919 88446 71131 90522 74080 7277 49091 74612 26522 99356 57133 23312 45442 33372 92773 8037 2830 54337 37964 19249 59968 78659 52932 57978 61895 4406 52615 85621 73359 96664 78467 3456 3159 61691 76384 88061 21192 31571 6754 66293 7713 74860 53917 15917 74089 94417 82007 2600 81370 9502 42051 26197 54 75490 23717 73795 36581 53145 81594 59355 9899 66733 70159 85392 47845 85594 31047 2769 7809 81154 83826 79134 25761 97453 91087 31423 41468 42292 37745 43911 83645 20238 94043 8861 68668 20365 18282 36438 63231 31537 11506 83709 48569 58537 34074 141 55431 33652 43414 97246 483 59823 8422 4516 30307 26607 51951 94670 278 95417 48230 87851 81702 43732 63408 50884 82397 37076 38158 80890 5734 21712 28188 65118 48846 7900 7044 49899 31956 97047 70075 82348 89353 55822 68370 99590 72052 23036 83541 5565 9112 10135 22703 24274 68868 41813 93640 98765 30763 95298 71151 66416 23785 92895 64952 33325 62359 81647 84230 14163 2797 24321 15500 5378 44396 52547 27959 6027 12498 54060 85501 52590 55861 86023 26810 25248 81167 2184 34288 29902 7188 26365 259 12140 12384 44792 97795 49326 80617 96793 18843 87679 47442 51844 55797 61131 33945 97008 92433 73116 8928 96289 39569 52938 54555 83529 17004 70692 10103 56356 18768 48515 67098 90396 8204 93156 15376 11196 68935 18759 33949 84573 15934 93430 31352 71658 50124 74916 43918 92866 93975 66779 67560 6575 84036 23523 12070 99556 73084 4312 14498 4161 32455 89492 27427 65249 26614 34000 89005 54775 15282 18750 26159 11056 5553 40818 79956 86607 40675 50002 34664 39354 41957 67729 38601 36228 37831 25987 96623 66850 31847 85868 79806 55247 82795 90196 12632 7644 14648 79119 78278 27701 55037 27372 54045 28914 99063 66882 96018 77927 43135 11894 95424 68016 72522 99412 56436 93986 50271 89743 94768 36988 63401 35692 16157 17475 9370 11231 44413 97692 13103 57060 92127 79290 41626 56994 2637 8497 67335 46138 30900 62623 36329 59168 38478 55376 11015 1305 73712 77036 72827 88068 96784 5662 63256 61103 78741 47518 85964 53335 40062 63396 82139 94070 72478 93895 79380 12673 66730 21929 26310 74983 30147 50684 273 94126 97034 9491 36082 49630 37437 7718 88957 48078 76736 88348 17976 54328 4970 43163 45742 35204 35351 91551 6124 67178 24716 17285 60265 24938 23780 60055 50738 83812 2403 42841 40128 85074 88427 33527 44385 41547 50313 53409 85647 8128 74427 75864 42837 80339 43755 96377 40343 20319 84881 22778 14127 14218 64683 80165 47769 79428 63211 55466 44006 72059 78664 4665 10359 59943 16756 44644 20458 70070 46509 59710 88534 87105 13153 80444 66747 69879 53832 14466 6798 43829 46245 58710 19380 24639 66733 39264 43283 41566 35106 30387 2879 82930 38511 72038 84050 73115 75029 63880 85012 36944 7846 18360 60276 44372 23370 46900 35190 95352 28545 60567 8432 97358 56250 81698 85125 10335 72282 97523 90472 51939 21597 83385 25271 68248 8791 82485 89164 95215 56550 46657 36404 35773 15051 72789 5083 59111 80195 38090 78967 91950 77402 43674 11220 75062 59935 66881 82180 2184 220 44778 53053 1920 6708 93213 78174 50604 69152 37538 34174 75321 52740 28455 23803 96360 68638 37458 49366 88209 93339 3273 15711 63138 52419 93169 89108 12599 62628 64408 44625 6514 55202 5857 1716 88630 82526 65319 5585 52404 3552 96473 79771 15107 77399 38599 72213 52512 53927 74044 16938 18707 40121 45472 81515 12100 58725 99857 47152 13177 45151 61848 92998 16782 6203 13255 14617 83157 7392 79743 32779 72374 30295 89061 77386 99001 509 72929 25787 60786 25810 73685 65288 27023 81071 51613 32344 10971 42312 16378 25821 48428 83799 91649 11161'\n",
    "array = list(map(int, this.strip().split(' ')))\n",
    "## or\n",
    "## array = [64630, 11735, 14216, 99233, 14470, 4978, 73429, 38120, 51135, 67060]\n",
    "\n",
    "## mean\n",
    "print (np.round( np.mean(array) , decimals=1))\n",
    "\n",
    "## median\n",
    "print (np.round( np.median(array) , decimals=1))\n",
    "\n",
    "## mode\n",
    "##value, occurrence = Counter(array).most_common(1)[0]\n",
    "\n",
    "dict_array = Counter(array)\n",
    "\n",
    "max_occurence_list = []\n",
    "for each_element, n_of_occurrence in dict_array.items():\n",
    "    if n_of_occurrence == max(dict_array.values()):\n",
    "        max_occurence_list.append(each_element)\n",
    "    \n",
    "print (min(max_occurence_list))\n"
   ]
  },
  {
   "cell_type": "code",
   "execution_count": null,
   "metadata": {
    "collapsed": true
   },
   "outputs": [],
   "source": []
  },
  {
   "cell_type": "markdown",
   "metadata": {},
   "source": [
    "### Check steps ###"
   ]
  },
  {
   "cell_type": "code",
   "execution_count": null,
   "metadata": {
    "collapsed": true
   },
   "outputs": [],
   "source": [
    "#!/bin/python3\n",
    "\n",
    "import sys\n",
    "\n",
    "def kangaroo(x1, v1, x2, v2):\n",
    "    # Complete this function    \n",
    "    return ('YES' if v1 > v2 and (x2-x1) % (v1-v2) == 0 else 'NO')\n",
    "    \n",
    "# x1, v1, x2, v2 = input().strip().split(' ')\n",
    "# x1, v1, x2, v2 = [int(x1), int(v1), int(x2), int(v2)]\n",
    "\n",
    "x1, v1, x2, v2 = 0, 9, 3, 8\n",
    "\n",
    "result = kangaroo(x1, v1, x2, v2)\n",
    "print(result)"
   ]
  },
  {
   "cell_type": "markdown",
   "metadata": {},
   "source": [
    "### Find corresponding distance ###"
   ]
  },
  {
   "cell_type": "code",
   "execution_count": null,
   "metadata": {
    "collapsed": true
   },
   "outputs": [],
   "source": [
    "## optimal pythonic way!!\n",
    "s, t = 7, 11\n",
    "a, b = 5, 15\n",
    "m, n = 3, 2\n",
    "apple = [-2, 2, 1]\n",
    "orange = [5, -6]\n",
    "\n",
    "print(sum([1 for x in apple if (x + a) >= s and (x + a) <= t]))\n",
    "print(sum([1 for x in orange if (x + b) >= s and (x + b) <= t]))"
   ]
  },
  {
   "cell_type": "code",
   "execution_count": null,
   "metadata": {
    "collapsed": true
   },
   "outputs": [],
   "source": []
  },
  {
   "cell_type": "code",
   "execution_count": null,
   "metadata": {
    "collapsed": true
   },
   "outputs": [],
   "source": [
    "#!/bin/python3\n",
    "\n",
    "import sys\n",
    "\n",
    "# s,t = input().strip().split(' ')\n",
    "# s,t = [int(s),int(t)]\n",
    "# a,b = input().strip().split(' ')\n",
    "# a,b = [int(a),int(b)]\n",
    "# m,n = input().strip().split(' ')\n",
    "# m,n = [int(m),int(n)]\n",
    "# apple = [int(apple_temp) for apple_temp in input().strip().split(' ')]\n",
    "# orange = [int(orange_temp) for orange_temp in input().strip().split(' ')]\n",
    "\n",
    "s, t = 7, 11\n",
    "a, b = 5, 15\n",
    "m, n = 3, 2\n",
    "apple = [-2, 2, 1]\n",
    "orange = [5, -6]\n",
    "\n",
    "n_of_apple = 0\n",
    "n_of_orange = 0\n",
    "for i in apple:\n",
    "    if i >= s-a and i <= t-a:\n",
    "        n_of_apple += 1\n",
    "\n",
    "for j in orange:\n",
    "    if -j >= b-t and -j <= b-s:\n",
    "        n_of_orange += 1\n",
    "\n",
    "print (n_of_apple)\n",
    "print (n_of_orange)"
   ]
  },
  {
   "cell_type": "code",
   "execution_count": null,
   "metadata": {
    "collapsed": true
   },
   "outputs": [],
   "source": []
  },
  {
   "cell_type": "markdown",
   "metadata": {},
   "source": [
    "### curve your grade ###"
   ]
  },
  {
   "cell_type": "code",
   "execution_count": null,
   "metadata": {
    "collapsed": true
   },
   "outputs": [],
   "source": [
    "grades = [23, 68, 87, 34, 40, 39]    \n",
    "\n",
    "#grades = [int(input()) for __ in range(int(input()))]\n",
    "\n",
    "curved = [(g+5 - g%5 if g%5 > 2 and g>37 else g) for g in grades]\n",
    "\n",
    "print (grades)\n",
    "print (curved)"
   ]
  },
  {
   "cell_type": "code",
   "execution_count": null,
   "metadata": {
    "collapsed": true
   },
   "outputs": [],
   "source": []
  },
  {
   "cell_type": "code",
   "execution_count": null,
   "metadata": {
    "collapsed": true
   },
   "outputs": [],
   "source": [
    "#!/bin/python3\n",
    "\n",
    "import sys\n",
    "\n",
    "def solve(grades):\n",
    "    # Complete this function\n",
    "    final = []\n",
    "    for i, value in enumerate(grades):\n",
    "        if value < 38:\n",
    "            final.append(value)\n",
    "        else:\n",
    "            final.append(((value // 5) + 1)*5 if value%5 >= 3 else value)\n",
    "    return final\n",
    "\n",
    "# n = int(input().strip())\n",
    "# grades = []\n",
    "# grades_i = 0\n",
    "# for grades_i in range(n):\n",
    "#    grades_t = int(input().strip())\n",
    "#    grades.append(grades_t)\n",
    "    \n",
    "grades = [23, 68, 87, 34, 40, 39]    \n",
    "    \n",
    "result = solve(grades)\n",
    "print (\"\\n\".join(map(str, result)))"
   ]
  },
  {
   "cell_type": "code",
   "execution_count": null,
   "metadata": {
    "collapsed": true
   },
   "outputs": [],
   "source": [
    "## in-place update\n",
    "#!/bin/python3\n",
    "\n",
    "import sys\n",
    "\n",
    "def solve(grades):\n",
    "    # Complete this function\n",
    "    for i, value in enumerate(grades):\n",
    "        if value < 38:\n",
    "            grades[i] = value\n",
    "        else:\n",
    "            grades[i] = ((value // 5) + 1)*5 if value%5 >= 3 else value\n",
    "    return grades\n",
    "    \n",
    "grades = [23, 68, 87, 34, 40, 39]    \n",
    "    \n",
    "result = solve(grades)\n",
    "print (\"\\n\".join(map(str, result)))"
   ]
  },
  {
   "cell_type": "code",
   "execution_count": null,
   "metadata": {
    "collapsed": true
   },
   "outputs": [],
   "source": []
  },
  {
   "cell_type": "markdown",
   "metadata": {},
   "source": [
    "### AM, PM to 24hr-format ###"
   ]
  },
  {
   "cell_type": "code",
   "execution_count": null,
   "metadata": {
    "collapsed": true
   },
   "outputs": [],
   "source": [
    "# https://docs.python.org/3/library/datetime.html#strftime-strptime-behavior\n",
    "\n",
    "import sys\n",
    "from time import strptime, strftime\n",
    "\n",
    "#s = input().strip()\n",
    "\n",
    "s = '07:02:03PM'\n",
    "\n",
    "print (strftime(\"%H:%M:%S\", strptime(s, \"%I:%M:%S%p\")))"
   ]
  },
  {
   "cell_type": "code",
   "execution_count": null,
   "metadata": {
    "collapsed": true
   },
   "outputs": [],
   "source": []
  },
  {
   "cell_type": "code",
   "execution_count": null,
   "metadata": {
    "collapsed": true
   },
   "outputs": [],
   "source": [
    "s = '01:15:45PM'\n",
    "#print (s[:2])\n",
    "print (s)\n",
    "hour_in_24 = int(s[:2]) if s[-2] == 'A' else int(s[:2])+12 \n",
    "print (str(hour_in_24).rjust(2,'0') + str(s[2:8]))\n"
   ]
  },
  {
   "cell_type": "markdown",
   "metadata": {},
   "source": [
    "### find value and its most occurrence ###"
   ]
  },
  {
   "cell_type": "code",
   "execution_count": null,
   "metadata": {
    "collapsed": true
   },
   "outputs": [],
   "source": [
    "#!/bin/python3\n",
    "import sys\n",
    "from collections import Counter\n",
    "\n",
    "def birthdayCakeCandles(n, ar):\n",
    "    # Complete this function\n",
    "    most_common,num_most_common = Counter(ar).most_common(1)[0]\n",
    "    #print (Counter(ar).most_common(1))\n",
    "    #print (Counter(ar).most_common(1)[0])\n",
    "    #print (most_common,num_most_common)\n",
    "    return num_most_common\n",
    "\n",
    "#n = int(input().strip())\n",
    "#ar = list(map(int, input().strip().split(' ')))\n",
    "\n",
    "ar = [1,2,3,4,5,5,4,3,4,2,1]\n",
    "n = len(ar)\n",
    "\n",
    "result = birthdayCakeCandles(n, ar)\n",
    "print(result)"
   ]
  },
  {
   "cell_type": "code",
   "execution_count": null,
   "metadata": {
    "collapsed": true
   },
   "outputs": [],
   "source": []
  },
  {
   "cell_type": "markdown",
   "metadata": {},
   "source": [
    "##### find max, min, and sum ###"
   ]
  },
  {
   "cell_type": "code",
   "execution_count": null,
   "metadata": {
    "collapsed": true
   },
   "outputs": [],
   "source": [
    "#!/bin/python3\n",
    "\n",
    "import sys\n",
    "\n",
    "arr = list(map(int, input().strip().split(' ')))\n",
    "\n",
    "min_v = arr[0]\n",
    "max_v = arr[0]\n",
    "total_sum = 0\n",
    "for index, value in enumerate(arr):\n",
    "    total_sum += value\n",
    "    if value > max_v:\n",
    "        max_v = value\n",
    "    elif value < min_v:\n",
    "        min_v = value\n",
    "\n",
    "print (total_sum-max_v, total_sum-min_v)"
   ]
  },
  {
   "cell_type": "code",
   "execution_count": null,
   "metadata": {
    "collapsed": true
   },
   "outputs": [],
   "source": []
  },
  {
   "cell_type": "markdown",
   "metadata": {},
   "source": [
    "### print '*'(or space) and '#' ###"
   ]
  },
  {
   "cell_type": "code",
   "execution_count": null,
   "metadata": {
    "collapsed": true
   },
   "outputs": [],
   "source": [
    "## use right adjust\n",
    "n = int(input())\n",
    "for i in range(1,n+1):\n",
    "    print(('#'*i).rjust(n,'*'))"
   ]
  },
  {
   "cell_type": "code",
   "execution_count": null,
   "metadata": {
    "collapsed": true
   },
   "outputs": [],
   "source": []
  },
  {
   "cell_type": "markdown",
   "metadata": {},
   "source": [
    "### find ratio of pos, neg, zero ###"
   ]
  },
  {
   "cell_type": "code",
   "execution_count": null,
   "metadata": {
    "collapsed": true
   },
   "outputs": [],
   "source": [
    "arr = [1, 4, -3, 0, 6, -3, -2, 0, 7]\n",
    "print (arr)\n",
    "print (len(arr))\n",
    "\n",
    "l = [1 if x > 0 else -1 for x in arr if x != 0]\n",
    "print (l)\n",
    "print (len(l))\n",
    "print(\"%.6f\" % float(l.count(1)/n))\n",
    "print(\"%.6f\" % float(l.count(-1)/n))\n",
    "print(\"%.6f\" % float((n-len(l)) /n)) ## or print(\"%.6f\" % float(abs(len(l)-n) /n))"
   ]
  }
 ],
 "metadata": {
  "kernelspec": {
   "display_name": "Python 3",
   "language": "python",
   "name": "python3"
  },
  "language_info": {
   "codemirror_mode": {
    "name": "ipython",
    "version": 3
   },
   "file_extension": ".py",
   "mimetype": "text/x-python",
   "name": "python",
   "nbconvert_exporter": "python",
   "pygments_lexer": "ipython3",
   "version": "3.6.0"
  }
 },
 "nbformat": 4,
 "nbformat_minor": 2
}
