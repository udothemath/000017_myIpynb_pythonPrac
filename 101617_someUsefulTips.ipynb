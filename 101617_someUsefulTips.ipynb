{
 "cells": [
  {
   "cell_type": "code",
   "execution_count": 34,
   "metadata": {},
   "outputs": [
    {
     "data": {
      "text/html": [
       "<div>\n",
       "<style>\n",
       "    .dataframe thead tr:only-child th {\n",
       "        text-align: right;\n",
       "    }\n",
       "\n",
       "    .dataframe thead th {\n",
       "        text-align: left;\n",
       "    }\n",
       "\n",
       "    .dataframe tbody tr th {\n",
       "        vertical-align: top;\n",
       "    }\n",
       "</style>\n",
       "<table border=\"1\" class=\"dataframe\">\n",
       "  <thead>\n",
       "    <tr style=\"text-align: right;\">\n",
       "      <th>attributes</th>\n",
       "      <th>id</th>\n",
       "      <th>city</th>\n",
       "      <th>rank</th>\n",
       "      <th>population</th>\n",
       "    </tr>\n",
       "    <tr>\n",
       "      <th>letter</th>\n",
       "      <th></th>\n",
       "      <th></th>\n",
       "      <th></th>\n",
       "      <th></th>\n",
       "    </tr>\n",
       "  </thead>\n",
       "  <tbody>\n",
       "    <tr>\n",
       "      <th>A</th>\n",
       "      <td>6</td>\n",
       "      <td>New York</td>\n",
       "      <td>39</td>\n",
       "      <td>3M</td>\n",
       "    </tr>\n",
       "    <tr>\n",
       "      <th>B</th>\n",
       "      <td>7</td>\n",
       "      <td>Tainan</td>\n",
       "      <td>1</td>\n",
       "      <td>720K</td>\n",
       "    </tr>\n",
       "    <tr>\n",
       "      <th>C</th>\n",
       "      <td>8</td>\n",
       "      <td>Storrs</td>\n",
       "      <td>20</td>\n",
       "      <td>10K</td>\n",
       "    </tr>\n",
       "    <tr>\n",
       "      <th>D</th>\n",
       "      <td>9</td>\n",
       "      <td>Atlantic City</td>\n",
       "      <td>15</td>\n",
       "      <td>50K</td>\n",
       "    </tr>\n",
       "  </tbody>\n",
       "</table>\n",
       "</div>"
      ],
      "text/plain": [
       "attributes  id           city rank population\n",
       "letter                                       \n",
       "A            6       New York   39         3M\n",
       "B            7         Tainan    1       720K\n",
       "C            8         Storrs   20        10K\n",
       "D            9  Atlantic City   15        50K"
      ]
     },
     "execution_count": 34,
     "metadata": {},
     "output_type": "execute_result"
    }
   ],
   "source": [
    "import pandas as pd\n",
    "\n",
    "raw_data = {\n",
    "    'id' : [6,7,8,9],\n",
    "    'city' : ['New York', 'Tainan', 'Storrs', 'Atlantic City'],\n",
    "    'rank' : ['39', '1', '20', '15'],\n",
    "    'population' : ['3M', '720K', '10K', '50K']\n",
    "}\n",
    "\n",
    "df_city_info = pd.DataFrame(raw_data, \n",
    "                            index = pd.Index(['A', 'B', 'C', 'D'], name='letter'),\n",
    "                            columns = pd.Index(['id', 'city', 'rank', 'population'], name='attributes'))\n",
    "\n",
    "df_city_info"
   ]
  },
  {
   "cell_type": "code",
   "execution_count": 41,
   "metadata": {},
   "outputs": [],
   "source": [
    "df_city_info_stack = df_city_info.stack(0)"
   ]
  },
  {
   "cell_type": "code",
   "execution_count": 42,
   "metadata": {},
   "outputs": [
    {
     "data": {
      "text/html": [
       "<div>\n",
       "<style>\n",
       "    .dataframe thead tr:only-child th {\n",
       "        text-align: right;\n",
       "    }\n",
       "\n",
       "    .dataframe thead th {\n",
       "        text-align: left;\n",
       "    }\n",
       "\n",
       "    .dataframe tbody tr th {\n",
       "        vertical-align: top;\n",
       "    }\n",
       "</style>\n",
       "<table border=\"1\" class=\"dataframe\">\n",
       "  <thead>\n",
       "    <tr style=\"text-align: right;\">\n",
       "      <th>attributes</th>\n",
       "      <th>id</th>\n",
       "      <th>city</th>\n",
       "      <th>rank</th>\n",
       "      <th>population</th>\n",
       "    </tr>\n",
       "    <tr>\n",
       "      <th>letter</th>\n",
       "      <th></th>\n",
       "      <th></th>\n",
       "      <th></th>\n",
       "      <th></th>\n",
       "    </tr>\n",
       "  </thead>\n",
       "  <tbody>\n",
       "    <tr>\n",
       "      <th>A</th>\n",
       "      <td>6</td>\n",
       "      <td>New York</td>\n",
       "      <td>39</td>\n",
       "      <td>3M</td>\n",
       "    </tr>\n",
       "    <tr>\n",
       "      <th>B</th>\n",
       "      <td>7</td>\n",
       "      <td>Tainan</td>\n",
       "      <td>1</td>\n",
       "      <td>720K</td>\n",
       "    </tr>\n",
       "    <tr>\n",
       "      <th>C</th>\n",
       "      <td>8</td>\n",
       "      <td>Storrs</td>\n",
       "      <td>20</td>\n",
       "      <td>10K</td>\n",
       "    </tr>\n",
       "    <tr>\n",
       "      <th>D</th>\n",
       "      <td>9</td>\n",
       "      <td>Atlantic City</td>\n",
       "      <td>15</td>\n",
       "      <td>50K</td>\n",
       "    </tr>\n",
       "  </tbody>\n",
       "</table>\n",
       "</div>"
      ],
      "text/plain": [
       "attributes id           city rank population\n",
       "letter                                      \n",
       "A           6       New York   39         3M\n",
       "B           7         Tainan    1       720K\n",
       "C           8         Storrs   20        10K\n",
       "D           9  Atlantic City   15        50K"
      ]
     },
     "execution_count": 42,
     "metadata": {},
     "output_type": "execute_result"
    }
   ],
   "source": [
    "df_city_info_stack.unstack()"
   ]
  },
  {
   "cell_type": "code",
   "execution_count": 38,
   "metadata": {},
   "outputs": [
    {
     "data": {
      "text/html": [
       "<div>\n",
       "<style>\n",
       "    .dataframe thead tr:only-child th {\n",
       "        text-align: right;\n",
       "    }\n",
       "\n",
       "    .dataframe thead th {\n",
       "        text-align: left;\n",
       "    }\n",
       "\n",
       "    .dataframe tbody tr th {\n",
       "        vertical-align: top;\n",
       "    }\n",
       "</style>\n",
       "<table border=\"1\" class=\"dataframe\">\n",
       "  <thead>\n",
       "    <tr style=\"text-align: right;\">\n",
       "      <th>letter</th>\n",
       "      <th>A</th>\n",
       "      <th>B</th>\n",
       "      <th>C</th>\n",
       "      <th>D</th>\n",
       "    </tr>\n",
       "    <tr>\n",
       "      <th>attributes</th>\n",
       "      <th></th>\n",
       "      <th></th>\n",
       "      <th></th>\n",
       "      <th></th>\n",
       "    </tr>\n",
       "  </thead>\n",
       "  <tbody>\n",
       "    <tr>\n",
       "      <th>id</th>\n",
       "      <td>6</td>\n",
       "      <td>7</td>\n",
       "      <td>8</td>\n",
       "      <td>9</td>\n",
       "    </tr>\n",
       "    <tr>\n",
       "      <th>city</th>\n",
       "      <td>New York</td>\n",
       "      <td>Tainan</td>\n",
       "      <td>Storrs</td>\n",
       "      <td>Atlantic City</td>\n",
       "    </tr>\n",
       "    <tr>\n",
       "      <th>rank</th>\n",
       "      <td>39</td>\n",
       "      <td>1</td>\n",
       "      <td>20</td>\n",
       "      <td>15</td>\n",
       "    </tr>\n",
       "    <tr>\n",
       "      <th>population</th>\n",
       "      <td>3M</td>\n",
       "      <td>720K</td>\n",
       "      <td>10K</td>\n",
       "      <td>50K</td>\n",
       "    </tr>\n",
       "  </tbody>\n",
       "</table>\n",
       "</div>"
      ],
      "text/plain": [
       "letter             A       B       C              D\n",
       "attributes                                         \n",
       "id                 6       7       8              9\n",
       "city        New York  Tainan  Storrs  Atlantic City\n",
       "rank              39       1      20             15\n",
       "population        3M    720K     10K            50K"
      ]
     },
     "execution_count": 38,
     "metadata": {},
     "output_type": "execute_result"
    }
   ],
   "source": [
    "df_city_info_stack.unstack(0)"
   ]
  },
  {
   "cell_type": "code",
   "execution_count": 39,
   "metadata": {},
   "outputs": [
    {
     "data": {
      "text/html": [
       "<div>\n",
       "<style>\n",
       "    .dataframe thead tr:only-child th {\n",
       "        text-align: right;\n",
       "    }\n",
       "\n",
       "    .dataframe thead th {\n",
       "        text-align: left;\n",
       "    }\n",
       "\n",
       "    .dataframe tbody tr th {\n",
       "        vertical-align: top;\n",
       "    }\n",
       "</style>\n",
       "<table border=\"1\" class=\"dataframe\">\n",
       "  <thead>\n",
       "    <tr style=\"text-align: right;\">\n",
       "      <th>attributes</th>\n",
       "      <th>id</th>\n",
       "      <th>city</th>\n",
       "      <th>rank</th>\n",
       "      <th>population</th>\n",
       "    </tr>\n",
       "    <tr>\n",
       "      <th>letter</th>\n",
       "      <th></th>\n",
       "      <th></th>\n",
       "      <th></th>\n",
       "      <th></th>\n",
       "    </tr>\n",
       "  </thead>\n",
       "  <tbody>\n",
       "    <tr>\n",
       "      <th>A</th>\n",
       "      <td>6</td>\n",
       "      <td>New York</td>\n",
       "      <td>39</td>\n",
       "      <td>3M</td>\n",
       "    </tr>\n",
       "    <tr>\n",
       "      <th>B</th>\n",
       "      <td>7</td>\n",
       "      <td>Tainan</td>\n",
       "      <td>1</td>\n",
       "      <td>720K</td>\n",
       "    </tr>\n",
       "    <tr>\n",
       "      <th>C</th>\n",
       "      <td>8</td>\n",
       "      <td>Storrs</td>\n",
       "      <td>20</td>\n",
       "      <td>10K</td>\n",
       "    </tr>\n",
       "    <tr>\n",
       "      <th>D</th>\n",
       "      <td>9</td>\n",
       "      <td>Atlantic City</td>\n",
       "      <td>15</td>\n",
       "      <td>50K</td>\n",
       "    </tr>\n",
       "  </tbody>\n",
       "</table>\n",
       "</div>"
      ],
      "text/plain": [
       "attributes id           city rank population\n",
       "letter                                      \n",
       "A           6       New York   39         3M\n",
       "B           7         Tainan    1       720K\n",
       "C           8         Storrs   20        10K\n",
       "D           9  Atlantic City   15        50K"
      ]
     },
     "execution_count": 39,
     "metadata": {},
     "output_type": "execute_result"
    }
   ],
   "source": [
    "df_city_info_stack.unstack(1)"
   ]
  },
  {
   "cell_type": "code",
   "execution_count": null,
   "metadata": {
    "collapsed": true
   },
   "outputs": [],
   "source": []
  },
  {
   "cell_type": "markdown",
   "metadata": {},
   "source": [
    "## Map ##\n",
    "http://www.bogotobogo.com/python/python_fncs_map_filter_reduce.php"
   ]
  },
  {
   "cell_type": "code",
   "execution_count": 22,
   "metadata": {},
   "outputs": [
    {
     "data": {
      "text/plain": [
       "[1, 4, 9]"
      ]
     },
     "execution_count": 22,
     "metadata": {},
     "output_type": "execute_result"
    }
   ],
   "source": [
    "list(map((lambda x: x **2), [1, 2, 3]))"
   ]
  },
  {
   "cell_type": "code",
   "execution_count": 23,
   "metadata": {},
   "outputs": [
    {
     "data": {
      "text/plain": [
       "[1024, 177147, 16777216]"
      ]
     },
     "execution_count": 23,
     "metadata": {},
     "output_type": "execute_result"
    }
   ],
   "source": [
    "list(map(pow, [2,3,4], [10, 11, 12]))"
   ]
  },
  {
   "cell_type": "markdown",
   "metadata": {},
   "source": [
    "## Filter ##"
   ]
  },
  {
   "cell_type": "code",
   "execution_count": 24,
   "metadata": {},
   "outputs": [
    {
     "data": {
      "text/plain": [
       "[-5, -4, -3, -2, -1]"
      ]
     },
     "execution_count": 24,
     "metadata": {},
     "output_type": "execute_result"
    }
   ],
   "source": [
    "list( filter((lambda x: x < 0), range(-5,5)))"
   ]
  },
  {
   "cell_type": "code",
   "execution_count": 26,
   "metadata": {},
   "outputs": [
    {
     "name": "stdout",
     "output_type": "stream",
     "text": [
      "[2, 3, 5, 7]\n"
     ]
    }
   ],
   "source": [
    "a = [1,2,3,5,7,9]\n",
    "b = [2,3,5,6,7,8]\n",
    "print (list(filter(lambda x: x in a, b)))  # prints out [2, 3, 5, 7]"
   ]
  },
  {
   "cell_type": "markdown",
   "metadata": {},
   "source": [
    "## Reduce ##"
   ]
  },
  {
   "cell_type": "code",
   "execution_count": 27,
   "metadata": {},
   "outputs": [
    {
     "data": {
      "text/plain": [
       "'Testing shows the presence, not the absence of bugs'"
      ]
     },
     "execution_count": 27,
     "metadata": {},
     "output_type": "execute_result"
    }
   ],
   "source": [
    "import functools\n",
    "L = ['Testing ', 'shows ', 'the ', 'presence', ', ','not ', 'the ', 'absence ', 'of ', 'bugs']\n",
    "functools.reduce( (lambda x,y:x+y), L)"
   ]
  },
  {
   "cell_type": "code",
   "execution_count": 28,
   "metadata": {},
   "outputs": [
    {
     "data": {
      "text/plain": [
       "'Testing shows the presence, not the absence of bugs'"
      ]
     },
     "execution_count": 28,
     "metadata": {},
     "output_type": "execute_result"
    }
   ],
   "source": [
    "''.join(L)"
   ]
  },
  {
   "cell_type": "code",
   "execution_count": 32,
   "metadata": {},
   "outputs": [
    {
     "data": {
      "text/plain": [
       "'Testing shows the presence, not the absence of bugs'"
      ]
     },
     "execution_count": 32,
     "metadata": {},
     "output_type": "execute_result"
    }
   ],
   "source": [
    "import functools, operator\n",
    "functools.reduce(operator.add, L)"
   ]
  },
  {
   "cell_type": "markdown",
   "metadata": {},
   "source": [
    "## Assign dataframe ##"
   ]
  },
  {
   "cell_type": "code",
   "execution_count": 3,
   "metadata": {},
   "outputs": [
    {
     "data": {
      "text/html": [
       "<div>\n",
       "<style>\n",
       "    .dataframe thead tr:only-child th {\n",
       "        text-align: right;\n",
       "    }\n",
       "\n",
       "    .dataframe thead th {\n",
       "        text-align: left;\n",
       "    }\n",
       "\n",
       "    .dataframe tbody tr th {\n",
       "        vertical-align: top;\n",
       "    }\n",
       "</style>\n",
       "<table border=\"1\" class=\"dataframe\">\n",
       "  <thead>\n",
       "    <tr style=\"text-align: right;\">\n",
       "      <th></th>\n",
       "      <th>A</th>\n",
       "      <th>B</th>\n",
       "      <th>C</th>\n",
       "    </tr>\n",
       "  </thead>\n",
       "  <tbody>\n",
       "    <tr>\n",
       "      <th>0</th>\n",
       "      <td>0.801233</td>\n",
       "      <td>-0.012916</td>\n",
       "      <td>1.018676</td>\n",
       "    </tr>\n",
       "    <tr>\n",
       "      <th>1</th>\n",
       "      <td>-0.013520</td>\n",
       "      <td>-1.801691</td>\n",
       "      <td>0.171021</td>\n",
       "    </tr>\n",
       "    <tr>\n",
       "      <th>2</th>\n",
       "      <td>-0.190176</td>\n",
       "      <td>-0.301064</td>\n",
       "      <td>-0.570777</td>\n",
       "    </tr>\n",
       "    <tr>\n",
       "      <th>3</th>\n",
       "      <td>NaN</td>\n",
       "      <td>0.557317</td>\n",
       "      <td>-0.741845</td>\n",
       "    </tr>\n",
       "    <tr>\n",
       "      <th>4</th>\n",
       "      <td>NaN</td>\n",
       "      <td>NaN</td>\n",
       "      <td>0.636996</td>\n",
       "    </tr>\n",
       "    <tr>\n",
       "      <th>5</th>\n",
       "      <td>0.030736</td>\n",
       "      <td>NaN</td>\n",
       "      <td>NaN</td>\n",
       "    </tr>\n",
       "    <tr>\n",
       "      <th>6</th>\n",
       "      <td>-0.400781</td>\n",
       "      <td>-0.734255</td>\n",
       "      <td>NaN</td>\n",
       "    </tr>\n",
       "    <tr>\n",
       "      <th>7</th>\n",
       "      <td>-1.028341</td>\n",
       "      <td>0.704548</td>\n",
       "      <td>NaN</td>\n",
       "    </tr>\n",
       "    <tr>\n",
       "      <th>8</th>\n",
       "      <td>0.659738</td>\n",
       "      <td>1.352876</td>\n",
       "      <td>-0.496474</td>\n",
       "    </tr>\n",
       "    <tr>\n",
       "      <th>9</th>\n",
       "      <td>0.883353</td>\n",
       "      <td>0.697980</td>\n",
       "      <td>0.066969</td>\n",
       "    </tr>\n",
       "  </tbody>\n",
       "</table>\n",
       "</div>"
      ],
      "text/plain": [
       "          A         B         C\n",
       "0  0.801233 -0.012916  1.018676\n",
       "1 -0.013520 -1.801691  0.171021\n",
       "2 -0.190176 -0.301064 -0.570777\n",
       "3       NaN  0.557317 -0.741845\n",
       "4       NaN       NaN  0.636996\n",
       "5  0.030736       NaN       NaN\n",
       "6 -0.400781 -0.734255       NaN\n",
       "7 -1.028341  0.704548       NaN\n",
       "8  0.659738  1.352876 -0.496474\n",
       "9  0.883353  0.697980  0.066969"
      ]
     },
     "execution_count": 3,
     "metadata": {},
     "output_type": "execute_result"
    }
   ],
   "source": [
    "import numpy as np\n",
    "import pandas as pd\n",
    "dff = pd.DataFrame(np.random.randn(10,3), columns=list('ABC'))\n",
    "dff.iloc[3:5,0] = np.nan\n",
    "dff.iloc[4:6,1] = np.nan\n",
    "dff.iloc[5:8,2] = np.nan\n",
    "\n",
    "dff"
   ]
  },
  {
   "cell_type": "code",
   "execution_count": 5,
   "metadata": {},
   "outputs": [
    {
     "data": {
      "text/plain": [
       "True"
      ]
     },
     "execution_count": 5,
     "metadata": {},
     "output_type": "execute_result"
    }
   ],
   "source": [
    "dff.A.isnull().any()"
   ]
  },
  {
   "cell_type": "code",
   "execution_count": 8,
   "metadata": {},
   "outputs": [
    {
     "name": "stdout",
     "output_type": "stream",
     "text": [
      "<class 'pandas.core.frame.DataFrame'>\n",
      "RangeIndex: 10 entries, 0 to 9\n",
      "Data columns (total 3 columns):\n",
      "A    8 non-null float64\n",
      "B    8 non-null float64\n",
      "C    7 non-null float64\n",
      "dtypes: float64(3)\n",
      "memory usage: 320.0 bytes\n"
     ]
    }
   ],
   "source": [
    "dff.info()"
   ]
  },
  {
   "cell_type": "markdown",
   "metadata": {},
   "source": [
    "## Merge example ##"
   ]
  },
  {
   "cell_type": "code",
   "execution_count": 9,
   "metadata": {
    "collapsed": true
   },
   "outputs": [],
   "source": [
    "import pandas as pd\n",
    "left = pd.DataFrame({'key': ['K0', 'K1', 'K2', 'K3'],\n",
    "                       'A': ['A0', 'A1', 'A2', 'A3'],\n",
    "                       'B': ['B0', 'B1', 'B2', 'B3']})\n",
    "\n",
    "left_more = pd.DataFrame({'key': ['K0', 'K1', 'K2', 'K3', 'K4', 'K0'],\n",
    "                       'A': ['A0', 'A1', 'A2', 'A3', 'A4', 'A0'],\n",
    "                       'B': ['B0', 'B1', 'B2', 'B3', 'B4', 'B0']})\n",
    "\n",
    "\n",
    "right = pd.DataFrame({'key': ['K0', 'K1', 'K2', 'K3'],  \n",
    "                      'C': ['C0', 'C1', 'C2', 'C3'],\n",
    "                      'D': ['D0', 'D1', 'D2', 'D3']})\n",
    " "
   ]
  },
  {
   "cell_type": "code",
   "execution_count": 10,
   "metadata": {},
   "outputs": [
    {
     "name": "stdout",
     "output_type": "stream",
     "text": [
      "    A   B key\n",
      "0  A0  B0  K0\n",
      "1  A1  B1  K1\n",
      "2  A2  B2  K2\n",
      "3  A3  B3  K3\n"
     ]
    }
   ],
   "source": [
    "print(left)"
   ]
  },
  {
   "cell_type": "code",
   "execution_count": 14,
   "metadata": {},
   "outputs": [
    {
     "data": {
      "text/html": [
       "<div>\n",
       "<style>\n",
       "    .dataframe thead tr:only-child th {\n",
       "        text-align: right;\n",
       "    }\n",
       "\n",
       "    .dataframe thead th {\n",
       "        text-align: left;\n",
       "    }\n",
       "\n",
       "    .dataframe tbody tr th {\n",
       "        vertical-align: top;\n",
       "    }\n",
       "</style>\n",
       "<table border=\"1\" class=\"dataframe\">\n",
       "  <thead>\n",
       "    <tr style=\"text-align: right;\">\n",
       "      <th></th>\n",
       "      <th>A</th>\n",
       "      <th>B</th>\n",
       "      <th>key</th>\n",
       "    </tr>\n",
       "  </thead>\n",
       "  <tbody>\n",
       "    <tr>\n",
       "      <th>1</th>\n",
       "      <td>A1</td>\n",
       "      <td>B1</td>\n",
       "      <td>K1</td>\n",
       "    </tr>\n",
       "  </tbody>\n",
       "</table>\n",
       "</div>"
      ],
      "text/plain": [
       "    A   B key\n",
       "1  A1  B1  K1"
      ]
     },
     "execution_count": 14,
     "metadata": {},
     "output_type": "execute_result"
    }
   ],
   "source": [
    "left[left['key'] == 'K1']"
   ]
  },
  {
   "cell_type": "code",
   "execution_count": null,
   "metadata": {
    "collapsed": true
   },
   "outputs": [],
   "source": []
  },
  {
   "cell_type": "code",
   "execution_count": null,
   "metadata": {
    "collapsed": true
   },
   "outputs": [],
   "source": []
  },
  {
   "cell_type": "code",
   "execution_count": 2,
   "metadata": {},
   "outputs": [
    {
     "name": "stdout",
     "output_type": "stream",
     "text": [
      "False    5\n",
      "True     1\n",
      "dtype: int64\n",
      "0    False\n",
      "1    False\n",
      "2    False\n",
      "3    False\n",
      "4    False\n",
      "5     True\n",
      "dtype: bool\n",
      "0    False\n",
      "1    False\n",
      "2    False\n",
      "3    False\n",
      "4    False\n",
      "5     True\n",
      "Name: A, dtype: bool\n",
      "[False False False False False  True]\n",
      "    A   B key\n",
      "5  A0  B0  K0\n",
      "<class 'pandas.core.series.Series'>\n",
      "    A   B key\n",
      "0  A0  B0  K0\n",
      "1  A1  B1  K1\n",
      "2  A2  B2  K2\n",
      "3  A3  B3  K3\n",
      " \n",
      "    A   B key\n",
      "0  A0  B0  K0\n",
      "1  A1  B1  K1\n",
      "2  A2  B2  K2\n",
      "3  A3  B3  K3\n",
      "4  A4  B4  K4\n",
      "5  A0  B0  K0\n",
      " \n",
      "    C   D key\n",
      "0  C0  D0  K0\n",
      "1  C1  D1  K1\n",
      "2  C2  D2  K2\n",
      "3  C3  D3  K3\n",
      "    A key   C\n",
      "0  A0  K0  C0\n",
      "1  A0  K0  C0\n",
      "2  A1  K1  C1\n",
      "3  A2  K2  C2\n",
      "4  A3  K3  C3\n",
      "    A key    C\n",
      "0  A0  K0   C0\n",
      "1  A1  K1   C1\n",
      "2  A2  K2   C2\n",
      "3  A3  K3   C3\n",
      "4  A4  K4  NaN\n",
      "5  A0  K0   C0\n",
      "    A key_x key_y\n",
      "0  A0    K0    K0\n",
      "1  A0    K0    K0\n",
      "2  A1    K1    K1\n",
      "3  A2    K2    K2\n",
      "4  A3    K3    K3\n",
      "    A key_x key_y\n",
      "0  A0    K0    K0\n",
      "1  A0    K0    K0\n",
      "2  A1    K1    K1\n",
      "3  A2    K2    K2\n",
      "4  A3    K3    K3\n",
      "    A key_x key_y\n",
      "0  A0    K0    K0\n",
      "1  A0    K0    K0\n",
      "2  A1    K1    K1\n",
      "3  A2    K2    K2\n",
      "4  A3    K3    K3\n",
      "5  A4   NaN    K4\n"
     ]
    }
   ],
   "source": [
    "    \n",
    "## DataFrame.duplicated(subset=None, keep='first')[source]\n",
    "\n",
    "left_more_dup_in_A = left_more.duplicated()\n",
    "\n",
    "print(left_more_dup_in_A.value_counts())\n",
    "\n",
    "print(left_more.duplicated())\n",
    "print(left_more['A'].duplicated())\n",
    "print(left_more_dup_in_A.values)\n",
    "\n",
    "print(left_more[left_more_dup_in_A.values])\n",
    "print(type(left_more_dup_in_A))\n",
    "\n",
    "print(left)\n",
    "print(\" \")\n",
    "print(left_more)\n",
    "print(\" \")\n",
    "print(right)\n",
    "\n",
    "mix_on = pd.merge(left_more[['A', 'key']], right[['C', 'key']], on='key')\n",
    "\n",
    "print(mix_on)\n",
    "\n",
    "mix_left = pd.merge(left_more[['A', 'key']], right[['C', 'key']], how='left', on='key')\n",
    "\n",
    "print(mix_left)\n",
    "\n",
    "left_and_more_left = pd.merge(left[['A', 'key']], left_more[['A', 'key']], how='left', on='A')\n",
    "print(left_and_more_left)\n",
    "\n",
    "\n",
    "left_and_more_inner = pd.merge(left[['A', 'key']], left_more[['A', 'key']], how='inner', on='A')\n",
    "print(left_and_more_inner)\n",
    "\n",
    "\n",
    "left_and_more_right = pd.merge(left[['A', 'key']], left_more[['A', 'key']], how='right', on='A')\n",
    "print(left_and_more_right)"
   ]
  },
  {
   "cell_type": "markdown",
   "metadata": {},
   "source": [
    "| code | label |\n",
    "| :--: |:--|\n",
    "|1|Fatal|\n",
    "|2|Serious|\n",
    "|3|Slight|"
   ]
  },
  {
   "cell_type": "code",
   "execution_count": null,
   "metadata": {
    "collapsed": true
   },
   "outputs": [],
   "source": []
  },
  {
   "cell_type": "code",
   "execution_count": 105,
   "metadata": {},
   "outputs": [
    {
     "name": "stdout",
     "output_type": "stream",
     "text": [
      "Automatically created module for IPython interactive environment\n"
     ]
    }
   ],
   "source": [
    "print(__doc__)\n",
    "\n",
    "from time import time\n",
    "\n",
    "import matplotlib.pyplot as plt\n",
    "from mpl_toolkits.mplot3d import Axes3D\n",
    "from matplotlib.ticker import NullFormatter\n",
    "\n",
    "from sklearn import manifold, datasets\n",
    "\n",
    "# Next line to silence pyflakes. This import is needed.\n",
    "Axes3D\n",
    "\n",
    "n_points = 1000\n",
    "X, color = datasets.samples_generator.make_s_curve(n_points, random_state=0)\n",
    "n_neighbors = 10\n",
    "n_components = 2"
   ]
  },
  {
   "cell_type": "code",
   "execution_count": 106,
   "metadata": {},
   "outputs": [
    {
     "name": "stdout",
     "output_type": "stream",
     "text": [
      "(1000, 3)\n",
      "(1000,)\n"
     ]
    }
   ],
   "source": [
    "print(X.shape)\n",
    "print(color.shape)"
   ]
  },
  {
   "cell_type": "code",
   "execution_count": 107,
   "metadata": {
    "collapsed": true
   },
   "outputs": [],
   "source": [
    "fig = plt.figure(figsize=(15, 8))\n",
    "plt.suptitle(\"Manifold Learning with {} points and {} neighbors.\"\\\n",
    "             .format(n_points, n_neighbors), fontsize=14)\n",
    "\n",
    "ax = fig.add_subplot(251, projection='3d')\n",
    "ax.scatter(X[:, 0], X[:, 1], X[:, 2], c=color, cmap=plt.cm.Spectral)\n",
    "ax.view_init(4, -72)"
   ]
  },
  {
   "cell_type": "code",
   "execution_count": 108,
   "metadata": {},
   "outputs": [
    {
     "name": "stdout",
     "output_type": "stream",
     "text": [
      "standard: 0.3 sec\n",
      "ltsa: 0.57 sec\n",
      "hessian: 0.74 sec\n",
      "modified: 0.66 sec\n",
      "Isomap: 0.64 sec\n",
      "MDS: 4.5 sec\n",
      "SpectralEmbedding: 0.29 sec\n",
      "t-SNE: 33 sec\n"
     ]
    },
    {
     "data": {
      "text/plain": [
       "<matplotlib.figure.Figure at 0x11d275160>"
      ]
     },
     "metadata": {},
     "output_type": "display_data"
    },
    {
     "data": {
      "image/png": "[encoded data removed]",
      "text/plain": [
       "<matplotlib.figure.Figure at 0x119dfa400>"
      ]
     },
     "metadata": {},
     "output_type": "display_data"
    }
   ],
   "source": [
    "methods = ['standard', 'ltsa', 'hessian', 'modified']\n",
    "labels = ['LLE', 'LTSA', 'Hessian LLE', 'Modified LLE']\n",
    "plt.clf()\n",
    "for i, method in enumerate(methods):\n",
    "    t0 = time()\n",
    "    Y = manifold.LocallyLinearEmbedding(n_neighbors, n_components, \\\n",
    "                                       eigen_solver='auto',\\\n",
    "                                       method=method).fit_transform(X)\n",
    "    t1 = time()\n",
    "    print(\"{:s}: {:.2g} sec\".format(methods[i], t1 - t0))\n",
    "    \n",
    "    ax = fig.add_subplot(252 + i)\n",
    "    plt.scatter(Y[:, 0], Y[:, 1], c=color, cmap=plt.cm.Spectral)\n",
    "    plt.title(\"{:s} ({:.2g} sec)\".format(labels[i], t1- t0))\n",
    "    ax.xaxis.set_major_formatter(NullFormatter())\n",
    "    ax.yaxis.set_major_formatter(NullFormatter())\n",
    "    plt.axis('tight')\n",
    "\n",
    "t0 = time()\n",
    "Y = manifold.Isomap(n_neighbors, n_components).fit_transform(X)\n",
    "t1 = time()\n",
    "print(\"Isomap: %.2g sec\" % (t1 - t0))\n",
    "ax = fig.add_subplot(257)\n",
    "plt.scatter(Y[:, 0], Y[:, 1], c=color, cmap=plt.cm.Spectral)\n",
    "plt.title(\"Isomap (%.2g sec)\" % (t1 - t0))\n",
    "ax.xaxis.set_major_formatter(NullFormatter())\n",
    "ax.yaxis.set_major_formatter(NullFormatter())\n",
    "plt.axis('tight')\n",
    "    \n",
    "t0 = time()\n",
    "Y = manifold.MDS(n_components, max_iter=100, n_init=1).fit_transform(X)\n",
    "t1 = time()\n",
    "print(\"MDS: %.2g sec\" % (t1 - t0))\n",
    "ax = fig.add_subplot(258)\n",
    "plt.scatter(Y[:, 0], Y[:, 1], c=color, cmap=plt.cm.Spectral)\n",
    "plt.title(\"MDS (%.2g sec)\" % (t1 - t0))\n",
    "ax.xaxis.set_major_formatter(NullFormatter())\n",
    "ax.yaxis.set_major_formatter(NullFormatter())\n",
    "plt.axis('tight')\n",
    "\n",
    "t0 = time()\n",
    "Y = manifold.SpectralEmbedding(n_components=n_components,\n",
    "                                n_neighbors=n_neighbors).fit_transform(X)\n",
    "t1 = time()\n",
    "print(\"SpectralEmbedding: %.2g sec\" % (t1 - t0))\n",
    "ax = fig.add_subplot(259)\n",
    "plt.scatter(Y[:, 0], Y[:, 1], c=color, cmap=plt.cm.Spectral)\n",
    "plt.title(\"SpectralEmbedding (%.2g sec)\" % (t1 - t0))\n",
    "ax.xaxis.set_major_formatter(NullFormatter())\n",
    "ax.yaxis.set_major_formatter(NullFormatter())\n",
    "plt.axis('tight')\n",
    "\n",
    "t0 = time()\n",
    "Y = manifold.TSNE(n_components=n_components, init='pca', random_state=0).fit_transform(X)\n",
    "t1 = time()\n",
    "print(\"t-SNE: %.2g sec\" % (t1 - t0))\n",
    "ax = fig.add_subplot(2, 5, 10)\n",
    "plt.scatter(Y[:, 0], Y[:, 1], c=color, cmap=plt.cm.Spectral)\n",
    "plt.title(\"t-SNE (%.2g sec)\" % (t1 - t0))\n",
    "ax.xaxis.set_major_formatter(NullFormatter())\n",
    "ax.yaxis.set_major_formatter(NullFormatter())\n",
    "plt.axis('tight')\n",
    "\n",
    "    \n",
    "plt.show()\n",
    "plt.gcf().clear()"
   ]
  },
  {
   "cell_type": "code",
   "execution_count": null,
   "metadata": {
    "collapsed": true
   },
   "outputs": [],
   "source": []
  },
  {
   "cell_type": "code",
   "execution_count": null,
   "metadata": {
    "collapsed": true
   },
   "outputs": [],
   "source": []
  },
  {
   "cell_type": "code",
   "execution_count": null,
   "metadata": {
    "collapsed": true
   },
   "outputs": [],
   "source": []
  },
  {
   "cell_type": "markdown",
   "metadata": {},
   "source": [
    "### Remove the N/A data entry ###"
   ]
  },
  {
   "cell_type": "code",
   "execution_count": 35,
   "metadata": {
    "collapsed": true
   },
   "outputs": [],
   "source": [
    "## http://scikit-learn.org/stable/auto_examples/manifold/plot_compare_methods.html#sphx-glr-auto-examples-manifold-plot-compare-methods-py\n",
    "print(__doc__)\n",
    "\n",
    "from time import time\n",
    "import pandas as pd\n",
    "import numpy as np\n",
    "from IPython.display import display\n",
    "from sklearn.datasets import load_iris\n",
    "\n",
    "import matplotlib.pyplot as plt\n",
    "from mpl_toolkits.mplot3d import Axes3D\n",
    "from matplotlib.ticker import NullFormatter\n",
    "from sklearn import manifold, datasets\n",
    "\n",
    "iris_data = load_iris()\n",
    "\n",
    "iris_x = iris_data.data\n",
    "iris_y = iris_data.target\n",
    "\n",
    "#print(iris_x)\n",
    "# df1 = pd.DataFrame({'A': [np.nan, '9', '23', '15'],\n",
    "#                     'B': ['22', '-4', '0', '-4'],\n",
    "#                     'C': ['90', '33', 0, '0'],\n",
    "#                     'D': ['994', np.nan, '5', '432']},\n",
    "#                     index=[0, 1, 2, 3])\n",
    "# print(\"Watch out the difference between integer and string\")\n",
    "# print(df1) "
   ]
  },
  {
   "cell_type": "code",
   "execution_count": 24,
   "metadata": {},
   "outputs": [
    {
     "name": "stdout",
     "output_type": "stream",
     "text": [
      "[[ 5.1  3.5  1.4  0.2]\n",
      " [ 4.9  3.   1.4  0.2]\n",
      " [ 4.7  3.2  1.3  0.2]]\n"
     ]
    }
   ],
   "source": [
    "print(iris_x[:3])"
   ]
  },
  {
   "cell_type": "code",
   "execution_count": 26,
   "metadata": {},
   "outputs": [
    {
     "name": "stdout",
     "output_type": "stream",
     "text": [
      "['DESCR', 'data', 'feature_names', 'target', 'target_names']\n",
      "['sepal length (cm)', 'sepal width (cm)', 'petal length (cm)', 'petal width (cm)']\n",
      "['setosa' 'versicolor' 'virginica']\n"
     ]
    }
   ],
   "source": [
    "print(dir(iris_data))\n",
    "print(iris_data.feature_names)\n",
    "print(iris_data.target_names)\n"
   ]
  },
  {
   "cell_type": "code",
   "execution_count": 28,
   "metadata": {},
   "outputs": [
    {
     "data": {
      "text/html": [
       "<div>\n",
       "<style>\n",
       "    .dataframe thead tr:only-child th {\n",
       "        text-align: right;\n",
       "    }\n",
       "\n",
       "    .dataframe thead th {\n",
       "        text-align: left;\n",
       "    }\n",
       "\n",
       "    .dataframe tbody tr th {\n",
       "        vertical-align: top;\n",
       "    }\n",
       "</style>\n",
       "<table border=\"1\" class=\"dataframe\">\n",
       "  <thead>\n",
       "    <tr style=\"text-align: right;\">\n",
       "      <th></th>\n",
       "      <th>sepal length (cm)</th>\n",
       "      <th>sepal width (cm)</th>\n",
       "      <th>petal length (cm)</th>\n",
       "      <th>petal width (cm)</th>\n",
       "    </tr>\n",
       "  </thead>\n",
       "  <tbody>\n",
       "    <tr>\n",
       "      <th>0</th>\n",
       "      <td>5.1</td>\n",
       "      <td>3.5</td>\n",
       "      <td>1.4</td>\n",
       "      <td>0.2</td>\n",
       "    </tr>\n",
       "    <tr>\n",
       "      <th>1</th>\n",
       "      <td>4.9</td>\n",
       "      <td>3.0</td>\n",
       "      <td>1.4</td>\n",
       "      <td>0.2</td>\n",
       "    </tr>\n",
       "    <tr>\n",
       "      <th>2</th>\n",
       "      <td>4.7</td>\n",
       "      <td>3.2</td>\n",
       "      <td>1.3</td>\n",
       "      <td>0.2</td>\n",
       "    </tr>\n",
       "  </tbody>\n",
       "</table>\n",
       "</div>"
      ],
      "text/plain": [
       "   sepal length (cm)  sepal width (cm)  petal length (cm)  petal width (cm)\n",
       "0                5.1               3.5                1.4               0.2\n",
       "1                4.9               3.0                1.4               0.2\n",
       "2                4.7               3.2                1.3               0.2"
      ]
     },
     "metadata": {},
     "output_type": "display_data"
    }
   ],
   "source": [
    "df1 = pd.DataFrame(iris_x, columns=iris_data.feature_names)\n",
    "display(df1.head(3))"
   ]
  },
  {
   "cell_type": "code",
   "execution_count": 43,
   "metadata": {},
   "outputs": [
    {
     "name": "stdout",
     "output_type": "stream",
     "text": [
      "sepal length (cm)    0\n",
      "sepal width (cm)     0\n",
      "petal length (cm)    0\n",
      "petal width (cm)     0\n",
      "dtype: int64\n"
     ]
    }
   ],
   "source": [
    "## Clean the data\n",
    "counter_nan = df1.isnull().sum()\n",
    "print(counter_nan)"
   ]
  },
  {
   "cell_type": "code",
   "execution_count": 44,
   "metadata": {
    "collapsed": true
   },
   "outputs": [],
   "source": [
    "counter_without_nan = counter_nan[counter_nan==0]\n",
    "## remove the columns with missing elements\n",
    "df1_all = df1[counter_without_nan.keys()]"
   ]
  },
  {
   "cell_type": "code",
   "execution_count": 45,
   "metadata": {
    "collapsed": true
   },
   "outputs": [],
   "source": [
    "## remove the column by its indexes\n",
    "# df1_all = df1_all.iloc[:,:2]"
   ]
  },
  {
   "cell_type": "code",
   "execution_count": 46,
   "metadata": {
    "collapsed": true
   },
   "outputs": [],
   "source": [
    "from sklearn.preprocessing import StandardScaler\n",
    "x = df1_all.iloc[:, :].values\n",
    "standard_scalar = StandardScaler()\n",
    "x_std = standard_scalar.fit_transform(x)"
   ]
  },
  {
   "cell_type": "code",
   "execution_count": 74,
   "metadata": {},
   "outputs": [
    {
     "name": "stdout",
     "output_type": "stream",
     "text": [
      "[[ -9.00681170e-01   1.03205722e+00  -1.34127240e+00  -1.31297673e+00]\n",
      " [ -1.14301691e+00  -1.24957601e-01  -1.34127240e+00  -1.31297673e+00]\n",
      " [ -1.38535265e+00   3.37848329e-01  -1.39813811e+00  -1.31297673e+00]\n",
      " [ -1.50652052e+00   1.06445364e-01  -1.28440670e+00  -1.31297673e+00]\n",
      " [ -1.02184904e+00   1.26346019e+00  -1.34127240e+00  -1.31297673e+00]\n",
      " [ -5.37177559e-01   1.95766909e+00  -1.17067529e+00  -1.05003079e+00]\n",
      " [ -1.50652052e+00   8.00654259e-01  -1.34127240e+00  -1.18150376e+00]\n",
      " [ -1.02184904e+00   8.00654259e-01  -1.28440670e+00  -1.31297673e+00]\n",
      " [ -1.74885626e+00  -3.56360566e-01  -1.34127240e+00  -1.31297673e+00]\n",
      " [ -1.14301691e+00   1.06445364e-01  -1.28440670e+00  -1.44444970e+00]\n",
      " [ -5.37177559e-01   1.49486315e+00  -1.28440670e+00  -1.31297673e+00]\n",
      " [ -1.26418478e+00   8.00654259e-01  -1.22754100e+00  -1.31297673e+00]\n",
      " [ -1.26418478e+00  -1.24957601e-01  -1.34127240e+00  -1.44444970e+00]\n",
      " [ -1.87002413e+00  -1.24957601e-01  -1.51186952e+00  -1.44444970e+00]\n",
      " [ -5.25060772e-02   2.18907205e+00  -1.45500381e+00  -1.31297673e+00]\n",
      " [ -1.73673948e-01   3.11468391e+00  -1.28440670e+00  -1.05003079e+00]\n",
      " [ -5.37177559e-01   1.95766909e+00  -1.39813811e+00  -1.05003079e+00]\n",
      " [ -9.00681170e-01   1.03205722e+00  -1.34127240e+00  -1.18150376e+00]\n",
      " [ -1.73673948e-01   1.72626612e+00  -1.17067529e+00  -1.18150376e+00]\n",
      " [ -9.00681170e-01   1.72626612e+00  -1.28440670e+00  -1.18150376e+00]\n",
      " [ -5.37177559e-01   8.00654259e-01  -1.17067529e+00  -1.31297673e+00]\n",
      " [ -9.00681170e-01   1.49486315e+00  -1.28440670e+00  -1.05003079e+00]\n",
      " [ -1.50652052e+00   1.26346019e+00  -1.56873522e+00  -1.31297673e+00]\n",
      " [ -9.00681170e-01   5.69251294e-01  -1.17067529e+00  -9.18557817e-01]\n",
      " [ -1.26418478e+00   8.00654259e-01  -1.05694388e+00  -1.31297673e+00]\n",
      " [ -1.02184904e+00  -1.24957601e-01  -1.22754100e+00  -1.31297673e+00]\n",
      " [ -1.02184904e+00   8.00654259e-01  -1.22754100e+00  -1.05003079e+00]\n",
      " [ -7.79513300e-01   1.03205722e+00  -1.28440670e+00  -1.31297673e+00]\n",
      " [ -7.79513300e-01   8.00654259e-01  -1.34127240e+00  -1.31297673e+00]\n",
      " [ -1.38535265e+00   3.37848329e-01  -1.22754100e+00  -1.31297673e+00]\n",
      " [ -1.26418478e+00   1.06445364e-01  -1.22754100e+00  -1.31297673e+00]\n",
      " [ -5.37177559e-01   8.00654259e-01  -1.28440670e+00  -1.05003079e+00]\n",
      " [ -7.79513300e-01   2.42047502e+00  -1.28440670e+00  -1.44444970e+00]\n",
      " [ -4.16009689e-01   2.65187798e+00  -1.34127240e+00  -1.31297673e+00]\n",
      " [ -1.14301691e+00   1.06445364e-01  -1.28440670e+00  -1.44444970e+00]\n",
      " [ -1.02184904e+00   3.37848329e-01  -1.45500381e+00  -1.31297673e+00]\n",
      " [ -4.16009689e-01   1.03205722e+00  -1.39813811e+00  -1.31297673e+00]\n",
      " [ -1.14301691e+00   1.06445364e-01  -1.28440670e+00  -1.44444970e+00]\n",
      " [ -1.74885626e+00  -1.24957601e-01  -1.39813811e+00  -1.31297673e+00]\n",
      " [ -9.00681170e-01   8.00654259e-01  -1.28440670e+00  -1.31297673e+00]\n",
      " [ -1.02184904e+00   1.03205722e+00  -1.39813811e+00  -1.18150376e+00]\n",
      " [ -1.62768839e+00  -1.74477836e+00  -1.39813811e+00  -1.18150376e+00]\n",
      " [ -1.74885626e+00   3.37848329e-01  -1.39813811e+00  -1.31297673e+00]\n",
      " [ -1.02184904e+00   1.03205722e+00  -1.22754100e+00  -7.87084847e-01]\n",
      " [ -9.00681170e-01   1.72626612e+00  -1.05694388e+00  -1.05003079e+00]\n",
      " [ -1.26418478e+00  -1.24957601e-01  -1.34127240e+00  -1.18150376e+00]\n",
      " [ -9.00681170e-01   1.72626612e+00  -1.22754100e+00  -1.31297673e+00]\n",
      " [ -1.50652052e+00   3.37848329e-01  -1.34127240e+00  -1.31297673e+00]\n",
      " [ -6.58345429e-01   1.49486315e+00  -1.28440670e+00  -1.31297673e+00]\n",
      " [ -1.02184904e+00   5.69251294e-01  -1.34127240e+00  -1.31297673e+00]\n",
      " [  1.40150837e+00   3.37848329e-01   5.35295827e-01   2.64698913e-01]\n",
      " [  6.74501145e-01   3.37848329e-01   4.21564419e-01   3.96171883e-01]\n",
      " [  1.28034050e+00   1.06445364e-01   6.49027235e-01   3.96171883e-01]\n",
      " [ -4.16009689e-01  -1.74477836e+00   1.37235899e-01   1.33225943e-01]\n",
      " [  7.95669016e-01  -5.87763531e-01   4.78430123e-01   3.96171883e-01]\n",
      " [ -1.73673948e-01  -5.87763531e-01   4.21564419e-01   1.33225943e-01]\n",
      " [  5.53333275e-01   5.69251294e-01   5.35295827e-01   5.27644853e-01]\n",
      " [ -1.14301691e+00  -1.51337539e+00  -2.60824029e-01  -2.61192967e-01]\n",
      " [  9.16836886e-01  -3.56360566e-01   4.78430123e-01   1.33225943e-01]\n",
      " [ -7.79513300e-01  -8.19166497e-01   8.03701950e-02   2.64698913e-01]\n",
      " [ -1.02184904e+00  -2.43898725e+00  -1.47092621e-01  -2.61192967e-01]\n",
      " [  6.86617933e-02  -1.24957601e-01   2.50967307e-01   3.96171883e-01]\n",
      " [  1.89829664e-01  -1.97618132e+00   1.37235899e-01  -2.61192967e-01]\n",
      " [  3.10997534e-01  -3.56360566e-01   5.35295827e-01   2.64698913e-01]\n",
      " [ -2.94841818e-01  -3.56360566e-01  -9.02269170e-02   1.33225943e-01]\n",
      " [  1.03800476e+00   1.06445364e-01   3.64698715e-01   2.64698913e-01]\n",
      " [ -2.94841818e-01  -1.24957601e-01   4.21564419e-01   3.96171883e-01]\n",
      " [ -5.25060772e-02  -8.19166497e-01   1.94101603e-01  -2.61192967e-01]\n",
      " [  4.32165405e-01  -1.97618132e+00   4.21564419e-01   3.96171883e-01]\n",
      " [ -2.94841818e-01  -1.28197243e+00   8.03701950e-02  -1.29719997e-01]\n",
      " [  6.86617933e-02   3.37848329e-01   5.92161531e-01   7.90590793e-01]\n",
      " [  3.10997534e-01  -5.87763531e-01   1.37235899e-01   1.33225943e-01]\n",
      " [  5.53333275e-01  -1.28197243e+00   6.49027235e-01   3.96171883e-01]\n",
      " [  3.10997534e-01  -5.87763531e-01   5.35295827e-01   1.75297293e-03]\n",
      " [  6.74501145e-01  -3.56360566e-01   3.07833011e-01   1.33225943e-01]\n",
      " [  9.16836886e-01  -1.24957601e-01   3.64698715e-01   2.64698913e-01]\n",
      " [  1.15917263e+00  -5.87763531e-01   5.92161531e-01   2.64698913e-01]\n",
      " [  1.03800476e+00  -1.24957601e-01   7.05892939e-01   6.59117823e-01]\n",
      " [  1.89829664e-01  -3.56360566e-01   4.21564419e-01   3.96171883e-01]\n",
      " [ -1.73673948e-01  -1.05056946e+00  -1.47092621e-01  -2.61192967e-01]\n",
      " [ -4.16009689e-01  -1.51337539e+00   2.35044910e-02  -1.29719997e-01]\n",
      " [ -4.16009689e-01  -1.51337539e+00  -3.33612130e-02  -2.61192967e-01]\n",
      " [ -5.25060772e-02  -8.19166497e-01   8.03701950e-02   1.75297293e-03]\n",
      " [  1.89829664e-01  -8.19166497e-01   7.62758643e-01   5.27644853e-01]\n",
      " [ -5.37177559e-01  -1.24957601e-01   4.21564419e-01   3.96171883e-01]\n",
      " [  1.89829664e-01   8.00654259e-01   4.21564419e-01   5.27644853e-01]\n",
      " [  1.03800476e+00   1.06445364e-01   5.35295827e-01   3.96171883e-01]\n",
      " [  5.53333275e-01  -1.74477836e+00   3.64698715e-01   1.33225943e-01]\n",
      " [ -2.94841818e-01  -1.24957601e-01   1.94101603e-01   1.33225943e-01]\n",
      " [ -4.16009689e-01  -1.28197243e+00   1.37235899e-01   1.33225943e-01]\n",
      " [ -4.16009689e-01  -1.05056946e+00   3.64698715e-01   1.75297293e-03]\n",
      " [  3.10997534e-01  -1.24957601e-01   4.78430123e-01   2.64698913e-01]\n",
      " [ -5.25060772e-02  -1.05056946e+00   1.37235899e-01   1.75297293e-03]\n",
      " [ -1.02184904e+00  -1.74477836e+00  -2.60824029e-01  -2.61192967e-01]\n",
      " [ -2.94841818e-01  -8.19166497e-01   2.50967307e-01   1.33225943e-01]\n",
      " [ -1.73673948e-01  -1.24957601e-01   2.50967307e-01   1.75297293e-03]\n",
      " [ -1.73673948e-01  -3.56360566e-01   2.50967307e-01   1.33225943e-01]\n",
      " [  4.32165405e-01  -3.56360566e-01   3.07833011e-01   1.33225943e-01]\n",
      " [ -9.00681170e-01  -1.28197243e+00  -4.31421141e-01  -1.29719997e-01]\n",
      " [ -1.73673948e-01  -5.87763531e-01   1.94101603e-01   1.33225943e-01]\n",
      " [  5.53333275e-01   5.69251294e-01   1.27454998e+00   1.71090158e+00]\n",
      " [ -5.25060772e-02  -8.19166497e-01   7.62758643e-01   9.22063763e-01]\n",
      " [  1.52267624e+00  -1.24957601e-01   1.21768427e+00   1.18500970e+00]\n",
      " [  5.53333275e-01  -3.56360566e-01   1.04708716e+00   7.90590793e-01]\n",
      " [  7.95669016e-01  -1.24957601e-01   1.16081857e+00   1.31648267e+00]\n",
      " [  2.12851559e+00  -1.24957601e-01   1.61574420e+00   1.18500970e+00]\n",
      " [ -1.14301691e+00  -1.28197243e+00   4.21564419e-01   6.59117823e-01]\n",
      " [  1.76501198e+00  -3.56360566e-01   1.44514709e+00   7.90590793e-01]\n",
      " [  1.03800476e+00  -1.28197243e+00   1.16081857e+00   7.90590793e-01]\n",
      " [  1.64384411e+00   1.26346019e+00   1.33141568e+00   1.71090158e+00]\n",
      " [  7.95669016e-01   3.37848329e-01   7.62758643e-01   1.05353673e+00]\n",
      " [  6.74501145e-01  -8.19166497e-01   8.76490051e-01   9.22063763e-01]\n",
      " [  1.15917263e+00  -1.24957601e-01   9.90221459e-01   1.18500970e+00]\n",
      " [ -1.73673948e-01  -1.28197243e+00   7.05892939e-01   1.05353673e+00]\n",
      " [ -5.25060772e-02  -5.87763531e-01   7.62758643e-01   1.57942861e+00]\n",
      " [  6.74501145e-01   3.37848329e-01   8.76490051e-01   1.44795564e+00]\n",
      " [  7.95669016e-01  -1.24957601e-01   9.90221459e-01   7.90590793e-01]\n",
      " [  2.24968346e+00   1.72626612e+00   1.67260991e+00   1.31648267e+00]\n",
      " [  2.24968346e+00  -1.05056946e+00   1.78634131e+00   1.44795564e+00]\n",
      " [  1.89829664e-01  -1.97618132e+00   7.05892939e-01   3.96171883e-01]\n",
      " [  1.28034050e+00   3.37848329e-01   1.10395287e+00   1.44795564e+00]\n",
      " [ -2.94841818e-01  -5.87763531e-01   6.49027235e-01   1.05353673e+00]\n",
      " [  2.24968346e+00  -5.87763531e-01   1.67260991e+00   1.05353673e+00]\n",
      " [  5.53333275e-01  -8.19166497e-01   6.49027235e-01   7.90590793e-01]\n",
      " [  1.03800476e+00   5.69251294e-01   1.10395287e+00   1.18500970e+00]\n",
      " [  1.64384411e+00   3.37848329e-01   1.27454998e+00   7.90590793e-01]\n",
      " [  4.32165405e-01  -5.87763531e-01   5.92161531e-01   7.90590793e-01]\n",
      " [  3.10997534e-01  -1.24957601e-01   6.49027235e-01   7.90590793e-01]\n",
      " [  6.74501145e-01  -5.87763531e-01   1.04708716e+00   1.18500970e+00]\n",
      " [  1.64384411e+00  -1.24957601e-01   1.16081857e+00   5.27644853e-01]\n",
      " [  1.88617985e+00  -5.87763531e-01   1.33141568e+00   9.22063763e-01]\n",
      " [  2.49201920e+00   1.72626612e+00   1.50201279e+00   1.05353673e+00]\n",
      " [  6.74501145e-01  -5.87763531e-01   1.04708716e+00   1.31648267e+00]\n",
      " [  5.53333275e-01  -5.87763531e-01   7.62758643e-01   3.96171883e-01]\n",
      " [  3.10997534e-01  -1.05056946e+00   1.04708716e+00   2.64698913e-01]\n",
      " [  2.24968346e+00  -1.24957601e-01   1.33141568e+00   1.44795564e+00]\n",
      " [  5.53333275e-01   8.00654259e-01   1.04708716e+00   1.57942861e+00]\n",
      " [  6.74501145e-01   1.06445364e-01   9.90221459e-01   7.90590793e-01]\n",
      " [  1.89829664e-01  -1.24957601e-01   5.92161531e-01   7.90590793e-01]\n",
      " [  1.28034050e+00   1.06445364e-01   9.33355755e-01   1.18500970e+00]\n",
      " [  1.03800476e+00   1.06445364e-01   1.04708716e+00   1.57942861e+00]\n",
      " [  1.28034050e+00   1.06445364e-01   7.62758643e-01   1.44795564e+00]\n",
      " [ -5.25060772e-02  -8.19166497e-01   7.62758643e-01   9.22063763e-01]\n",
      " [  1.15917263e+00   3.37848329e-01   1.21768427e+00   1.44795564e+00]\n",
      " [  1.03800476e+00   5.69251294e-01   1.10395287e+00   1.71090158e+00]\n",
      " [  1.03800476e+00  -1.24957601e-01   8.19624347e-01   1.44795564e+00]\n",
      " [  5.53333275e-01  -1.28197243e+00   7.05892939e-01   9.22063763e-01]\n",
      " [  7.95669016e-01  -1.24957601e-01   8.19624347e-01   1.05353673e+00]\n",
      " [  4.32165405e-01   8.00654259e-01   9.33355755e-01   1.44795564e+00]\n",
      " [  6.86617933e-02  -1.24957601e-01   7.62758643e-01   7.90590793e-01]]\n",
      "(150, 4)\n"
     ]
    }
   ],
   "source": [
    "print(x_std)\n",
    "print(x_std.shape)"
   ]
  },
  {
   "cell_type": "markdown",
   "metadata": {},
   "source": [
    "### T distributed stochastic neighbor embedding (t-SNE) visualization ###"
   ]
  },
  {
   "cell_type": "code",
   "execution_count": 47,
   "metadata": {
    "collapsed": true
   },
   "outputs": [],
   "source": [
    "from sklearn.manifold import TSNE\n",
    "tsne = TSNE(n_components=2, random_state = 311)\n",
    "x_test_2d = tsne.fit_transform(x_std)"
   ]
  },
  {
   "cell_type": "code",
   "execution_count": 67,
   "metadata": {},
   "outputs": [
    {
     "name": "stdout",
     "output_type": "stream",
     "text": [
      "(150, 2)\n",
      "[[ 15.40242863 -14.17713165]\n",
      " [ 16.77496719 -10.51078129]\n",
      " [ 15.68960285 -11.44600105]\n",
      " [ 15.7251873  -10.68215561]\n",
      " [ 15.75592995 -14.78833389]]\n"
     ]
    }
   ],
   "source": [
    "print(x_test_2d.shape)\n",
    "print(x_test_2d[:5])"
   ]
  },
  {
   "cell_type": "code",
   "execution_count": 68,
   "metadata": {},
   "outputs": [
    {
     "name": "stdout",
     "output_type": "stream",
     "text": [
      "(298,)\n",
      "[-17.48503876 -17.2306118  -17.01259232 -16.83356667 -16.43995857]\n"
     ]
    }
   ],
   "source": [
    "print(np.unique(x_test_2d).shape)\n",
    "print(np.unique(x_test_2d)[:5])"
   ]
  },
  {
   "cell_type": "code",
   "execution_count": 71,
   "metadata": {},
   "outputs": [
    {
     "name": "stdout",
     "output_type": "stream",
     "text": [
      "[1 2 3 4 3]\n",
      "[1 2 3 4]\n"
     ]
    }
   ],
   "source": [
    "aa = np.array([1, 2, 3, 4, 3])\n",
    "print(aa)\n",
    "print(np.unique(aa))"
   ]
  },
  {
   "cell_type": "code",
   "execution_count": 73,
   "metadata": {},
   "outputs": [
    {
     "name": "stdout",
     "output_type": "stream",
     "text": [
      "15.4024\n",
      "16.775\n",
      "15.6896\n",
      "15.7252\n",
      "15.7559\n",
      "15.0692\n",
      "15.0787\n",
      "15.6137\n",
      "16.0052\n",
      "16.619\n",
      "14.7846\n",
      "15.5181\n",
      "16.428\n",
      "15.3905\n",
      "14.4486\n",
      "14.789\n",
      "14.9915\n",
      "15.5446\n",
      "14.4047\n",
      "15.6354\n",
      "14.5098\n",
      "15.7099\n",
      "16.7244\n",
      "16.4322\n",
      "15.3699\n",
      "17.0523\n",
      "15.9971\n",
      "15.1043\n",
      "15.0181\n",
      "15.7164\n",
      "16.1264\n",
      "14.5348\n",
      "15.4387\n",
      "14.9717\n",
      "16.619\n",
      "16.4066\n",
      "14.4612\n",
      "16.619\n",
      "15.6384\n",
      "15.3407\n",
      "15.8367\n",
      "16.182\n",
      "15.0906\n",
      "16.3346\n",
      "15.8573\n",
      "16.4304\n",
      "15.5917\n",
      "15.3964\n",
      "15.0272\n",
      "16.0284\n",
      "-5.35763\n",
      "-5.02462\n",
      "-5.57711\n",
      "-0.312495\n",
      "-3.71721\n",
      "-1.16753\n",
      "-5.36514\n",
      "1.00509\n",
      "-3.61672\n",
      "0.614341\n",
      "0.672488\n",
      "-1.93671\n",
      "-1.26062\n",
      "-2.98676\n",
      "-0.327804\n",
      "-4.69195\n",
      "-1.1563\n",
      "-0.902663\n",
      "-2.37875\n",
      "-0.276465\n",
      "-5.2042\n",
      "-2.05206\n",
      "-3.58046\n",
      "-2.52717\n",
      "-3.14515\n",
      "-4.14394\n",
      "-3.665\n",
      "-6.26084\n",
      "-2.71693\n",
      "-0.465564\n",
      "-0.0478753\n",
      "0.0096816\n",
      "-0.809192\n",
      "-4.19709\n",
      "-0.590712\n",
      "-5.24253\n",
      "-5.14202\n",
      "-2.2809\n",
      "-0.746925\n",
      "0.0769193\n",
      "-0.0321654\n",
      "-2.89766\n",
      "-0.748438\n",
      "0.857891\n",
      "-0.332643\n",
      "-1.02576\n",
      "-1.07794\n",
      "-2.67046\n",
      "0.886948\n",
      "-0.806543\n",
      "-9.92199\n",
      "-5.3699\n",
      "-8.56643\n",
      "-6.41277\n",
      "-8.20799\n",
      "-8.83058\n",
      "1.2762\n",
      "-8.16599\n",
      "-4.55659\n",
      "-10.6373\n",
      "-7.7713\n",
      "-5.7325\n",
      "-8.07451\n",
      "-5.34646\n",
      "-6.46542\n",
      "-9.07391\n",
      "-6.88659\n",
      "-10.8803\n",
      "-8.6731\n",
      "-2.44417\n",
      "-9.23818\n",
      "-5.82075\n",
      "-8.60148\n",
      "-4.8546\n",
      "-9.41741\n",
      "-8.24529\n",
      "-4.88548\n",
      "-5.1918\n",
      "-7.04445\n",
      "-7.61777\n",
      "-8.26433\n",
      "-10.8927\n",
      "-7.27139\n",
      "-3.95083\n",
      "-3.72569\n",
      "-9.04513\n",
      "-9.96193\n",
      "-6.8952\n",
      "-4.94693\n",
      "-8.41346\n",
      "-8.91277\n",
      "-8.69259\n",
      "-5.37004\n",
      "-9.3323\n",
      "-9.85309\n",
      "-8.37022\n",
      "-4.486\n",
      "-7.38934\n",
      "-9.83018\n",
      "-5.08077\n"
     ]
    },
    {
     "ename": "IndexError",
     "evalue": "index 150 is out of bounds for axis 0 with size 150",
     "output_type": "error",
     "traceback": [
      "\u001b[0;31m---------------------------------------------------------------------------\u001b[0m",
      "\u001b[0;31mIndexError\u001b[0m                                Traceback (most recent call last)",
      "\u001b[0;32m<ipython-input-73-715980059902>\u001b[0m in \u001b[0;36m<module>\u001b[0;34m()\u001b[0m\n\u001b[1;32m      5\u001b[0m \u001b[0;32mfor\u001b[0m \u001b[0midx\u001b[0m\u001b[0;34m,\u001b[0m \u001b[0mcl\u001b[0m \u001b[0;32min\u001b[0m \u001b[0menumerate\u001b[0m\u001b[0;34m(\u001b[0m\u001b[0mnp\u001b[0m\u001b[0;34m.\u001b[0m\u001b[0munique\u001b[0m\u001b[0;34m(\u001b[0m\u001b[0mx_test_2d\u001b[0m\u001b[0;34m)\u001b[0m\u001b[0;34m)\u001b[0m\u001b[0;34m:\u001b[0m\u001b[0;34m\u001b[0m\u001b[0m\n\u001b[1;32m      6\u001b[0m     \u001b[0;31m#print(idx, cl)\u001b[0m\u001b[0;34m\u001b[0m\u001b[0;34m\u001b[0m\u001b[0m\n\u001b[0;32m----> 7\u001b[0;31m     \u001b[0mprint\u001b[0m\u001b[0;34m(\u001b[0m\u001b[0mx_test_2d\u001b[0m\u001b[0;34m[\u001b[0m\u001b[0midx\u001b[0m\u001b[0;34m]\u001b[0m\u001b[0;34m[\u001b[0m\u001b[0;36m0\u001b[0m\u001b[0;34m]\u001b[0m\u001b[0;34m)\u001b[0m\u001b[0;34m\u001b[0m\u001b[0m\n\u001b[0m\u001b[1;32m      8\u001b[0m     \u001b[0;31m#plt.scatter(x=x_test_2d[idx][0], y=x_test_2d[idx][1])\u001b[0m\u001b[0;34m\u001b[0m\u001b[0;34m\u001b[0m\u001b[0m\n\u001b[1;32m      9\u001b[0m \u001b[0;31m#     plt.scatter(x=x_test_2d[idx][0], y=x_test_2d[idx][1], c=color_map[idx],\u001b[0m\u001b[0;34m\u001b[0m\u001b[0;34m\u001b[0m\u001b[0m\n",
      "\u001b[0;31mIndexError\u001b[0m: index 150 is out of bounds for axis 0 with size 150"
     ]
    }
   ],
   "source": [
    "# scatter plot the sample points among 5 classes\n",
    "markers = {'s', 'd', 'o', '^', 'v'}\n",
    "color_map = {0: 'red', 1: 'blue', 2: 'lightgreen', 3: 'purple', 4: 'cyan'}\n",
    "plt.figure()\n",
    "for idx, cl in enumerate(np.unique(x_test_2d)):\n",
    "    #print(idx, cl)\n",
    "    print(x_test_2d[idx][0])\n",
    "    #plt.scatter(x=x_test_2d[idx][0], y=x_test_2d[idx][1])\n",
    "#     plt.scatter(x=x_test_2d[idx][0], y=x_test_2d[idx][1], c=color_map[idx],\n",
    "#                 marker=markers[idx], label=cl) \n",
    "#plt.show()"
   ]
  },
  {
   "cell_type": "code",
   "execution_count": null,
   "metadata": {
    "collapsed": true
   },
   "outputs": [],
   "source": []
  },
  {
   "cell_type": "code",
   "execution_count": null,
   "metadata": {
    "collapsed": true
   },
   "outputs": [],
   "source": []
  },
  {
   "cell_type": "code",
   "execution_count": null,
   "metadata": {
    "collapsed": true
   },
   "outputs": [],
   "source": []
  },
  {
   "cell_type": "code",
   "execution_count": null,
   "metadata": {
    "collapsed": true
   },
   "outputs": [],
   "source": []
  },
  {
   "cell_type": "code",
   "execution_count": null,
   "metadata": {
    "collapsed": true
   },
   "outputs": [],
   "source": []
  },
  {
   "cell_type": "markdown",
   "metadata": {},
   "source": [
    "### Interactive matplotlib ###"
   ]
  },
  {
   "cell_type": "code",
   "execution_count": 3,
   "metadata": {
    "collapsed": true
   },
   "outputs": [],
   "source": [
    "# import matplotlib.pyplot as plt\n",
    "# %matplotlib notebook\n",
    "# plt.plot([0, 1, 2, 2])\n",
    "# plt.show()"
   ]
  },
  {
   "cell_type": "code",
   "execution_count": 2,
   "metadata": {
    "collapsed": true
   },
   "outputs": [],
   "source": [
    "## It doens't work on JupyterLab yet. 10/24/17\n",
    "# import ipympl\n",
    "# import matplotlib.pyplot as plt\n",
    "\n",
    "# plt.plot([0, 1, 2, 2])\n",
    "# plt.show()"
   ]
  },
  {
   "cell_type": "code",
   "execution_count": null,
   "metadata": {
    "collapsed": true
   },
   "outputs": [],
   "source": [
    "import pandas as pd\n",
    "import numpy as np\n",
    "from IPython.display import display\n",
    "\n",
    "df1 = pd.DataFrame({'A': ['0', '9', '23', '15'],\n",
    "                    'B': ['22', '-4', '0', '-4'],\n",
    "                    'C': ['90', '33', 0, '0'],\n",
    "                    'D': ['994', '-2', '5', '432']},\n",
    "                    index=[0, 1, 2, 3])\n",
    "print(\"Watch out the difference between integer and string\")\n",
    "print(df1) "
   ]
  },
  {
   "cell_type": "code",
   "execution_count": null,
   "metadata": {
    "collapsed": true
   },
   "outputs": [],
   "source": [
    "df1.C.loc[df1['C'] == 0] = np.nan\n",
    "print(df1)"
   ]
  },
  {
   "cell_type": "code",
   "execution_count": null,
   "metadata": {
    "collapsed": true
   },
   "outputs": [],
   "source": [
    "func = lambda x: df1.loc[df1[x] == '-4']\n",
    "len(func('B'))\n",
    "#len(df1.loc[df1['B'] == '-4'])"
   ]
  },
  {
   "cell_type": "code",
   "execution_count": null,
   "metadata": {
    "collapsed": true
   },
   "outputs": [],
   "source": [
    "## http://pandas.pydata.org/pandas-docs/stable/indexing.html#ix-indexer-is-deprecated\n",
    "dfd = pd.DataFrame({'A': [1, 2, 3],\n",
    "                    'B': [4, 5, 6]},\n",
    "                    index=list('abc'))\n",
    "display(dfd)"
   ]
  },
  {
   "cell_type": "code",
   "execution_count": null,
   "metadata": {
    "collapsed": true
   },
   "outputs": [],
   "source": [
    "print(dfd.loc[dfd.index[[0, 2]], 'A'])"
   ]
  },
  {
   "cell_type": "code",
   "execution_count": null,
   "metadata": {
    "collapsed": true
   },
   "outputs": [],
   "source": [
    "dfcat = pd.DataFrame({ 'A' : pd.Series(list('aabbcdba')).astype('category'),\n",
    "                       'B' : np.random.randn(8) })\n",
    "print(dfcat.dtypes)\n",
    "display(dfcat)\n"
   ]
  },
  {
   "cell_type": "code",
   "execution_count": null,
   "metadata": {
    "collapsed": true
   },
   "outputs": [],
   "source": [
    "cstore = pd.HDFStore('df_cats.h5', mode='w')\n",
    "cstore.append('dfcat', dfcat)\n",
    "## cstore.append('dfcat', dfcat, format='table', data_columns=['A'])\n",
    "##hello = cstore.select('dfcat')\n",
    "cstore.close()\n",
    "## result = cstore.select('dfcat', where=\"A in ['b','c']\")"
   ]
  },
  {
   "cell_type": "markdown",
   "metadata": {},
   "source": [
    "### Slicing the dataframe  \n",
    "#### https://stackoverflow.com/questions/10665889/how-to-take-column-slices-of-dataframe-in-pandas"
   ]
  },
  {
   "cell_type": "code",
   "execution_count": null,
   "metadata": {
    "collapsed": true
   },
   "outputs": [],
   "source": [
    "import pandas as pd    \n",
    "import numpy as np\n",
    "df = pd.DataFrame(np.random.rand(4,7), columns = list('abcdefg'))\n",
    "display(df)"
   ]
  },
  {
   "cell_type": "code",
   "execution_count": 4,
   "metadata": {},
   "outputs": [
    {
     "data": {
      "text/html": [
       "<div>\n",
       "<style>\n",
       "    .dataframe thead tr:only-child th {\n",
       "        text-align: right;\n",
       "    }\n",
       "\n",
       "    .dataframe thead th {\n",
       "        text-align: left;\n",
       "    }\n",
       "\n",
       "    .dataframe tbody tr th {\n",
       "        vertical-align: top;\n",
       "    }\n",
       "</style>\n",
       "<table border=\"1\" class=\"dataframe\">\n",
       "  <thead>\n",
       "    <tr style=\"text-align: right;\">\n",
       "      <th></th>\n",
       "      <th>a</th>\n",
       "      <th>b</th>\n",
       "      <th>c</th>\n",
       "    </tr>\n",
       "  </thead>\n",
       "  <tbody>\n",
       "    <tr>\n",
       "      <th>0</th>\n",
       "      <td>0.997441</td>\n",
       "      <td>0.467757</td>\n",
       "      <td>0.422065</td>\n",
       "    </tr>\n",
       "    <tr>\n",
       "      <th>1</th>\n",
       "      <td>0.632436</td>\n",
       "      <td>0.579141</td>\n",
       "      <td>0.414597</td>\n",
       "    </tr>\n",
       "    <tr>\n",
       "      <th>2</th>\n",
       "      <td>0.950893</td>\n",
       "      <td>0.688445</td>\n",
       "      <td>0.925318</td>\n",
       "    </tr>\n",
       "    <tr>\n",
       "      <th>3</th>\n",
       "      <td>0.556055</td>\n",
       "      <td>0.819518</td>\n",
       "      <td>0.502582</td>\n",
       "    </tr>\n",
       "  </tbody>\n",
       "</table>\n",
       "</div>"
      ],
      "text/plain": [
       "          a         b         c\n",
       "0  0.997441  0.467757  0.422065\n",
       "1  0.632436  0.579141  0.414597\n",
       "2  0.950893  0.688445  0.925318\n",
       "3  0.556055  0.819518  0.502582"
      ]
     },
     "execution_count": 4,
     "metadata": {},
     "output_type": "execute_result"
    }
   ],
   "source": [
    "df.loc[:, [\"a\", \"b\", \"c\"]] ## label based selective column slicing"
   ]
  },
  {
   "cell_type": "code",
   "execution_count": 5,
   "metadata": {},
   "outputs": [
    {
     "data": {
      "text/html": [
       "<div>\n",
       "<style>\n",
       "    .dataframe thead tr:only-child th {\n",
       "        text-align: right;\n",
       "    }\n",
       "\n",
       "    .dataframe thead th {\n",
       "        text-align: left;\n",
       "    }\n",
       "\n",
       "    .dataframe tbody tr th {\n",
       "        vertical-align: top;\n",
       "    }\n",
       "</style>\n",
       "<table border=\"1\" class=\"dataframe\">\n",
       "  <thead>\n",
       "    <tr style=\"text-align: right;\">\n",
       "      <th></th>\n",
       "      <th>a</th>\n",
       "      <th>b</th>\n",
       "      <th>c</th>\n",
       "    </tr>\n",
       "  </thead>\n",
       "  <tbody>\n",
       "    <tr>\n",
       "      <th>0</th>\n",
       "      <td>0.997441</td>\n",
       "      <td>0.467757</td>\n",
       "      <td>0.422065</td>\n",
       "    </tr>\n",
       "    <tr>\n",
       "      <th>1</th>\n",
       "      <td>0.632436</td>\n",
       "      <td>0.579141</td>\n",
       "      <td>0.414597</td>\n",
       "    </tr>\n",
       "    <tr>\n",
       "      <th>2</th>\n",
       "      <td>0.950893</td>\n",
       "      <td>0.688445</td>\n",
       "      <td>0.925318</td>\n",
       "    </tr>\n",
       "    <tr>\n",
       "      <th>3</th>\n",
       "      <td>0.556055</td>\n",
       "      <td>0.819518</td>\n",
       "      <td>0.502582</td>\n",
       "    </tr>\n",
       "  </tbody>\n",
       "</table>\n",
       "</div>"
      ],
      "text/plain": [
       "          a         b         c\n",
       "0  0.997441  0.467757  0.422065\n",
       "1  0.632436  0.579141  0.414597\n",
       "2  0.950893  0.688445  0.925318\n",
       "3  0.556055  0.819518  0.502582"
      ]
     },
     "execution_count": 5,
     "metadata": {},
     "output_type": "execute_result"
    }
   ],
   "source": [
    "df.loc[:, \"a\":\"c\"] ## label based column ranges slicing"
   ]
  },
  {
   "cell_type": "code",
   "execution_count": 6,
   "metadata": {},
   "outputs": [
    {
     "data": {
      "text/html": [
       "<div>\n",
       "<style>\n",
       "    .dataframe thead tr:only-child th {\n",
       "        text-align: right;\n",
       "    }\n",
       "\n",
       "    .dataframe thead th {\n",
       "        text-align: left;\n",
       "    }\n",
       "\n",
       "    .dataframe tbody tr th {\n",
       "        vertical-align: top;\n",
       "    }\n",
       "</style>\n",
       "<table border=\"1\" class=\"dataframe\">\n",
       "  <thead>\n",
       "    <tr style=\"text-align: right;\">\n",
       "      <th></th>\n",
       "      <th>a</th>\n",
       "      <th>b</th>\n",
       "      <th>c</th>\n",
       "    </tr>\n",
       "  </thead>\n",
       "  <tbody>\n",
       "    <tr>\n",
       "      <th>0</th>\n",
       "      <td>0.997441</td>\n",
       "      <td>0.467757</td>\n",
       "      <td>0.422065</td>\n",
       "    </tr>\n",
       "    <tr>\n",
       "      <th>1</th>\n",
       "      <td>0.632436</td>\n",
       "      <td>0.579141</td>\n",
       "      <td>0.414597</td>\n",
       "    </tr>\n",
       "    <tr>\n",
       "      <th>2</th>\n",
       "      <td>0.950893</td>\n",
       "      <td>0.688445</td>\n",
       "      <td>0.925318</td>\n",
       "    </tr>\n",
       "    <tr>\n",
       "      <th>3</th>\n",
       "      <td>0.556055</td>\n",
       "      <td>0.819518</td>\n",
       "      <td>0.502582</td>\n",
       "    </tr>\n",
       "  </tbody>\n",
       "</table>\n",
       "</div>"
      ],
      "text/plain": [
       "          a         b         c\n",
       "0  0.997441  0.467757  0.422065\n",
       "1  0.632436  0.579141  0.414597\n",
       "2  0.950893  0.688445  0.925318\n",
       "3  0.556055  0.819518  0.502582"
      ]
     },
     "execution_count": 6,
     "metadata": {},
     "output_type": "execute_result"
    }
   ],
   "source": [
    "df.iloc[:, 0:3] ## index based column ranges slicing "
   ]
  },
  {
   "cell_type": "code",
   "execution_count": 7,
   "metadata": {},
   "outputs": [
    {
     "data": {
      "text/html": [
       "<div>\n",
       "<style>\n",
       "    .dataframe thead tr:only-child th {\n",
       "        text-align: right;\n",
       "    }\n",
       "\n",
       "    .dataframe thead th {\n",
       "        text-align: left;\n",
       "    }\n",
       "\n",
       "    .dataframe tbody tr th {\n",
       "        vertical-align: top;\n",
       "    }\n",
       "</style>\n",
       "<table border=\"1\" class=\"dataframe\">\n",
       "  <thead>\n",
       "    <tr style=\"text-align: right;\">\n",
       "      <th></th>\n",
       "      <th>a</th>\n",
       "      <th>c</th>\n",
       "    </tr>\n",
       "  </thead>\n",
       "  <tbody>\n",
       "    <tr>\n",
       "      <th>0</th>\n",
       "      <td>0.997441</td>\n",
       "      <td>0.422065</td>\n",
       "    </tr>\n",
       "    <tr>\n",
       "      <th>1</th>\n",
       "      <td>0.632436</td>\n",
       "      <td>0.414597</td>\n",
       "    </tr>\n",
       "    <tr>\n",
       "      <th>2</th>\n",
       "      <td>0.950893</td>\n",
       "      <td>0.925318</td>\n",
       "    </tr>\n",
       "    <tr>\n",
       "      <th>3</th>\n",
       "      <td>0.556055</td>\n",
       "      <td>0.502582</td>\n",
       "    </tr>\n",
       "  </tbody>\n",
       "</table>\n",
       "</div>"
      ],
      "text/plain": [
       "          a         c\n",
       "0  0.997441  0.422065\n",
       "1  0.632436  0.414597\n",
       "2  0.950893  0.925318\n",
       "3  0.556055  0.502582"
      ]
     },
     "execution_count": 7,
     "metadata": {},
     "output_type": "execute_result"
    }
   ],
   "source": [
    "### with 2 different column ranges, index based slicing: \n",
    "df[df.columns[0:1].tolist() + df.columns[2:3].tolist()]"
   ]
  },
  {
   "cell_type": "code",
   "execution_count": 13,
   "metadata": {},
   "outputs": [
    {
     "data": {
      "text/plain": [
       "['a', 'c']"
      ]
     },
     "execution_count": 13,
     "metadata": {},
     "output_type": "execute_result"
    }
   ],
   "source": [
    "df.columns[0:1].tolist() + df.columns[2:3].tolist()"
   ]
  },
  {
   "cell_type": "markdown",
   "metadata": {},
   "source": [
    "### Table ###"
   ]
  },
  {
   "cell_type": "markdown",
   "metadata": {},
   "source": [
    "| This | is   |\n",
    "|------|------|\n",
    "|   a  | table|\n"
   ]
  },
  {
   "cell_type": "markdown",
   "metadata": {},
   "source": [
    "| Date | Name | Website |\n",
    "|:-----:\t|:------:\t|:-----------:\t|\n",
    "|A|B|C |"
   ]
  },
  {
   "cell_type": "markdown",
   "metadata": {},
   "source": [
    "### Classification comparison ###  \n",
    "https://machinelearningmastery.com/compare-machine-learning-algorithms-python-scikit-learn/"
   ]
  },
  {
   "cell_type": "code",
   "execution_count": null,
   "metadata": {
    "collapsed": true
   },
   "outputs": [],
   "source": [
    "# Compare Algorithms\n",
    "import pandas\n",
    "import matplotlib.pyplot as plt\n",
    "from sklearn import model_selection\n",
    "from sklearn.linear_model import LogisticRegression\n",
    "from sklearn.tree import DecisionTreeClassifier\n",
    "from sklearn.neighbors import KNeighborsClassifier\n",
    "from sklearn.discriminant_analysis import LinearDiscriminantAnalysis\n",
    "from sklearn.naive_bayes import GaussianNB\n",
    "from sklearn.svm import SVC\n",
    "# load dataset\n",
    "url = \"https://archive.ics.uci.edu/ml/machine-learning-databases/pima-indians-diabetes/pima-indians-diabetes.data\"\n",
    "names = ['preg', 'plas', 'pres', 'skin', 'test', 'mass', 'pedi', 'age', 'class']\n",
    "dataframe = pandas.read_csv(url, names=names)\n",
    "array = dataframe.values\n",
    "X = array[:,0:8]\n",
    "Y = array[:,8]\n",
    "# prepare configuration for cross validation test harness\n",
    "seed = 7\n",
    "# prepare models\n",
    "models = []\n",
    "models.append(('LR', LogisticRegression()))\n",
    "models.append(('LDA', LinearDiscriminantAnalysis()))\n",
    "models.append(('KNN', KNeighborsClassifier()))\n",
    "models.append(('CART', DecisionTreeClassifier()))\n",
    "models.append(('NB', GaussianNB()))\n",
    "models.append(('SVM', SVC()))\n",
    "# evaluate each model in turn\n",
    "results = []\n",
    "names = []\n",
    "scoring = 'accuracy'\n",
    "for name, model in models:\n",
    "\tkfold = model_selection.KFold(n_splits=10, random_state=seed)\n",
    "\tcv_results = model_selection.cross_val_score(model, X, Y, cv=kfold, scoring=scoring)\n",
    "\tresults.append(cv_results)\n",
    "\tnames.append(name)\n",
    "\tmsg = \"%s: %f (%f)\" % (name, cv_results.mean(), cv_results.std())\n",
    "\tprint(msg)\n",
    "# boxplot algorithm comparison\n",
    "fig = plt.figure()\n",
    "fig.suptitle('Algorithm Comparison')\n",
    "ax = fig.add_subplot(111)\n",
    "plt.boxplot(results)\n",
    "ax.set_xticklabels(names)\n",
    "plt.show()"
   ]
  },
  {
   "cell_type": "code",
   "execution_count": 1,
   "metadata": {},
   "outputs": [
    {
     "data": {
      "image/png": "[encoded data removed]",
      "text/plain": [
       "<matplotlib.figure.Figure at 0x10a0da710>"
      ]
     },
     "metadata": {},
     "output_type": "display_data"
    }
   ],
   "source": [
    "import matplotlib\n",
    "#matplotlib.use(\"TkAgg\")\n",
    "\n",
    "import cartopy\n",
    "import cartopy.crs as ccrs\n",
    "import matplotlib.pyplot as plt\n",
    "ax = plt.axes(projection=ccrs.Mollweide())\n",
    "ax.stock_img()\n",
    "plt.show()"
   ]
  },
  {
   "cell_type": "code",
   "execution_count": 2,
   "metadata": {},
   "outputs": [
    {
     "name": "stdout",
     "output_type": "stream",
     "text": [
      "(23.59829785, 120.835363138175)\n",
      "{'place_id': '179822071', 'licence': 'Data © OpenStreetMap contributors, ODbL 1.0. http://www.openstreetmap.org/copyright', 'osm_type': 'relation', 'osm_id': '7219605', 'boundingbox': ['21.8968599', '25.2997353', '120.0341883', '122.0064049'], 'lat': '23.59829785', 'lon': '120.835363138175', 'display_name': '臺灣, 信義鄉, 南投縣, 臺灣', 'class': 'place', 'type': 'island', 'importance': 0.75910570161765}\n"
     ]
    }
   ],
   "source": [
    "from geopy.geocoders import Nominatim\n",
    "geolocator = Nominatim()\n",
    "location = geolocator.geocode(\"Taiwan\")\n",
    "#print(location.address)\n",
    "print((location.latitude, location.longitude))\n",
    "print(location.raw)"
   ]
  },
  {
   "cell_type": "code",
   "execution_count": null,
   "metadata": {
    "collapsed": true
   },
   "outputs": [],
   "source": []
  }
 ],
 "metadata": {
  "kernelspec": {
   "display_name": "Python 3",
   "language": "python",
   "name": "python3"
  },
  "language_info": {
   "codemirror_mode": {
    "name": "ipython",
    "version": 3
   },
   "file_extension": ".py",
   "mimetype": "text/x-python",
   "name": "python",
   "nbconvert_exporter": "python",
   "pygments_lexer": "ipython3",
   "version": "3.6.0"
  }
 },
 "nbformat": 4,
 "nbformat_minor": 2
}
