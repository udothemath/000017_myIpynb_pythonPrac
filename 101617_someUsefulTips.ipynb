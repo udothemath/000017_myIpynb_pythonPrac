{
 "cells": [
  {
   "cell_type": "markdown",
   "metadata": {},
   "source": [
    "## 020318  \n",
    "### RandomizedSearchCV vs. GridSearchCV  \n",
    "http://scikit-learn.org/stable/auto_examples/model_selection/plot_randomized_search.html#sphx-glr-auto-examples-model-selection-plot-randomized-search-py\n"
   ]
  },
  {
   "cell_type": "code",
   "execution_count": 14,
   "metadata": {},
   "outputs": [
    {
     "name": "stdout",
     "output_type": "stream",
     "text": [
      "Automatically created module for IPython interactive environment\n",
      "RandomizedSearchCV took 5.61 seconds for 20 candidates parameter settings.\n",
      "Model with rank: 1\n",
      "Mean validation score: 0.929 (std: 0.006)\n",
      "Parameters: {'bootstrap': False, 'criterion': 'entropy', 'max_depth': None, 'max_features': 2, 'min_samples_leaf': 1, 'min_samples_split': 2}\n",
      "\n",
      "Model with rank: 2\n",
      "Mean validation score: 0.923 (std: 0.011)\n",
      "Parameters: {'bootstrap': False, 'criterion': 'gini', 'max_depth': None, 'max_features': 7, 'min_samples_leaf': 4, 'min_samples_split': 5}\n",
      "\n",
      "Model with rank: 3\n",
      "Mean validation score: 0.918 (std: 0.015)\n",
      "Parameters: {'bootstrap': False, 'criterion': 'gini', 'max_depth': None, 'max_features': 3, 'min_samples_leaf': 2, 'min_samples_split': 8}\n",
      "\n",
      "GridSearchCV took 57.80 seconds for 216 candidate parameter settings.\n",
      "Model with rank: 1\n",
      "Mean validation score: 0.935 (std: 0.012)\n",
      "Parameters: {'bootstrap': False, 'criterion': 'gini', 'max_depth': None, 'max_features': 10, 'min_samples_leaf': 1, 'min_samples_split': 3}\n",
      "\n",
      "Model with rank: 2\n",
      "Mean validation score: 0.935 (std: 0.010)\n",
      "Parameters: {'bootstrap': False, 'criterion': 'gini', 'max_depth': None, 'max_features': 10, 'min_samples_leaf': 1, 'min_samples_split': 2}\n",
      "\n",
      "Model with rank: 3\n",
      "Mean validation score: 0.934 (std: 0.005)\n",
      "Parameters: {'bootstrap': False, 'criterion': 'gini', 'max_depth': None, 'max_features': 3, 'min_samples_leaf': 3, 'min_samples_split': 10}\n",
      "\n"
     ]
    }
   ],
   "source": [
    "print(__doc__)\n",
    "\n",
    "import numpy as np\n",
    "\n",
    "from time import time\n",
    "from scipy.stats import randint as sp_randint\n",
    "\n",
    "from sklearn.model_selection import GridSearchCV\n",
    "from sklearn.model_selection import RandomizedSearchCV\n",
    "from sklearn.datasets import load_digits\n",
    "from sklearn.ensemble import RandomForestClassifier\n",
    "\n",
    "# get some data\n",
    "digits = load_digits()\n",
    "X, y = digits.data, digits.target\n",
    "\n",
    "# build a classifier\n",
    "clf = RandomForestClassifier(n_estimators=20)\n",
    "\n",
    "\n",
    "# Utility function to report best scores\n",
    "def report(results, n_top=3):\n",
    "    for i in range(1, n_top + 1):\n",
    "        candidates = np.flatnonzero(results['rank_test_score'] == i)\n",
    "        for candidate in candidates:\n",
    "            print(\"Model with rank: {0}\".format(i))\n",
    "            print(\"Mean validation score: {0:.3f} (std: {1:.3f})\".format(\n",
    "                  results['mean_test_score'][candidate],\n",
    "                  results['std_test_score'][candidate]))\n",
    "            print(\"Parameters: {0}\".format(results['params'][candidate]))\n",
    "            print(\"\")\n",
    "\n",
    "\n",
    "# specify parameters and distributions to sample from\n",
    "param_dist = {\"max_depth\": [3, None],\n",
    "              \"max_features\": sp_randint(1, 11),\n",
    "              \"min_samples_split\": sp_randint(2, 11),\n",
    "              \"min_samples_leaf\": sp_randint(1, 11),\n",
    "              \"bootstrap\": [True, False],\n",
    "              \"criterion\": [\"gini\", \"entropy\"]}\n",
    "\n",
    "# run randomized search\n",
    "n_iter_search = 20\n",
    "random_search = RandomizedSearchCV(clf, param_distributions=param_dist,\n",
    "                                   n_iter=n_iter_search)\n",
    "\n",
    "start = time()\n",
    "random_search.fit(X, y)\n",
    "print(\"RandomizedSearchCV took %.2f seconds for %d candidates\"\n",
    "      \" parameter settings.\" % ((time() - start), n_iter_search))\n",
    "report(random_search.cv_results_)\n",
    "\n",
    "# use a full grid over all parameters\n",
    "param_grid = {\"max_depth\": [3, None],\n",
    "              \"max_features\": [1, 3, 10],\n",
    "              \"min_samples_split\": [2, 3, 10],\n",
    "              \"min_samples_leaf\": [1, 3, 10],\n",
    "              \"bootstrap\": [True, False],\n",
    "              \"criterion\": [\"gini\", \"entropy\"]}\n",
    "\n",
    "# run grid search\n",
    "grid_search = GridSearchCV(clf, param_grid=param_grid)\n",
    "start = time()\n",
    "grid_search.fit(X, y)\n",
    "\n",
    "print(\"GridSearchCV took %.2f seconds for %d candidate parameter settings.\"\n",
    "      % (time() - start, len(grid_search.cv_results_['params'])))\n",
    "report(grid_search.cv_results_)"
   ]
  },
  {
   "cell_type": "markdown",
   "metadata": {},
   "source": [
    "## 012818"
   ]
  },
  {
   "cell_type": "markdown",
   "metadata": {},
   "source": [
    "### Resampling"
   ]
  },
  {
   "cell_type": "code",
   "execution_count": 6,
   "metadata": {},
   "outputs": [
    {
     "name": "stdout",
     "output_type": "stream",
     "text": [
      "Original dataset shape Counter({1: 900, 0: 100})\n",
      "Resampled dataset shape Counter({0: 900, 1: 881})\n"
     ]
    }
   ],
   "source": [
    "from collections import Counter\n",
    "from sklearn.datasets import make_classification\n",
    "from imblearn.combine import SMOTEENN \n",
    "X, y = make_classification(n_classes=2, class_sep=2,\n",
    "weights=[0.1, 0.9], n_informative=3, n_redundant=1, flip_y=0,\n",
    "n_features=20, n_clusters_per_class=1, n_samples=1000, random_state=10)\n",
    "print('Original dataset shape {}'.format(Counter(y)))\n",
    "\n",
    "sme = SMOTEENN(random_state=42)\n",
    "X_res, y_res = sme.fit_sample(X, y)\n",
    "print('Resampled dataset shape {}'.format(Counter(y_res)))"
   ]
  },
  {
   "cell_type": "markdown",
   "metadata": {},
   "source": [
    "### Precision_Recall_Curve  \n",
    "http://scikit-learn.org/stable/auto_examples/model_selection/plot_precision_recall.html#sphx-glr-auto-examples-model-selection-plot-precision-recall-py"
   ]
  },
  {
   "cell_type": "code",
   "execution_count": 10,
   "metadata": {},
   "outputs": [
    {
     "name": "stdout",
     "output_type": "stream",
     "text": [
      "Average precision-recall score: 0.88\n"
     ]
    },
    {
     "data": {
      "image/png": "[encoded data removed]",
      "text/plain": [
       "<matplotlib.figure.Figure at 0x10b119f98>"
      ]
     },
     "metadata": {},
     "output_type": "display_data"
    }
   ],
   "source": [
    "from sklearn import svm, datasets\n",
    "from sklearn.model_selection import train_test_split\n",
    "import numpy as np\n",
    "\n",
    "iris = datasets.load_iris()\n",
    "X = iris.data\n",
    "y = iris.target\n",
    "\n",
    "# Add noisy features\n",
    "random_state = np.random.RandomState(0)\n",
    "n_samples, n_features = X.shape\n",
    "X = np.c_[X, random_state.randn(n_samples, 200 * n_features)]\n",
    "\n",
    "# Limit to the two first classes, and split into training and test\n",
    "X_train, X_test, y_train, y_test = train_test_split(X[y < 2], y[y < 2],\n",
    "                                                    test_size=.5,\n",
    "                                                    random_state=random_state)\n",
    "\n",
    "# Create a simple classifier\n",
    "classifier = svm.LinearSVC(random_state=random_state)\n",
    "classifier.fit(X_train, y_train)\n",
    "y_score = classifier.decision_function(X_test)### Precison_Recall_Curve\n",
    "\n",
    "from sklearn.metrics import average_precision_score\n",
    "average_precision = average_precision_score(y_test, y_score)\n",
    "\n",
    "print('Average precision-recall score: {0:0.2f}'.format(\n",
    "      average_precision))\n",
    "\n",
    "from sklearn.metrics import precision_recall_curve\n",
    "import matplotlib.pyplot as plt\n",
    "\n",
    "precision, recall, _ = precision_recall_curve(y_test, y_score)\n",
    "\n",
    "plt.step(recall, precision, color='b', alpha=0.2,\n",
    "         where='post')\n",
    "plt.fill_between(recall, precision, step='post', alpha=0.2,\n",
    "                 color='b')\n",
    "\n",
    "plt.xlabel('Recall')\n",
    "plt.ylabel('Precision')\n",
    "plt.ylim([0.0, 1.05])\n",
    "plt.xlim([0.0, 1.0])\n",
    "plt.title('2-class Precision-Recall curve: AP={0:0.2f}'.format(\n",
    "          average_precision))\n",
    "plt.show()"
   ]
  },
  {
   "cell_type": "markdown",
   "metadata": {},
   "source": [
    "### Flatten the numpy array"
   ]
  },
  {
   "cell_type": "code",
   "execution_count": 5,
   "metadata": {},
   "outputs": [
    {
     "name": "stdout",
     "output_type": "stream",
     "text": [
      "[[1 2 3]\n",
      " [4 5 6]]\n",
      "[1 4 2 5 3 6]\n",
      "[1, 4, 2, 5, 3, 6]\n"
     ]
    }
   ],
   "source": [
    "import numpy as np\n",
    "some_array = np.array([[1,2,3],[4,5,6]])\n",
    "print(some_array)\n",
    "## https://docs.scipy.org/doc/numpy/reference/generated/numpy.ndarray.flatten.html#numpy.ndarray.flatten\n",
    "some_flattened_array = some_array.flatten('F')\n",
    "print(some_flattened_array)\n",
    "print(some_flattened_array.tolist())"
   ]
  },
  {
   "cell_type": "markdown",
   "metadata": {},
   "source": [
    "## 012518 python class intro  \n",
    "#### https://jeffknupp.com/blog/2014/06/18/improve-your-python-python-classes-and-object-oriented-programming/\n",
    "\n",
    "Since instances are always referenced through self, static methods have no self parameter."
   ]
  },
  {
   "cell_type": "code",
   "execution_count": 110,
   "metadata": {
    "collapsed": true
   },
   "outputs": [],
   "source": [
    "class Customer(object):\n",
    "    \"\"\"A customer of ABC bank with a checking account.\n",
    "       Customers have the following properties:\n",
    "       \n",
    "       Attributes:\n",
    "           name: A string represents the customer's name.\n",
    "           balance: A float tracking the current balance of the account.\n",
    "    \"\"\"\n",
    "    def __init__(self, name, balance=0.0):\n",
    "        \"\"\"Return a customer object whose name is *name* and \n",
    "        starting balance is *balance*.\"\"\"\n",
    "        self.name = name\n",
    "        self.balance = balance\n",
    "    \n",
    "    def withdraw(self, amount):\n",
    "        \"\"\"Return the balance remaining after withdrawing *amount*\"\"\"\n",
    "        if amount > self.balance:\n",
    "            raise RuntimeError(\"Amount is greater than available balance.\")\n",
    "        self.balance -= amount\n",
    "        return self.balance\n",
    "    \n",
    "    def deposit(self, amount):\n",
    "        \"\"\"Return the balacne remaining after depositing *amount*\"\"\"\n",
    "        self.balance += amount\n",
    "        return self.balance\n",
    "    \n",
    "    @staticmethod\n",
    "    def say_hi():\n",
    "        print(\"Hello...\")"
   ]
  },
  {
   "cell_type": "code",
   "execution_count": 113,
   "metadata": {},
   "outputs": [
    {
     "name": "stdout",
     "output_type": "stream",
     "text": [
      "9990\n",
      "10989\n",
      "Hello...\n",
      "A customer of ABC bank with a checking account.\n",
      "       Customers have the following properties:\n",
      "       \n",
      "       Attributes:\n",
      "           name: A string represents the customer's name.\n",
      "           balance: A float tracking the current balance of the account.\n",
      "    \n",
      "Return the balance remaining after withdrawing *amount*\n"
     ]
    }
   ],
   "source": [
    "customer_a = Customer(\"Mike\", 10000)\n",
    "print(customer_a.withdraw(10))\n",
    "print(customer_a.deposit(999))\n",
    "Customer.say_hi()\n",
    "\n",
    "print(Customer.__doc__)\n",
    "print(Customer.withdraw.__doc__)"
   ]
  },
  {
   "cell_type": "markdown",
   "metadata": {},
   "source": [
    "## 012518 python inheritance\n",
    "The SchoolMember class in this situation is known as the base class or the superclass. The Teacher and Student classes are called the derived classes or subclasses.\n",
    "\n",
    "**Note:** Since we are defining a __init__ method in Teacher and Student subclasses, Python does not automatically call the constructor of the base class SchoolMember, you have to explicitly call it yourself.\n",
    "\n",
    "In contrast, if we have not defined an __init__ method in a subclass, Python will call the constructor of the base class automatically."
   ]
  },
  {
   "cell_type": "code",
   "execution_count": 84,
   "metadata": {},
   "outputs": [
    {
     "name": "stdout",
     "output_type": "stream",
     "text": [
      "(Initialize schoolmember: Mr. Einstein)\n",
      "Initialize teacher: Mr. Einstein\n",
      "(Initialize schoolmember: Nate)\n",
      "Initialize a student: Nate\n",
      "(Initialize schoolmember: Tom)\n",
      "\n",
      "Nate works here. ---\n",
      "Name: Nate, Age: 4. ==> Marks: 92\n",
      "I like what I am doing.\n",
      "Mr. Einstein works here. ---\n",
      "Name: Mr. Einstein, Age: 45. ==> Salary: 60000\n",
      "I like what I am doing.\n",
      "Tom works here. ---\n",
      "Name: Tom, Age: 50. ==> Cool guy.\n",
      "Life is short.\n",
      "Total school member: 3.\n"
     ]
    }
   ],
   "source": [
    "class SchoolMember:    \n",
    "    \"\"\"Represent any school member.\"\"\"\n",
    "    \n",
    "    schoolmemCount = 0\n",
    "    \n",
    "    def __init__(self, name, age):\n",
    "        self.name = name\n",
    "        self.age = age\n",
    "        print('(Initialize schoolmember: {})'.format(self.name))\n",
    "        SchoolMember.schoolmemCount += 1\n",
    "        \n",
    "    def tell(self):\n",
    "        \"\"\"Tell me some details\"\"\"\n",
    "        print(\"Name: {}, Age: {}.\".format(self.name, self.age), end=\" ==> \")\n",
    "       \n",
    "    def say_something(self):\n",
    "        print(\"I like what I am doing.\")\n",
    "        \n",
    "    def __str__(self):\n",
    "        return \"{} works here.\".format(self.name)\n",
    "        \n",
    "    @classmethod\n",
    "    def displayCount(cls):\n",
    "        print (\"Total school member: {:d}.\".format(cls.schoolmemCount))\n",
    "        \n",
    "class Teacher(SchoolMember):\n",
    "    \"\"\"Represent a teacher.\"\"\"\n",
    "    def __init__(self, name, age, salary):\n",
    "        SchoolMember.__init__(self, name, age)\n",
    "        self.salary = salary\n",
    "        print(\"Initialize teacher: {}\".format(self.name))\n",
    "        \n",
    "    def tell(self):\n",
    "        SchoolMember.tell(self)\n",
    "        print(\"Salary: {:d}\".format(self.salary))\n",
    "\n",
    "class Student(SchoolMember):\n",
    "    \"\"\"Represent student.\"\"\"\n",
    "    def __init__(self, name, age, marks):\n",
    "        SchoolMember.__init__(self, name, age)\n",
    "        self.marks = marks\n",
    "        print(\"Initialize a student: {}\".format(self.name))\n",
    "    def tell(self):\n",
    "        SchoolMember.tell(self)\n",
    "        print(\"Marks: {:d}\".format(self.marks))\n",
    "        \n",
    "class Janitor(SchoolMember):\n",
    "    \"\"\"I don't use constructor here\"\"\"\n",
    "    def tell(self):\n",
    "        SchoolMember.tell(self)\n",
    "        print(\"Cool guy.\")\n",
    "    def say_something(self):\n",
    "        print(\"Life is short.\")\n",
    "\n",
    "t = Teacher('Mr. Einstein', 45, 60000)\n",
    "s = Student('Nate', 4, 92)\n",
    "j = Janitor('Tom', 50)\n",
    "\n",
    "# print a blank line\n",
    "print()\n",
    "\n",
    "members = [s, t, j]\n",
    "\n",
    "for member in members:\n",
    "    ## work for both teachers and students\n",
    "    print(str(member), '---')\n",
    "    member.tell()\n",
    "    member.say_something()\n",
    "    \n",
    "SchoolMember.displayCount()"
   ]
  },
  {
   "cell_type": "code",
   "execution_count": 85,
   "metadata": {},
   "outputs": [
    {
     "name": "stdout",
     "output_type": "stream",
     "text": [
      "True\n",
      "False\n",
      "60000\n",
      "Master\n",
      "After couple years...\n",
      "PhD\n"
     ]
    }
   ],
   "source": [
    "## built-in function to access attribute\n",
    "## https://www.tutorialspoint.com/python/python_classes_objects.htm\n",
    "\n",
    "print(hasattr(t,'salary'))\n",
    "print(hasattr(t,'marks'))\n",
    "\n",
    "print(getattr(t, 'salary'))\n",
    "\n",
    "t.edu = 'Master' ## add an 'edu' attribute\n",
    "\n",
    "print(getattr(t, 'edu'))\n",
    "\n",
    "print(\"After couple years...\")\n",
    "setattr(t, 'edu', 'PhD')\n",
    "print(getattr(t, 'edu'))\n"
   ]
  },
  {
   "cell_type": "code",
   "execution_count": 86,
   "metadata": {},
   "outputs": [
    {
     "name": "stdout",
     "output_type": "stream",
     "text": [
      "Mr. Einstein works here.\n",
      "<__main__.Teacher object at 0x11200b0b8>\n"
     ]
    }
   ],
   "source": [
    "print(str(t))\n",
    "print(repr(t))"
   ]
  },
  {
   "cell_type": "code",
   "execution_count": 74,
   "metadata": {},
   "outputs": [
    {
     "name": "stdout",
     "output_type": "stream",
     "text": [
      "SchoolMember.__doc__: Represent any school member.\n",
      "SchoolMember.__name__: SchoolMember\n",
      "SchoolMember.__module__: __main__\n",
      "SchoolMember.__dict__: {'__module__': '__main__', '__doc__': 'Represent any school member.', 'schoolmemCount': 3, '__init__': <function SchoolMember.__init__ at 0x111f9cd08>, 'tell': <function SchoolMember.tell at 0x111f9c378>, 'say_something': <function SchoolMember.say_something at 0x111f9c6a8>, '__str__': <function SchoolMember.__str__ at 0x111f9ce18>, 'displayCount': <classmethod object at 0x11200b6a0>, '__dict__': <attribute '__dict__' of 'SchoolMember' objects>, '__weakref__': <attribute '__weakref__' of 'SchoolMember' objects>}\n"
     ]
    }
   ],
   "source": [
    "print(\"SchoolMember.__doc__:\", SchoolMember.__doc__)\n",
    "print(\"SchoolMember.__name__:\", SchoolMember.__name__)\n",
    "print(\"SchoolMember.__module__:\", SchoolMember.__module__)\n",
    "print(\"SchoolMember.__dict__:\", SchoolMember.__dict__)\n"
   ]
  },
  {
   "cell_type": "markdown",
   "metadata": {},
   "source": [
    "## 012418 python class  \n",
    "#### https://python.swaroopch.com/oop.html\n"
   ]
  },
  {
   "cell_type": "code",
   "execution_count": 21,
   "metadata": {},
   "outputs": [
    {
     "name": "stdout",
     "output_type": "stream",
     "text": [
      "Init: iComeInPease\n",
      "Greeting from iComeInPease\n",
      "We have 1 robots.\n",
      "Init: moveOnBack\n",
      "Greeting from moveOnBack\n",
      "We have 2 robots.\n",
      "Represents a robot, with a name\n",
      "None\n",
      "print the current population\n",
      "Destroy process starts.\n",
      "iComeInPease is being destroyed\n",
      "There is still 1 robots.\n",
      "moveOnBack is being destroyed\n",
      "moveOnBack was the last one.\n",
      "We have 0 robots.\n"
     ]
    }
   ],
   "source": [
    "class Robot:\n",
    "    \"\"\"Represents a robot, with a name\"\"\"\n",
    "    \n",
    "    ## A class variable, counting the number of robots\n",
    "    \n",
    "    population = 0  ## population -> class variable\n",
    "    \n",
    "    def __init__(self, name):\n",
    "        \"\"\"Initalize a data\"\"\"\n",
    "        self.name = name  ## name -> object variable\n",
    "        print(\"Init: {}\".format(self.name))\n",
    "        \n",
    "        ## when this person is created, the robot adds to the population\n",
    "        Robot.population += 1\n",
    "    \n",
    "    def die(self):\n",
    "        \"\"\"I am dying\"\"\"\n",
    "        print(\"{} is being destroyed\".format(self.name))\n",
    "        \n",
    "        Robot.population -= 1\n",
    "        \n",
    "        if Robot.population == 0 :\n",
    "            print(\"{} was the last one.\".format(self.name))\n",
    "        else:\n",
    "            print(\"There is still {:d} robots.\".format(Robot.population))\n",
    "    \n",
    "    def say_hi(self):\n",
    "        print(\"Greeting from {}\".format(self.name))\n",
    "    \n",
    "    @classmethod\n",
    "    def how_many(cls):\n",
    "        \"\"\"print the current population\"\"\"\n",
    "        print(\"We have {} robots.\".format(cls.population))\n",
    "        \n",
    "rob1 = Robot(\"iComeInPease\")\n",
    "rob1.say_hi()\n",
    "Robot.how_many()\n",
    "\n",
    "rob2 = Robot(\"moveOnBack\")\n",
    "rob2.say_hi()\n",
    "Robot.how_many()\n",
    "\n",
    "print(Robot.__doc__)\n",
    "print(Robot.say_hi.__doc__)\n",
    "print(Robot.how_many.__doc__)\n",
    "\n",
    "print(\"Destroy process starts.\")\n",
    "\n",
    "rob1.die()\n",
    "rob2.die()\n",
    "\n",
    "Robot.how_many()\n",
    "\n"
   ]
  },
  {
   "cell_type": "code",
   "execution_count": 8,
   "metadata": {},
   "outputs": [
    {
     "name": "stdout",
     "output_type": "stream",
     "text": [
      "<__main__.Person object at 0x111f03ef0>\n",
      "Hello. My name is Emily\n"
     ]
    }
   ],
   "source": [
    "class Person:\n",
    "    \n",
    "    def __init__(self, name):\n",
    "        self.name = name\n",
    "    \n",
    "    \n",
    "    def say_hi(self):\n",
    "        print(\"Hello. My name is\", self.name)\n",
    "    ## pass ## an empty block\n",
    "\n",
    "p = Person('Emily')\n",
    "print(p)\n",
    "p.say_hi()  ## or Person().say_hi()"
   ]
  },
  {
   "cell_type": "code",
   "execution_count": 1,
   "metadata": {},
   "outputs": [
    {
     "data": {
      "text/html": [
       "<div>\n",
       "<style>\n",
       "    .dataframe thead tr:only-child th {\n",
       "        text-align: right;\n",
       "    }\n",
       "\n",
       "    .dataframe thead th {\n",
       "        text-align: left;\n",
       "    }\n",
       "\n",
       "    .dataframe tbody tr th {\n",
       "        vertical-align: top;\n",
       "    }\n",
       "</style>\n",
       "<table border=\"1\" class=\"dataframe\">\n",
       "  <thead>\n",
       "    <tr style=\"text-align: right;\">\n",
       "      <th>attributes</th>\n",
       "      <th>id</th>\n",
       "      <th>city</th>\n",
       "      <th>rank</th>\n",
       "      <th>population</th>\n",
       "    </tr>\n",
       "    <tr>\n",
       "      <th>letter</th>\n",
       "      <th></th>\n",
       "      <th></th>\n",
       "      <th></th>\n",
       "      <th></th>\n",
       "    </tr>\n",
       "  </thead>\n",
       "  <tbody>\n",
       "    <tr>\n",
       "      <th>A</th>\n",
       "      <td>6</td>\n",
       "      <td>New York</td>\n",
       "      <td>39</td>\n",
       "      <td>3M</td>\n",
       "    </tr>\n",
       "    <tr>\n",
       "      <th>B</th>\n",
       "      <td>7</td>\n",
       "      <td>Tainan</td>\n",
       "      <td>1</td>\n",
       "      <td>720K</td>\n",
       "    </tr>\n",
       "    <tr>\n",
       "      <th>C</th>\n",
       "      <td>8</td>\n",
       "      <td>Storrs</td>\n",
       "      <td>20</td>\n",
       "      <td>10K</td>\n",
       "    </tr>\n",
       "    <tr>\n",
       "      <th>D</th>\n",
       "      <td>9</td>\n",
       "      <td>Atlantic City</td>\n",
       "      <td>15</td>\n",
       "      <td>50K</td>\n",
       "    </tr>\n",
       "  </tbody>\n",
       "</table>\n",
       "</div>"
      ],
      "text/plain": [
       "attributes  id           city rank population\n",
       "letter                                       \n",
       "A            6       New York   39         3M\n",
       "B            7         Tainan    1       720K\n",
       "C            8         Storrs   20        10K\n",
       "D            9  Atlantic City   15        50K"
      ]
     },
     "execution_count": 1,
     "metadata": {},
     "output_type": "execute_result"
    }
   ],
   "source": [
    "import pandas as pd\n",
    "\n",
    "raw_data = {\n",
    "    'id' : [6,7,8,9],\n",
    "    'city' : ['New York', 'Tainan', 'Storrs', 'Atlantic City'],\n",
    "    'rank' : ['39', '1', '20', '15'],\n",
    "    'population' : ['3M', '720K', '10K', '50K']\n",
    "}\n",
    "\n",
    "df_city_info = pd.DataFrame(raw_data, \n",
    "                            index = pd.Index(['A', 'B', 'C', 'D'], name='letter'),\n",
    "                            columns = pd.Index(['id', 'city', 'rank', 'population'], name='attributes'))\n",
    "\n",
    "df_city_info"
   ]
  },
  {
   "cell_type": "code",
   "execution_count": 2,
   "metadata": {
    "collapsed": true
   },
   "outputs": [],
   "source": [
    "df_city_info_stack = df_city_info.stack(0)"
   ]
  },
  {
   "cell_type": "code",
   "execution_count": 3,
   "metadata": {},
   "outputs": [
    {
     "data": {
      "text/html": [
       "<div>\n",
       "<style>\n",
       "    .dataframe thead tr:only-child th {\n",
       "        text-align: right;\n",
       "    }\n",
       "\n",
       "    .dataframe thead th {\n",
       "        text-align: left;\n",
       "    }\n",
       "\n",
       "    .dataframe tbody tr th {\n",
       "        vertical-align: top;\n",
       "    }\n",
       "</style>\n",
       "<table border=\"1\" class=\"dataframe\">\n",
       "  <thead>\n",
       "    <tr style=\"text-align: right;\">\n",
       "      <th>attributes</th>\n",
       "      <th>id</th>\n",
       "      <th>city</th>\n",
       "      <th>rank</th>\n",
       "      <th>population</th>\n",
       "    </tr>\n",
       "    <tr>\n",
       "      <th>letter</th>\n",
       "      <th></th>\n",
       "      <th></th>\n",
       "      <th></th>\n",
       "      <th></th>\n",
       "    </tr>\n",
       "  </thead>\n",
       "  <tbody>\n",
       "    <tr>\n",
       "      <th>A</th>\n",
       "      <td>6</td>\n",
       "      <td>New York</td>\n",
       "      <td>39</td>\n",
       "      <td>3M</td>\n",
       "    </tr>\n",
       "    <tr>\n",
       "      <th>B</th>\n",
       "      <td>7</td>\n",
       "      <td>Tainan</td>\n",
       "      <td>1</td>\n",
       "      <td>720K</td>\n",
       "    </tr>\n",
       "    <tr>\n",
       "      <th>C</th>\n",
       "      <td>8</td>\n",
       "      <td>Storrs</td>\n",
       "      <td>20</td>\n",
       "      <td>10K</td>\n",
       "    </tr>\n",
       "    <tr>\n",
       "      <th>D</th>\n",
       "      <td>9</td>\n",
       "      <td>Atlantic City</td>\n",
       "      <td>15</td>\n",
       "      <td>50K</td>\n",
       "    </tr>\n",
       "  </tbody>\n",
       "</table>\n",
       "</div>"
      ],
      "text/plain": [
       "attributes id           city rank population\n",
       "letter                                      \n",
       "A           6       New York   39         3M\n",
       "B           7         Tainan    1       720K\n",
       "C           8         Storrs   20        10K\n",
       "D           9  Atlantic City   15        50K"
      ]
     },
     "execution_count": 3,
     "metadata": {},
     "output_type": "execute_result"
    }
   ],
   "source": [
    "df_city_info_stack.unstack()"
   ]
  },
  {
   "cell_type": "code",
   "execution_count": 4,
   "metadata": {},
   "outputs": [
    {
     "data": {
      "text/html": [
       "<div>\n",
       "<style>\n",
       "    .dataframe thead tr:only-child th {\n",
       "        text-align: right;\n",
       "    }\n",
       "\n",
       "    .dataframe thead th {\n",
       "        text-align: left;\n",
       "    }\n",
       "\n",
       "    .dataframe tbody tr th {\n",
       "        vertical-align: top;\n",
       "    }\n",
       "</style>\n",
       "<table border=\"1\" class=\"dataframe\">\n",
       "  <thead>\n",
       "    <tr style=\"text-align: right;\">\n",
       "      <th>letter</th>\n",
       "      <th>A</th>\n",
       "      <th>B</th>\n",
       "      <th>C</th>\n",
       "      <th>D</th>\n",
       "    </tr>\n",
       "    <tr>\n",
       "      <th>attributes</th>\n",
       "      <th></th>\n",
       "      <th></th>\n",
       "      <th></th>\n",
       "      <th></th>\n",
       "    </tr>\n",
       "  </thead>\n",
       "  <tbody>\n",
       "    <tr>\n",
       "      <th>id</th>\n",
       "      <td>6</td>\n",
       "      <td>7</td>\n",
       "      <td>8</td>\n",
       "      <td>9</td>\n",
       "    </tr>\n",
       "    <tr>\n",
       "      <th>city</th>\n",
       "      <td>New York</td>\n",
       "      <td>Tainan</td>\n",
       "      <td>Storrs</td>\n",
       "      <td>Atlantic City</td>\n",
       "    </tr>\n",
       "    <tr>\n",
       "      <th>rank</th>\n",
       "      <td>39</td>\n",
       "      <td>1</td>\n",
       "      <td>20</td>\n",
       "      <td>15</td>\n",
       "    </tr>\n",
       "    <tr>\n",
       "      <th>population</th>\n",
       "      <td>3M</td>\n",
       "      <td>720K</td>\n",
       "      <td>10K</td>\n",
       "      <td>50K</td>\n",
       "    </tr>\n",
       "  </tbody>\n",
       "</table>\n",
       "</div>"
      ],
      "text/plain": [
       "letter             A       B       C              D\n",
       "attributes                                         \n",
       "id                 6       7       8              9\n",
       "city        New York  Tainan  Storrs  Atlantic City\n",
       "rank              39       1      20             15\n",
       "population        3M    720K     10K            50K"
      ]
     },
     "execution_count": 4,
     "metadata": {},
     "output_type": "execute_result"
    }
   ],
   "source": [
    "df_city_info_stack.unstack(0)"
   ]
  },
  {
   "cell_type": "code",
   "execution_count": 5,
   "metadata": {},
   "outputs": [
    {
     "data": {
      "text/html": [
       "<div>\n",
       "<style>\n",
       "    .dataframe thead tr:only-child th {\n",
       "        text-align: right;\n",
       "    }\n",
       "\n",
       "    .dataframe thead th {\n",
       "        text-align: left;\n",
       "    }\n",
       "\n",
       "    .dataframe tbody tr th {\n",
       "        vertical-align: top;\n",
       "    }\n",
       "</style>\n",
       "<table border=\"1\" class=\"dataframe\">\n",
       "  <thead>\n",
       "    <tr style=\"text-align: right;\">\n",
       "      <th>attributes</th>\n",
       "      <th>id</th>\n",
       "      <th>city</th>\n",
       "      <th>rank</th>\n",
       "      <th>population</th>\n",
       "    </tr>\n",
       "    <tr>\n",
       "      <th>letter</th>\n",
       "      <th></th>\n",
       "      <th></th>\n",
       "      <th></th>\n",
       "      <th></th>\n",
       "    </tr>\n",
       "  </thead>\n",
       "  <tbody>\n",
       "    <tr>\n",
       "      <th>A</th>\n",
       "      <td>6</td>\n",
       "      <td>New York</td>\n",
       "      <td>39</td>\n",
       "      <td>3M</td>\n",
       "    </tr>\n",
       "    <tr>\n",
       "      <th>B</th>\n",
       "      <td>7</td>\n",
       "      <td>Tainan</td>\n",
       "      <td>1</td>\n",
       "      <td>720K</td>\n",
       "    </tr>\n",
       "    <tr>\n",
       "      <th>C</th>\n",
       "      <td>8</td>\n",
       "      <td>Storrs</td>\n",
       "      <td>20</td>\n",
       "      <td>10K</td>\n",
       "    </tr>\n",
       "    <tr>\n",
       "      <th>D</th>\n",
       "      <td>9</td>\n",
       "      <td>Atlantic City</td>\n",
       "      <td>15</td>\n",
       "      <td>50K</td>\n",
       "    </tr>\n",
       "  </tbody>\n",
       "</table>\n",
       "</div>"
      ],
      "text/plain": [
       "attributes id           city rank population\n",
       "letter                                      \n",
       "A           6       New York   39         3M\n",
       "B           7         Tainan    1       720K\n",
       "C           8         Storrs   20        10K\n",
       "D           9  Atlantic City   15        50K"
      ]
     },
     "execution_count": 5,
     "metadata": {},
     "output_type": "execute_result"
    }
   ],
   "source": [
    "df_city_info_stack.unstack(1)"
   ]
  },
  {
   "cell_type": "code",
   "execution_count": null,
   "metadata": {
    "collapsed": true
   },
   "outputs": [],
   "source": []
  },
  {
   "cell_type": "markdown",
   "metadata": {},
   "source": [
    "## Map ##\n",
    "http://www.bogotobogo.com/python/python_fncs_map_filter_reduce.php"
   ]
  },
  {
   "cell_type": "code",
   "execution_count": 6,
   "metadata": {},
   "outputs": [
    {
     "data": {
      "text/plain": [
       "[1, 4, 9]"
      ]
     },
     "execution_count": 6,
     "metadata": {},
     "output_type": "execute_result"
    }
   ],
   "source": [
    "list(map((lambda x: x **2), [1, 2, 3]))"
   ]
  },
  {
   "cell_type": "code",
   "execution_count": 7,
   "metadata": {},
   "outputs": [
    {
     "data": {
      "text/plain": [
       "[1024, 177147, 16777216]"
      ]
     },
     "execution_count": 7,
     "metadata": {},
     "output_type": "execute_result"
    }
   ],
   "source": [
    "list(map(pow, [2,3,4], [10, 11, 12]))"
   ]
  },
  {
   "cell_type": "markdown",
   "metadata": {},
   "source": [
    "## Filter ##"
   ]
  },
  {
   "cell_type": "code",
   "execution_count": 8,
   "metadata": {},
   "outputs": [
    {
     "data": {
      "text/plain": [
       "[-5, -4, -3, -2, -1]"
      ]
     },
     "execution_count": 8,
     "metadata": {},
     "output_type": "execute_result"
    }
   ],
   "source": [
    "list( filter((lambda x: x < 0), range(-5,5)))"
   ]
  },
  {
   "cell_type": "code",
   "execution_count": 9,
   "metadata": {},
   "outputs": [
    {
     "name": "stdout",
     "output_type": "stream",
     "text": [
      "[2, 3, 5, 7]\n"
     ]
    }
   ],
   "source": [
    "a = [1,2,3,5,7,9]\n",
    "b = [2,3,5,6,7,8]\n",
    "print (list(filter(lambda x: x in a, b)))  # prints out [2, 3, 5, 7]"
   ]
  },
  {
   "cell_type": "markdown",
   "metadata": {},
   "source": [
    "## Reduce ##"
   ]
  },
  {
   "cell_type": "code",
   "execution_count": 10,
   "metadata": {},
   "outputs": [
    {
     "data": {
      "text/plain": [
       "'Testing shows the presence, not the absence of bugs'"
      ]
     },
     "execution_count": 10,
     "metadata": {},
     "output_type": "execute_result"
    }
   ],
   "source": [
    "import functools\n",
    "L = ['Testing ', 'shows ', 'the ', 'presence', ', ','not ', 'the ', 'absence ', 'of ', 'bugs']\n",
    "functools.reduce( (lambda x,y:x+y), L)"
   ]
  },
  {
   "cell_type": "code",
   "execution_count": 11,
   "metadata": {},
   "outputs": [
    {
     "data": {
      "text/plain": [
       "'Testing shows the presence, not the absence of bugs'"
      ]
     },
     "execution_count": 11,
     "metadata": {},
     "output_type": "execute_result"
    }
   ],
   "source": [
    "''.join(L)"
   ]
  },
  {
   "cell_type": "code",
   "execution_count": 12,
   "metadata": {},
   "outputs": [
    {
     "data": {
      "text/plain": [
       "'Testing shows the presence, not the absence of bugs'"
      ]
     },
     "execution_count": 12,
     "metadata": {},
     "output_type": "execute_result"
    }
   ],
   "source": [
    "import functools, operator\n",
    "functools.reduce(operator.add, L)"
   ]
  },
  {
   "cell_type": "markdown",
   "metadata": {},
   "source": [
    "## Assign dataframe ##"
   ]
  },
  {
   "cell_type": "code",
   "execution_count": 13,
   "metadata": {},
   "outputs": [
    {
     "data": {
      "text/html": [
       "<div>\n",
       "<style>\n",
       "    .dataframe thead tr:only-child th {\n",
       "        text-align: right;\n",
       "    }\n",
       "\n",
       "    .dataframe thead th {\n",
       "        text-align: left;\n",
       "    }\n",
       "\n",
       "    .dataframe tbody tr th {\n",
       "        vertical-align: top;\n",
       "    }\n",
       "</style>\n",
       "<table border=\"1\" class=\"dataframe\">\n",
       "  <thead>\n",
       "    <tr style=\"text-align: right;\">\n",
       "      <th></th>\n",
       "      <th>A</th>\n",
       "      <th>B</th>\n",
       "      <th>C</th>\n",
       "    </tr>\n",
       "  </thead>\n",
       "  <tbody>\n",
       "    <tr>\n",
       "      <th>0</th>\n",
       "      <td>-0.280553</td>\n",
       "      <td>-0.952247</td>\n",
       "      <td>-0.445539</td>\n",
       "    </tr>\n",
       "    <tr>\n",
       "      <th>1</th>\n",
       "      <td>0.506626</td>\n",
       "      <td>0.607370</td>\n",
       "      <td>-0.183443</td>\n",
       "    </tr>\n",
       "    <tr>\n",
       "      <th>2</th>\n",
       "      <td>2.043525</td>\n",
       "      <td>-0.790702</td>\n",
       "      <td>1.451456</td>\n",
       "    </tr>\n",
       "    <tr>\n",
       "      <th>3</th>\n",
       "      <td>NaN</td>\n",
       "      <td>0.615766</td>\n",
       "      <td>-1.193391</td>\n",
       "    </tr>\n",
       "    <tr>\n",
       "      <th>4</th>\n",
       "      <td>NaN</td>\n",
       "      <td>NaN</td>\n",
       "      <td>-1.162201</td>\n",
       "    </tr>\n",
       "    <tr>\n",
       "      <th>5</th>\n",
       "      <td>-1.194305</td>\n",
       "      <td>NaN</td>\n",
       "      <td>NaN</td>\n",
       "    </tr>\n",
       "    <tr>\n",
       "      <th>6</th>\n",
       "      <td>0.183962</td>\n",
       "      <td>0.102477</td>\n",
       "      <td>NaN</td>\n",
       "    </tr>\n",
       "    <tr>\n",
       "      <th>7</th>\n",
       "      <td>-1.441511</td>\n",
       "      <td>0.357323</td>\n",
       "      <td>NaN</td>\n",
       "    </tr>\n",
       "    <tr>\n",
       "      <th>8</th>\n",
       "      <td>0.354610</td>\n",
       "      <td>0.840561</td>\n",
       "      <td>0.670454</td>\n",
       "    </tr>\n",
       "    <tr>\n",
       "      <th>9</th>\n",
       "      <td>0.871472</td>\n",
       "      <td>0.747167</td>\n",
       "      <td>0.795437</td>\n",
       "    </tr>\n",
       "  </tbody>\n",
       "</table>\n",
       "</div>"
      ],
      "text/plain": [
       "          A         B         C\n",
       "0 -0.280553 -0.952247 -0.445539\n",
       "1  0.506626  0.607370 -0.183443\n",
       "2  2.043525 -0.790702  1.451456\n",
       "3       NaN  0.615766 -1.193391\n",
       "4       NaN       NaN -1.162201\n",
       "5 -1.194305       NaN       NaN\n",
       "6  0.183962  0.102477       NaN\n",
       "7 -1.441511  0.357323       NaN\n",
       "8  0.354610  0.840561  0.670454\n",
       "9  0.871472  0.747167  0.795437"
      ]
     },
     "execution_count": 13,
     "metadata": {},
     "output_type": "execute_result"
    }
   ],
   "source": [
    "import numpy as np\n",
    "import pandas as pd\n",
    "dff = pd.DataFrame(np.random.randn(10,3), columns=list('ABC'))\n",
    "dff.iloc[3:5,0] = np.nan\n",
    "dff.iloc[4:6,1] = np.nan\n",
    "dff.iloc[5:8,2] = np.nan\n",
    "\n",
    "dff"
   ]
  },
  {
   "cell_type": "code",
   "execution_count": 14,
   "metadata": {},
   "outputs": [
    {
     "data": {
      "text/plain": [
       "True"
      ]
     },
     "execution_count": 14,
     "metadata": {},
     "output_type": "execute_result"
    }
   ],
   "source": [
    "dff.A.isnull().any()"
   ]
  },
  {
   "cell_type": "code",
   "execution_count": 15,
   "metadata": {},
   "outputs": [
    {
     "name": "stdout",
     "output_type": "stream",
     "text": [
      "<class 'pandas.core.frame.DataFrame'>\n",
      "RangeIndex: 10 entries, 0 to 9\n",
      "Data columns (total 3 columns):\n",
      "A    8 non-null float64\n",
      "B    8 non-null float64\n",
      "C    7 non-null float64\n",
      "dtypes: float64(3)\n",
      "memory usage: 320.0 bytes\n"
     ]
    }
   ],
   "source": [
    "dff.info()"
   ]
  },
  {
   "cell_type": "markdown",
   "metadata": {},
   "source": [
    "## Merge example ##"
   ]
  },
  {
   "cell_type": "code",
   "execution_count": 16,
   "metadata": {
    "collapsed": true
   },
   "outputs": [],
   "source": [
    "import pandas as pd\n",
    "left = pd.DataFrame({'key': ['K0', 'K1', 'K2', 'K3'],\n",
    "                       'A': ['A0', 'A1', 'A2', 'A3'],\n",
    "                       'B': ['B0', 'B1', 'B2', 'B3']})\n",
    "\n",
    "left_more = pd.DataFrame({'key': ['K0', 'K1', 'K2', 'K3', 'K4', 'K0'],\n",
    "                       'A': ['A0', 'A1', 'A2', 'A3', 'A4', 'A0'],\n",
    "                       'B': ['B0', 'B1', 'B2', 'B3', 'B4', 'B0']})\n",
    "\n",
    "\n",
    "right = pd.DataFrame({'key': ['K0', 'K1', 'K2', 'K3'],  \n",
    "                      'C': ['C0', 'C1', 'C2', 'C3'],\n",
    "                      'D': ['D0', 'D1', 'D2', 'D3']})\n",
    " "
   ]
  },
  {
   "cell_type": "code",
   "execution_count": 17,
   "metadata": {},
   "outputs": [
    {
     "name": "stdout",
     "output_type": "stream",
     "text": [
      "    A   B key\n",
      "0  A0  B0  K0\n",
      "1  A1  B1  K1\n",
      "2  A2  B2  K2\n",
      "3  A3  B3  K3\n"
     ]
    }
   ],
   "source": [
    "print(left)"
   ]
  },
  {
   "cell_type": "code",
   "execution_count": 18,
   "metadata": {},
   "outputs": [
    {
     "name": "stdout",
     "output_type": "stream",
     "text": [
      "    A   B key\n",
      "0  A0  B0  K0\n",
      "1  A1  B1  K1\n",
      "2  A2  B2  K2\n",
      "3  A3  B3  K3\n",
      "4  A4  B4  K4\n",
      "5  A0  B0  K0\n"
     ]
    }
   ],
   "source": [
    "print (left_more)"
   ]
  },
  {
   "cell_type": "code",
   "execution_count": 19,
   "metadata": {},
   "outputs": [
    {
     "data": {
      "text/html": [
       "<div>\n",
       "<style>\n",
       "    .dataframe thead tr:only-child th {\n",
       "        text-align: right;\n",
       "    }\n",
       "\n",
       "    .dataframe thead th {\n",
       "        text-align: left;\n",
       "    }\n",
       "\n",
       "    .dataframe tbody tr th {\n",
       "        vertical-align: top;\n",
       "    }\n",
       "</style>\n",
       "<table border=\"1\" class=\"dataframe\">\n",
       "  <thead>\n",
       "    <tr style=\"text-align: right;\">\n",
       "      <th></th>\n",
       "      <th>A</th>\n",
       "      <th>B</th>\n",
       "      <th>key</th>\n",
       "    </tr>\n",
       "  </thead>\n",
       "  <tbody>\n",
       "    <tr>\n",
       "      <th>1</th>\n",
       "      <td>A1</td>\n",
       "      <td>B1</td>\n",
       "      <td>K1</td>\n",
       "    </tr>\n",
       "  </tbody>\n",
       "</table>\n",
       "</div>"
      ],
      "text/plain": [
       "    A   B key\n",
       "1  A1  B1  K1"
      ]
     },
     "execution_count": 19,
     "metadata": {},
     "output_type": "execute_result"
    }
   ],
   "source": [
    "left[left['key'] == 'K1']"
   ]
  },
  {
   "cell_type": "code",
   "execution_count": 20,
   "metadata": {},
   "outputs": [
    {
     "name": "stdout",
     "output_type": "stream",
     "text": [
      "    A key_x key_y\n",
      "0  A0    K0    K0\n",
      "1  A0    K0    K0\n",
      "2  A1    K1    K1\n",
      "3  A2    K2    K2\n",
      "4  A3    K3    K3\n"
     ]
    }
   ],
   "source": [
    "left_and_more_inner = pd.merge(left[['A', 'key']], left_more[['A', 'key']], how='inner', on='A')\n",
    "print(left_and_more_inner)"
   ]
  },
  {
   "cell_type": "code",
   "execution_count": null,
   "metadata": {
    "collapsed": true
   },
   "outputs": [],
   "source": [
    "    \n",
    "## DataFrame.duplicated(subset=None, keep='first')[source]\n",
    "\n",
    "left_more_dup_in_A = left_more.duplicated()\n",
    "\n",
    "print(left_more_dup_in_A.value_counts())\n",
    "\n",
    "print(left_more.duplicated())\n",
    "print(left_more['A'].duplicated())\n",
    "print(left_more_dup_in_A.values)\n",
    "\n",
    "print(left_more[left_more_dup_in_A.values])\n",
    "print(type(left_more_dup_in_A))\n",
    "\n",
    "print(left)\n",
    "print(\" \")\n",
    "print(left_more)\n",
    "print(\" \")\n",
    "print(right)\n",
    "\n",
    "mix_on = pd.merge(left_more[['A', 'key']], right[['C', 'key']], on='key')\n",
    "\n",
    "print(mix_on)\n",
    "\n",
    "mix_left = pd.merge(left_more[['A', 'key']], right[['C', 'key']], how='left', on='key')\n",
    "\n",
    "print(mix_left)\n",
    "\n",
    "left_and_more_left = pd.merge(left[['A', 'key']], left_more[['A', 'key']], how='left', on='A')\n",
    "print(left_and_more_left)\n",
    "\n",
    "\n",
    "left_and_more_inner = pd.merge(left[['A', 'key']], left_more[['A', 'key']], how='inner', on='A')\n",
    "print(left_and_more_inner)\n",
    "\n",
    "\n",
    "left_and_more_right = pd.merge(left[['A', 'key']], left_more[['A', 'key']], how='right', on='A')\n",
    "print(left_and_more_right)"
   ]
  },
  {
   "cell_type": "markdown",
   "metadata": {},
   "source": [
    "| code | label |\n",
    "| :--: |:--|\n",
    "|1|Fatal|\n",
    "|2|Serious|\n",
    "|3|Slight|"
   ]
  },
  {
   "cell_type": "code",
   "execution_count": null,
   "metadata": {
    "collapsed": true
   },
   "outputs": [],
   "source": []
  },
  {
   "cell_type": "code",
   "execution_count": null,
   "metadata": {
    "collapsed": true
   },
   "outputs": [],
   "source": [
    "print(__doc__)\n",
    "\n",
    "from time import time\n",
    "\n",
    "import matplotlib.pyplot as plt\n",
    "from mpl_toolkits.mplot3d import Axes3D\n",
    "from matplotlib.ticker import NullFormatter\n",
    "\n",
    "from sklearn import manifold, datasets\n",
    "\n",
    "# Next line to silence pyflakes. This import is needed.\n",
    "Axes3D\n",
    "\n",
    "n_points = 1000\n",
    "X, color = datasets.samples_generator.make_s_curve(n_points, random_state=0)\n",
    "n_neighbors = 10\n",
    "n_components = 2"
   ]
  },
  {
   "cell_type": "code",
   "execution_count": null,
   "metadata": {
    "collapsed": true
   },
   "outputs": [],
   "source": [
    "print(X.shape)\n",
    "print(color.shape)"
   ]
  },
  {
   "cell_type": "code",
   "execution_count": null,
   "metadata": {
    "collapsed": true
   },
   "outputs": [],
   "source": [
    "fig = plt.figure(figsize=(15, 8))\n",
    "plt.suptitle(\"Manifold Learning with {} points and {} neighbors.\"\\\n",
    "             .format(n_points, n_neighbors), fontsize=14)\n",
    "\n",
    "ax = fig.add_subplot(251, projection='3d')\n",
    "ax.scatter(X[:, 0], X[:, 1], X[:, 2], c=color, cmap=plt.cm.Spectral)\n",
    "ax.view_init(4, -72)"
   ]
  },
  {
   "cell_type": "code",
   "execution_count": null,
   "metadata": {
    "collapsed": true
   },
   "outputs": [],
   "source": [
    "methods = ['standard', 'ltsa', 'hessian', 'modified']\n",
    "labels = ['LLE', 'LTSA', 'Hessian LLE', 'Modified LLE']\n",
    "plt.clf()\n",
    "for i, method in enumerate(methods):\n",
    "    t0 = time()\n",
    "    Y = manifold.LocallyLinearEmbedding(n_neighbors, n_components, \\\n",
    "                                       eigen_solver='auto',\\\n",
    "                                       method=method).fit_transform(X)\n",
    "    t1 = time()\n",
    "    print(\"{:s}: {:.2g} sec\".format(methods[i], t1 - t0))\n",
    "    \n",
    "    ax = fig.add_subplot(252 + i)\n",
    "    plt.scatter(Y[:, 0], Y[:, 1], c=color, cmap=plt.cm.Spectral)\n",
    "    plt.title(\"{:s} ({:.2g} sec)\".format(labels[i], t1- t0))\n",
    "    ax.xaxis.set_major_formatter(NullFormatter())\n",
    "    ax.yaxis.set_major_formatter(NullFormatter())\n",
    "    plt.axis('tight')\n",
    "\n",
    "t0 = time()\n",
    "Y = manifold.Isomap(n_neighbors, n_components).fit_transform(X)\n",
    "t1 = time()\n",
    "print(\"Isomap: %.2g sec\" % (t1 - t0))\n",
    "ax = fig.add_subplot(257)\n",
    "plt.scatter(Y[:, 0], Y[:, 1], c=color, cmap=plt.cm.Spectral)\n",
    "plt.title(\"Isomap (%.2g sec)\" % (t1 - t0))\n",
    "ax.xaxis.set_major_formatter(NullFormatter())\n",
    "ax.yaxis.set_major_formatter(NullFormatter())\n",
    "plt.axis('tight')\n",
    "    \n",
    "t0 = time()\n",
    "Y = manifold.MDS(n_components, max_iter=100, n_init=1).fit_transform(X)\n",
    "t1 = time()\n",
    "print(\"MDS: %.2g sec\" % (t1 - t0))\n",
    "ax = fig.add_subplot(258)\n",
    "plt.scatter(Y[:, 0], Y[:, 1], c=color, cmap=plt.cm.Spectral)\n",
    "plt.title(\"MDS (%.2g sec)\" % (t1 - t0))\n",
    "ax.xaxis.set_major_formatter(NullFormatter())\n",
    "ax.yaxis.set_major_formatter(NullFormatter())\n",
    "plt.axis('tight')\n",
    "\n",
    "t0 = time()\n",
    "Y = manifold.SpectralEmbedding(n_components=n_components,\n",
    "                                n_neighbors=n_neighbors).fit_transform(X)\n",
    "t1 = time()\n",
    "print(\"SpectralEmbedding: %.2g sec\" % (t1 - t0))\n",
    "ax = fig.add_subplot(259)\n",
    "plt.scatter(Y[:, 0], Y[:, 1], c=color, cmap=plt.cm.Spectral)\n",
    "plt.title(\"SpectralEmbedding (%.2g sec)\" % (t1 - t0))\n",
    "ax.xaxis.set_major_formatter(NullFormatter())\n",
    "ax.yaxis.set_major_formatter(NullFormatter())\n",
    "plt.axis('tight')\n",
    "\n",
    "t0 = time()\n",
    "Y = manifold.TSNE(n_components=n_components, init='pca', random_state=0).fit_transform(X)\n",
    "t1 = time()\n",
    "print(\"t-SNE: %.2g sec\" % (t1 - t0))\n",
    "ax = fig.add_subplot(2, 5, 10)\n",
    "plt.scatter(Y[:, 0], Y[:, 1], c=color, cmap=plt.cm.Spectral)\n",
    "plt.title(\"t-SNE (%.2g sec)\" % (t1 - t0))\n",
    "ax.xaxis.set_major_formatter(NullFormatter())\n",
    "ax.yaxis.set_major_formatter(NullFormatter())\n",
    "plt.axis('tight')\n",
    "\n",
    "    \n",
    "plt.show()\n",
    "plt.gcf().clear()"
   ]
  },
  {
   "cell_type": "code",
   "execution_count": null,
   "metadata": {
    "collapsed": true
   },
   "outputs": [],
   "source": []
  },
  {
   "cell_type": "markdown",
   "metadata": {},
   "source": [
    "### Remove the N/A data entry ###"
   ]
  },
  {
   "cell_type": "code",
   "execution_count": null,
   "metadata": {
    "collapsed": true
   },
   "outputs": [],
   "source": [
    "## http://scikit-learn.org/stable/auto_examples/manifold/plot_compare_methods.html#sphx-glr-auto-examples-manifold-plot-compare-methods-py\n",
    "print(__doc__)\n",
    "\n",
    "from time import time\n",
    "import pandas as pd\n",
    "import numpy as np\n",
    "from IPython.display import display\n",
    "\n",
    "\n",
    "from sklearn.datasets import load_iris\n",
    "\n",
    "import matplotlib.pyplot as plt\n",
    "from mpl_toolkits.mplot3d import Axes3D\n",
    "from matplotlib.ticker import NullFormatter\n",
    "from sklearn import manifold, datasets\n",
    "\n",
    "iris_data = load_iris()\n",
    "\n",
    "iris_x = iris_data.data\n",
    "iris_y = iris_data.target\n",
    "\n",
    "#print(iris_x)\n",
    "# df1 = pd.DataFrame({'A': [np.nan, '9', '23', '15'],\n",
    "#                     'B': ['22', '-4', '0', '-4'],\n",
    "#                     'C': ['90', '33', 0, '0'],\n",
    "#                     'D': ['994', np.nan, '5', '432']},\n",
    "#                     index=[0, 1, 2, 3])\n",
    "# print(\"Watch out the difference between integer and string\")\n",
    "# print(df1) "
   ]
  },
  {
   "cell_type": "code",
   "execution_count": null,
   "metadata": {
    "collapsed": true
   },
   "outputs": [],
   "source": [
    "print(iris_x[:3])"
   ]
  },
  {
   "cell_type": "code",
   "execution_count": null,
   "metadata": {
    "collapsed": true
   },
   "outputs": [],
   "source": [
    "print(dir(iris_data))\n",
    "print(iris_data.feature_names)\n",
    "print(iris_data.target_names)\n"
   ]
  },
  {
   "cell_type": "code",
   "execution_count": null,
   "metadata": {
    "collapsed": true
   },
   "outputs": [],
   "source": [
    "df1 = pd.DataFrame(iris_x, columns=iris_data.feature_names)\n",
    "display(df1.head(3))"
   ]
  },
  {
   "cell_type": "code",
   "execution_count": null,
   "metadata": {
    "collapsed": true
   },
   "outputs": [],
   "source": [
    "## Clean the data\n",
    "counter_nan = df1.isnull().sum()\n",
    "print(counter_nan)"
   ]
  },
  {
   "cell_type": "code",
   "execution_count": null,
   "metadata": {
    "collapsed": true
   },
   "outputs": [],
   "source": [
    "counter_without_nan = counter_nan[counter_nan==0]\n",
    "## remove the columns with missing elements\n",
    "df1_all = df1[counter_without_nan.keys()]"
   ]
  },
  {
   "cell_type": "code",
   "execution_count": null,
   "metadata": {
    "collapsed": true
   },
   "outputs": [],
   "source": [
    "## remove the column by its indexes\n",
    "# df1_all = df1_all.iloc[:,:2]"
   ]
  },
  {
   "cell_type": "code",
   "execution_count": null,
   "metadata": {
    "collapsed": true
   },
   "outputs": [],
   "source": [
    "from sklearn.preprocessing import StandardScaler\n",
    "x = df1_all.iloc[:, :].values\n",
    "standard_scalar = StandardScaler()\n",
    "x_std = standard_scalar.fit_transform(x)"
   ]
  },
  {
   "cell_type": "code",
   "execution_count": null,
   "metadata": {
    "collapsed": true
   },
   "outputs": [],
   "source": [
    "print(x_std)\n",
    "print(x_std.shape)"
   ]
  },
  {
   "cell_type": "markdown",
   "metadata": {},
   "source": [
    "### T distributed stochastic neighbor embedding (t-SNE) visualization ###"
   ]
  },
  {
   "cell_type": "code",
   "execution_count": null,
   "metadata": {
    "collapsed": true
   },
   "outputs": [],
   "source": [
    "from sklearn.manifold import TSNE\n",
    "tsne = TSNE(n_components=2, random_state = 311)\n",
    "x_test_2d = tsne.fit_transform(x_std)"
   ]
  },
  {
   "cell_type": "code",
   "execution_count": null,
   "metadata": {
    "collapsed": true
   },
   "outputs": [],
   "source": [
    "print(x_test_2d.shape)\n",
    "print(x_test_2d[:5])"
   ]
  },
  {
   "cell_type": "code",
   "execution_count": null,
   "metadata": {
    "collapsed": true
   },
   "outputs": [],
   "source": [
    "print(np.unique(x_test_2d).shape)\n",
    "print(np.unique(x_test_2d)[:5])"
   ]
  },
  {
   "cell_type": "code",
   "execution_count": null,
   "metadata": {
    "collapsed": true
   },
   "outputs": [],
   "source": [
    "aa = np.array([1, 2, 3, 4, 3])\n",
    "print(aa)\n",
    "print(np.unique(aa))"
   ]
  },
  {
   "cell_type": "code",
   "execution_count": null,
   "metadata": {
    "collapsed": true
   },
   "outputs": [],
   "source": [
    "# scatter plot the sample points among 5 classes\n",
    "markers = {'s', 'd', 'o', '^', 'v'}\n",
    "color_map = {0: 'red', 1: 'blue', 2: 'lightgreen', 3: 'purple', 4: 'cyan'}\n",
    "plt.figure()\n",
    "for idx, cl in enumerate(np.unique(x_test_2d)):\n",
    "    #print(idx, cl)\n",
    "    print(x_test_2d[idx][0])\n",
    "    #plt.scatter(x=x_test_2d[idx][0], y=x_test_2d[idx][1])\n",
    "#     plt.scatter(x=x_test_2d[idx][0], y=x_test_2d[idx][1], c=color_map[idx],\n",
    "#                 marker=markers[idx], label=cl) \n",
    "#plt.show()"
   ]
  },
  {
   "cell_type": "code",
   "execution_count": null,
   "metadata": {
    "collapsed": true
   },
   "outputs": [],
   "source": []
  },
  {
   "cell_type": "code",
   "execution_count": null,
   "metadata": {
    "collapsed": true
   },
   "outputs": [],
   "source": []
  },
  {
   "cell_type": "code",
   "execution_count": null,
   "metadata": {
    "collapsed": true
   },
   "outputs": [],
   "source": []
  },
  {
   "cell_type": "code",
   "execution_count": null,
   "metadata": {
    "collapsed": true
   },
   "outputs": [],
   "source": []
  },
  {
   "cell_type": "code",
   "execution_count": null,
   "metadata": {
    "collapsed": true
   },
   "outputs": [],
   "source": []
  },
  {
   "cell_type": "markdown",
   "metadata": {},
   "source": [
    "### Interactive matplotlib ###"
   ]
  },
  {
   "cell_type": "code",
   "execution_count": null,
   "metadata": {
    "collapsed": true
   },
   "outputs": [],
   "source": [
    "# import matplotlib.pyplot as plt\n",
    "# %matplotlib notebook\n",
    "# plt.plot([0, 1, 2, 2])\n",
    "# plt.show()"
   ]
  },
  {
   "cell_type": "code",
   "execution_count": null,
   "metadata": {
    "collapsed": true
   },
   "outputs": [],
   "source": [
    "## It doens't work on JupyterLab yet. 10/24/17\n",
    "# import ipympl\n",
    "# import matplotlib.pyplot as plt\n",
    "\n",
    "# plt.plot([0, 1, 2, 2])\n",
    "# plt.show()"
   ]
  },
  {
   "cell_type": "code",
   "execution_count": null,
   "metadata": {
    "collapsed": true
   },
   "outputs": [],
   "source": [
    "import pandas as pd\n",
    "import numpy as np\n",
    "from IPython.display import display\n",
    "\n",
    "df1 = pd.DataFrame({'A': ['0', '9', '23', '15'],\n",
    "                    'B': ['22', '-4', '0', '-4'],\n",
    "                    'C': ['90', '33', 0, '0'],\n",
    "                    'D': ['994', '-2', '5', '432']},\n",
    "                    index=[0, 1, 2, 3])\n",
    "print(\"Watch out the difference between integer and string\")\n",
    "print(df1) "
   ]
  },
  {
   "cell_type": "code",
   "execution_count": null,
   "metadata": {
    "collapsed": true
   },
   "outputs": [],
   "source": [
    "df1.C.loc[df1['C'] == 0] = np.nan\n",
    "print(df1)"
   ]
  },
  {
   "cell_type": "code",
   "execution_count": null,
   "metadata": {
    "collapsed": true
   },
   "outputs": [],
   "source": [
    "func = lambda x: df1.loc[df1[x] == '-4']\n",
    "len(func('B'))\n",
    "#len(df1.loc[df1['B'] == '-4'])"
   ]
  },
  {
   "cell_type": "code",
   "execution_count": null,
   "metadata": {
    "collapsed": true
   },
   "outputs": [],
   "source": [
    "## http://pandas.pydata.org/pandas-docs/stable/indexing.html#ix-indexer-is-deprecated\n",
    "dfd = pd.DataFrame({'A': [1, 2, 3],\n",
    "                    'B': [4, 5, 6]},\n",
    "                    index=list('abc'))\n",
    "display(dfd)"
   ]
  },
  {
   "cell_type": "code",
   "execution_count": null,
   "metadata": {
    "collapsed": true
   },
   "outputs": [],
   "source": [
    "print(dfd.loc[dfd.index[[0, 2]], 'A'])"
   ]
  },
  {
   "cell_type": "code",
   "execution_count": null,
   "metadata": {
    "collapsed": true
   },
   "outputs": [],
   "source": [
    "dfcat = pd.DataFrame({ 'A' : pd.Series(list('aabbcdba')).astype('category'),\n",
    "                       'B' : np.random.randn(8) })\n",
    "print(dfcat.dtypes)\n",
    "display(dfcat)\n"
   ]
  },
  {
   "cell_type": "code",
   "execution_count": null,
   "metadata": {
    "collapsed": true
   },
   "outputs": [],
   "source": [
    "cstore = pd.HDFStore('df_cats.h5', mode='w')\n",
    "cstore.append('dfcat', dfcat)\n",
    "## cstore.append('dfcat', dfcat, format='table', data_columns=['A'])\n",
    "##hello = cstore.select('dfcat')\n",
    "cstore.close()\n",
    "## result = cstore.select('dfcat', where=\"A in ['b','c']\")"
   ]
  },
  {
   "cell_type": "markdown",
   "metadata": {},
   "source": [
    "### Slicing the dataframe  \n",
    "#### https://stackoverflow.com/questions/10665889/how-to-take-column-slices-of-dataframe-in-pandas"
   ]
  },
  {
   "cell_type": "code",
   "execution_count": null,
   "metadata": {
    "collapsed": true
   },
   "outputs": [],
   "source": [
    "import pandas as pd    \n",
    "import numpy as np\n",
    "df = pd.DataFrame(np.random.rand(4,7), columns = list('abcdefg'))\n",
    "display(df)"
   ]
  },
  {
   "cell_type": "code",
   "execution_count": null,
   "metadata": {
    "collapsed": true
   },
   "outputs": [],
   "source": [
    "df.loc[:, [\"a\", \"b\", \"c\"]] ## label based selective column slicing"
   ]
  },
  {
   "cell_type": "code",
   "execution_count": null,
   "metadata": {
    "collapsed": true
   },
   "outputs": [],
   "source": [
    "df.loc[:, \"a\":\"c\"] ## label based column ranges slicing"
   ]
  },
  {
   "cell_type": "code",
   "execution_count": null,
   "metadata": {
    "collapsed": true
   },
   "outputs": [],
   "source": [
    "df.iloc[:, 0:3] ## index based column ranges slicing "
   ]
  },
  {
   "cell_type": "code",
   "execution_count": null,
   "metadata": {
    "collapsed": true
   },
   "outputs": [],
   "source": [
    "### with 2 different column ranges, index based slicing: \n",
    "df[df.columns[0:1].tolist() + df.columns[2:3].tolist()]"
   ]
  },
  {
   "cell_type": "code",
   "execution_count": null,
   "metadata": {
    "collapsed": true
   },
   "outputs": [],
   "source": [
    "df.columns[0:1].tolist() + df.columns[2:3].tolist()"
   ]
  },
  {
   "cell_type": "markdown",
   "metadata": {},
   "source": [
    "### Table ###"
   ]
  },
  {
   "cell_type": "markdown",
   "metadata": {},
   "source": [
    "| This | is   |\n",
    "|------|------|\n",
    "|   a  | table|\n"
   ]
  },
  {
   "cell_type": "markdown",
   "metadata": {},
   "source": [
    "| Date | Name | Website |\n",
    "|:-----:\t|:------:\t|:-----------:\t|\n",
    "|A|B|C |"
   ]
  },
  {
   "cell_type": "markdown",
   "metadata": {},
   "source": [
    "### Classification comparison ###  \n",
    "https://machinelearningmastery.com/compare-machine-learning-algorithms-python-scikit-learn/"
   ]
  },
  {
   "cell_type": "code",
   "execution_count": null,
   "metadata": {
    "collapsed": true
   },
   "outputs": [],
   "source": [
    "# Compare Algorithms\n",
    "import pandas\n",
    "import matplotlib.pyplot as plt\n",
    "from sklearn import model_selection\n",
    "from sklearn.linear_model import LogisticRegression\n",
    "from sklearn.tree import DecisionTreeClassifier\n",
    "from sklearn.neighbors import KNeighborsClassifier\n",
    "from sklearn.discriminant_analysis import LinearDiscriminantAnalysis\n",
    "from sklearn.naive_bayes import GaussianNB\n",
    "from sklearn.svm import SVC\n",
    "# load dataset\n",
    "url = \"https://archive.ics.uci.edu/ml/machine-learning-databases/pima-indians-diabetes/pima-indians-diabetes.data\"\n",
    "names = ['preg', 'plas', 'pres', 'skin', 'test', 'mass', 'pedi', 'age', 'class']\n",
    "dataframe = pandas.read_csv(url, names=names)\n",
    "array = dataframe.values\n",
    "X = array[:,0:8]\n",
    "Y = array[:,8]\n",
    "# prepare configuration for cross validation test harness\n",
    "seed = 7\n",
    "# prepare models\n",
    "models = []\n",
    "models.append(('LR', LogisticRegression()))\n",
    "models.append(('LDA', LinearDiscriminantAnalysis()))\n",
    "models.append(('KNN', KNeighborsClassifier()))\n",
    "models.append(('CART', DecisionTreeClassifier()))\n",
    "models.append(('NB', GaussianNB()))\n",
    "models.append(('SVM', SVC()))\n",
    "# evaluate each model in turn\n",
    "results = []\n",
    "names = []\n",
    "scoring = 'accuracy'\n",
    "for name, model in models:\n",
    "\tkfold = model_selection.KFold(n_splits=10, random_state=seed)\n",
    "\tcv_results = model_selection.cross_val_score(model, X, Y, cv=kfold, scoring=scoring)\n",
    "\tresults.append(cv_results)\n",
    "\tnames.append(name)\n",
    "\tmsg = \"%s: %f (%f)\" % (name, cv_results.mean(), cv_results.std())\n",
    "\tprint(msg)\n",
    "# boxplot algorithm comparison\n",
    "fig = plt.figure()\n",
    "fig.suptitle('Algorithm Comparison')\n",
    "ax = fig.add_subplot(111)\n",
    "plt.boxplot(results)\n",
    "ax.set_xticklabels(names)\n",
    "plt.show()"
   ]
  },
  {
   "cell_type": "code",
   "execution_count": null,
   "metadata": {
    "collapsed": true
   },
   "outputs": [],
   "source": [
    "import matplotlib\n",
    "#matplotlib.use(\"TkAgg\")\n",
    "\n",
    "import cartopy\n",
    "import cartopy.crs as ccrs\n",
    "import matplotlib.pyplot as plt\n",
    "ax = plt.axes(projection=ccrs.Mollweide())\n",
    "ax.stock_img()\n",
    "plt.show()"
   ]
  },
  {
   "cell_type": "code",
   "execution_count": null,
   "metadata": {
    "collapsed": true
   },
   "outputs": [],
   "source": [
    "from geopy.geocoders import Nominatim\n",
    "geolocator = Nominatim()\n",
    "location = geolocator.geocode(\"Taiwan\")\n",
    "#print(location.address)\n",
    "print((location.latitude, location.longitude))\n",
    "print(location.raw)"
   ]
  },
  {
   "cell_type": "code",
   "execution_count": null,
   "metadata": {
    "collapsed": true
   },
   "outputs": [],
   "source": []
  }
 ],
 "metadata": {
  "kernelspec": {
   "display_name": "Python 3",
   "language": "python",
   "name": "python3"
  },
  "language_info": {
   "codemirror_mode": {
    "name": "ipython",
    "version": 3
   },
   "file_extension": ".py",
   "mimetype": "text/x-python",
   "name": "python",
   "nbconvert_exporter": "python",
   "pygments_lexer": "ipython3",
   "version": "3.6.0"
  }
 },
 "nbformat": 4,
 "nbformat_minor": 2
}
