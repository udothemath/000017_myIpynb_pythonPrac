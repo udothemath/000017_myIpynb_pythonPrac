{
 "cells": [
  {
   "cell_type": "code",
   "execution_count": null,
   "metadata": {
    "collapsed": true
   },
   "outputs": [],
   "source": []
  },
  {
   "cell_type": "code",
   "execution_count": null,
   "metadata": {
    "collapsed": true
   },
   "outputs": [],
   "source": []
  },
  {
   "cell_type": "code",
   "execution_count": null,
   "metadata": {
    "collapsed": true
   },
   "outputs": [],
   "source": []
  },
  {
   "cell_type": "code",
   "execution_count": null,
   "metadata": {
    "collapsed": true
   },
   "outputs": [],
   "source": []
  },
  {
   "cell_type": "code",
   "execution_count": null,
   "metadata": {
    "collapsed": true
   },
   "outputs": [],
   "source": []
  },
  {
   "cell_type": "markdown",
   "metadata": {},
   "source": [
    "## 09/29/17 ##"
   ]
  },
  {
   "cell_type": "markdown",
   "metadata": {},
   "source": [
    "### set data ###\n",
    "http://download.nust.na/pub6/mysql/tech-resources/articles/mysql-set-datatype.html\n",
    "https://codefights.com/arcade/db/specialties/nhGPHWsjFoLb3A4AJ/solutions/f8CMg5HHw86YWht5C"
   ]
  },
  {
   "cell_type": "code",
   "execution_count": null,
   "metadata": {
    "collapsed": true
   },
   "outputs": [],
   "source": []
  },
  {
   "cell_type": "markdown",
   "metadata": {},
   "source": [
    "## 09/28/17 ##"
   ]
  },
  {
   "cell_type": "markdown",
   "metadata": {},
   "source": [
    "### sum all the values in the column, using round, exp, sum, and log ###\n",
    "https://codefights.com/arcade/db/time-for-tricks/wcjiSDNohjXc2tpQM/solutions\n",
    "/*Please add ; after each select statement*/\n",
    "CREATE PROCEDURE combinationLock()\n",
    "BEGIN\n",
    "select round(exp(sum(log(LENGTH(characters))))) as combinations\n",
    "from discs;\n",
    "\t\n",
    "END\n",
    "\n",
    "### if condition in select, and sum the count\n",
    "DROP PROCEDURE IF EXISTS legsCount;\n",
    "CREATE PROCEDURE legsCount()\n",
    "    SELECT SUM(IF(type = 'human', 2, 4)) as summary_legs\n",
    "    FROM creatures\n",
    "    ORDER BY id;\n",
    "\n",
    "DROP PROCEDURE IF EXISTS legsCount;\n",
    "CREATE PROCEDURE legsCount()\n",
    "    SELECT \n",
    "        SUM(IF(type = 'human', 2, 0)\n",
    "           +IF(type = 'cat', 4, 0)\n",
    "           +IF(type = 'dog', 4, 0))\n",
    "as summary_legs\n",
    "    FROM creatures\n",
    "    ORDER BY id;\n",
    "\n",
    "\n",
    "### match keyword, regular expression\n",
    "\n",
    "/*Please add ; after each select statement*/\n",
    "CREATE PROCEDURE nullIntern()\n",
    "BEGIN\n",
    "    select count(id) number_of_nulls\n",
    "        from departments\n",
    "        where description is null \n",
    "           or trim(description) in ('null', 'nil', '-');  \n",
    "END\n",
    "\n",
    "CREATE PROCEDURE nullIntern()\n",
    "BEGIN\n",
    "select count(*) as number_of_nulls\n",
    "from departments\n",
    "where description is Null\n",
    "or description regexp '^[[:space:]]*null[[:space:]]*$'\n",
    "or description regexp '^[[:space:]]*nil[[:space:]]*$'\n",
    "or description regexp '^[[:space:]]*-[[:space:]]*$'\n",
    ";\n",
    "\t\n",
    "END\n",
    "\n",
    "\n",
    "### update the query of existing table\n",
    "https://codefights.com/arcade/db/time-for-tricks/qAXNmPJATv6vQJ4DH/solutions/6xyZGv4GfsjT48HMu\n",
    "CREATE PROCEDURE websiteHacking()\n",
    "    SELECT id,login,name\n",
    "    FROM users\n",
    "    WHERE type='user'\n",
    "    OR true\n",
    "    ORDER BY id\n",
    "\n",
    "\n",
    "### add total to the end of table\n",
    "https://codefights.com/arcade/db/group-dishes-by-type/47JJ5SEJHSdLusQeQ/description\n",
    "\n",
    "/*Please add ; after each select statement*/\n",
    "CREATE PROCEDURE marketReport()\n",
    "BEGIN\n",
    "\tselect ifnull(country, \"Total:\") as country, count(competitor) as competitors\n",
    "    from foreignCompetitors\n",
    "    group by country\n",
    "    with rollup;\n",
    "END"
   ]
  },
  {
   "cell_type": "code",
   "execution_count": null,
   "metadata": {
    "collapsed": true
   },
   "outputs": [],
   "source": [
    "/*Please add ; after each select statement*/\n",
    "CREATE PROCEDURE soccerPlayers()\n",
    "    SELECT GROUP_CONCAT(\n",
    "        CONCAT(first_name, \" \", surname, \" #\", player_number)\n",
    "        ORDER BY player_number \n",
    "        SEPARATOR \"; \"\n",
    "    ) AS players\n",
    "    FROM soccer_team;"
   ]
  },
  {
   "cell_type": "code",
   "execution_count": null,
   "metadata": {
    "collapsed": true
   },
   "outputs": [],
   "source": []
  },
  {
   "cell_type": "code",
   "execution_count": null,
   "metadata": {
    "collapsed": true
   },
   "outputs": [],
   "source": [
    "\n",
    "select * from soccer_team order by player_number asc;\n",
    "\n",
    "select group_concat( first_name, \" \", surname, \" #\", player_number) as players\n",
    "from (select * from soccer_team order by player_number asc) hi;"
   ]
  },
  {
   "cell_type": "code",
   "execution_count": null,
   "metadata": {
    "collapsed": true
   },
   "outputs": [],
   "source": []
  },
  {
   "cell_type": "markdown",
   "metadata": {
    "collapsed": true
   },
   "source": [
    "## group_concat ##"
   ]
  },
  {
   "cell_type": "code",
   "execution_count": null,
   "metadata": {
    "collapsed": true
   },
   "outputs": [],
   "source": [
    "/*Please add ; after each select statement*/\n",
    "CREATE PROCEDURE travelDiary()\n",
    "BEGIN\n",
    "\t\n",
    "select group_concat(distinct country order by country separator ';') \n",
    "as countries \n",
    "from diary  \n",
    "group by null;\n",
    "\n",
    "END\n",
    "\n",
    "\n",
    "/*Please add ; after each select statement*/\n",
    "CREATE PROCEDURE travelDiary()\n",
    "\n",
    "BEGIN\n",
    "\n",
    "select group_concat(thisss separator ';' ) as countries\n",
    "from \n",
    "(select distinct country as thisss\n",
    "from diary\n",
    "order by country asc) x;\n",
    "\t\n",
    "END"
   ]
  },
  {
   "cell_type": "code",
   "execution_count": null,
   "metadata": {
    "collapsed": true
   },
   "outputs": [],
   "source": []
  },
  {
   "cell_type": "markdown",
   "metadata": {},
   "source": [
    "### count, group by, order by ###"
   ]
  },
  {
   "cell_type": "code",
   "execution_count": null,
   "metadata": {
    "collapsed": true
   },
   "outputs": [],
   "source": [
    "/*Please add ; after each select statement*/\n",
    "CREATE PROCEDURE itemCounts()\n",
    "BEGIN\n",
    "select item_name, item_type, count(*) as item_count\n",
    "from availableItems\n",
    "group by item_name, item_type\n",
    "order by item_type, item_name;\n",
    "\t\n",
    "END"
   ]
  },
  {
   "cell_type": "markdown",
   "metadata": {},
   "source": [
    "### sum, average ###"
   ]
  },
  {
   "cell_type": "code",
   "execution_count": null,
   "metadata": {
    "collapsed": true
   },
   "outputs": [],
   "source": [
    "/*Please add ; after each select statement*/\n",
    "CREATE PROCEDURE countriesInfo()\n",
    "BEGIN\n",
    "\t\n",
    "select count(*) as number, avg(population) as average, sum(population) as total from countries;\n",
    "\n",
    "END\n",
    "\n",
    "/*Please add ; after each select statement*/\n",
    "CREATE PROCEDURE countriesInfo()\n",
    "BEGIN\n",
    "    select count(*) as number, \n",
    "           sum(population)/count(*) as average,\n",
    "           sum(population) as total\n",
    "from countries;\n",
    "\t\n",
    "END"
   ]
  },
  {
   "cell_type": "markdown",
   "metadata": {},
   "source": [
    "### combine two tables ###\n",
    "https://stackoverflow.com/questions/16117306/combine-two-mysql-table-with-same-column-name"
   ]
  },
  {
   "cell_type": "code",
   "execution_count": null,
   "metadata": {
    "collapsed": true
   },
   "outputs": [],
   "source": [
    "/*Please add ; after each select statement*/\n",
    "CREATE PROCEDURE newsSubscribers()\n",
    "    SELECT DISTINCT subscriber\n",
    "    FROM\n",
    "    (\n",
    "        SELECT *\n",
    "        FROM full_year\n",
    "            UNION\n",
    "        SELECT *\n",
    "        FROM half_year\n",
    "    ) x\n",
    "    WHERE newspaper LIKE \"%Daily%\"\n",
    "    ORDER BY subscriber ASC;"
   ]
  },
  {
   "cell_type": "code",
   "execution_count": null,
   "metadata": {
    "collapsed": true
   },
   "outputs": [],
   "source": [
    "/*Please add ; after each select statement*/\n",
    "CREATE PROCEDURE newsSubscribers()\n",
    "BEGIN\n",
    "    select distinct subscriber\n",
    "    from\n",
    "        (\n",
    "            select 'full_year' sub_type, newspaper, subscriber\n",
    "            from full_year\n",
    "            union all\n",
    "            select 'half_year' sub_type, newspaper, subscriber\n",
    "            from half_year\n",
    "        ) combined\n",
    "    where newspaper like '%Daily%'\n",
    "    order by subscriber asc  ##, newspaper, field(sub_type, 'full_year', 'half_year');\n",
    "END"
   ]
  },
  {
   "cell_type": "markdown",
   "metadata": {},
   "source": [
    "### arithmetic operator as a column value, create function ###"
   ]
  },
  {
   "cell_type": "code",
   "execution_count": null,
   "metadata": {
    "collapsed": true
   },
   "outputs": [],
   "source": [
    "/*Please add ; after each select statement*/\n",
    "CREATE PROCEDURE expressionsVerification()\n",
    "BEGIN\n",
    "\tselect * \n",
    "        from expressions\n",
    "        where elt(locate(operation, \"+-*/\"), a+b, a-b, a*b, a/b) = c;\n",
    "END"
   ]
  },
  {
   "cell_type": "code",
   "execution_count": null,
   "metadata": {
    "collapsed": true
   },
   "outputs": [],
   "source": [
    "/*Please add ; after each select statement*/\n",
    "CREATE PROCEDURE expressionsVerification()\n",
    "BEGIN\n",
    "    SELECT *\n",
    "    FROM expressions\n",
    "    WHERE calc(a,b,operation) = c\n",
    "    ORDER BY id;    \n",
    "END;\n",
    "\n",
    "CREATE FUNCTION calc ( a DOUBLE, b DOUBLE, op varchar(1) ) RETURNS DOUBLE\n",
    "BEGIN\n",
    "    CASE op\n",
    "        WHEN \"+\" THEN SET @calc = a+b;\n",
    "        WHEN \"-\" THEN SET @calc = a-b;\n",
    "        WHEN \"*\" THEN SET @calc = a*b;\n",
    "        WHEN \"/\" THEN SET @calc = a/b;\n",
    "    END CASE;\n",
    "   RETURN @calc;\n",
    "END;"
   ]
  },
  {
   "cell_type": "code",
   "execution_count": null,
   "metadata": {
    "collapsed": true
   },
   "outputs": [],
   "source": [
    "/*Please add ; after each select statement*/\n",
    "CREATE PROCEDURE expressionsVerification()\n",
    "BEGIN\n",
    "    SELECT * FROM expressions\n",
    "        WHERE (operation = '+' AND a + b = c) OR \n",
    "              (operation = '-' AND a - b = c) OR \n",
    "              (operation = '*' AND a * b = c) OR\n",
    "              (operation = '/' AND b != 0 AND C * b = a);\n",
    "END"
   ]
  },
  {
   "cell_type": "markdown",
   "metadata": {},
   "source": [
    "### select if is null ###"
   ]
  },
  {
   "cell_type": "code",
   "execution_count": null,
   "metadata": {
    "collapsed": true
   },
   "outputs": [],
   "source": [
    "CREATE PROCEDURE testCheck()\n",
    "    SELECT id, IF ( given_answer IS NULL, 'no answer', IF ( given_answer = correct_answer, 'correct','incorrect') ) AS checks\n",
    "    FROM answers\n",
    "    ORDER BY id\n"
   ]
  },
  {
   "cell_type": "markdown",
   "metadata": {},
   "source": [
    "### case sensitive ###"
   ]
  },
  {
   "cell_type": "code",
   "execution_count": null,
   "metadata": {
    "collapsed": true
   },
   "outputs": [],
   "source": [
    "/*Please add ; after each select statement*/\n",
    "CREATE PROCEDURE securityBreach()\n",
    "BEGIN\n",
    "\tselect first_name, second_name, attribute from users\n",
    "    where\n",
    "       attribute like BINARY concat('_%\\%',first_name,'\\_',second_name,'\\%%');\n",
    "END\n",
    "\n",
    "/*Please add ; after each select statement*/\n",
    "CREATE PROCEDURE securityBreach()\n",
    "BEGIN\n",
    "select * from users\n",
    "where attribute like concat('%_%', '\\%', `first_name`, '\\_', `second_name`, '\\%', '%') COLLATE utf8_bin;\n",
    "\n",
    "END"
   ]
  },
  {
   "cell_type": "code",
   "execution_count": null,
   "metadata": {
    "collapsed": true
   },
   "outputs": [],
   "source": [
    "/*Please add ; after each select statement*/\n",
    "CREATE PROCEDURE mischievousNephews()\n",
    "BEGIN\n",
    "    SELECT\n",
    "        WEEKDAY(mischief.`mischief_date`) AS `weekday`,\n",
    "        mischief.*\n",
    "    FROM\n",
    "        mischief\n",
    "    ORDER BY\n",
    "        `weekday` ASC,\n",
    "        FIELD(mischief.`author`, 'Huey', 'Dewey', 'Louie'),\n",
    "        mischief.`mischief_date`,\n",
    "        mischief.`title` ASC;\n",
    "END\n",
    "\n",
    "/*Please add ; after each select statement*/\n",
    "CREATE PROCEDURE mischievousNephews()\n",
    "BEGIN\n",
    "    select weekday(mischief_date) as weekday, mischief_date, author, title\n",
    "    from mischief\n",
    "    order by \n",
    "        weekday,\n",
    "        length(author),\n",
    "        author,\n",
    "        mischief_date,\n",
    "        title;\n",
    "END"
   ]
  },
  {
   "cell_type": "code",
   "execution_count": null,
   "metadata": {
    "collapsed": true
   },
   "outputs": [],
   "source": [
    "/*Please add ; after each select statement*/\n",
    "CREATE PROCEDURE gradeDistribution()\n",
    "BEGIN\n",
    "\t\n",
    "select Name, ID from Grades where Final > (Midterm1+Midterm2)/2 and Final > (Final*2 + Midterm1+Midterm2)/4 order by substring(Name, 1, 3), id;\n",
    "\n",
    "END\n",
    "\n",
    "/*Please add ; after each select statement*/\n",
    "CREATE PROCEDURE gradeDistribution()\n",
    "BEGIN\n",
    "\n",
    "select Name, ID from ((select Name, ID, \n",
    "Midterm1*0.25+Midterm2*0.25+Final*0.5 as option1,\n",
    "Midterm1*0.5+Midterm2*0.5 as option2,\n",
    "Final as option3\n",
    "from Grades) as selected)\n",
    "where option3 > option1 and option3 > option2\n",
    "order by Left(Name, 3) ASC, ID;\n",
    "\t\n",
    "END"
   ]
  }
 ],
 "metadata": {
  "kernelspec": {
   "display_name": "Python 3",
   "language": "python",
   "name": "python3"
  },
  "language_info": {
   "codemirror_mode": {
    "name": "ipython",
    "version": 3
   },
   "file_extension": ".py",
   "mimetype": "text/x-python",
   "name": "python",
   "nbconvert_exporter": "python",
   "pygments_lexer": "ipython3",
   "version": "3.6.0"
  }
 },
 "nbformat": 4,
 "nbformat_minor": 2
}
